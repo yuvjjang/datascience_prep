{
 "cells": [
  {
   "cell_type": "markdown",
   "id": "6e46f1ab",
   "metadata": {},
   "source": [
    "#### 촬영 당시 환경"
   ]
  },
  {
   "cell_type": "code",
   "execution_count": 2,
   "id": "3e970554",
   "metadata": {},
   "outputs": [
    {
     "data": {
      "text/plain": [
       "'0.25.1'"
      ]
     },
     "execution_count": 2,
     "metadata": {},
     "output_type": "execute_result"
    }
   ],
   "source": [
    "import pandas as pd\n",
    "pd.__version__"
   ]
  },
  {
   "cell_type": "code",
   "execution_count": 3,
   "id": "4aec5c83",
   "metadata": {},
   "outputs": [
    {
     "data": {
      "text/plain": [
       "'0.21.3'"
      ]
     },
     "execution_count": 3,
     "metadata": {},
     "output_type": "execute_result"
    }
   ],
   "source": [
    "import sklearn\n",
    "sklearn.__version__"
   ]
  },
  {
   "cell_type": "code",
   "execution_count": 1,
   "id": "0f1b5705",
   "metadata": {},
   "outputs": [
    {
     "name": "stdout",
     "output_type": "stream",
     "text": [
      "   Pregnancies  Glucose  BloodPressure  Insulin   BMI\n",
      "0            1      148             72        0  33.6\n",
      "1            1       85             66        0  26.6\n",
      "k: 3\tRMSE: 8.455\n",
      "k: 5\tRMSE: 8.675\n",
      "k: 10\tRMSE: 8.532\n",
      "k: 20\tRMSE: 8.51\n"
     ]
    }
   ],
   "source": [
    "from sklearn.model_selection import train_test_split as tts\n",
    "from sklearn.neighbors import KNeighborsRegressor\n",
    "from sklearn.metrics import mean_squared_error as MSE\n",
    "\n",
    "df_Q3 = pd.read_csv(\"diabetes.csv\")\n",
    "df_Q3 = df_Q3.iloc[:,[0,1,2,4,5]]\n",
    "df_Q3[\"Pregnancies\"] = (df_Q3[\"Pregnancies\"] > 0) + 0\n",
    "print(df_Q3.head(2))\n",
    "df_train, df_test = tts(df_Q3, train_size=0.8, random_state=123)\n",
    "k_try = [3,5,10,20]\n",
    "for k in k_try:\n",
    "    model_Q3 = KNeighborsRegressor(n_neighbors=k)\n",
    "    model_Q3.fit(X=df_train.iloc[:,:-1], y=df_train[\"BMI\"])\n",
    "    pred_Q3 = model_Q3.predict(df_test.iloc[:,:-1])\n",
    "    print(\"k: \" + str(k) + \"\\tRMSE: \" + str((MSE(y_true=df_test[\"BMI\"], y_pred=pred_Q3)**0.5).round(3)))"
   ]
  },
  {
   "cell_type": "markdown",
   "id": "d91e8e06",
   "metadata": {},
   "source": [
    "#### 최신 버전의 환경"
   ]
  },
  {
   "cell_type": "code",
   "execution_count": 9,
   "id": "b8461efc",
   "metadata": {},
   "outputs": [
    {
     "name": "stdout",
     "output_type": "stream",
     "text": [
      "   Pregnancies  Glucose  BloodPressure  Insulin   BMI\n",
      "0            1      148             72        0  33.6\n",
      "1            1       85             66        0  26.6\n",
      "k: 3\tRMSE: 8.508\n",
      "k: 5\tRMSE: 8.706\n",
      "k: 10\tRMSE: 8.517\n",
      "k: 20\tRMSE: 8.514\n"
     ]
    }
   ],
   "source": [
    "import pandas as pd\n",
    "from sklearn.model_selection import train_test_split as tts\n",
    "from sklearn.neighbors import KNeighborsRegressor\n",
    "from sklearn.metrics import mean_squared_error as MSE\n",
    "\n",
    "df_Q3 = pd.read_csv(\"diabetes.csv\")\n",
    "df_Q3 = df_Q3.iloc[:,[0,1,2,4,5]]\n",
    "df_Q3[\"Pregnancies\"] = (df_Q3[\"Pregnancies\"] > 0) + 0\n",
    "print(df_Q3.head(2))\n",
    "df_train, df_test = tts(df_Q3, train_size=0.8, random_state=123)\n",
    "k_try = [3,5,10,20]\n",
    "for k in k_try:\n",
    "    model_Q3 = KNeighborsRegressor(n_neighbors=k)\n",
    "    model_Q3.fit(X=df_train.iloc[:,:-1], y=df_train[\"BMI\"])\n",
    "    pred_Q3 = model_Q3.predict(df_test.iloc[:,:-1])\n",
    "    print(\"k: \" + str(k) + \"\\tRMSE: \" + str((MSE(y_true=df_test[\"BMI\"], y_pred=pred_Q3)**0.5).round(3)))"
   ]
  }
 ],
 "metadata": {
  "kernelspec": {
   "display_name": "Python 3 (ipykernel)",
   "language": "python",
   "name": "python3"
  },
  "language_info": {
   "codemirror_mode": {
    "name": "ipython",
    "version": 3
   },
   "file_extension": ".py",
   "mimetype": "text/x-python",
   "name": "python",
   "nbconvert_exporter": "python",
   "pygments_lexer": "ipython3",
   "version": "3.7.4"
  }
 },
 "nbformat": 4,
 "nbformat_minor": 5
}
