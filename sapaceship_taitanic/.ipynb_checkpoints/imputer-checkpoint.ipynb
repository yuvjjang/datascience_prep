{
 "cells": [
  {
   "cell_type": "code",
   "execution_count": null,
   "metadata": {},
   "outputs": [],
   "source": [
    "# Python에서는 KNNImputer와 SimpleImputer 외에도 다른 imputer를 사용할 수 있습니다. 예를 들어, sklearn 라이브러리의 IterativeImputer 클래스를 사용하면, 결측치를 다른 특성들과의 상관관계를 이용하여 회귀 모델로 예측하여 대체할 수 있습니다. IterativeImputer 클래스는 estimator라는 파라미터로 회귀 모델을 지정할 수 있습니다.\n",
    "\n",
    "# Python에서 sklearn 라이브러리의 IterativeImputer 클래스를 사용하는 예시 코드는 다음과 같습니다."
   ]
  },
  {
   "cell_type": "code",
   "execution_count": 17,
   "metadata": {},
   "outputs": [
    {
     "name": "stdout",
     "output_type": "stream",
     "text": [
      "     age  income  gender\n",
      "0  25.00  3000.0     0.0\n",
      "1  30.00  4000.0     1.0\n",
      "2  35.00  5000.0     0.0\n",
      "3  36.85  6000.0     1.0\n",
      "4  40.00  5460.0     0.5\n"
     ]
    },
    {
     "name": "stderr",
     "output_type": "stream",
     "text": [
      "C:\\Users\\yuvjj\\Anaconda3\\envs\\data_science_for_python\\lib\\site-packages\\sklearn\\impute\\_iterative.py:713: ConvergenceWarning: [IterativeImputer] Early stopping criterion not reached.\n",
      "  warnings.warn(\n"
     ]
    }
   ],
   "source": [
    "# sklearn 라이브러리 임포트\n",
    "from sklearn.experimental import enable_iterative_imputer\n",
    "from sklearn.linear_model import LinearRegression\n",
    "from sklearn.ensemble import RandomForestRegressor\n",
    "\n",
    "import pandas as pd\n",
    "\n",
    "# 예시 데이터프레임 생성\n",
    "df = pd.DataFrame({\n",
    "    \"age\": [25, 30, 35, None, 40],\n",
    "    \"income\": [3000, 4000, 5000, 6000, None],\n",
    "    \"gender\": [0, 1, 0, 1, None]\n",
    "})\n",
    "\n",
    "# 범주형 결측치를 회귀 모델로 예측하여 대체하는 IterativeImputer 객체 생성\n",
    "imp = enable_iterative_imputer.IterativeImputer(estimator=RandomForestRegressor())\n",
    "\n",
    "# IterativeImputer 객체를 데이터프레임에 적용\n",
    "df_imputed = pd.DataFrame(imp.fit_transform(df), columns=df.columns)\n",
    "\n",
    "# 결측치가 대체된 데이터프레임 출력\n",
    "print(df_imputed)"
   ]
  },
  {
   "cell_type": "code",
   "execution_count": null,
   "metadata": {},
   "outputs": [],
   "source": [
    "# 범주형 결측치를 채우기 위한 다른 Python imputer가 있습니다. 예를 들어, sklearn 라이브러리의 KNNImputer 클래스를 사용하면, 결측치를 가장 가까운 이웃의 값들로 대체할 수 있습니다1. KNNImputer 클래스는 n_neighbors라는 파라미터로 이웃의 개수를 지정할 수 있습니다.\n",
    "\n",
    "# Python에서 sklearn 라이브러리의 KNNImputer 클래스를 사용하는 예시 코드는 다음과 같습니다."
   ]
  },
  {
   "cell_type": "code",
   "execution_count": 16,
   "metadata": {},
   "outputs": [
    {
     "name": "stdout",
     "output_type": "stream",
     "text": [
      "    age  income  gender\n",
      "0  25.0  3000.0     1.0\n",
      "1  30.0  4000.0     0.0\n",
      "2  35.0  5000.0     1.0\n",
      "3  32.5  6000.0     0.0\n",
      "4  40.0  4500.0     0.5\n"
     ]
    }
   ],
   "source": [
    "# sklearn 라이브러리 임포트\n",
    "from sklearn.impute import KNNImputer\n",
    "import pandas as pd\n",
    "\n",
    "# 예시 데이터프레임 생성\n",
    "df = pd.DataFrame({\n",
    "    \"age\": [25, 30, 35, None, 40],\n",
    "    \"income\": [3000, 4000, 5000, 6000, None],\n",
    "    \"gender\": [\"M\", \"F\", \"M\", \"F\", None]\n",
    "})\n",
    "\n",
    "df.loc[df['gender']=='M',\"gender\"]=1\n",
    "df.loc[df['gender']=='F',\"gender\"]=0\n",
    "\n",
    "# 범주형 결측치를 가장 가까운 이웃의 값으로 대체하는 KNNImputer 객체 생성\n",
    "imp = KNNImputer(n_neighbors=2)\n",
    "\n",
    "# KNNImputer 객체를 데이터프레임에 적용\n",
    "df_imputed = pd.DataFrame(imp.fit_transform(df), columns=df.columns)\n",
    "\n",
    "# 결측치가 대체된 데이터프레임 출력\n",
    "print(df_imputed)"
   ]
  },
  {
   "cell_type": "code",
   "execution_count": null,
   "metadata": {},
   "outputs": [],
   "source": [
    "# 범주형 결측치를 채우기 위해서 머신러닝 기법을 사용하고 싶다면, Python에서는 sklearn 라이브러리의 SimpleImputer 클래스를 사용할 수 있습니다1. SimpleImputer 클래스는 결측치를 평균, 중앙값, 최빈값 등으로 대체하는 기능을 제공합니다. 범주형 결측치의 경우, 최빈값을 사용하는 것이 일반적입니다.\n",
    "\n",
    "# Python에서 sklearn 라이브러리를 사용하는 예시 코드는 다음과 같습니다."
   ]
  },
  {
   "cell_type": "code",
   "execution_count": 18,
   "metadata": {},
   "outputs": [
    {
     "name": "stdout",
     "output_type": "stream",
     "text": [
      "   color    size     shape\n",
      "0    red     big    circle\n",
      "1   blue   small    square\n",
      "2  green  medium  triangle\n",
      "3    red    None    circle\n",
      "4   None   small    square\n"
     ]
    }
   ],
   "source": [
    "# sklearn 라이브러리 임포트\n",
    "from sklearn.impute import SimpleImputer\n",
    "import pandas as pd\n",
    "\n",
    "# 예시 데이터프레임 생성\n",
    "df = pd.DataFrame({\n",
    "    \"color\": [\"red\", \"blue\", \"green\", \"red\", None],\n",
    "    \"size\": [\"big\", \"small\", \"medium\", None, \"small\"],\n",
    "    \"shape\": [\"circle\", \"square\", \"triangle\", \"circle\", \"square\"]\n",
    "})\n",
    "\n",
    "# 범주형 결측치를 최빈값으로 대체하는 SimpleImputer 객체 생성\n",
    "imp = SimpleImputer(strategy=\"most_frequent\")\n",
    "\n",
    "# SimpleImputer 객체를 데이터프레임에 적용\n",
    "df_imputed = pd.DataFrame(imp.fit_transform(df), columns=df.columns)\n",
    "\n",
    "# 결측치가 대체된 데이터프레임 출력\n",
    "print(df_imputed)"
   ]
  },
  {
   "cell_type": "code",
   "execution_count": 3,
   "metadata": {},
   "outputs": [
    {
     "name": "stdout",
     "output_type": "stream",
     "text": [
      "3.10.8 | packaged by conda-forge | (main, Nov 24 2022, 14:07:00) [MSC v.1916 64 bit (AMD64)]\n"
     ]
    }
   ],
   "source": [
    "import sys\n",
    "\n",
    "print(sys.version)"
   ]
  },
  {
   "cell_type": "code",
   "execution_count": null,
   "metadata": {},
   "outputs": [],
   "source": []
  }
 ],
 "metadata": {
  "kernelspec": {
   "display_name": "Python 3 (ipykernel)",
   "language": "python",
   "name": "python3"
  },
  "language_info": {
   "codemirror_mode": {
    "name": "ipython",
    "version": 3
   },
   "file_extension": ".py",
   "mimetype": "text/x-python",
   "name": "python",
   "nbconvert_exporter": "python",
   "pygments_lexer": "ipython3",
   "version": "3.10.8"
  }
 },
 "nbformat": 4,
 "nbformat_minor": 2
}
