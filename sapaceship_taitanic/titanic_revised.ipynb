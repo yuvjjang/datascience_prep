{
 "cells": [
  {
   "cell_type": "code",
   "execution_count": 1,
   "id": "a6e686fe",
   "metadata": {},
   "outputs": [],
   "source": [
    "import pandas as pd"
   ]
  },
  {
   "cell_type": "code",
   "execution_count": 2,
   "id": "a711a7b0",
   "metadata": {},
   "outputs": [],
   "source": [
    "#트레인 데이터 가져오기\n",
    "df = pd.read_csv(\"train.csv\")"
   ]
  },
  {
   "cell_type": "code",
   "execution_count": 3,
   "id": "83600308",
   "metadata": {},
   "outputs": [
    {
     "data": {
      "text/html": [
       "<div>\n",
       "<style scoped>\n",
       "    .dataframe tbody tr th:only-of-type {\n",
       "        vertical-align: middle;\n",
       "    }\n",
       "\n",
       "    .dataframe tbody tr th {\n",
       "        vertical-align: top;\n",
       "    }\n",
       "\n",
       "    .dataframe thead th {\n",
       "        text-align: right;\n",
       "    }\n",
       "</style>\n",
       "<table border=\"1\" class=\"dataframe\">\n",
       "  <thead>\n",
       "    <tr style=\"text-align: right;\">\n",
       "      <th></th>\n",
       "      <th>PassengerId</th>\n",
       "      <th>HomePlanet</th>\n",
       "      <th>CryoSleep</th>\n",
       "      <th>Cabin</th>\n",
       "      <th>Destination</th>\n",
       "      <th>Age</th>\n",
       "      <th>VIP</th>\n",
       "      <th>RoomService</th>\n",
       "      <th>FoodCourt</th>\n",
       "      <th>ShoppingMall</th>\n",
       "      <th>Spa</th>\n",
       "      <th>VRDeck</th>\n",
       "      <th>Name</th>\n",
       "      <th>Transported</th>\n",
       "    </tr>\n",
       "  </thead>\n",
       "  <tbody>\n",
       "    <tr>\n",
       "      <th>0</th>\n",
       "      <td>0001_01</td>\n",
       "      <td>Europa</td>\n",
       "      <td>False</td>\n",
       "      <td>B/0/P</td>\n",
       "      <td>TRAPPIST-1e</td>\n",
       "      <td>39.0</td>\n",
       "      <td>False</td>\n",
       "      <td>0.0</td>\n",
       "      <td>0.0</td>\n",
       "      <td>0.0</td>\n",
       "      <td>0.0</td>\n",
       "      <td>0.0</td>\n",
       "      <td>Maham Ofracculy</td>\n",
       "      <td>False</td>\n",
       "    </tr>\n",
       "    <tr>\n",
       "      <th>1</th>\n",
       "      <td>0002_01</td>\n",
       "      <td>Earth</td>\n",
       "      <td>False</td>\n",
       "      <td>F/0/S</td>\n",
       "      <td>TRAPPIST-1e</td>\n",
       "      <td>24.0</td>\n",
       "      <td>False</td>\n",
       "      <td>109.0</td>\n",
       "      <td>9.0</td>\n",
       "      <td>25.0</td>\n",
       "      <td>549.0</td>\n",
       "      <td>44.0</td>\n",
       "      <td>Juanna Vines</td>\n",
       "      <td>True</td>\n",
       "    </tr>\n",
       "    <tr>\n",
       "      <th>2</th>\n",
       "      <td>0003_01</td>\n",
       "      <td>Europa</td>\n",
       "      <td>False</td>\n",
       "      <td>A/0/S</td>\n",
       "      <td>TRAPPIST-1e</td>\n",
       "      <td>58.0</td>\n",
       "      <td>True</td>\n",
       "      <td>43.0</td>\n",
       "      <td>3576.0</td>\n",
       "      <td>0.0</td>\n",
       "      <td>6715.0</td>\n",
       "      <td>49.0</td>\n",
       "      <td>Altark Susent</td>\n",
       "      <td>False</td>\n",
       "    </tr>\n",
       "    <tr>\n",
       "      <th>3</th>\n",
       "      <td>0003_02</td>\n",
       "      <td>Europa</td>\n",
       "      <td>False</td>\n",
       "      <td>A/0/S</td>\n",
       "      <td>TRAPPIST-1e</td>\n",
       "      <td>33.0</td>\n",
       "      <td>False</td>\n",
       "      <td>0.0</td>\n",
       "      <td>1283.0</td>\n",
       "      <td>371.0</td>\n",
       "      <td>3329.0</td>\n",
       "      <td>193.0</td>\n",
       "      <td>Solam Susent</td>\n",
       "      <td>False</td>\n",
       "    </tr>\n",
       "    <tr>\n",
       "      <th>4</th>\n",
       "      <td>0004_01</td>\n",
       "      <td>Earth</td>\n",
       "      <td>False</td>\n",
       "      <td>F/1/S</td>\n",
       "      <td>TRAPPIST-1e</td>\n",
       "      <td>16.0</td>\n",
       "      <td>False</td>\n",
       "      <td>303.0</td>\n",
       "      <td>70.0</td>\n",
       "      <td>151.0</td>\n",
       "      <td>565.0</td>\n",
       "      <td>2.0</td>\n",
       "      <td>Willy Santantines</td>\n",
       "      <td>True</td>\n",
       "    </tr>\n",
       "  </tbody>\n",
       "</table>\n",
       "</div>"
      ],
      "text/plain": [
       "  PassengerId HomePlanet CryoSleep  Cabin  Destination   Age    VIP  \\\n",
       "0     0001_01     Europa     False  B/0/P  TRAPPIST-1e  39.0  False   \n",
       "1     0002_01      Earth     False  F/0/S  TRAPPIST-1e  24.0  False   \n",
       "2     0003_01     Europa     False  A/0/S  TRAPPIST-1e  58.0   True   \n",
       "3     0003_02     Europa     False  A/0/S  TRAPPIST-1e  33.0  False   \n",
       "4     0004_01      Earth     False  F/1/S  TRAPPIST-1e  16.0  False   \n",
       "\n",
       "   RoomService  FoodCourt  ShoppingMall     Spa  VRDeck               Name  \\\n",
       "0          0.0        0.0           0.0     0.0     0.0    Maham Ofracculy   \n",
       "1        109.0        9.0          25.0   549.0    44.0       Juanna Vines   \n",
       "2         43.0     3576.0           0.0  6715.0    49.0      Altark Susent   \n",
       "3          0.0     1283.0         371.0  3329.0   193.0       Solam Susent   \n",
       "4        303.0       70.0         151.0   565.0     2.0  Willy Santantines   \n",
       "\n",
       "   Transported  \n",
       "0        False  \n",
       "1         True  \n",
       "2        False  \n",
       "3        False  \n",
       "4         True  "
      ]
     },
     "execution_count": 3,
     "metadata": {},
     "output_type": "execute_result"
    }
   ],
   "source": [
    "df.head()"
   ]
  },
  {
   "cell_type": "code",
   "execution_count": 4,
   "id": "fdf7f0bf",
   "metadata": {},
   "outputs": [],
   "source": [
    "#테스트 데이터 가져오기\n",
    "df_test = pd.read_csv(\"test.csv\")"
   ]
  },
  {
   "cell_type": "code",
   "execution_count": 5,
   "id": "55ac3014",
   "metadata": {},
   "outputs": [
    {
     "data": {
      "text/html": [
       "<div>\n",
       "<style scoped>\n",
       "    .dataframe tbody tr th:only-of-type {\n",
       "        vertical-align: middle;\n",
       "    }\n",
       "\n",
       "    .dataframe tbody tr th {\n",
       "        vertical-align: top;\n",
       "    }\n",
       "\n",
       "    .dataframe thead th {\n",
       "        text-align: right;\n",
       "    }\n",
       "</style>\n",
       "<table border=\"1\" class=\"dataframe\">\n",
       "  <thead>\n",
       "    <tr style=\"text-align: right;\">\n",
       "      <th></th>\n",
       "      <th>PassengerId</th>\n",
       "      <th>HomePlanet</th>\n",
       "      <th>CryoSleep</th>\n",
       "      <th>Cabin</th>\n",
       "      <th>Destination</th>\n",
       "      <th>Age</th>\n",
       "      <th>VIP</th>\n",
       "      <th>RoomService</th>\n",
       "      <th>FoodCourt</th>\n",
       "      <th>ShoppingMall</th>\n",
       "      <th>Spa</th>\n",
       "      <th>VRDeck</th>\n",
       "      <th>Name</th>\n",
       "    </tr>\n",
       "  </thead>\n",
       "  <tbody>\n",
       "    <tr>\n",
       "      <th>0</th>\n",
       "      <td>0013_01</td>\n",
       "      <td>Earth</td>\n",
       "      <td>True</td>\n",
       "      <td>G/3/S</td>\n",
       "      <td>TRAPPIST-1e</td>\n",
       "      <td>27.0</td>\n",
       "      <td>False</td>\n",
       "      <td>0.0</td>\n",
       "      <td>0.0</td>\n",
       "      <td>0.0</td>\n",
       "      <td>0.0</td>\n",
       "      <td>0.0</td>\n",
       "      <td>Nelly Carsoning</td>\n",
       "    </tr>\n",
       "    <tr>\n",
       "      <th>1</th>\n",
       "      <td>0018_01</td>\n",
       "      <td>Earth</td>\n",
       "      <td>False</td>\n",
       "      <td>F/4/S</td>\n",
       "      <td>TRAPPIST-1e</td>\n",
       "      <td>19.0</td>\n",
       "      <td>False</td>\n",
       "      <td>0.0</td>\n",
       "      <td>9.0</td>\n",
       "      <td>0.0</td>\n",
       "      <td>2823.0</td>\n",
       "      <td>0.0</td>\n",
       "      <td>Lerome Peckers</td>\n",
       "    </tr>\n",
       "    <tr>\n",
       "      <th>2</th>\n",
       "      <td>0019_01</td>\n",
       "      <td>Europa</td>\n",
       "      <td>True</td>\n",
       "      <td>C/0/S</td>\n",
       "      <td>55 Cancri e</td>\n",
       "      <td>31.0</td>\n",
       "      <td>False</td>\n",
       "      <td>0.0</td>\n",
       "      <td>0.0</td>\n",
       "      <td>0.0</td>\n",
       "      <td>0.0</td>\n",
       "      <td>0.0</td>\n",
       "      <td>Sabih Unhearfus</td>\n",
       "    </tr>\n",
       "    <tr>\n",
       "      <th>3</th>\n",
       "      <td>0021_01</td>\n",
       "      <td>Europa</td>\n",
       "      <td>False</td>\n",
       "      <td>C/1/S</td>\n",
       "      <td>TRAPPIST-1e</td>\n",
       "      <td>38.0</td>\n",
       "      <td>False</td>\n",
       "      <td>0.0</td>\n",
       "      <td>6652.0</td>\n",
       "      <td>0.0</td>\n",
       "      <td>181.0</td>\n",
       "      <td>585.0</td>\n",
       "      <td>Meratz Caltilter</td>\n",
       "    </tr>\n",
       "    <tr>\n",
       "      <th>4</th>\n",
       "      <td>0023_01</td>\n",
       "      <td>Earth</td>\n",
       "      <td>False</td>\n",
       "      <td>F/5/S</td>\n",
       "      <td>TRAPPIST-1e</td>\n",
       "      <td>20.0</td>\n",
       "      <td>False</td>\n",
       "      <td>10.0</td>\n",
       "      <td>0.0</td>\n",
       "      <td>635.0</td>\n",
       "      <td>0.0</td>\n",
       "      <td>0.0</td>\n",
       "      <td>Brence Harperez</td>\n",
       "    </tr>\n",
       "  </tbody>\n",
       "</table>\n",
       "</div>"
      ],
      "text/plain": [
       "  PassengerId HomePlanet CryoSleep  Cabin  Destination   Age    VIP  \\\n",
       "0     0013_01      Earth      True  G/3/S  TRAPPIST-1e  27.0  False   \n",
       "1     0018_01      Earth     False  F/4/S  TRAPPIST-1e  19.0  False   \n",
       "2     0019_01     Europa      True  C/0/S  55 Cancri e  31.0  False   \n",
       "3     0021_01     Europa     False  C/1/S  TRAPPIST-1e  38.0  False   \n",
       "4     0023_01      Earth     False  F/5/S  TRAPPIST-1e  20.0  False   \n",
       "\n",
       "   RoomService  FoodCourt  ShoppingMall     Spa  VRDeck              Name  \n",
       "0          0.0        0.0           0.0     0.0     0.0   Nelly Carsoning  \n",
       "1          0.0        9.0           0.0  2823.0     0.0    Lerome Peckers  \n",
       "2          0.0        0.0           0.0     0.0     0.0   Sabih Unhearfus  \n",
       "3          0.0     6652.0           0.0   181.0   585.0  Meratz Caltilter  \n",
       "4         10.0        0.0         635.0     0.0     0.0   Brence Harperez  "
      ]
     },
     "execution_count": 5,
     "metadata": {},
     "output_type": "execute_result"
    }
   ],
   "source": [
    "df_test.head()"
   ]
  },
  {
   "cell_type": "code",
   "execution_count": 6,
   "id": "c9d77294",
   "metadata": {},
   "outputs": [],
   "source": [
    "#passengerID값을 데이터로 넣기위해 passengerID group과 멤버, 멤버 숫자로 분류\n",
    "\n",
    "def change_passengerID(df):\n",
    "    #passengerID의 group과 멤버는 '_'로 분리\n",
    "    df[\"Passenger_Group\"] = df[\"PassengerId\"].apply(lambda x: x.split('_')[0])\n",
    "    df[\"Passenger_Group_ID\"] = df[\"PassengerId\"].apply(lambda x: x.split('_')[1])\n",
    "    \n",
    "    #passengerID의 group으로 묶으면 그룹별 멤버가 몇명인지를 카운트\n",
    "    df_pg_vc = df[\"Passenger_Group\"].value_counts().reset_index()\n",
    "    df_pg_vc = df_pg_vc.rename(columns={\"index\":\"Passenger_Group\",\"Passenger_Group\":\"Num_of_Group_meber\"})\n",
    "    \n",
    "    #기존 데이터에 그룹멤버의 수를 추가하기\n",
    "    df_result = pd.merge(left=df, right=df_pg_vc, left_on=\"Passenger_Group\", right_on=\"Passenger_Group\")\n",
    "    return df_result"
   ]
  },
  {
   "cell_type": "code",
   "execution_count": 7,
   "id": "050e9ab5",
   "metadata": {},
   "outputs": [],
   "source": [
    "df_passenger = change_passengerID(df)"
   ]
  },
  {
   "cell_type": "code",
   "execution_count": 8,
   "id": "4b69672e",
   "metadata": {},
   "outputs": [],
   "source": [
    "#True, False를 1,0으로 수치화하는데, NA값은 imputer에 넣기 위해 남겨두는 함수\n",
    "#여기에 추가하여 Age값이 object로 되어 있어 int64로 변경\n",
    "\n",
    "def change_simple_values(df):\n",
    "    df.CryoSleep = df.CryoSleep.apply(lambda x: 0 if x==False else (1 if x==True else x))\n",
    "    \n",
    "    df.VIP = df.VIP.apply(lambda x: 0 if x==False else (1 if x==True else x))\n",
    "    \n",
    "    #test는 Transported가 없으서 이 부분을 제외하기 위해서 if 추가\n",
    "    if('Transported' in df.columns) :\n",
    "        df.Transported = df.Transported.apply(lambda x: 0 if x==False else (1 if x==True else x))\n",
    "    \n",
    "    df.Age = df.Age.astype('Int64')\n",
    "    return df"
   ]
  },
  {
   "cell_type": "code",
   "execution_count": 9,
   "id": "ddad9e8f",
   "metadata": {},
   "outputs": [],
   "source": [
    "df_numericalize = change_simple_values(df_passenger)"
   ]
  },
  {
   "cell_type": "code",
   "execution_count": 10,
   "id": "6d2b4522",
   "metadata": {},
   "outputs": [],
   "source": [
    "#Cabin은 정보가 복합적이어서 이 파라미터를 분리하여 파라미터화하고\n",
    "#명목형 변수인 'HomePlanet','Destination', 'Cabin'은 onehotencoding으로 변경\n",
    "#get_dummies함수에서 NA는 0으로 변수화 되는 것을 확인\n",
    "\n",
    "def change_destination(df):\n",
    "    \n",
    "    #Cabin을 나누기 위해서 NA값을 제외하고 '/'로 나눠서 3개의 파라미터 만들기\n",
    "    df_cabin_splited = pd.DataFrame(index=df[~(df.Cabin.isna())].index, data=list(df[~(df.Cabin.isna())].loc[:,'Cabin'].apply(lambda x: x.split('/')).values), columns=['Cabin_first', 'Cabin_second','Cabin_third'])\n",
    "    \n",
    "    #기존 dataframe에 cabin의 3개 파라미터를 합치는 동작\n",
    "    df_train = pd.merge(left=df, right=df_cabin_splited, left_index=True, right_index=True, how='left')\n",
    "    \n",
    "    #명목형 파라미터들을 onehotencoding\n",
    "    df_train = pd.get_dummies(data=df_train, columns=['HomePlanet','Destination', 'Cabin_first', 'Cabin_third'])\n",
    "    \n",
    "    #기존 'PassengerId','Cabin','Name'를 제거하는데\n",
    "    #추후 name을 고려해서 입력 데이터를 해볼 필요 있음\n",
    "    df_train_without_Name=df_train.drop(columns=['PassengerId','Cabin','Name'])\n",
    "    return df_train_without_Name"
   ]
  },
  {
   "cell_type": "code",
   "execution_count": 11,
   "id": "419f0a36",
   "metadata": {},
   "outputs": [],
   "source": [
    "df_string_handle = change_destination(df_numericalize)"
   ]
  },
  {
   "cell_type": "code",
   "execution_count": 12,
   "id": "8a79dab3",
   "metadata": {},
   "outputs": [],
   "source": [
    "#Passenger_Group, Passenger_Group_ID, Cabin_second가 string으로 되어 있어서 int64로 변경\n",
    "def change_str_type(df_train_without_Name):\n",
    "    #첫행에 NA가 없어서, 이 행의 데이터 중 string값이 있는 변수를 확인\n",
    "    object_sel = df_train_without_Name.iloc[0,:].apply(lambda x: type(x)==type('a')).values\n",
    "    \n",
    "    #string변수의 열들의 값을 int64로 변화\n",
    "    #na는 변경되지 않는 것을 확인(Cabin_second)\n",
    "    df_train_without_Name.loc[:,object_sel] = df_train_without_Name.loc[:,object_sel].astype('Int64')\n",
    "    return df_train_without_Name"
   ]
  },
  {
   "cell_type": "code",
   "execution_count": 13,
   "id": "723e96df",
   "metadata": {},
   "outputs": [
    {
     "name": "stderr",
     "output_type": "stream",
     "text": [
      "C:\\Users\\yuvjj\\AppData\\Local\\Temp\\ipykernel_18700\\2047930959.py:8: FutureWarning: In a future version, `df.iloc[:, i] = newvals` will attempt to set the values inplace instead of always setting a new array. To retain the old behavior, use either `df[df.columns[i]] = newvals` or, if columns are non-unique, `df.isetitem(i, newvals)`\n",
      "  df_train_without_Name.loc[:,object_sel] = df_train_without_Name.loc[:,object_sel].astype('Int64')\n"
     ]
    }
   ],
   "source": [
    "df_string_handle2 = change_str_type(df_string_handle)"
   ]
  },
  {
   "cell_type": "code",
   "execution_count": 14,
   "id": "d817dae2",
   "metadata": {},
   "outputs": [],
   "source": [
    "#결측치를 interative imputer를 사용하여 random forest로 머신러닝을 통해서 채우는 방식을 채택\n",
    "from sklearn.experimental import enable_iterative_imputer\n",
    "from sklearn.ensemble import RandomForestRegressor"
   ]
  },
  {
   "cell_type": "code",
   "execution_count": 15,
   "id": "da4ce40d",
   "metadata": {},
   "outputs": [
    {
     "name": "stderr",
     "output_type": "stream",
     "text": [
      "C:\\Users\\yuvjj\\Anaconda3\\envs\\data_science_for_python\\lib\\site-packages\\sklearn\\impute\\_iterative.py:713: ConvergenceWarning: [IterativeImputer] Early stopping criterion not reached.\n",
      "  warnings.warn(\n"
     ]
    }
   ],
   "source": [
    "imp = enable_iterative_imputer.IterativeImputer(estimator=RandomForestRegressor(n_estimators=10))\n",
    "df_train_imputed = pd.DataFrame(imp.fit_transform(df_string_handle2), columns=df_string_handle2.columns)"
   ]
  },
  {
   "cell_type": "code",
   "execution_count": 16,
   "id": "e7a5ab9b",
   "metadata": {},
   "outputs": [
    {
     "name": "stderr",
     "output_type": "stream",
     "text": [
      "C:\\Users\\yuvjj\\AppData\\Local\\Temp\\ipykernel_18700\\2047930959.py:8: FutureWarning: In a future version, `df.iloc[:, i] = newvals` will attempt to set the values inplace instead of always setting a new array. To retain the old behavior, use either `df[df.columns[i]] = newvals` or, if columns are non-unique, `df.isetitem(i, newvals)`\n",
      "  df_train_without_Name.loc[:,object_sel] = df_train_without_Name.loc[:,object_sel].astype('Int64')\n"
     ]
    }
   ],
   "source": [
    "#테스트 데이터도 머신러닝에 들어가게 할 수 있게 처리가 필요\n",
    "\n",
    "df_test_passenger = change_passengerID(df_test)\n",
    "df_test_numericalize = change_simple_values(df_test_passenger)\n",
    "df_string_handle = change_destination(df_test_numericalize)\n",
    "df_string_handle2 = change_str_type(df_string_handle)"
   ]
  },
  {
   "cell_type": "code",
   "execution_count": 17,
   "id": "56c124ff",
   "metadata": {},
   "outputs": [
    {
     "name": "stderr",
     "output_type": "stream",
     "text": [
      "C:\\Users\\yuvjj\\Anaconda3\\envs\\data_science_for_python\\lib\\site-packages\\sklearn\\impute\\_iterative.py:713: ConvergenceWarning: [IterativeImputer] Early stopping criterion not reached.\n",
      "  warnings.warn(\n"
     ]
    }
   ],
   "source": [
    "#테스트 데이터의 결측치도 핸들\n",
    "\n",
    "imp = enable_iterative_imputer.IterativeImputer(estimator=RandomForestRegressor(n_estimators=10))\n",
    "df_test_imputed = pd.DataFrame(imp.fit_transform(df_string_handle2), columns=df_string_handle2.columns)"
   ]
  },
  {
   "cell_type": "code",
   "execution_count": 18,
   "id": "cab91285",
   "metadata": {},
   "outputs": [],
   "source": [
    "#classifier는 randomforestclassifier를 사용\n",
    "\n",
    "from sklearn.ensemble import RandomForestClassifier\n",
    "\n",
    "model = RandomForestClassifier(n_estimators=10).fit(X=df_train_imputed.loc[:,df_train_imputed.columns.drop('Transported')], y=df_train_imputed[\"Transported\"])\n",
    "df_rf_predict = model.predict(X=df_test_imputed)\n",
    "df_result = pd.DataFrame(data=df_rf_predict,columns=['Transported'])"
   ]
  },
  {
   "cell_type": "code",
   "execution_count": 19,
   "id": "e9e08a27",
   "metadata": {},
   "outputs": [],
   "source": [
    "#Kaggle submission 파일 생성\n",
    "\n",
    "df_result.Transported = df_result.apply(lambda x: True if x['Transported']==1 else False, axis=1)\n",
    "df_submission = pd.read_csv(\"sample_submission.csv\")\n",
    "df_submit = pd.concat([df_test.PassengerId, df_result], axis=1)\n"
   ]
  }
 ],
 "metadata": {
  "kernelspec": {
   "display_name": "Python 3 (ipykernel)",
   "language": "python",
   "name": "python3"
  },
  "language_info": {
   "codemirror_mode": {
    "name": "ipython",
    "version": 3
   },
   "file_extension": ".py",
   "mimetype": "text/x-python",
   "name": "python",
   "nbconvert_exporter": "python",
   "pygments_lexer": "ipython3",
   "version": "3.10.8"
  }
 },
 "nbformat": 4,
 "nbformat_minor": 5
}
