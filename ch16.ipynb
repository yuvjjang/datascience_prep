{
 "cells": [
  {
   "cell_type": "code",
   "execution_count": 1,
   "id": "0c91c2c3",
   "metadata": {},
   "outputs": [],
   "source": [
    "import pandas as pd\n",
    "from sklearn.naive_bayes import GaussianNB"
   ]
  },
  {
   "cell_type": "code",
   "execution_count": 3,
   "id": "a151b83f",
   "metadata": {},
   "outputs": [],
   "source": [
    "df = pd.read_csv(\"data/iris.csv\")"
   ]
  },
  {
   "cell_type": "code",
   "execution_count": 4,
   "id": "47c01b99",
   "metadata": {},
   "outputs": [
    {
     "data": {
      "text/html": [
       "<div>\n",
       "<style scoped>\n",
       "    .dataframe tbody tr th:only-of-type {\n",
       "        vertical-align: middle;\n",
       "    }\n",
       "\n",
       "    .dataframe tbody tr th {\n",
       "        vertical-align: top;\n",
       "    }\n",
       "\n",
       "    .dataframe thead th {\n",
       "        text-align: right;\n",
       "    }\n",
       "</style>\n",
       "<table border=\"1\" class=\"dataframe\">\n",
       "  <thead>\n",
       "    <tr style=\"text-align: right;\">\n",
       "      <th></th>\n",
       "      <th>Sepal.Length</th>\n",
       "      <th>Sepal.Width</th>\n",
       "      <th>Petal.Length</th>\n",
       "      <th>Petal.Width</th>\n",
       "      <th>Species</th>\n",
       "    </tr>\n",
       "  </thead>\n",
       "  <tbody>\n",
       "    <tr>\n",
       "      <th>0</th>\n",
       "      <td>5.1</td>\n",
       "      <td>3.5</td>\n",
       "      <td>1.4</td>\n",
       "      <td>0.2</td>\n",
       "      <td>setosa</td>\n",
       "    </tr>\n",
       "    <tr>\n",
       "      <th>1</th>\n",
       "      <td>4.9</td>\n",
       "      <td>3.0</td>\n",
       "      <td>1.4</td>\n",
       "      <td>0.2</td>\n",
       "      <td>setosa</td>\n",
       "    </tr>\n",
       "    <tr>\n",
       "      <th>2</th>\n",
       "      <td>4.7</td>\n",
       "      <td>3.2</td>\n",
       "      <td>1.3</td>\n",
       "      <td>0.2</td>\n",
       "      <td>setosa</td>\n",
       "    </tr>\n",
       "    <tr>\n",
       "      <th>3</th>\n",
       "      <td>4.6</td>\n",
       "      <td>3.1</td>\n",
       "      <td>1.5</td>\n",
       "      <td>0.2</td>\n",
       "      <td>setosa</td>\n",
       "    </tr>\n",
       "    <tr>\n",
       "      <th>4</th>\n",
       "      <td>5.0</td>\n",
       "      <td>3.6</td>\n",
       "      <td>1.4</td>\n",
       "      <td>0.2</td>\n",
       "      <td>setosa</td>\n",
       "    </tr>\n",
       "  </tbody>\n",
       "</table>\n",
       "</div>"
      ],
      "text/plain": [
       "   Sepal.Length  Sepal.Width  Petal.Length  Petal.Width Species\n",
       "0           5.1          3.5           1.4          0.2  setosa\n",
       "1           4.9          3.0           1.4          0.2  setosa\n",
       "2           4.7          3.2           1.3          0.2  setosa\n",
       "3           4.6          3.1           1.5          0.2  setosa\n",
       "4           5.0          3.6           1.4          0.2  setosa"
      ]
     },
     "execution_count": 4,
     "metadata": {},
     "output_type": "execute_result"
    }
   ],
   "source": [
    "df.head()"
   ]
  },
  {
   "cell_type": "code",
   "execution_count": 5,
   "id": "bb9e9ef9",
   "metadata": {},
   "outputs": [],
   "source": [
    "df[\"is_setosa\"] = (df[\"Species\"] == \"setosa\") + 0"
   ]
  },
  {
   "cell_type": "code",
   "execution_count": 8,
   "id": "61fb979c",
   "metadata": {},
   "outputs": [
    {
     "data": {
      "text/plain": [
       "0    0.666667\n",
       "1    0.333333\n",
       "Name: is_setosa, dtype: float64"
      ]
     },
     "execution_count": 8,
     "metadata": {},
     "output_type": "execute_result"
    }
   ],
   "source": [
    "df[\"is_setosa\"].value_counts(normalize=True)"
   ]
  },
  {
   "cell_type": "code",
   "execution_count": 9,
   "id": "d49bf579",
   "metadata": {},
   "outputs": [],
   "source": [
    "#0.333333 > prior probability"
   ]
  },
  {
   "cell_type": "code",
   "execution_count": 12,
   "id": "12349c83",
   "metadata": {},
   "outputs": [],
   "source": [
    "model = GaussianNB().fit(X = df.iloc[:,:4], y = df[\"is_setosa\"])"
   ]
  },
  {
   "cell_type": "code",
   "execution_count": 13,
   "id": "c05a2348",
   "metadata": {},
   "outputs": [
    {
     "data": {
      "text/plain": [
       "array([0.66666667, 0.33333333])"
      ]
     },
     "execution_count": 13,
     "metadata": {},
     "output_type": "execute_result"
    }
   ],
   "source": [
    "model.class_prior_"
   ]
  },
  {
   "cell_type": "code",
   "execution_count": 14,
   "id": "cebe7182",
   "metadata": {},
   "outputs": [
    {
     "data": {
      "text/plain": [
       "array([[6.262, 2.872, 4.906, 1.676],\n",
       "       [5.006, 3.428, 1.462, 0.246]])"
      ]
     },
     "execution_count": 14,
     "metadata": {},
     "output_type": "execute_result"
    }
   ],
   "source": [
    "model.theta_"
   ]
  },
  {
   "cell_type": "code",
   "execution_count": 15,
   "id": "a9d58bc1",
   "metadata": {},
   "outputs": [],
   "source": [
    "pred = model.predict_proba(df.iloc[:,:4])"
   ]
  },
  {
   "cell_type": "code",
   "execution_count": 17,
   "id": "6d4593b9",
   "metadata": {},
   "outputs": [
    {
     "data": {
      "text/plain": [
       "array([[6.71160012e-010, 9.99999999e-001],\n",
       "       [4.00302403e-009, 9.99999996e-001],\n",
       "       [1.02351870e-009, 9.99999999e-001],\n",
       "       [2.76121831e-009, 9.99999997e-001],\n",
       "       [2.87820863e-010, 1.00000000e+000],\n",
       "       [3.55110797e-008, 9.99999964e-001],\n",
       "       [9.66021894e-010, 9.99999999e-001],\n",
       "       [1.30959533e-009, 9.99999999e-001],\n",
       "       [4.08140312e-009, 9.99999996e-001],\n",
       "       [4.28674522e-009, 9.99999996e-001],\n",
       "       [1.33377359e-009, 9.99999999e-001],\n",
       "       [1.84532267e-009, 9.99999998e-001],\n",
       "       [3.38128619e-009, 9.99999997e-001],\n",
       "       [5.20232440e-009, 9.99999995e-001],\n",
       "       [1.87082925e-009, 9.99999998e-001],\n",
       "       [1.24819214e-009, 9.99999999e-001],\n",
       "       [2.81930547e-009, 9.99999997e-001],\n",
       "       [1.54701681e-009, 9.99999998e-001],\n",
       "       [7.33966195e-008, 9.99999927e-001],\n",
       "       [4.73129136e-010, 1.00000000e+000],\n",
       "       [4.45844705e-008, 9.99999955e-001],\n",
       "       [4.58044453e-009, 9.99999995e-001],\n",
       "       [5.68754049e-010, 9.99999999e-001],\n",
       "       [3.23988692e-006, 9.99996760e-001],\n",
       "       [1.39641059e-007, 9.99999860e-001],\n",
       "       [1.83453526e-008, 9.99999982e-001],\n",
       "       [3.65165447e-008, 9.99999963e-001],\n",
       "       [1.56322356e-009, 9.99999998e-001],\n",
       "       [1.62717265e-009, 9.99999998e-001],\n",
       "       [4.21218256e-009, 9.99999996e-001],\n",
       "       [7.58667096e-009, 9.99999992e-001],\n",
       "       [8.28155076e-008, 9.99999917e-001],\n",
       "       [4.87996004e-011, 1.00000000e+000],\n",
       "       [6.74800449e-011, 1.00000000e+000],\n",
       "       [4.16954875e-009, 9.99999996e-001],\n",
       "       [2.19954663e-009, 9.99999998e-001],\n",
       "       [3.68284192e-009, 9.99999996e-001],\n",
       "       [2.29157404e-010, 1.00000000e+000],\n",
       "       [2.33444890e-009, 9.99999998e-001],\n",
       "       [1.79409824e-009, 9.99999998e-001],\n",
       "       [9.73835050e-010, 9.99999999e-001],\n",
       "       [5.98958216e-008, 9.99999940e-001],\n",
       "       [9.66496167e-010, 9.99999999e-001],\n",
       "       [8.69251361e-006, 9.99991307e-001],\n",
       "       [4.33115769e-007, 9.99999567e-001],\n",
       "       [7.58075174e-009, 9.99999992e-001],\n",
       "       [4.54587834e-010, 1.00000000e+000],\n",
       "       [1.09752810e-009, 9.99999999e-001],\n",
       "       [8.15317332e-010, 9.99999999e-001],\n",
       "       [1.33589188e-009, 9.99999999e-001],\n",
       "       [1.00000000e+000, 1.06857205e-109],\n",
       "       [1.00000000e+000, 6.21929944e-102],\n",
       "       [1.00000000e+000, 5.95805983e-124],\n",
       "       [1.00000000e+000, 4.96081507e-070],\n",
       "       [1.00000000e+000, 1.01443079e-107],\n",
       "       [1.00000000e+000, 1.44947298e-090],\n",
       "       [1.00000000e+000, 9.41447938e-116],\n",
       "       [1.00000000e+000, 1.40878104e-034],\n",
       "       [1.00000000e+000, 9.94122923e-099],\n",
       "       [1.00000000e+000, 1.33364660e-069],\n",
       "       [1.00000000e+000, 4.99612563e-041],\n",
       "       [1.00000000e+000, 2.21317195e-087],\n",
       "       [1.00000000e+000, 1.58989684e-060],\n",
       "       [1.00000000e+000, 1.46204910e-105],\n",
       "       [1.00000000e+000, 2.20068846e-055],\n",
       "       [1.00000000e+000, 2.04691481e-094],\n",
       "       [1.00000000e+000, 2.85937116e-099],\n",
       "       [1.00000000e+000, 5.31689772e-063],\n",
       "       [1.00000000e+000, 1.39773650e-102],\n",
       "       [1.00000000e+000, 1.78932098e-058],\n",
       "       [1.00000000e+000, 9.14854950e-131],\n",
       "       [1.00000000e+000, 2.72683804e-071],\n",
       "       [1.00000000e+000, 9.83679110e-122],\n",
       "       [1.00000000e+000, 3.88698406e-097],\n",
       "       [1.00000000e+000, 1.88514877e-084],\n",
       "       [1.00000000e+000, 4.69482828e-094],\n",
       "       [1.00000000e+000, 4.78843075e-114],\n",
       "       [1.00000000e+000, 6.24357181e-139],\n",
       "       [1.00000000e+000, 9.13368816e-101],\n",
       "       [1.00000000e+000, 8.51014877e-042],\n",
       "       [1.00000000e+000, 9.12551670e-055],\n",
       "       [1.00000000e+000, 5.71434104e-048],\n",
       "       [1.00000000e+000, 1.60533683e-062],\n",
       "       [1.00000000e+000, 8.44274392e-136],\n",
       "       [1.00000000e+000, 9.13750747e-099],\n",
       "       [1.00000000e+000, 5.08376170e-105],\n",
       "       [1.00000000e+000, 5.89826059e-113],\n",
       "       [1.00000000e+000, 3.80996717e-089],\n",
       "       [1.00000000e+000, 4.32983374e-073],\n",
       "       [1.00000000e+000, 9.02901478e-070],\n",
       "       [1.00000000e+000, 8.59054852e-082],\n",
       "       [1.00000000e+000, 1.10712111e-100],\n",
       "       [1.00000000e+000, 2.16865749e-066],\n",
       "       [1.00000000e+000, 8.16887057e-035],\n",
       "       [1.00000000e+000, 1.34722547e-077],\n",
       "       [1.00000000e+000, 2.86432287e-073],\n",
       "       [1.00000000e+000, 1.47554563e-077],\n",
       "       [1.00000000e+000, 1.55173167e-083],\n",
       "       [1.00000000e+000, 2.85291648e-030],\n",
       "       [1.00000000e+000, 9.94943945e-074],\n",
       "       [1.00000000e+000, 1.28688164e-253],\n",
       "       [1.00000000e+000, 4.86015211e-153],\n",
       "       [1.00000000e+000, 5.52499016e-220],\n",
       "       [1.00000000e+000, 9.66374765e-177],\n",
       "       [1.00000000e+000, 1.45895796e-217],\n",
       "       [1.00000000e+000, 2.90145852e-272],\n",
       "       [1.00000000e+000, 1.33814096e-109],\n",
       "       [1.00000000e+000, 2.70101499e-228],\n",
       "       [1.00000000e+000, 9.35073850e-192],\n",
       "       [1.00000000e+000, 8.88153917e-265],\n",
       "       [1.00000000e+000, 8.14870772e-162],\n",
       "       [1.00000000e+000, 2.00017978e-166],\n",
       "       [1.00000000e+000, 2.09464788e-193],\n",
       "       [1.00000000e+000, 1.73044150e-154],\n",
       "       [1.00000000e+000, 2.73434375e-190],\n",
       "       [1.00000000e+000, 1.03194235e-194],\n",
       "       [1.00000000e+000, 1.45235575e-171],\n",
       "       [1.00000000e+000, 2.55683518e-286],\n",
       "       [1.00000000e+000, 5.06032759e-312],\n",
       "       [1.00000000e+000, 5.63778576e-126],\n",
       "       [1.00000000e+000, 4.95216769e-221],\n",
       "       [1.00000000e+000, 1.28040017e-148],\n",
       "       [1.00000000e+000, 8.06738555e-274],\n",
       "       [1.00000000e+000, 2.89953965e-138],\n",
       "       [1.00000000e+000, 2.57442668e-204],\n",
       "       [1.00000000e+000, 1.31802751e-206],\n",
       "       [1.00000000e+000, 1.12177696e-132],\n",
       "       [1.00000000e+000, 6.84029053e-137],\n",
       "       [1.00000000e+000, 1.40258589e-197],\n",
       "       [1.00000000e+000, 1.75064031e-182],\n",
       "       [1.00000000e+000, 8.59036389e-222],\n",
       "       [1.00000000e+000, 2.64666557e-251],\n",
       "       [1.00000000e+000, 4.62185734e-205],\n",
       "       [1.00000000e+000, 1.15739602e-131],\n",
       "       [1.00000000e+000, 1.12676589e-154],\n",
       "       [1.00000000e+000, 5.84198140e-253],\n",
       "       [1.00000000e+000, 1.57035272e-219],\n",
       "       [1.00000000e+000, 7.00542706e-171],\n",
       "       [1.00000000e+000, 1.62375274e-131],\n",
       "       [1.00000000e+000, 5.42202653e-188],\n",
       "       [1.00000000e+000, 3.51252480e-222],\n",
       "       [1.00000000e+000, 1.06417461e-186],\n",
       "       [1.00000000e+000, 4.86015211e-153],\n",
       "       [1.00000000e+000, 4.57498816e-233],\n",
       "       [1.00000000e+000, 1.71389160e-236],\n",
       "       [1.00000000e+000, 4.06234779e-191],\n",
       "       [1.00000000e+000, 4.86093394e-150],\n",
       "       [1.00000000e+000, 1.33253783e-167],\n",
       "       [1.00000000e+000, 4.60036792e-199],\n",
       "       [1.00000000e+000, 1.62597097e-146]])"
      ]
     },
     "execution_count": 17,
     "metadata": {},
     "output_type": "execute_result"
    }
   ],
   "source": [
    "pred"
   ]
  },
  {
   "cell_type": "code",
   "execution_count": 18,
   "id": "0f3ed72a",
   "metadata": {},
   "outputs": [],
   "source": [
    "pred = pred[:,1]"
   ]
  },
  {
   "cell_type": "code",
   "execution_count": 20,
   "id": "529ea468",
   "metadata": {},
   "outputs": [
    {
     "data": {
      "text/plain": [
       "array([1., 1., 1., 1.])"
      ]
     },
     "execution_count": 20,
     "metadata": {},
     "output_type": "execute_result"
    }
   ],
   "source": [
    "pred[:4]"
   ]
  },
  {
   "cell_type": "code",
   "execution_count": 21,
   "id": "01ec8494",
   "metadata": {},
   "outputs": [],
   "source": [
    "from sklearn.metrics import accuracy_score"
   ]
  },
  {
   "cell_type": "code",
   "execution_count": 24,
   "id": "c75b5db3",
   "metadata": {},
   "outputs": [],
   "source": [
    "pred_class = (pred > 0.99) +0"
   ]
  },
  {
   "cell_type": "code",
   "execution_count": 25,
   "id": "5d7de03d",
   "metadata": {},
   "outputs": [
    {
     "data": {
      "text/plain": [
       "1.0"
      ]
     },
     "execution_count": 25,
     "metadata": {},
     "output_type": "execute_result"
    }
   ],
   "source": [
    "accuracy_score(y_true= df[\"is_setosa\"],\n",
    "              y_pred = pred_class)"
   ]
  },
  {
   "cell_type": "code",
   "execution_count": 26,
   "id": "8cd466c4",
   "metadata": {},
   "outputs": [],
   "source": [
    "#문제 1"
   ]
  },
  {
   "cell_type": "code",
   "execution_count": 1,
   "id": "4d664c31",
   "metadata": {},
   "outputs": [],
   "source": [
    "import pandas as pd"
   ]
  },
  {
   "cell_type": "code",
   "execution_count": 2,
   "id": "88a6af5b",
   "metadata": {},
   "outputs": [],
   "source": [
    "from sklearn.naive_bayes import GaussianNB"
   ]
  },
  {
   "cell_type": "code",
   "execution_count": 3,
   "id": "0fca2df8",
   "metadata": {},
   "outputs": [],
   "source": [
    "df = pd.read_csv(\"data/diabetes.csv\")"
   ]
  },
  {
   "cell_type": "code",
   "execution_count": 4,
   "id": "4af916ac",
   "metadata": {},
   "outputs": [
    {
     "data": {
      "text/html": [
       "<div>\n",
       "<style scoped>\n",
       "    .dataframe tbody tr th:only-of-type {\n",
       "        vertical-align: middle;\n",
       "    }\n",
       "\n",
       "    .dataframe tbody tr th {\n",
       "        vertical-align: top;\n",
       "    }\n",
       "\n",
       "    .dataframe thead th {\n",
       "        text-align: right;\n",
       "    }\n",
       "</style>\n",
       "<table border=\"1\" class=\"dataframe\">\n",
       "  <thead>\n",
       "    <tr style=\"text-align: right;\">\n",
       "      <th></th>\n",
       "      <th>Pregnancies</th>\n",
       "      <th>Glucose</th>\n",
       "      <th>BloodPressure</th>\n",
       "      <th>SkinThickness</th>\n",
       "      <th>Insulin</th>\n",
       "      <th>BMI</th>\n",
       "      <th>DiabetesPedigreeFunction</th>\n",
       "      <th>Age</th>\n",
       "      <th>Outcome</th>\n",
       "    </tr>\n",
       "  </thead>\n",
       "  <tbody>\n",
       "    <tr>\n",
       "      <th>0</th>\n",
       "      <td>6</td>\n",
       "      <td>148</td>\n",
       "      <td>72</td>\n",
       "      <td>35</td>\n",
       "      <td>0</td>\n",
       "      <td>33.6</td>\n",
       "      <td>0.627</td>\n",
       "      <td>50</td>\n",
       "      <td>1</td>\n",
       "    </tr>\n",
       "    <tr>\n",
       "      <th>1</th>\n",
       "      <td>1</td>\n",
       "      <td>85</td>\n",
       "      <td>66</td>\n",
       "      <td>29</td>\n",
       "      <td>0</td>\n",
       "      <td>26.6</td>\n",
       "      <td>0.351</td>\n",
       "      <td>31</td>\n",
       "      <td>0</td>\n",
       "    </tr>\n",
       "    <tr>\n",
       "      <th>2</th>\n",
       "      <td>8</td>\n",
       "      <td>183</td>\n",
       "      <td>64</td>\n",
       "      <td>0</td>\n",
       "      <td>0</td>\n",
       "      <td>23.3</td>\n",
       "      <td>0.672</td>\n",
       "      <td>32</td>\n",
       "      <td>1</td>\n",
       "    </tr>\n",
       "    <tr>\n",
       "      <th>3</th>\n",
       "      <td>1</td>\n",
       "      <td>89</td>\n",
       "      <td>66</td>\n",
       "      <td>23</td>\n",
       "      <td>94</td>\n",
       "      <td>28.1</td>\n",
       "      <td>0.167</td>\n",
       "      <td>21</td>\n",
       "      <td>0</td>\n",
       "    </tr>\n",
       "    <tr>\n",
       "      <th>4</th>\n",
       "      <td>0</td>\n",
       "      <td>137</td>\n",
       "      <td>40</td>\n",
       "      <td>35</td>\n",
       "      <td>168</td>\n",
       "      <td>43.1</td>\n",
       "      <td>2.288</td>\n",
       "      <td>33</td>\n",
       "      <td>1</td>\n",
       "    </tr>\n",
       "  </tbody>\n",
       "</table>\n",
       "</div>"
      ],
      "text/plain": [
       "   Pregnancies  Glucose  BloodPressure  SkinThickness  Insulin   BMI  \\\n",
       "0            6      148             72             35        0  33.6   \n",
       "1            1       85             66             29        0  26.6   \n",
       "2            8      183             64              0        0  23.3   \n",
       "3            1       89             66             23       94  28.1   \n",
       "4            0      137             40             35      168  43.1   \n",
       "\n",
       "   DiabetesPedigreeFunction  Age  Outcome  \n",
       "0                     0.627   50        1  \n",
       "1                     0.351   31        0  \n",
       "2                     0.672   32        1  \n",
       "3                     0.167   21        0  \n",
       "4                     2.288   33        1  "
      ]
     },
     "execution_count": 4,
     "metadata": {},
     "output_type": "execute_result"
    }
   ],
   "source": [
    "df.head()"
   ]
  },
  {
   "cell_type": "code",
   "execution_count": 5,
   "id": "98029b47",
   "metadata": {},
   "outputs": [],
   "source": [
    "df_sub = df.loc[df[\"BMI\"]>0, :]"
   ]
  },
  {
   "cell_type": "code",
   "execution_count": 6,
   "id": "b50e99d6",
   "metadata": {},
   "outputs": [],
   "source": [
    "model = GaussianNB().fit(X=df_sub.iloc[:,:-1], y=df_sub[\"Outcome\"])"
   ]
  },
  {
   "cell_type": "code",
   "execution_count": 7,
   "id": "37de6caa",
   "metadata": {},
   "outputs": [
    {
     "data": {
      "text/plain": [
       "array([0.64861295, 0.35138705])"
      ]
     },
     "execution_count": 7,
     "metadata": {},
     "output_type": "execute_result"
    }
   ],
   "source": [
    "model.class_prior_"
   ]
  },
  {
   "cell_type": "code",
   "execution_count": null,
   "id": "948e19ab",
   "metadata": {},
   "outputs": [],
   "source": [
    "model."
   ]
  },
  {
   "cell_type": "code",
   "execution_count": 8,
   "id": "52ce6f36",
   "metadata": {},
   "outputs": [
    {
     "data": {
      "text/plain": [
       "0    0.648613\n",
       "1    0.351387\n",
       "Name: Outcome, dtype: float64"
      ]
     },
     "execution_count": 8,
     "metadata": {},
     "output_type": "execute_result"
    }
   ],
   "source": [
    "df_sub[\"Outcome\"].value_counts(normalize=True)"
   ]
  },
  {
   "cell_type": "code",
   "execution_count": 42,
   "id": "f6eb577b",
   "metadata": {},
   "outputs": [],
   "source": [
    "#문제 2"
   ]
  },
  {
   "cell_type": "code",
   "execution_count": 44,
   "id": "dce99c00",
   "metadata": {},
   "outputs": [],
   "source": [
    "import pandas as pd\n",
    "from sklearn.naive_bayes import GaussianNB\n",
    "from sklearn.metrics import accuracy_score"
   ]
  },
  {
   "cell_type": "code",
   "execution_count": 45,
   "id": "0c2c35e4",
   "metadata": {},
   "outputs": [],
   "source": [
    "df = pd.read_csv(\"data/diabetes.csv\")"
   ]
  },
  {
   "cell_type": "code",
   "execution_count": 46,
   "id": "c24b59f9",
   "metadata": {},
   "outputs": [
    {
     "data": {
      "text/html": [
       "<div>\n",
       "<style scoped>\n",
       "    .dataframe tbody tr th:only-of-type {\n",
       "        vertical-align: middle;\n",
       "    }\n",
       "\n",
       "    .dataframe tbody tr th {\n",
       "        vertical-align: top;\n",
       "    }\n",
       "\n",
       "    .dataframe thead th {\n",
       "        text-align: right;\n",
       "    }\n",
       "</style>\n",
       "<table border=\"1\" class=\"dataframe\">\n",
       "  <thead>\n",
       "    <tr style=\"text-align: right;\">\n",
       "      <th></th>\n",
       "      <th>Pregnancies</th>\n",
       "      <th>Glucose</th>\n",
       "      <th>BloodPressure</th>\n",
       "      <th>SkinThickness</th>\n",
       "      <th>Insulin</th>\n",
       "      <th>BMI</th>\n",
       "      <th>DiabetesPedigreeFunction</th>\n",
       "      <th>Age</th>\n",
       "      <th>Outcome</th>\n",
       "    </tr>\n",
       "  </thead>\n",
       "  <tbody>\n",
       "    <tr>\n",
       "      <th>0</th>\n",
       "      <td>6</td>\n",
       "      <td>148</td>\n",
       "      <td>72</td>\n",
       "      <td>35</td>\n",
       "      <td>0</td>\n",
       "      <td>33.6</td>\n",
       "      <td>0.627</td>\n",
       "      <td>50</td>\n",
       "      <td>1</td>\n",
       "    </tr>\n",
       "    <tr>\n",
       "      <th>1</th>\n",
       "      <td>1</td>\n",
       "      <td>85</td>\n",
       "      <td>66</td>\n",
       "      <td>29</td>\n",
       "      <td>0</td>\n",
       "      <td>26.6</td>\n",
       "      <td>0.351</td>\n",
       "      <td>31</td>\n",
       "      <td>0</td>\n",
       "    </tr>\n",
       "  </tbody>\n",
       "</table>\n",
       "</div>"
      ],
      "text/plain": [
       "   Pregnancies  Glucose  BloodPressure  SkinThickness  Insulin   BMI  \\\n",
       "0            6      148             72             35        0  33.6   \n",
       "1            1       85             66             29        0  26.6   \n",
       "\n",
       "   DiabetesPedigreeFunction  Age  Outcome  \n",
       "0                     0.627   50        1  \n",
       "1                     0.351   31        0  "
      ]
     },
     "execution_count": 46,
     "metadata": {},
     "output_type": "execute_result"
    }
   ],
   "source": [
    "df.head(2)"
   ]
  },
  {
   "cell_type": "code",
   "execution_count": 65,
   "id": "cfe891fb",
   "metadata": {},
   "outputs": [],
   "source": [
    "model = GaussianNB().fit(X=df.loc[:,[\"Glucose\",\"BloodPressure\",\"Age\"]], y=df.iloc[:,-1])"
   ]
  },
  {
   "cell_type": "code",
   "execution_count": 67,
   "id": "10d08d71",
   "metadata": {},
   "outputs": [],
   "source": [
    "pred = model.predict_proba(X=df.loc[:,[\"Glucose\",\"BloodPressure\",\"Age\"]])"
   ]
  },
  {
   "cell_type": "code",
   "execution_count": 68,
   "id": "5e3bef5b",
   "metadata": {},
   "outputs": [
    {
     "data": {
      "text/plain": [
       "(768, 2)"
      ]
     },
     "execution_count": 68,
     "metadata": {},
     "output_type": "execute_result"
    }
   ],
   "source": [
    "pred.shape"
   ]
  },
  {
   "cell_type": "code",
   "execution_count": 69,
   "id": "bfb15ef6",
   "metadata": {},
   "outputs": [
    {
     "data": {
      "text/plain": [
       "array([0.65104167, 0.34895833])"
      ]
     },
     "execution_count": 69,
     "metadata": {},
     "output_type": "execute_result"
    }
   ],
   "source": [
    "model.class_prior_"
   ]
  },
  {
   "cell_type": "code",
   "execution_count": 70,
   "id": "a24de1b6",
   "metadata": {},
   "outputs": [
    {
     "data": {
      "text/plain": [
       "array([[0.32535177, 0.67464823],\n",
       "       [0.90063283, 0.09936717],\n",
       "       [0.12024892, 0.87975108],\n",
       "       ...,\n",
       "       [0.77355188, 0.22644812],\n",
       "       [0.59287801, 0.40712199],\n",
       "       [0.91997342, 0.08002658]])"
      ]
     },
     "execution_count": 70,
     "metadata": {},
     "output_type": "execute_result"
    }
   ],
   "source": [
    "pred"
   ]
  },
  {
   "cell_type": "code",
   "execution_count": 71,
   "id": "8e176a03",
   "metadata": {},
   "outputs": [],
   "source": [
    "pred = (pred[:, 1] >0.5) +0"
   ]
  },
  {
   "cell_type": "code",
   "execution_count": 72,
   "id": "5521293b",
   "metadata": {},
   "outputs": [
    {
     "data": {
      "text/plain": [
       "array([1, 0, 1, 0, 0, 0, 0, 1, 1, 1, 0, 1, 1, 1, 1, 0, 0, 0, 0, 0, 0, 0,\n",
       "       1, 0, 1, 0, 1, 0, 1, 0, 0, 1, 0, 0, 0, 0, 0, 0, 0, 0, 1, 0, 0, 1,\n",
       "       1, 1, 0, 0, 0, 0, 0, 0, 0, 1, 1, 0, 1, 0, 1, 0, 0, 0, 0, 0, 0, 0,\n",
       "       0, 0, 0, 0, 0, 0, 0, 0, 0, 0, 0, 0, 1, 0, 0, 0, 0, 0, 1, 0, 0, 0,\n",
       "       0, 0, 0, 0, 0, 1, 0, 1, 0, 0, 0, 0, 1, 0, 0, 0, 0, 0, 0, 1, 0, 0,\n",
       "       1, 1, 0, 0, 1, 1, 0, 0, 0, 0, 1, 0, 0, 1, 0, 0, 0, 0, 0, 0, 1, 0,\n",
       "       1, 0, 0, 0, 0, 0, 0, 0, 1, 0, 0, 0, 0, 0, 0, 0, 1, 0, 0, 0, 1, 0,\n",
       "       1, 1, 0, 0, 0, 1, 1, 0, 0, 0, 0, 0, 0, 0, 0, 0, 0, 0, 0, 0, 0, 1,\n",
       "       0, 0, 1, 0, 0, 0, 0, 0, 1, 1, 1, 0, 0, 0, 0, 0, 1, 1, 0, 1, 0, 0,\n",
       "       0, 0, 0, 0, 0, 0, 0, 0, 1, 1, 0, 1, 0, 0, 1, 0, 0, 1, 0, 0, 0, 0,\n",
       "       1, 1, 1, 1, 0, 0, 0, 1, 1, 0, 0, 1, 0, 0, 0, 1, 1, 1, 1, 0, 0, 0,\n",
       "       0, 0, 0, 1, 0, 1, 0, 0, 0, 0, 0, 0, 0, 0, 0, 0, 1, 1, 1, 1, 0, 1,\n",
       "       0, 0, 1, 0, 0, 1, 0, 0, 0, 0, 0, 0, 0, 0, 0, 0, 0, 0, 0, 1, 0, 1,\n",
       "       1, 0, 0, 0, 0, 0, 0, 0, 1, 0, 0, 0, 0, 0, 1, 0, 0, 0, 1, 0, 1, 0,\n",
       "       0, 0, 0, 0, 1, 0, 0, 0, 0, 1, 0, 1, 0, 0, 0, 1, 0, 1, 0, 1, 0, 0,\n",
       "       0, 0, 1, 0, 0, 1, 1, 0, 1, 1, 0, 0, 0, 0, 0, 0, 0, 0, 0, 0, 0, 0,\n",
       "       0, 0, 0, 1, 0, 1, 0, 1, 1, 1, 1, 1, 0, 0, 0, 0, 0, 1, 1, 0, 0, 0,\n",
       "       0, 1, 0, 0, 1, 0, 0, 0, 0, 0, 0, 0, 0, 0, 1, 0, 0, 1, 0, 0, 1, 0,\n",
       "       0, 0, 0, 1, 0, 1, 0, 0, 1, 0, 0, 0, 1, 1, 0, 0, 0, 0, 0, 1, 0, 1,\n",
       "       0, 0, 0, 0, 0, 0, 1, 1, 0, 1, 0, 0, 0, 0, 0, 0, 0, 1, 1, 0, 0, 0,\n",
       "       1, 0, 0, 0, 0, 1, 0, 0, 0, 0, 0, 0, 0, 1, 0, 1, 1, 0, 1, 1, 0, 0,\n",
       "       0, 0, 0, 0, 0, 0, 1, 1, 0, 0, 0, 1, 0, 1, 0, 0, 0, 1, 1, 0, 0, 0,\n",
       "       1, 0, 0, 1, 0, 1, 0, 0, 0, 0, 0, 1, 0, 0, 1, 1, 0, 0, 0, 0, 0, 0,\n",
       "       1, 0, 0, 0, 0, 0, 0, 0, 0, 1, 1, 0, 0, 1, 0, 0, 0, 0, 0, 0, 0, 0,\n",
       "       0, 0, 0, 0, 0, 0, 0, 1, 0, 0, 0, 0, 0, 0, 0, 0, 0, 1, 1, 0, 1, 1,\n",
       "       0, 0, 0, 0, 0, 0, 0, 0, 0, 0, 0, 1, 0, 0, 0, 0, 0, 0, 1, 0, 0, 0,\n",
       "       0, 0, 0, 0, 0, 0, 0, 1, 0, 0, 0, 0, 0, 0, 1, 0, 1, 0, 0, 0, 0, 0,\n",
       "       0, 1, 0, 0, 1, 0, 0, 0, 0, 1, 1, 0, 1, 0, 1, 0, 0, 1, 1, 0, 1, 0,\n",
       "       0, 0, 0, 1, 0, 0, 1, 0, 0, 0, 0, 0, 0, 0, 0, 0, 0, 0, 0, 0, 0, 0,\n",
       "       0, 0, 0, 0, 1, 0, 0, 1, 1, 1, 1, 0, 0, 0, 0, 0, 0, 1, 0, 0, 1, 0,\n",
       "       1, 1, 1, 1, 0, 0, 1, 0, 0, 1, 1, 0, 0, 0, 0, 1, 1, 0, 0, 0, 0, 1,\n",
       "       0, 0, 1, 0, 0, 0, 0, 1, 0, 1, 0, 0, 0, 1, 1, 0, 0, 0, 0, 0, 1, 1,\n",
       "       0, 0, 1, 0, 1, 0, 1, 0, 0, 0, 0, 1, 1, 0, 0, 0, 0, 0, 1, 0, 0, 0,\n",
       "       0, 0, 1, 0, 0, 0, 1, 0, 0, 0, 0, 0, 0, 0, 0, 0, 0, 1, 1, 0, 1, 0,\n",
       "       1, 1, 0, 0, 0, 1, 1, 0, 1, 0, 0, 1, 0, 1, 0, 0, 0, 0, 0, 0])"
      ]
     },
     "execution_count": 72,
     "metadata": {},
     "output_type": "execute_result"
    }
   ],
   "source": [
    "pred"
   ]
  },
  {
   "cell_type": "code",
   "execution_count": 73,
   "id": "0a01ba6e",
   "metadata": {},
   "outputs": [
    {
     "data": {
      "text/plain": [
       "0.7552083333333334"
      ]
     },
     "execution_count": 73,
     "metadata": {},
     "output_type": "execute_result"
    }
   ],
   "source": [
    "accuracy_score(y_true=df.iloc[:,-1], y_pred=pred)"
   ]
  },
  {
   "cell_type": "code",
   "execution_count": 74,
   "id": "c0ffd82c",
   "metadata": {},
   "outputs": [],
   "source": [
    "#문제 3"
   ]
  },
  {
   "cell_type": "code",
   "execution_count": 131,
   "id": "176074f0",
   "metadata": {},
   "outputs": [],
   "source": [
    "import pandas as pd\n",
    "from sklearn.model_selection import train_test_split\n",
    "from sklearn.linear_model import LogisticRegression\n",
    "from sklearn.naive_bayes import GaussianNB\n",
    "from sklearn.metrics import accuracy_score"
   ]
  },
  {
   "cell_type": "code",
   "execution_count": 132,
   "id": "57fbdf2c",
   "metadata": {},
   "outputs": [],
   "source": [
    "df = pd.read_csv(\"data/diabetes.csv\")"
   ]
  },
  {
   "cell_type": "code",
   "execution_count": 133,
   "id": "5aefcd05",
   "metadata": {},
   "outputs": [
    {
     "data": {
      "text/html": [
       "<div>\n",
       "<style scoped>\n",
       "    .dataframe tbody tr th:only-of-type {\n",
       "        vertical-align: middle;\n",
       "    }\n",
       "\n",
       "    .dataframe tbody tr th {\n",
       "        vertical-align: top;\n",
       "    }\n",
       "\n",
       "    .dataframe thead th {\n",
       "        text-align: right;\n",
       "    }\n",
       "</style>\n",
       "<table border=\"1\" class=\"dataframe\">\n",
       "  <thead>\n",
       "    <tr style=\"text-align: right;\">\n",
       "      <th></th>\n",
       "      <th>Pregnancies</th>\n",
       "      <th>Glucose</th>\n",
       "      <th>BloodPressure</th>\n",
       "      <th>SkinThickness</th>\n",
       "      <th>Insulin</th>\n",
       "      <th>BMI</th>\n",
       "      <th>DiabetesPedigreeFunction</th>\n",
       "      <th>Age</th>\n",
       "      <th>Outcome</th>\n",
       "    </tr>\n",
       "  </thead>\n",
       "  <tbody>\n",
       "    <tr>\n",
       "      <th>0</th>\n",
       "      <td>6</td>\n",
       "      <td>148</td>\n",
       "      <td>72</td>\n",
       "      <td>35</td>\n",
       "      <td>0</td>\n",
       "      <td>33.6</td>\n",
       "      <td>0.627</td>\n",
       "      <td>50</td>\n",
       "      <td>1</td>\n",
       "    </tr>\n",
       "    <tr>\n",
       "      <th>1</th>\n",
       "      <td>1</td>\n",
       "      <td>85</td>\n",
       "      <td>66</td>\n",
       "      <td>29</td>\n",
       "      <td>0</td>\n",
       "      <td>26.6</td>\n",
       "      <td>0.351</td>\n",
       "      <td>31</td>\n",
       "      <td>0</td>\n",
       "    </tr>\n",
       "    <tr>\n",
       "      <th>2</th>\n",
       "      <td>8</td>\n",
       "      <td>183</td>\n",
       "      <td>64</td>\n",
       "      <td>0</td>\n",
       "      <td>0</td>\n",
       "      <td>23.3</td>\n",
       "      <td>0.672</td>\n",
       "      <td>32</td>\n",
       "      <td>1</td>\n",
       "    </tr>\n",
       "    <tr>\n",
       "      <th>3</th>\n",
       "      <td>1</td>\n",
       "      <td>89</td>\n",
       "      <td>66</td>\n",
       "      <td>23</td>\n",
       "      <td>94</td>\n",
       "      <td>28.1</td>\n",
       "      <td>0.167</td>\n",
       "      <td>21</td>\n",
       "      <td>0</td>\n",
       "    </tr>\n",
       "    <tr>\n",
       "      <th>4</th>\n",
       "      <td>0</td>\n",
       "      <td>137</td>\n",
       "      <td>40</td>\n",
       "      <td>35</td>\n",
       "      <td>168</td>\n",
       "      <td>43.1</td>\n",
       "      <td>2.288</td>\n",
       "      <td>33</td>\n",
       "      <td>1</td>\n",
       "    </tr>\n",
       "  </tbody>\n",
       "</table>\n",
       "</div>"
      ],
      "text/plain": [
       "   Pregnancies  Glucose  BloodPressure  SkinThickness  Insulin   BMI  \\\n",
       "0            6      148             72             35        0  33.6   \n",
       "1            1       85             66             29        0  26.6   \n",
       "2            8      183             64              0        0  23.3   \n",
       "3            1       89             66             23       94  28.1   \n",
       "4            0      137             40             35      168  43.1   \n",
       "\n",
       "   DiabetesPedigreeFunction  Age  Outcome  \n",
       "0                     0.627   50        1  \n",
       "1                     0.351   31        0  \n",
       "2                     0.672   32        1  \n",
       "3                     0.167   21        0  \n",
       "4                     2.288   33        1  "
      ]
     },
     "execution_count": 133,
     "metadata": {},
     "output_type": "execute_result"
    }
   ],
   "source": [
    "df.head()"
   ]
  },
  {
   "cell_type": "code",
   "execution_count": 134,
   "id": "ee60c1e5",
   "metadata": {},
   "outputs": [
    {
     "data": {
      "text/plain": [
       "1     135\n",
       "0     111\n",
       "2     103\n",
       "3      75\n",
       "4      68\n",
       "5      57\n",
       "6      50\n",
       "7      45\n",
       "8      38\n",
       "9      28\n",
       "10     24\n",
       "11     11\n",
       "13     10\n",
       "12      9\n",
       "14      2\n",
       "15      1\n",
       "17      1\n",
       "Name: Pregnancies, dtype: int64"
      ]
     },
     "execution_count": 134,
     "metadata": {},
     "output_type": "execute_result"
    }
   ],
   "source": [
    "df[\"Pregnancies\"].value_counts()"
   ]
  },
  {
   "cell_type": "code",
   "execution_count": 155,
   "id": "26aa51b8",
   "metadata": {},
   "outputs": [],
   "source": [
    "df = df.loc[df[\"BMI\"]>0, :]\n",
    "df[\"AgeGroup\"] = (df[\"Age\"]/10).round(0)*10"
   ]
  },
  {
   "cell_type": "code",
   "execution_count": 156,
   "id": "385eb6e8",
   "metadata": {},
   "outputs": [],
   "source": [
    "df[\"is_preg\"] = (df[\"Pregnancies\"]>0) + 0"
   ]
  },
  {
   "cell_type": "code",
   "execution_count": 157,
   "id": "857a2760",
   "metadata": {},
   "outputs": [
    {
     "data": {
      "text/plain": [
       "0      1\n",
       "1      1\n",
       "2      1\n",
       "3      1\n",
       "4      0\n",
       "      ..\n",
       "763    1\n",
       "764    1\n",
       "765    1\n",
       "766    1\n",
       "767    1\n",
       "Name: is_preg, Length: 757, dtype: int32"
      ]
     },
     "execution_count": 157,
     "metadata": {},
     "output_type": "execute_result"
    }
   ],
   "source": [
    "df[\"is_preg\"]"
   ]
  },
  {
   "cell_type": "code",
   "execution_count": 158,
   "id": "8830a2e1",
   "metadata": {},
   "outputs": [
    {
     "data": {
      "text/plain": [
       "0      50.0\n",
       "1      30.0\n",
       "2      30.0\n",
       "3      20.0\n",
       "4      30.0\n",
       "       ... \n",
       "763    60.0\n",
       "764    30.0\n",
       "765    30.0\n",
       "766    50.0\n",
       "767    20.0\n",
       "Name: AgeGroup, Length: 757, dtype: float64"
      ]
     },
     "execution_count": 158,
     "metadata": {},
     "output_type": "execute_result"
    }
   ],
   "source": [
    "df[\"AgeGroup\"]"
   ]
  },
  {
   "cell_type": "code",
   "execution_count": 159,
   "id": "70b11f91",
   "metadata": {},
   "outputs": [],
   "source": [
    "df_train, df_test = train_test_split(df.loc[:,['is_preg', 'Glucose','BMI', 'AgeGroup','Outcome']], train_size=0.8, random_state=123)"
   ]
  },
  {
   "cell_type": "code",
   "execution_count": 160,
   "id": "297a5af8",
   "metadata": {},
   "outputs": [
    {
     "data": {
      "text/html": [
       "<div>\n",
       "<style scoped>\n",
       "    .dataframe tbody tr th:only-of-type {\n",
       "        vertical-align: middle;\n",
       "    }\n",
       "\n",
       "    .dataframe tbody tr th {\n",
       "        vertical-align: top;\n",
       "    }\n",
       "\n",
       "    .dataframe thead th {\n",
       "        text-align: right;\n",
       "    }\n",
       "</style>\n",
       "<table border=\"1\" class=\"dataframe\">\n",
       "  <thead>\n",
       "    <tr style=\"text-align: right;\">\n",
       "      <th></th>\n",
       "      <th>is_preg</th>\n",
       "      <th>Glucose</th>\n",
       "      <th>BMI</th>\n",
       "      <th>AgeGroup</th>\n",
       "      <th>Outcome</th>\n",
       "    </tr>\n",
       "  </thead>\n",
       "  <tbody>\n",
       "    <tr>\n",
       "      <th>247</th>\n",
       "      <td>0</td>\n",
       "      <td>165</td>\n",
       "      <td>52.3</td>\n",
       "      <td>20.0</td>\n",
       "      <td>0</td>\n",
       "    </tr>\n",
       "    <tr>\n",
       "      <th>659</th>\n",
       "      <td>1</td>\n",
       "      <td>80</td>\n",
       "      <td>34.2</td>\n",
       "      <td>30.0</td>\n",
       "      <td>1</td>\n",
       "    </tr>\n",
       "    <tr>\n",
       "      <th>156</th>\n",
       "      <td>1</td>\n",
       "      <td>99</td>\n",
       "      <td>24.6</td>\n",
       "      <td>20.0</td>\n",
       "      <td>0</td>\n",
       "    </tr>\n",
       "    <tr>\n",
       "      <th>254</th>\n",
       "      <td>1</td>\n",
       "      <td>92</td>\n",
       "      <td>27.6</td>\n",
       "      <td>40.0</td>\n",
       "      <td>1</td>\n",
       "    </tr>\n",
       "    <tr>\n",
       "      <th>62</th>\n",
       "      <td>1</td>\n",
       "      <td>44</td>\n",
       "      <td>25.0</td>\n",
       "      <td>40.0</td>\n",
       "      <td>0</td>\n",
       "    </tr>\n",
       "  </tbody>\n",
       "</table>\n",
       "</div>"
      ],
      "text/plain": [
       "     is_preg  Glucose   BMI  AgeGroup  Outcome\n",
       "247        0      165  52.3      20.0        0\n",
       "659        1       80  34.2      30.0        1\n",
       "156        1       99  24.6      20.0        0\n",
       "254        1       92  27.6      40.0        1\n",
       "62         1       44  25.0      40.0        0"
      ]
     },
     "execution_count": 160,
     "metadata": {},
     "output_type": "execute_result"
    }
   ],
   "source": [
    "df_train.head()"
   ]
  },
  {
   "cell_type": "code",
   "execution_count": 161,
   "id": "645a9792",
   "metadata": {},
   "outputs": [
    {
     "data": {
      "text/plain": [
       "Index(['is_preg', 'Glucose', 'BMI', 'AgeGroup', 'Outcome'], dtype='object')"
      ]
     },
     "execution_count": 161,
     "metadata": {},
     "output_type": "execute_result"
    }
   ],
   "source": [
    "df_train.columns"
   ]
  },
  {
   "cell_type": "code",
   "execution_count": 162,
   "id": "41760d7b",
   "metadata": {},
   "outputs": [],
   "source": [
    "model_0 = GaussianNB().fit(X=df_train.iloc[:,:-1],\n",
    "                          y=df_train.iloc[:,-1])"
   ]
  },
  {
   "cell_type": "code",
   "execution_count": 163,
   "id": "a04fb1a0",
   "metadata": {},
   "outputs": [],
   "source": [
    "pred = model_0.predict_proba(X=df_test.iloc[:,:-1])"
   ]
  },
  {
   "cell_type": "code",
   "execution_count": 164,
   "id": "335abd0e",
   "metadata": {},
   "outputs": [
    {
     "data": {
      "text/plain": [
       "array([0.89683268, 0.31254336, 0.87750017, 0.38471645, 0.13177087,\n",
       "       0.61388716, 0.37933502, 0.1303047 , 0.88902373, 0.87501902,\n",
       "       0.18716311, 0.75905877, 0.950592  , 0.08076477, 0.32905324,\n",
       "       0.18389619, 0.59885149, 0.86406302, 0.23528631, 0.38604967,\n",
       "       0.12153802, 0.8863502 , 0.10817586, 0.96412641, 0.42502902,\n",
       "       0.77866585, 0.95067714, 0.13714582, 0.21889438, 0.14708039,\n",
       "       0.49945754, 0.29797589, 0.08326372, 0.31235404, 0.91073853,\n",
       "       0.03207095, 0.79682486, 0.02028448, 0.0456932 , 0.05781101,\n",
       "       0.11625259, 0.58356221, 0.35365203, 0.76669464, 0.12767267,\n",
       "       0.33418964, 0.19837572, 0.6159499 , 0.04933713, 0.11895248,\n",
       "       0.0449484 , 0.83609993, 0.53377349, 0.87525843, 0.15496385,\n",
       "       0.3378817 , 0.49247167, 0.24738879, 0.34899159, 0.3965254 ,\n",
       "       0.50201919, 0.42726896, 0.08661423, 0.61406614, 0.09334367,\n",
       "       0.22001098, 0.2552853 , 0.12618268, 0.11362983, 0.32720565,\n",
       "       0.68232831, 0.64831774, 0.27925995, 0.1975331 , 0.95210461,\n",
       "       0.09913283, 0.43619359, 0.39515879, 0.84921399, 0.56448494,\n",
       "       0.15653562, 0.11943982, 0.05090377, 0.20059392, 0.22266655,\n",
       "       0.11167943, 0.33886155, 0.11778578, 0.51020901, 0.13699925,\n",
       "       0.05336607, 0.0961453 , 0.59310233, 0.04920759, 0.01978266,\n",
       "       0.87550147, 0.7604705 , 0.56148773, 0.30877103, 0.50784158,\n",
       "       0.22337405, 0.05490346, 0.46137163, 0.19322229, 0.79301329,\n",
       "       0.12643017, 0.21791521, 0.2177673 , 0.17833291, 0.6009804 ,\n",
       "       0.35758761, 0.40525289, 0.14177583, 0.07739585, 0.02510017,\n",
       "       0.14569617, 0.2282164 , 0.92870672, 0.11896102, 0.1636088 ,\n",
       "       0.05091517, 0.91957569, 0.07953328, 0.2212435 , 0.58421502,\n",
       "       0.57611754, 0.27299557, 0.17700673, 0.04512119, 0.7519563 ,\n",
       "       0.06461705, 0.23627954, 0.29965517, 0.63012881, 0.04661766,\n",
       "       0.86135163, 0.33715876, 0.60467973, 0.12743988, 0.71261949,\n",
       "       0.98053478, 0.47645324, 0.07264473, 0.08449628, 0.1876621 ,\n",
       "       0.0997211 , 0.35536702, 0.82189856, 0.20666911, 0.17249573,\n",
       "       0.23282971, 0.1586236 ])"
      ]
     },
     "execution_count": 164,
     "metadata": {},
     "output_type": "execute_result"
    }
   ],
   "source": [
    "pred[:, 1]"
   ]
  },
  {
   "cell_type": "code",
   "execution_count": 165,
   "id": "d0be4e1b",
   "metadata": {},
   "outputs": [],
   "source": [
    "pred = (pred[:, 1] > 0.5) + 0"
   ]
  },
  {
   "cell_type": "code",
   "execution_count": 166,
   "id": "f35f2640",
   "metadata": {},
   "outputs": [
    {
     "data": {
      "text/plain": [
       "715    1\n",
       "350    0\n",
       "612    1\n",
       "623    0\n",
       "169    0\n",
       "      ..\n",
       "215    1\n",
       "251    0\n",
       "613    0\n",
       "567    0\n",
       "616    0\n",
       "Name: Outcome, Length: 152, dtype: int64"
      ]
     },
     "execution_count": 166,
     "metadata": {},
     "output_type": "execute_result"
    }
   ],
   "source": [
    "df_test.iloc[:,-1]"
   ]
  },
  {
   "cell_type": "code",
   "execution_count": 167,
   "id": "36ec6eb3",
   "metadata": {},
   "outputs": [
    {
     "data": {
      "text/plain": [
       "0.8092105263157895"
      ]
     },
     "execution_count": 167,
     "metadata": {},
     "output_type": "execute_result"
    }
   ],
   "source": [
    "accuracy_score(y_true=df_test.iloc[:,-1], y_pred=pred)"
   ]
  },
  {
   "cell_type": "code",
   "execution_count": 168,
   "id": "34e37b70",
   "metadata": {},
   "outputs": [],
   "source": [
    "model_1 = LogisticRegression().fit(X=df_train.iloc[:,:-1],\n",
    "                          y=df_train.iloc[:,-1])"
   ]
  },
  {
   "cell_type": "code",
   "execution_count": 169,
   "id": "3ab7d771",
   "metadata": {},
   "outputs": [],
   "source": [
    "pred = model_1.predict_proba(X=df_test.iloc[:,:-1])"
   ]
  },
  {
   "cell_type": "code",
   "execution_count": 170,
   "id": "c5b5f93e",
   "metadata": {},
   "outputs": [],
   "source": [
    "pred = (pred[:, 1] > 0.5) + 0"
   ]
  },
  {
   "cell_type": "code",
   "execution_count": 171,
   "id": "a894d15a",
   "metadata": {},
   "outputs": [
    {
     "data": {
      "text/plain": [
       "0.8157894736842105"
      ]
     },
     "execution_count": 171,
     "metadata": {},
     "output_type": "execute_result"
    }
   ],
   "source": [
    "accuracy_score(y_true=df_test.iloc[:,-1], y_pred=pred)"
   ]
  },
  {
   "cell_type": "code",
   "execution_count": null,
   "id": "deb8299c",
   "metadata": {},
   "outputs": [],
   "source": [
    "#결과가 차이가 나는 이유는 결국 train, test 구분 전에 먼저 걸러서 그런가?"
   ]
  }
 ],
 "metadata": {
  "kernelspec": {
   "display_name": "Python 3 (ipykernel)",
   "language": "python",
   "name": "python3"
  },
  "language_info": {
   "codemirror_mode": {
    "name": "ipython",
    "version": 3
   },
   "file_extension": ".py",
   "mimetype": "text/x-python",
   "name": "python",
   "nbconvert_exporter": "python",
   "pygments_lexer": "ipython3",
   "version": "3.10.8"
  }
 },
 "nbformat": 4,
 "nbformat_minor": 5
}
