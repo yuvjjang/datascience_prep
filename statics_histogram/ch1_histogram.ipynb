{
 "cells": [
  {
   "cell_type": "code",
   "execution_count": 1,
   "metadata": {},
   "outputs": [],
   "source": [
    "import pandas as pd"
   ]
  },
  {
   "cell_type": "code",
   "execution_count": 2,
   "metadata": {},
   "outputs": [],
   "source": [
    "kosdaq = pd.read_csv(\"kosdaq_day_17011046.csv\")"
   ]
  },
  {
   "cell_type": "code",
   "execution_count": 22,
   "metadata": {},
   "outputs": [],
   "source": [
    "nasdaq = pd.read_csv(\"nasdaq.csv\")"
   ]
  },
  {
   "cell_type": "code",
   "execution_count": 23,
   "metadata": {},
   "outputs": [
    {
     "data": {
      "text/html": [
       "<div>\n",
       "<style scoped>\n",
       "    .dataframe tbody tr th:only-of-type {\n",
       "        vertical-align: middle;\n",
       "    }\n",
       "\n",
       "    .dataframe tbody tr th {\n",
       "        vertical-align: top;\n",
       "    }\n",
       "\n",
       "    .dataframe thead th {\n",
       "        text-align: right;\n",
       "    }\n",
       "</style>\n",
       "<table border=\"1\" class=\"dataframe\">\n",
       "  <thead>\n",
       "    <tr style=\"text-align: right;\">\n",
       "      <th></th>\n",
       "      <th>통계표</th>\n",
       "      <th>계정항목</th>\n",
       "      <th>단위</th>\n",
       "      <th>변환</th>\n",
       "      <th>2022/02/17</th>\n",
       "      <th>2022/02/18</th>\n",
       "      <th>2022/02/21</th>\n",
       "      <th>2022/02/22</th>\n",
       "      <th>2022/02/23</th>\n",
       "      <th>2022/02/24</th>\n",
       "      <th>...</th>\n",
       "      <th>2023/02/03</th>\n",
       "      <th>2023/02/06</th>\n",
       "      <th>2023/02/07</th>\n",
       "      <th>2023/02/08</th>\n",
       "      <th>2023/02/09</th>\n",
       "      <th>2023/02/10</th>\n",
       "      <th>2023/02/13</th>\n",
       "      <th>2023/02/14</th>\n",
       "      <th>2023/02/15</th>\n",
       "      <th>2023/02/16</th>\n",
       "    </tr>\n",
       "  </thead>\n",
       "  <tbody>\n",
       "    <tr>\n",
       "      <td>0</td>\n",
       "      <td>1.5.1.1. 주식시장(일)</td>\n",
       "      <td>KOSDAQ지수</td>\n",
       "      <td>1996.07.01=1000</td>\n",
       "      <td>원자료</td>\n",
       "      <td>874.22</td>\n",
       "      <td>881.71</td>\n",
       "      <td>884.25</td>\n",
       "      <td>868.11</td>\n",
       "      <td>877.33</td>\n",
       "      <td>848.21</td>\n",
       "      <td>...</td>\n",
       "      <td>766.79</td>\n",
       "      <td>761.33</td>\n",
       "      <td>772.79</td>\n",
       "      <td>779.98</td>\n",
       "      <td>784.58</td>\n",
       "      <td>772.44</td>\n",
       "      <td>772.55</td>\n",
       "      <td>779.58</td>\n",
       "      <td>765.46</td>\n",
       "      <td>784.71</td>\n",
       "    </tr>\n",
       "  </tbody>\n",
       "</table>\n",
       "<p>1 rows × 253 columns</p>\n",
       "</div>"
      ],
      "text/plain": [
       "                통계표      계정항목               단위   변환  2022/02/17  2022/02/18  \\\n",
       "0  1.5.1.1. 주식시장(일)  KOSDAQ지수  1996.07.01=1000  원자료      874.22      881.71   \n",
       "\n",
       "   2022/02/21  2022/02/22  2022/02/23  2022/02/24  ...  2023/02/03  \\\n",
       "0      884.25      868.11      877.33      848.21  ...      766.79   \n",
       "\n",
       "   2023/02/06  2023/02/07  2023/02/08  2023/02/09  2023/02/10  2023/02/13  \\\n",
       "0      761.33      772.79      779.98      784.58      772.44      772.55   \n",
       "\n",
       "   2023/02/14  2023/02/15  2023/02/16  \n",
       "0      779.58      765.46      784.71  \n",
       "\n",
       "[1 rows x 253 columns]"
      ]
     },
     "execution_count": 23,
     "metadata": {},
     "output_type": "execute_result"
    }
   ],
   "source": [
    "kosdaq.head()"
   ]
  },
  {
   "cell_type": "code",
   "execution_count": 26,
   "metadata": {},
   "outputs": [
    {
     "data": {
      "text/html": [
       "<div>\n",
       "<style scoped>\n",
       "    .dataframe tbody tr th:only-of-type {\n",
       "        vertical-align: middle;\n",
       "    }\n",
       "\n",
       "    .dataframe tbody tr th {\n",
       "        vertical-align: top;\n",
       "    }\n",
       "\n",
       "    .dataframe thead th {\n",
       "        text-align: right;\n",
       "    }\n",
       "</style>\n",
       "<table border=\"1\" class=\"dataframe\">\n",
       "  <thead>\n",
       "    <tr style=\"text-align: right;\">\n",
       "      <th></th>\n",
       "      <th>Date</th>\n",
       "      <th>Open</th>\n",
       "      <th>High</th>\n",
       "      <th>Low</th>\n",
       "      <th>Close</th>\n",
       "      <th>Adj Close</th>\n",
       "      <th>Volume</th>\n",
       "    </tr>\n",
       "  </thead>\n",
       "  <tbody>\n",
       "    <tr>\n",
       "      <td>0</td>\n",
       "      <td>2022-02-17</td>\n",
       "      <td>14004.190430</td>\n",
       "      <td>14020.820313</td>\n",
       "      <td>13704.700195</td>\n",
       "      <td>13716.719727</td>\n",
       "      <td>13716.719727</td>\n",
       "      <td>4278370000</td>\n",
       "    </tr>\n",
       "    <tr>\n",
       "      <td>1</td>\n",
       "      <td>2022-02-18</td>\n",
       "      <td>13735.400391</td>\n",
       "      <td>13762.400391</td>\n",
       "      <td>13465.559570</td>\n",
       "      <td>13548.070313</td>\n",
       "      <td>13548.070313</td>\n",
       "      <td>4501940000</td>\n",
       "    </tr>\n",
       "    <tr>\n",
       "      <td>2</td>\n",
       "      <td>2022-02-22</td>\n",
       "      <td>13424.360352</td>\n",
       "      <td>13618.719727</td>\n",
       "      <td>13249.650391</td>\n",
       "      <td>13381.519531</td>\n",
       "      <td>13381.519531</td>\n",
       "      <td>4849170000</td>\n",
       "    </tr>\n",
       "    <tr>\n",
       "      <td>3</td>\n",
       "      <td>2022-02-23</td>\n",
       "      <td>13511.750000</td>\n",
       "      <td>13533.780273</td>\n",
       "      <td>13032.169922</td>\n",
       "      <td>13037.490234</td>\n",
       "      <td>13037.490234</td>\n",
       "      <td>4639330000</td>\n",
       "    </tr>\n",
       "    <tr>\n",
       "      <td>4</td>\n",
       "      <td>2022-02-24</td>\n",
       "      <td>12587.879883</td>\n",
       "      <td>13486.110352</td>\n",
       "      <td>12587.879883</td>\n",
       "      <td>13473.589844</td>\n",
       "      <td>13473.589844</td>\n",
       "      <td>6180200000</td>\n",
       "    </tr>\n",
       "  </tbody>\n",
       "</table>\n",
       "</div>"
      ],
      "text/plain": [
       "         Date          Open          High           Low         Close  \\\n",
       "0  2022-02-17  14004.190430  14020.820313  13704.700195  13716.719727   \n",
       "1  2022-02-18  13735.400391  13762.400391  13465.559570  13548.070313   \n",
       "2  2022-02-22  13424.360352  13618.719727  13249.650391  13381.519531   \n",
       "3  2022-02-23  13511.750000  13533.780273  13032.169922  13037.490234   \n",
       "4  2022-02-24  12587.879883  13486.110352  12587.879883  13473.589844   \n",
       "\n",
       "      Adj Close      Volume  \n",
       "0  13716.719727  4278370000  \n",
       "1  13548.070313  4501940000  \n",
       "2  13381.519531  4849170000  \n",
       "3  13037.490234  4639330000  \n",
       "4  13473.589844  6180200000  "
      ]
     },
     "execution_count": 26,
     "metadata": {},
     "output_type": "execute_result"
    }
   ],
   "source": [
    "nasdaq.head()"
   ]
  },
  {
   "cell_type": "code",
   "execution_count": 7,
   "metadata": {},
   "outputs": [
    {
     "data": {
      "text/html": [
       "<div>\n",
       "<style scoped>\n",
       "    .dataframe tbody tr th:only-of-type {\n",
       "        vertical-align: middle;\n",
       "    }\n",
       "\n",
       "    .dataframe tbody tr th {\n",
       "        vertical-align: top;\n",
       "    }\n",
       "\n",
       "    .dataframe thead th {\n",
       "        text-align: right;\n",
       "    }\n",
       "</style>\n",
       "<table border=\"1\" class=\"dataframe\">\n",
       "  <thead>\n",
       "    <tr style=\"text-align: right;\">\n",
       "      <th></th>\n",
       "      <th>variable</th>\n",
       "      <th>value</th>\n",
       "    </tr>\n",
       "  </thead>\n",
       "  <tbody>\n",
       "    <tr>\n",
       "      <td>0</td>\n",
       "      <td>통계표</td>\n",
       "      <td>1.5.1.1. 주식시장(일)</td>\n",
       "    </tr>\n",
       "    <tr>\n",
       "      <td>1</td>\n",
       "      <td>계정항목</td>\n",
       "      <td>KOSDAQ지수</td>\n",
       "    </tr>\n",
       "    <tr>\n",
       "      <td>2</td>\n",
       "      <td>단위</td>\n",
       "      <td>1996.07.01=1000</td>\n",
       "    </tr>\n",
       "    <tr>\n",
       "      <td>3</td>\n",
       "      <td>변환</td>\n",
       "      <td>원자료</td>\n",
       "    </tr>\n",
       "    <tr>\n",
       "      <td>4</td>\n",
       "      <td>2022/02/17</td>\n",
       "      <td>874.22</td>\n",
       "    </tr>\n",
       "    <tr>\n",
       "      <td>...</td>\n",
       "      <td>...</td>\n",
       "      <td>...</td>\n",
       "    </tr>\n",
       "    <tr>\n",
       "      <td>248</td>\n",
       "      <td>2023/02/10</td>\n",
       "      <td>772.44</td>\n",
       "    </tr>\n",
       "    <tr>\n",
       "      <td>249</td>\n",
       "      <td>2023/02/13</td>\n",
       "      <td>772.55</td>\n",
       "    </tr>\n",
       "    <tr>\n",
       "      <td>250</td>\n",
       "      <td>2023/02/14</td>\n",
       "      <td>779.58</td>\n",
       "    </tr>\n",
       "    <tr>\n",
       "      <td>251</td>\n",
       "      <td>2023/02/15</td>\n",
       "      <td>765.46</td>\n",
       "    </tr>\n",
       "    <tr>\n",
       "      <td>252</td>\n",
       "      <td>2023/02/16</td>\n",
       "      <td>784.71</td>\n",
       "    </tr>\n",
       "  </tbody>\n",
       "</table>\n",
       "<p>253 rows × 2 columns</p>\n",
       "</div>"
      ],
      "text/plain": [
       "       variable             value\n",
       "0           통계표  1.5.1.1. 주식시장(일)\n",
       "1          계정항목          KOSDAQ지수\n",
       "2            단위   1996.07.01=1000\n",
       "3            변환               원자료\n",
       "4    2022/02/17            874.22\n",
       "..          ...               ...\n",
       "248  2023/02/10            772.44\n",
       "249  2023/02/13            772.55\n",
       "250  2023/02/14            779.58\n",
       "251  2023/02/15            765.46\n",
       "252  2023/02/16            784.71\n",
       "\n",
       "[253 rows x 2 columns]"
      ]
     },
     "execution_count": 7,
     "metadata": {},
     "output_type": "execute_result"
    }
   ],
   "source": [
    "kosdaq.melt()"
   ]
  },
  {
   "cell_type": "code",
   "execution_count": 13,
   "metadata": {},
   "outputs": [
    {
     "data": {
      "text/plain": [
       "str"
      ]
     },
     "execution_count": 13,
     "metadata": {},
     "output_type": "execute_result"
    }
   ],
   "source": [
    "type(kosdaq.melt().iloc[5,0])"
   ]
  },
  {
   "cell_type": "code",
   "execution_count": 12,
   "metadata": {},
   "outputs": [
    {
     "data": {
      "text/plain": [
       "'2022/02/18'"
      ]
     },
     "execution_count": 12,
     "metadata": {},
     "output_type": "execute_result"
    }
   ],
   "source": [
    "kosdaq.melt().iloc[5,0]"
   ]
  },
  {
   "cell_type": "code",
   "execution_count": 14,
   "metadata": {},
   "outputs": [],
   "source": [
    "import datetime as dt"
   ]
  },
  {
   "cell_type": "code",
   "execution_count": 35,
   "metadata": {},
   "outputs": [],
   "source": [
    "kosdaq_sub = kosdaq.melt().iloc[4:,:]"
   ]
  },
  {
   "cell_type": "code",
   "execution_count": 43,
   "metadata": {},
   "outputs": [],
   "source": [
    "kosdaq_sub = kosdaq_sub.rename(columns={\"variable\":\"Date\", \"value\":\"Price\"}).reset_index(drop=True)"
   ]
  },
  {
   "cell_type": "code",
   "execution_count": 28,
   "metadata": {},
   "outputs": [
    {
     "data": {
      "text/plain": [
       "0      0\n",
       "1      0\n",
       "2      0\n",
       "3      0\n",
       "4      0\n",
       "      ..\n",
       "245    0\n",
       "246    0\n",
       "247    0\n",
       "248    0\n",
       "249    0\n",
       "Name: Date, Length: 250, dtype: int64"
      ]
     },
     "execution_count": 28,
     "metadata": {},
     "output_type": "execute_result"
    }
   ],
   "source": [
    "pd.to_datetime(nasdaq[\"Date\"]).dt.hour"
   ]
  },
  {
   "cell_type": "code",
   "execution_count": 39,
   "metadata": {},
   "outputs": [],
   "source": [
    "nasdaq_sub = nasdaq.loc[:,[\"Date\",\"Close\"]]"
   ]
  },
  {
   "cell_type": "code",
   "execution_count": 44,
   "metadata": {},
   "outputs": [],
   "source": [
    "nasdaq_sub = nasdaq_sub.rename(columns={\"Close\":\"Price\"})"
   ]
  },
  {
   "cell_type": "code",
   "execution_count": 45,
   "metadata": {},
   "outputs": [
    {
     "data": {
      "text/html": [
       "<div>\n",
       "<style scoped>\n",
       "    .dataframe tbody tr th:only-of-type {\n",
       "        vertical-align: middle;\n",
       "    }\n",
       "\n",
       "    .dataframe tbody tr th {\n",
       "        vertical-align: top;\n",
       "    }\n",
       "\n",
       "    .dataframe thead th {\n",
       "        text-align: right;\n",
       "    }\n",
       "</style>\n",
       "<table border=\"1\" class=\"dataframe\">\n",
       "  <thead>\n",
       "    <tr style=\"text-align: right;\">\n",
       "      <th></th>\n",
       "      <th>Date</th>\n",
       "      <th>Price</th>\n",
       "    </tr>\n",
       "  </thead>\n",
       "  <tbody>\n",
       "    <tr>\n",
       "      <td>0</td>\n",
       "      <td>2022-02-17</td>\n",
       "      <td>13716.719727</td>\n",
       "    </tr>\n",
       "    <tr>\n",
       "      <td>1</td>\n",
       "      <td>2022-02-18</td>\n",
       "      <td>13548.070313</td>\n",
       "    </tr>\n",
       "    <tr>\n",
       "      <td>2</td>\n",
       "      <td>2022-02-22</td>\n",
       "      <td>13381.519531</td>\n",
       "    </tr>\n",
       "    <tr>\n",
       "      <td>3</td>\n",
       "      <td>2022-02-23</td>\n",
       "      <td>13037.490234</td>\n",
       "    </tr>\n",
       "    <tr>\n",
       "      <td>4</td>\n",
       "      <td>2022-02-24</td>\n",
       "      <td>13473.589844</td>\n",
       "    </tr>\n",
       "    <tr>\n",
       "      <td>...</td>\n",
       "      <td>...</td>\n",
       "      <td>...</td>\n",
       "    </tr>\n",
       "    <tr>\n",
       "      <td>245</td>\n",
       "      <td>2023-02-09</td>\n",
       "      <td>11789.580078</td>\n",
       "    </tr>\n",
       "    <tr>\n",
       "      <td>246</td>\n",
       "      <td>2023-02-10</td>\n",
       "      <td>11718.120117</td>\n",
       "    </tr>\n",
       "    <tr>\n",
       "      <td>247</td>\n",
       "      <td>2023-02-13</td>\n",
       "      <td>11891.790039</td>\n",
       "    </tr>\n",
       "    <tr>\n",
       "      <td>248</td>\n",
       "      <td>2023-02-14</td>\n",
       "      <td>11960.150391</td>\n",
       "    </tr>\n",
       "    <tr>\n",
       "      <td>249</td>\n",
       "      <td>2023-02-15</td>\n",
       "      <td>12070.589844</td>\n",
       "    </tr>\n",
       "  </tbody>\n",
       "</table>\n",
       "<p>250 rows × 2 columns</p>\n",
       "</div>"
      ],
      "text/plain": [
       "           Date         Price\n",
       "0    2022-02-17  13716.719727\n",
       "1    2022-02-18  13548.070313\n",
       "2    2022-02-22  13381.519531\n",
       "3    2022-02-23  13037.490234\n",
       "4    2022-02-24  13473.589844\n",
       "..          ...           ...\n",
       "245  2023-02-09  11789.580078\n",
       "246  2023-02-10  11718.120117\n",
       "247  2023-02-13  11891.790039\n",
       "248  2023-02-14  11960.150391\n",
       "249  2023-02-15  12070.589844\n",
       "\n",
       "[250 rows x 2 columns]"
      ]
     },
     "execution_count": 45,
     "metadata": {},
     "output_type": "execute_result"
    }
   ],
   "source": [
    "nasdaq_sub"
   ]
  },
  {
   "cell_type": "code",
   "execution_count": null,
   "metadata": {},
   "outputs": [],
   "source": []
  }
 ],
 "metadata": {
  "kernelspec": {
   "display_name": "Python 3",
   "language": "python",
   "name": "python3"
  },
  "language_info": {
   "codemirror_mode": {
    "name": "ipython",
    "version": 3
   },
   "file_extension": ".py",
   "mimetype": "text/x-python",
   "name": "python",
   "nbconvert_exporter": "python",
   "pygments_lexer": "ipython3",
   "version": "3.7.4"
  }
 },
 "nbformat": 4,
 "nbformat_minor": 2
}
