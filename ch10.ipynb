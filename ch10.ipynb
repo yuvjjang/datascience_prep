{
 "cells": [
  {
   "cell_type": "code",
   "execution_count": 1,
   "id": "e8e050fe",
   "metadata": {},
   "outputs": [],
   "source": [
    "import pandas as pd"
   ]
  },
  {
   "cell_type": "code",
   "execution_count": 7,
   "id": "48a472fd",
   "metadata": {},
   "outputs": [],
   "source": [
    "import numpy as np\n",
    "import math"
   ]
  },
  {
   "cell_type": "code",
   "execution_count": 26,
   "id": "32fddfa1",
   "metadata": {},
   "outputs": [],
   "source": [
    "def euc_distance(input):\n",
    "    temp = pd.Series(input)\n",
    "    result = ((temp.pow(2)).sum())**(1/2)\n",
    "    return result"
   ]
  },
  {
   "cell_type": "code",
   "execution_count": 27,
   "id": "a11b7be2",
   "metadata": {},
   "outputs": [
    {
     "data": {
      "text/plain": [
       "22.693611435820433"
      ]
     },
     "execution_count": 27,
     "metadata": {},
     "output_type": "execute_result"
    }
   ],
   "source": [
    "euc_distance([3,5,9,20])"
   ]
  },
  {
   "cell_type": "code",
   "execution_count": 30,
   "id": "3a8153ea",
   "metadata": {},
   "outputs": [],
   "source": [
    "def standardization(input):\n",
    "    temp = pd.Series(input)\n",
    "    return (temp - temp.mean())/temp.std()"
   ]
  },
  {
   "cell_type": "code",
   "execution_count": 31,
   "id": "3ff70146",
   "metadata": {},
   "outputs": [
    {
     "data": {
      "text/plain": [
       "0   -1.437957\n",
       "1    0.130723\n",
       "2    0.479319\n",
       "3    0.827915\n",
       "dtype: float64"
      ]
     },
     "execution_count": 31,
     "metadata": {},
     "output_type": "execute_result"
    }
   ],
   "source": [
    "standardization([-4,5,7,9])"
   ]
  },
  {
   "cell_type": "code",
   "execution_count": 34,
   "id": "f8bc4437",
   "metadata": {},
   "outputs": [],
   "source": [
    "def min_max_standardization(input):\n",
    "    temp = pd.Series(input)\n",
    "    return (temp - temp.min())/(temp.max() - temp.min())"
   ]
  },
  {
   "cell_type": "code",
   "execution_count": 35,
   "id": "b147de76",
   "metadata": {},
   "outputs": [
    {
     "data": {
      "text/plain": [
       "0    0.000000\n",
       "1    0.692308\n",
       "2    0.846154\n",
       "3    1.000000\n",
       "dtype: float64"
      ]
     },
     "execution_count": 35,
     "metadata": {},
     "output_type": "execute_result"
    }
   ],
   "source": [
    "min_max_standardization([-4,5,7,9]) "
   ]
  },
  {
   "cell_type": "code",
   "execution_count": null,
   "id": "71532382",
   "metadata": {},
   "outputs": [],
   "source": []
  },
  {
   "cell_type": "code",
   "execution_count": null,
   "id": "99cbfee2",
   "metadata": {},
   "outputs": [],
   "source": []
  }
 ],
 "metadata": {
  "kernelspec": {
   "display_name": "Python 3 (ipykernel)",
   "language": "python",
   "name": "python3"
  },
  "language_info": {
   "codemirror_mode": {
    "name": "ipython",
    "version": 3
   },
   "file_extension": ".py",
   "mimetype": "text/x-python",
   "name": "python",
   "nbconvert_exporter": "python",
   "pygments_lexer": "ipython3",
   "version": "3.10.8"
  }
 },
 "nbformat": 4,
 "nbformat_minor": 5
}
