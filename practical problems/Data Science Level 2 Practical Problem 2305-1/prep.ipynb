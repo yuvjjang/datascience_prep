{
 "cells": [
  {
   "cell_type": "code",
   "execution_count": 1,
   "metadata": {},
   "outputs": [],
   "source": [
    "import pandas as pd"
   ]
  },
  {
   "cell_type": "code",
   "execution_count": 2,
   "metadata": {},
   "outputs": [],
   "source": [
    "df = pd.read_csv(\"lv2-2305-1.csv\")"
   ]
  },
  {
   "cell_type": "code",
   "execution_count": 3,
   "metadata": {},
   "outputs": [
    {
     "data": {
      "text/html": [
       "<div>\n",
       "<style scoped>\n",
       "    .dataframe tbody tr th:only-of-type {\n",
       "        vertical-align: middle;\n",
       "    }\n",
       "\n",
       "    .dataframe tbody tr th {\n",
       "        vertical-align: top;\n",
       "    }\n",
       "\n",
       "    .dataframe thead th {\n",
       "        text-align: right;\n",
       "    }\n",
       "</style>\n",
       "<table border=\"1\" class=\"dataframe\">\n",
       "  <thead>\n",
       "    <tr style=\"text-align: right;\">\n",
       "      <th></th>\n",
       "      <th>EMP_ID</th>\n",
       "      <th>NUM_LOGIN</th>\n",
       "      <th>NUM_CONTENTS</th>\n",
       "      <th>NUM_ACTION</th>\n",
       "      <th>TIME_LOGIN</th>\n",
       "      <th>TIME_TEST</th>\n",
       "      <th>NUM_REVISION</th>\n",
       "      <th>SCORE</th>\n",
       "    </tr>\n",
       "  </thead>\n",
       "  <tbody>\n",
       "    <tr>\n",
       "      <td>0</td>\n",
       "      <td>S0001</td>\n",
       "      <td>7</td>\n",
       "      <td>10</td>\n",
       "      <td>57</td>\n",
       "      <td>150</td>\n",
       "      <td>1.95</td>\n",
       "      <td>1</td>\n",
       "      <td>9.77</td>\n",
       "    </tr>\n",
       "    <tr>\n",
       "      <td>1</td>\n",
       "      <td>S0002</td>\n",
       "      <td>7</td>\n",
       "      <td>11</td>\n",
       "      <td>54</td>\n",
       "      <td>144</td>\n",
       "      <td>2.42</td>\n",
       "      <td>10</td>\n",
       "      <td>5.80</td>\n",
       "    </tr>\n",
       "    <tr>\n",
       "      <td>2</td>\n",
       "      <td>S0003</td>\n",
       "      <td>2</td>\n",
       "      <td>11</td>\n",
       "      <td>21</td>\n",
       "      <td>132</td>\n",
       "      <td>2.14</td>\n",
       "      <td>1</td>\n",
       "      <td>9.77</td>\n",
       "    </tr>\n",
       "    <tr>\n",
       "      <td>3</td>\n",
       "      <td>S0004</td>\n",
       "      <td>10</td>\n",
       "      <td>11</td>\n",
       "      <td>101</td>\n",
       "      <td>350</td>\n",
       "      <td>2.73</td>\n",
       "      <td>7</td>\n",
       "      <td>7.15</td>\n",
       "    </tr>\n",
       "    <tr>\n",
       "      <td>4</td>\n",
       "      <td>S0005</td>\n",
       "      <td>4</td>\n",
       "      <td>11</td>\n",
       "      <td>35</td>\n",
       "      <td>93</td>\n",
       "      <td>1.61</td>\n",
       "      <td>5</td>\n",
       "      <td>5.28</td>\n",
       "    </tr>\n",
       "  </tbody>\n",
       "</table>\n",
       "</div>"
      ],
      "text/plain": [
       "  EMP_ID  NUM_LOGIN  NUM_CONTENTS  NUM_ACTION  TIME_LOGIN  TIME_TEST  \\\n",
       "0  S0001          7            10          57         150       1.95   \n",
       "1  S0002          7            11          54         144       2.42   \n",
       "2  S0003          2            11          21         132       2.14   \n",
       "3  S0004         10            11         101         350       2.73   \n",
       "4  S0005          4            11          35          93       1.61   \n",
       "\n",
       "   NUM_REVISION  SCORE  \n",
       "0             1   9.77  \n",
       "1            10   5.80  \n",
       "2             1   9.77  \n",
       "3             7   7.15  \n",
       "4             5   5.28  "
      ]
     },
     "execution_count": 3,
     "metadata": {},
     "output_type": "execute_result"
    }
   ],
   "source": [
    "df.head()"
   ]
  },
  {
   "cell_type": "code",
   "execution_count": 5,
   "metadata": {},
   "outputs": [
    {
     "data": {
      "text/plain": [
       "EMP_ID          0\n",
       "NUM_LOGIN       0\n",
       "NUM_CONTENTS    0\n",
       "NUM_ACTION      0\n",
       "TIME_LOGIN      0\n",
       "TIME_TEST       0\n",
       "NUM_REVISION    0\n",
       "SCORE           0\n",
       "dtype: int64"
      ]
     },
     "execution_count": 5,
     "metadata": {},
     "output_type": "execute_result"
    }
   ],
   "source": [
    "df.isna().sum()"
   ]
  },
  {
   "cell_type": "code",
   "execution_count": 145,
   "metadata": {},
   "outputs": [],
   "source": [
    "# =======================================================================================================\n",
    "# 1\n",
    "# ======================================================================================================="
   ]
  },
  {
   "cell_type": "code",
   "execution_count": 6,
   "metadata": {},
   "outputs": [],
   "source": [
    "from sklearn.preprocessing import StandardScaler"
   ]
  },
  {
   "cell_type": "code",
   "execution_count": 7,
   "metadata": {},
   "outputs": [
    {
     "data": {
      "text/plain": [
       "Index(['EMP_ID', 'NUM_LOGIN', 'NUM_CONTENTS', 'NUM_ACTION', 'TIME_LOGIN',\n",
       "       'TIME_TEST', 'NUM_REVISION', 'SCORE'],\n",
       "      dtype='object')"
      ]
     },
     "execution_count": 7,
     "metadata": {},
     "output_type": "execute_result"
    }
   ],
   "source": [
    "df.columns"
   ]
  },
  {
   "cell_type": "code",
   "execution_count": 8,
   "metadata": {},
   "outputs": [],
   "source": [
    "colx = ['NUM_LOGIN', 'NUM_CONTENTS', 'NUM_ACTION', 'TIME_LOGIN']"
   ]
  },
  {
   "cell_type": "code",
   "execution_count": 9,
   "metadata": {},
   "outputs": [],
   "source": [
    "scaled_x=StandardScaler().fit_transform(df.loc[:,colx])"
   ]
  },
  {
   "cell_type": "code",
   "execution_count": 10,
   "metadata": {},
   "outputs": [
    {
     "data": {
      "text/plain": [
       "array([[-0.12630048, -0.1002278 , -0.38870684, -0.15270396],\n",
       "       [-0.12630048,  0.39719906, -0.44957951, -0.19211143],\n",
       "       [-0.99868522,  0.39719906, -1.11917891, -0.27092638],\n",
       "       ...,\n",
       "       [ 1.79294595,  0.39719906,  1.13310997,  0.06403714],\n",
       "       [-0.82420827,  0.39719906, -0.99743357, -0.86860638],\n",
       "       [-0.82420827,  0.39719906, -0.75394288, -0.80949518]])"
      ]
     },
     "execution_count": 10,
     "metadata": {},
     "output_type": "execute_result"
    }
   ],
   "source": [
    "scaled_x"
   ]
  },
  {
   "cell_type": "code",
   "execution_count": 11,
   "metadata": {},
   "outputs": [],
   "source": [
    "df_scaled = df.copy()"
   ]
  },
  {
   "cell_type": "code",
   "execution_count": 12,
   "metadata": {},
   "outputs": [
    {
     "data": {
      "text/html": [
       "<div>\n",
       "<style scoped>\n",
       "    .dataframe tbody tr th:only-of-type {\n",
       "        vertical-align: middle;\n",
       "    }\n",
       "\n",
       "    .dataframe tbody tr th {\n",
       "        vertical-align: top;\n",
       "    }\n",
       "\n",
       "    .dataframe thead th {\n",
       "        text-align: right;\n",
       "    }\n",
       "</style>\n",
       "<table border=\"1\" class=\"dataframe\">\n",
       "  <thead>\n",
       "    <tr style=\"text-align: right;\">\n",
       "      <th></th>\n",
       "      <th>EMP_ID</th>\n",
       "      <th>NUM_LOGIN</th>\n",
       "      <th>NUM_CONTENTS</th>\n",
       "      <th>NUM_ACTION</th>\n",
       "      <th>TIME_LOGIN</th>\n",
       "      <th>TIME_TEST</th>\n",
       "      <th>NUM_REVISION</th>\n",
       "      <th>SCORE</th>\n",
       "    </tr>\n",
       "  </thead>\n",
       "  <tbody>\n",
       "    <tr>\n",
       "      <td>0</td>\n",
       "      <td>S0001</td>\n",
       "      <td>7</td>\n",
       "      <td>10</td>\n",
       "      <td>57</td>\n",
       "      <td>150</td>\n",
       "      <td>1.95</td>\n",
       "      <td>1</td>\n",
       "      <td>9.77</td>\n",
       "    </tr>\n",
       "    <tr>\n",
       "      <td>1</td>\n",
       "      <td>S0002</td>\n",
       "      <td>7</td>\n",
       "      <td>11</td>\n",
       "      <td>54</td>\n",
       "      <td>144</td>\n",
       "      <td>2.42</td>\n",
       "      <td>10</td>\n",
       "      <td>5.80</td>\n",
       "    </tr>\n",
       "    <tr>\n",
       "      <td>2</td>\n",
       "      <td>S0003</td>\n",
       "      <td>2</td>\n",
       "      <td>11</td>\n",
       "      <td>21</td>\n",
       "      <td>132</td>\n",
       "      <td>2.14</td>\n",
       "      <td>1</td>\n",
       "      <td>9.77</td>\n",
       "    </tr>\n",
       "    <tr>\n",
       "      <td>3</td>\n",
       "      <td>S0004</td>\n",
       "      <td>10</td>\n",
       "      <td>11</td>\n",
       "      <td>101</td>\n",
       "      <td>350</td>\n",
       "      <td>2.73</td>\n",
       "      <td>7</td>\n",
       "      <td>7.15</td>\n",
       "    </tr>\n",
       "    <tr>\n",
       "      <td>4</td>\n",
       "      <td>S0005</td>\n",
       "      <td>4</td>\n",
       "      <td>11</td>\n",
       "      <td>35</td>\n",
       "      <td>93</td>\n",
       "      <td>1.61</td>\n",
       "      <td>5</td>\n",
       "      <td>5.28</td>\n",
       "    </tr>\n",
       "    <tr>\n",
       "      <td>...</td>\n",
       "      <td>...</td>\n",
       "      <td>...</td>\n",
       "      <td>...</td>\n",
       "      <td>...</td>\n",
       "      <td>...</td>\n",
       "      <td>...</td>\n",
       "      <td>...</td>\n",
       "      <td>...</td>\n",
       "    </tr>\n",
       "    <tr>\n",
       "      <td>263</td>\n",
       "      <td>S0264</td>\n",
       "      <td>9</td>\n",
       "      <td>10</td>\n",
       "      <td>96</td>\n",
       "      <td>193</td>\n",
       "      <td>2.14</td>\n",
       "      <td>17</td>\n",
       "      <td>5.75</td>\n",
       "    </tr>\n",
       "    <tr>\n",
       "      <td>264</td>\n",
       "      <td>S0265</td>\n",
       "      <td>6</td>\n",
       "      <td>11</td>\n",
       "      <td>52</td>\n",
       "      <td>60</td>\n",
       "      <td>2.08</td>\n",
       "      <td>8</td>\n",
       "      <td>5.09</td>\n",
       "    </tr>\n",
       "    <tr>\n",
       "      <td>265</td>\n",
       "      <td>S0266</td>\n",
       "      <td>18</td>\n",
       "      <td>11</td>\n",
       "      <td>132</td>\n",
       "      <td>183</td>\n",
       "      <td>2.42</td>\n",
       "      <td>20</td>\n",
       "      <td>5.94</td>\n",
       "    </tr>\n",
       "    <tr>\n",
       "      <td>266</td>\n",
       "      <td>S0267</td>\n",
       "      <td>3</td>\n",
       "      <td>11</td>\n",
       "      <td>27</td>\n",
       "      <td>41</td>\n",
       "      <td>2.18</td>\n",
       "      <td>3</td>\n",
       "      <td>5.14</td>\n",
       "    </tr>\n",
       "    <tr>\n",
       "      <td>267</td>\n",
       "      <td>S0268</td>\n",
       "      <td>3</td>\n",
       "      <td>11</td>\n",
       "      <td>39</td>\n",
       "      <td>50</td>\n",
       "      <td>1.73</td>\n",
       "      <td>7</td>\n",
       "      <td>4.78</td>\n",
       "    </tr>\n",
       "  </tbody>\n",
       "</table>\n",
       "<p>268 rows × 8 columns</p>\n",
       "</div>"
      ],
      "text/plain": [
       "    EMP_ID  NUM_LOGIN  NUM_CONTENTS  NUM_ACTION  TIME_LOGIN  TIME_TEST  \\\n",
       "0    S0001          7            10          57         150       1.95   \n",
       "1    S0002          7            11          54         144       2.42   \n",
       "2    S0003          2            11          21         132       2.14   \n",
       "3    S0004         10            11         101         350       2.73   \n",
       "4    S0005          4            11          35          93       1.61   \n",
       "..     ...        ...           ...         ...         ...        ...   \n",
       "263  S0264          9            10          96         193       2.14   \n",
       "264  S0265          6            11          52          60       2.08   \n",
       "265  S0266         18            11         132         183       2.42   \n",
       "266  S0267          3            11          27          41       2.18   \n",
       "267  S0268          3            11          39          50       1.73   \n",
       "\n",
       "     NUM_REVISION  SCORE  \n",
       "0               1   9.77  \n",
       "1              10   5.80  \n",
       "2               1   9.77  \n",
       "3               7   7.15  \n",
       "4               5   5.28  \n",
       "..            ...    ...  \n",
       "263            17   5.75  \n",
       "264             8   5.09  \n",
       "265            20   5.94  \n",
       "266             3   5.14  \n",
       "267             7   4.78  \n",
       "\n",
       "[268 rows x 8 columns]"
      ]
     },
     "execution_count": 12,
     "metadata": {},
     "output_type": "execute_result"
    }
   ],
   "source": [
    "df_scaled"
   ]
  },
  {
   "cell_type": "code",
   "execution_count": 20,
   "metadata": {},
   "outputs": [],
   "source": [
    "colx_S = [x+'_S' for x in colx]"
   ]
  },
  {
   "cell_type": "code",
   "execution_count": 18,
   "metadata": {},
   "outputs": [],
   "source": [
    "df_scaled = df_scaled.rename(columns=dict(zip(colx,colx_S)))"
   ]
  },
  {
   "cell_type": "code",
   "execution_count": 22,
   "metadata": {},
   "outputs": [],
   "source": [
    "df_scaled.loc[:,colx_S] = scaled_x"
   ]
  },
  {
   "cell_type": "code",
   "execution_count": 24,
   "metadata": {},
   "outputs": [
    {
     "data": {
      "text/plain": [
       "0     -0.767939\n",
       "1     -0.370792\n",
       "2     -1.991591\n",
       "3      2.459300\n",
       "4     -1.614714\n",
       "         ...   \n",
       "263    0.654780\n",
       "264   -1.137556\n",
       "265    3.387292\n",
       "266   -2.293049\n",
       "267   -1.990447\n",
       "Length: 268, dtype: float64"
      ]
     },
     "execution_count": 24,
     "metadata": {},
     "output_type": "execute_result"
    }
   ],
   "source": [
    "df_scaled.loc[:, colx_S].sum(axis=1)"
   ]
  },
  {
   "cell_type": "code",
   "execution_count": 25,
   "metadata": {},
   "outputs": [],
   "source": [
    "df_scaled[\"INVOLVEMENT\"]=df_scaled.loc[:, colx_S].sum(axis=1)"
   ]
  },
  {
   "cell_type": "code",
   "execution_count": 26,
   "metadata": {},
   "outputs": [
    {
     "data": {
      "text/html": [
       "<div>\n",
       "<style scoped>\n",
       "    .dataframe tbody tr th:only-of-type {\n",
       "        vertical-align: middle;\n",
       "    }\n",
       "\n",
       "    .dataframe tbody tr th {\n",
       "        vertical-align: top;\n",
       "    }\n",
       "\n",
       "    .dataframe thead th {\n",
       "        text-align: right;\n",
       "    }\n",
       "</style>\n",
       "<table border=\"1\" class=\"dataframe\">\n",
       "  <thead>\n",
       "    <tr style=\"text-align: right;\">\n",
       "      <th></th>\n",
       "      <th>EMP_ID</th>\n",
       "      <th>NUM_LOGIN_S</th>\n",
       "      <th>NUM_CONTENTS_S</th>\n",
       "      <th>NUM_ACTION_S</th>\n",
       "      <th>TIME_LOGIN_S</th>\n",
       "      <th>TIME_TEST</th>\n",
       "      <th>NUM_REVISION</th>\n",
       "      <th>SCORE</th>\n",
       "      <th>INVOLVEMENT</th>\n",
       "    </tr>\n",
       "  </thead>\n",
       "  <tbody>\n",
       "    <tr>\n",
       "      <td>0</td>\n",
       "      <td>S0001</td>\n",
       "      <td>-0.126300</td>\n",
       "      <td>-0.100228</td>\n",
       "      <td>-0.388707</td>\n",
       "      <td>-0.152704</td>\n",
       "      <td>1.95</td>\n",
       "      <td>1</td>\n",
       "      <td>9.77</td>\n",
       "      <td>-0.767939</td>\n",
       "    </tr>\n",
       "    <tr>\n",
       "      <td>1</td>\n",
       "      <td>S0002</td>\n",
       "      <td>-0.126300</td>\n",
       "      <td>0.397199</td>\n",
       "      <td>-0.449580</td>\n",
       "      <td>-0.192111</td>\n",
       "      <td>2.42</td>\n",
       "      <td>10</td>\n",
       "      <td>5.80</td>\n",
       "      <td>-0.370792</td>\n",
       "    </tr>\n",
       "    <tr>\n",
       "      <td>2</td>\n",
       "      <td>S0003</td>\n",
       "      <td>-0.998685</td>\n",
       "      <td>0.397199</td>\n",
       "      <td>-1.119179</td>\n",
       "      <td>-0.270926</td>\n",
       "      <td>2.14</td>\n",
       "      <td>1</td>\n",
       "      <td>9.77</td>\n",
       "      <td>-1.991591</td>\n",
       "    </tr>\n",
       "    <tr>\n",
       "      <td>3</td>\n",
       "      <td>S0004</td>\n",
       "      <td>0.397130</td>\n",
       "      <td>0.397199</td>\n",
       "      <td>0.504092</td>\n",
       "      <td>1.160878</td>\n",
       "      <td>2.73</td>\n",
       "      <td>7</td>\n",
       "      <td>7.15</td>\n",
       "      <td>2.459300</td>\n",
       "    </tr>\n",
       "    <tr>\n",
       "      <td>4</td>\n",
       "      <td>S0005</td>\n",
       "      <td>-0.649731</td>\n",
       "      <td>0.397199</td>\n",
       "      <td>-0.835106</td>\n",
       "      <td>-0.527075</td>\n",
       "      <td>1.61</td>\n",
       "      <td>5</td>\n",
       "      <td>5.28</td>\n",
       "      <td>-1.614714</td>\n",
       "    </tr>\n",
       "    <tr>\n",
       "      <td>...</td>\n",
       "      <td>...</td>\n",
       "      <td>...</td>\n",
       "      <td>...</td>\n",
       "      <td>...</td>\n",
       "      <td>...</td>\n",
       "      <td>...</td>\n",
       "      <td>...</td>\n",
       "      <td>...</td>\n",
       "      <td>...</td>\n",
       "    </tr>\n",
       "    <tr>\n",
       "      <td>263</td>\n",
       "      <td>S0264</td>\n",
       "      <td>0.222653</td>\n",
       "      <td>-0.100228</td>\n",
       "      <td>0.402638</td>\n",
       "      <td>0.129716</td>\n",
       "      <td>2.14</td>\n",
       "      <td>17</td>\n",
       "      <td>5.75</td>\n",
       "      <td>0.654780</td>\n",
       "    </tr>\n",
       "    <tr>\n",
       "      <td>264</td>\n",
       "      <td>S0265</td>\n",
       "      <td>-0.300777</td>\n",
       "      <td>0.397199</td>\n",
       "      <td>-0.490161</td>\n",
       "      <td>-0.743816</td>\n",
       "      <td>2.08</td>\n",
       "      <td>8</td>\n",
       "      <td>5.09</td>\n",
       "      <td>-1.137556</td>\n",
       "    </tr>\n",
       "    <tr>\n",
       "      <td>265</td>\n",
       "      <td>S0266</td>\n",
       "      <td>1.792946</td>\n",
       "      <td>0.397199</td>\n",
       "      <td>1.133110</td>\n",
       "      <td>0.064037</td>\n",
       "      <td>2.42</td>\n",
       "      <td>20</td>\n",
       "      <td>5.94</td>\n",
       "      <td>3.387292</td>\n",
       "    </tr>\n",
       "    <tr>\n",
       "      <td>266</td>\n",
       "      <td>S0267</td>\n",
       "      <td>-0.824208</td>\n",
       "      <td>0.397199</td>\n",
       "      <td>-0.997434</td>\n",
       "      <td>-0.868606</td>\n",
       "      <td>2.18</td>\n",
       "      <td>3</td>\n",
       "      <td>5.14</td>\n",
       "      <td>-2.293049</td>\n",
       "    </tr>\n",
       "    <tr>\n",
       "      <td>267</td>\n",
       "      <td>S0268</td>\n",
       "      <td>-0.824208</td>\n",
       "      <td>0.397199</td>\n",
       "      <td>-0.753943</td>\n",
       "      <td>-0.809495</td>\n",
       "      <td>1.73</td>\n",
       "      <td>7</td>\n",
       "      <td>4.78</td>\n",
       "      <td>-1.990447</td>\n",
       "    </tr>\n",
       "  </tbody>\n",
       "</table>\n",
       "<p>268 rows × 9 columns</p>\n",
       "</div>"
      ],
      "text/plain": [
       "    EMP_ID  NUM_LOGIN_S  NUM_CONTENTS_S  NUM_ACTION_S  TIME_LOGIN_S  \\\n",
       "0    S0001    -0.126300       -0.100228     -0.388707     -0.152704   \n",
       "1    S0002    -0.126300        0.397199     -0.449580     -0.192111   \n",
       "2    S0003    -0.998685        0.397199     -1.119179     -0.270926   \n",
       "3    S0004     0.397130        0.397199      0.504092      1.160878   \n",
       "4    S0005    -0.649731        0.397199     -0.835106     -0.527075   \n",
       "..     ...          ...             ...           ...           ...   \n",
       "263  S0264     0.222653       -0.100228      0.402638      0.129716   \n",
       "264  S0265    -0.300777        0.397199     -0.490161     -0.743816   \n",
       "265  S0266     1.792946        0.397199      1.133110      0.064037   \n",
       "266  S0267    -0.824208        0.397199     -0.997434     -0.868606   \n",
       "267  S0268    -0.824208        0.397199     -0.753943     -0.809495   \n",
       "\n",
       "     TIME_TEST  NUM_REVISION  SCORE  INVOLVEMENT  \n",
       "0         1.95             1   9.77    -0.767939  \n",
       "1         2.42            10   5.80    -0.370792  \n",
       "2         2.14             1   9.77    -1.991591  \n",
       "3         2.73             7   7.15     2.459300  \n",
       "4         1.61             5   5.28    -1.614714  \n",
       "..         ...           ...    ...          ...  \n",
       "263       2.14            17   5.75     0.654780  \n",
       "264       2.08             8   5.09    -1.137556  \n",
       "265       2.42            20   5.94     3.387292  \n",
       "266       2.18             3   5.14    -2.293049  \n",
       "267       1.73             7   4.78    -1.990447  \n",
       "\n",
       "[268 rows x 9 columns]"
      ]
     },
     "execution_count": 26,
     "metadata": {},
     "output_type": "execute_result"
    }
   ],
   "source": [
    "df_scaled"
   ]
  },
  {
   "cell_type": "code",
   "execution_count": 197,
   "metadata": {},
   "outputs": [],
   "source": [
    "prob_1 = df_scaled.loc[:, [\"SCORE\",\"INVOLVEMENT\"]].corr().round(3).iloc[0,1]"
   ]
  },
  {
   "cell_type": "code",
   "execution_count": 144,
   "metadata": {},
   "outputs": [],
   "source": [
    "# =======================================================================================================\n",
    "# 2\n",
    "# ======================================================================================================="
   ]
  },
  {
   "cell_type": "code",
   "execution_count": 32,
   "metadata": {},
   "outputs": [
    {
     "data": {
      "text/html": [
       "<div>\n",
       "<style scoped>\n",
       "    .dataframe tbody tr th:only-of-type {\n",
       "        vertical-align: middle;\n",
       "    }\n",
       "\n",
       "    .dataframe tbody tr th {\n",
       "        vertical-align: top;\n",
       "    }\n",
       "\n",
       "    .dataframe thead th {\n",
       "        text-align: right;\n",
       "    }\n",
       "</style>\n",
       "<table border=\"1\" class=\"dataframe\">\n",
       "  <thead>\n",
       "    <tr style=\"text-align: right;\">\n",
       "      <th></th>\n",
       "      <th>EMP_ID</th>\n",
       "      <th>NUM_LOGIN</th>\n",
       "      <th>NUM_CONTENTS</th>\n",
       "      <th>NUM_ACTION</th>\n",
       "      <th>TIME_LOGIN</th>\n",
       "      <th>TIME_TEST</th>\n",
       "      <th>NUM_REVISION</th>\n",
       "      <th>SCORE</th>\n",
       "    </tr>\n",
       "  </thead>\n",
       "  <tbody>\n",
       "    <tr>\n",
       "      <td>0</td>\n",
       "      <td>S0001</td>\n",
       "      <td>7</td>\n",
       "      <td>10</td>\n",
       "      <td>57</td>\n",
       "      <td>150</td>\n",
       "      <td>1.95</td>\n",
       "      <td>1</td>\n",
       "      <td>9.77</td>\n",
       "    </tr>\n",
       "    <tr>\n",
       "      <td>1</td>\n",
       "      <td>S0002</td>\n",
       "      <td>7</td>\n",
       "      <td>11</td>\n",
       "      <td>54</td>\n",
       "      <td>144</td>\n",
       "      <td>2.42</td>\n",
       "      <td>10</td>\n",
       "      <td>5.80</td>\n",
       "    </tr>\n",
       "    <tr>\n",
       "      <td>2</td>\n",
       "      <td>S0003</td>\n",
       "      <td>2</td>\n",
       "      <td>11</td>\n",
       "      <td>21</td>\n",
       "      <td>132</td>\n",
       "      <td>2.14</td>\n",
       "      <td>1</td>\n",
       "      <td>9.77</td>\n",
       "    </tr>\n",
       "    <tr>\n",
       "      <td>3</td>\n",
       "      <td>S0004</td>\n",
       "      <td>10</td>\n",
       "      <td>11</td>\n",
       "      <td>101</td>\n",
       "      <td>350</td>\n",
       "      <td>2.73</td>\n",
       "      <td>7</td>\n",
       "      <td>7.15</td>\n",
       "    </tr>\n",
       "    <tr>\n",
       "      <td>4</td>\n",
       "      <td>S0005</td>\n",
       "      <td>4</td>\n",
       "      <td>11</td>\n",
       "      <td>35</td>\n",
       "      <td>93</td>\n",
       "      <td>1.61</td>\n",
       "      <td>5</td>\n",
       "      <td>5.28</td>\n",
       "    </tr>\n",
       "    <tr>\n",
       "      <td>...</td>\n",
       "      <td>...</td>\n",
       "      <td>...</td>\n",
       "      <td>...</td>\n",
       "      <td>...</td>\n",
       "      <td>...</td>\n",
       "      <td>...</td>\n",
       "      <td>...</td>\n",
       "      <td>...</td>\n",
       "    </tr>\n",
       "    <tr>\n",
       "      <td>263</td>\n",
       "      <td>S0264</td>\n",
       "      <td>9</td>\n",
       "      <td>10</td>\n",
       "      <td>96</td>\n",
       "      <td>193</td>\n",
       "      <td>2.14</td>\n",
       "      <td>17</td>\n",
       "      <td>5.75</td>\n",
       "    </tr>\n",
       "    <tr>\n",
       "      <td>264</td>\n",
       "      <td>S0265</td>\n",
       "      <td>6</td>\n",
       "      <td>11</td>\n",
       "      <td>52</td>\n",
       "      <td>60</td>\n",
       "      <td>2.08</td>\n",
       "      <td>8</td>\n",
       "      <td>5.09</td>\n",
       "    </tr>\n",
       "    <tr>\n",
       "      <td>265</td>\n",
       "      <td>S0266</td>\n",
       "      <td>18</td>\n",
       "      <td>11</td>\n",
       "      <td>132</td>\n",
       "      <td>183</td>\n",
       "      <td>2.42</td>\n",
       "      <td>20</td>\n",
       "      <td>5.94</td>\n",
       "    </tr>\n",
       "    <tr>\n",
       "      <td>266</td>\n",
       "      <td>S0267</td>\n",
       "      <td>3</td>\n",
       "      <td>11</td>\n",
       "      <td>27</td>\n",
       "      <td>41</td>\n",
       "      <td>2.18</td>\n",
       "      <td>3</td>\n",
       "      <td>5.14</td>\n",
       "    </tr>\n",
       "    <tr>\n",
       "      <td>267</td>\n",
       "      <td>S0268</td>\n",
       "      <td>3</td>\n",
       "      <td>11</td>\n",
       "      <td>39</td>\n",
       "      <td>50</td>\n",
       "      <td>1.73</td>\n",
       "      <td>7</td>\n",
       "      <td>4.78</td>\n",
       "    </tr>\n",
       "  </tbody>\n",
       "</table>\n",
       "<p>268 rows × 8 columns</p>\n",
       "</div>"
      ],
      "text/plain": [
       "    EMP_ID  NUM_LOGIN  NUM_CONTENTS  NUM_ACTION  TIME_LOGIN  TIME_TEST  \\\n",
       "0    S0001          7            10          57         150       1.95   \n",
       "1    S0002          7            11          54         144       2.42   \n",
       "2    S0003          2            11          21         132       2.14   \n",
       "3    S0004         10            11         101         350       2.73   \n",
       "4    S0005          4            11          35          93       1.61   \n",
       "..     ...        ...           ...         ...         ...        ...   \n",
       "263  S0264          9            10          96         193       2.14   \n",
       "264  S0265          6            11          52          60       2.08   \n",
       "265  S0266         18            11         132         183       2.42   \n",
       "266  S0267          3            11          27          41       2.18   \n",
       "267  S0268          3            11          39          50       1.73   \n",
       "\n",
       "     NUM_REVISION  SCORE  \n",
       "0               1   9.77  \n",
       "1              10   5.80  \n",
       "2               1   9.77  \n",
       "3               7   7.15  \n",
       "4               5   5.28  \n",
       "..            ...    ...  \n",
       "263            17   5.75  \n",
       "264             8   5.09  \n",
       "265            20   5.94  \n",
       "266             3   5.14  \n",
       "267             7   4.78  \n",
       "\n",
       "[268 rows x 8 columns]"
      ]
     },
     "execution_count": 32,
     "metadata": {},
     "output_type": "execute_result"
    }
   ],
   "source": [
    "df"
   ]
  },
  {
   "cell_type": "code",
   "execution_count": 33,
   "metadata": {},
   "outputs": [],
   "source": [
    "df_outlier = df.copy()"
   ]
  },
  {
   "cell_type": "code",
   "execution_count": 34,
   "metadata": {},
   "outputs": [
    {
     "data": {
      "text/html": [
       "<div>\n",
       "<style scoped>\n",
       "    .dataframe tbody tr th:only-of-type {\n",
       "        vertical-align: middle;\n",
       "    }\n",
       "\n",
       "    .dataframe tbody tr th {\n",
       "        vertical-align: top;\n",
       "    }\n",
       "\n",
       "    .dataframe thead th {\n",
       "        text-align: right;\n",
       "    }\n",
       "</style>\n",
       "<table border=\"1\" class=\"dataframe\">\n",
       "  <thead>\n",
       "    <tr style=\"text-align: right;\">\n",
       "      <th></th>\n",
       "      <th>EMP_ID</th>\n",
       "      <th>NUM_LOGIN</th>\n",
       "      <th>NUM_CONTENTS</th>\n",
       "      <th>NUM_ACTION</th>\n",
       "      <th>TIME_LOGIN</th>\n",
       "      <th>TIME_TEST</th>\n",
       "      <th>NUM_REVISION</th>\n",
       "      <th>SCORE</th>\n",
       "    </tr>\n",
       "  </thead>\n",
       "  <tbody>\n",
       "    <tr>\n",
       "      <td>0</td>\n",
       "      <td>S0001</td>\n",
       "      <td>7</td>\n",
       "      <td>10</td>\n",
       "      <td>57</td>\n",
       "      <td>150</td>\n",
       "      <td>1.95</td>\n",
       "      <td>1</td>\n",
       "      <td>9.77</td>\n",
       "    </tr>\n",
       "    <tr>\n",
       "      <td>1</td>\n",
       "      <td>S0002</td>\n",
       "      <td>7</td>\n",
       "      <td>11</td>\n",
       "      <td>54</td>\n",
       "      <td>144</td>\n",
       "      <td>2.42</td>\n",
       "      <td>10</td>\n",
       "      <td>5.80</td>\n",
       "    </tr>\n",
       "    <tr>\n",
       "      <td>2</td>\n",
       "      <td>S0003</td>\n",
       "      <td>2</td>\n",
       "      <td>11</td>\n",
       "      <td>21</td>\n",
       "      <td>132</td>\n",
       "      <td>2.14</td>\n",
       "      <td>1</td>\n",
       "      <td>9.77</td>\n",
       "    </tr>\n",
       "    <tr>\n",
       "      <td>3</td>\n",
       "      <td>S0004</td>\n",
       "      <td>10</td>\n",
       "      <td>11</td>\n",
       "      <td>101</td>\n",
       "      <td>350</td>\n",
       "      <td>2.73</td>\n",
       "      <td>7</td>\n",
       "      <td>7.15</td>\n",
       "    </tr>\n",
       "    <tr>\n",
       "      <td>4</td>\n",
       "      <td>S0005</td>\n",
       "      <td>4</td>\n",
       "      <td>11</td>\n",
       "      <td>35</td>\n",
       "      <td>93</td>\n",
       "      <td>1.61</td>\n",
       "      <td>5</td>\n",
       "      <td>5.28</td>\n",
       "    </tr>\n",
       "    <tr>\n",
       "      <td>...</td>\n",
       "      <td>...</td>\n",
       "      <td>...</td>\n",
       "      <td>...</td>\n",
       "      <td>...</td>\n",
       "      <td>...</td>\n",
       "      <td>...</td>\n",
       "      <td>...</td>\n",
       "      <td>...</td>\n",
       "    </tr>\n",
       "    <tr>\n",
       "      <td>263</td>\n",
       "      <td>S0264</td>\n",
       "      <td>9</td>\n",
       "      <td>10</td>\n",
       "      <td>96</td>\n",
       "      <td>193</td>\n",
       "      <td>2.14</td>\n",
       "      <td>17</td>\n",
       "      <td>5.75</td>\n",
       "    </tr>\n",
       "    <tr>\n",
       "      <td>264</td>\n",
       "      <td>S0265</td>\n",
       "      <td>6</td>\n",
       "      <td>11</td>\n",
       "      <td>52</td>\n",
       "      <td>60</td>\n",
       "      <td>2.08</td>\n",
       "      <td>8</td>\n",
       "      <td>5.09</td>\n",
       "    </tr>\n",
       "    <tr>\n",
       "      <td>265</td>\n",
       "      <td>S0266</td>\n",
       "      <td>18</td>\n",
       "      <td>11</td>\n",
       "      <td>132</td>\n",
       "      <td>183</td>\n",
       "      <td>2.42</td>\n",
       "      <td>20</td>\n",
       "      <td>5.94</td>\n",
       "    </tr>\n",
       "    <tr>\n",
       "      <td>266</td>\n",
       "      <td>S0267</td>\n",
       "      <td>3</td>\n",
       "      <td>11</td>\n",
       "      <td>27</td>\n",
       "      <td>41</td>\n",
       "      <td>2.18</td>\n",
       "      <td>3</td>\n",
       "      <td>5.14</td>\n",
       "    </tr>\n",
       "    <tr>\n",
       "      <td>267</td>\n",
       "      <td>S0268</td>\n",
       "      <td>3</td>\n",
       "      <td>11</td>\n",
       "      <td>39</td>\n",
       "      <td>50</td>\n",
       "      <td>1.73</td>\n",
       "      <td>7</td>\n",
       "      <td>4.78</td>\n",
       "    </tr>\n",
       "  </tbody>\n",
       "</table>\n",
       "<p>268 rows × 8 columns</p>\n",
       "</div>"
      ],
      "text/plain": [
       "    EMP_ID  NUM_LOGIN  NUM_CONTENTS  NUM_ACTION  TIME_LOGIN  TIME_TEST  \\\n",
       "0    S0001          7            10          57         150       1.95   \n",
       "1    S0002          7            11          54         144       2.42   \n",
       "2    S0003          2            11          21         132       2.14   \n",
       "3    S0004         10            11         101         350       2.73   \n",
       "4    S0005          4            11          35          93       1.61   \n",
       "..     ...        ...           ...         ...         ...        ...   \n",
       "263  S0264          9            10          96         193       2.14   \n",
       "264  S0265          6            11          52          60       2.08   \n",
       "265  S0266         18            11         132         183       2.42   \n",
       "266  S0267          3            11          27          41       2.18   \n",
       "267  S0268          3            11          39          50       1.73   \n",
       "\n",
       "     NUM_REVISION  SCORE  \n",
       "0               1   9.77  \n",
       "1              10   5.80  \n",
       "2               1   9.77  \n",
       "3               7   7.15  \n",
       "4               5   5.28  \n",
       "..            ...    ...  \n",
       "263            17   5.75  \n",
       "264             8   5.09  \n",
       "265            20   5.94  \n",
       "266             3   5.14  \n",
       "267             7   4.78  \n",
       "\n",
       "[268 rows x 8 columns]"
      ]
     },
     "execution_count": 34,
     "metadata": {},
     "output_type": "execute_result"
    }
   ],
   "source": [
    "df_outlier"
   ]
  },
  {
   "cell_type": "code",
   "execution_count": 54,
   "metadata": {},
   "outputs": [
    {
     "data": {
      "text/plain": [
       "7.6899999999999995"
      ]
     },
     "execution_count": 54,
     "metadata": {},
     "output_type": "execute_result"
    }
   ],
   "source": [
    "df_outlier.SCORE.quantile(q=0.75)"
   ]
  },
  {
   "cell_type": "code",
   "execution_count": 55,
   "metadata": {},
   "outputs": [
    {
     "data": {
      "text/plain": [
       "5.38"
      ]
     },
     "execution_count": 55,
     "metadata": {},
     "output_type": "execute_result"
    }
   ],
   "source": [
    "df_outlier.SCORE.quantile(q=0.25)"
   ]
  },
  {
   "cell_type": "code",
   "execution_count": 57,
   "metadata": {},
   "outputs": [],
   "source": [
    "IQR = df_outlier.SCORE.quantile(q=0.75) - df_outlier.SCORE.quantile(q=0.25)"
   ]
  },
  {
   "cell_type": "code",
   "execution_count": 58,
   "metadata": {},
   "outputs": [],
   "source": [
    "lower = df_outlier.SCORE.quantile(q=0.25)-1.5*IQR"
   ]
  },
  {
   "cell_type": "code",
   "execution_count": 59,
   "metadata": {},
   "outputs": [],
   "source": [
    "upper = df_outlier.SCORE.quantile(q=0.75)+1.5*IQR"
   ]
  },
  {
   "cell_type": "code",
   "execution_count": 60,
   "metadata": {},
   "outputs": [
    {
     "data": {
      "text/plain": [
       "1.9150000000000005"
      ]
     },
     "execution_count": 60,
     "metadata": {},
     "output_type": "execute_result"
    }
   ],
   "source": [
    "lower"
   ]
  },
  {
   "cell_type": "code",
   "execution_count": 61,
   "metadata": {},
   "outputs": [
    {
     "data": {
      "text/plain": [
       "11.155"
      ]
     },
     "execution_count": 61,
     "metadata": {},
     "output_type": "execute_result"
    }
   ],
   "source": [
    "upper"
   ]
  },
  {
   "cell_type": "code",
   "execution_count": 62,
   "metadata": {},
   "outputs": [
    {
     "data": {
      "text/plain": [
       "9.77"
      ]
     },
     "execution_count": 62,
     "metadata": {},
     "output_type": "execute_result"
    }
   ],
   "source": [
    "df_outlier.SCORE.max()"
   ]
  },
  {
   "cell_type": "code",
   "execution_count": 63,
   "metadata": {},
   "outputs": [
    {
     "data": {
      "text/plain": [
       "1.45"
      ]
     },
     "execution_count": 63,
     "metadata": {},
     "output_type": "execute_result"
    }
   ],
   "source": [
    "df_outlier.SCORE.min()"
   ]
  },
  {
   "cell_type": "code",
   "execution_count": 66,
   "metadata": {},
   "outputs": [],
   "source": [
    "df_outlier = df_outlier.loc[df.SCORE>=lower]"
   ]
  },
  {
   "cell_type": "code",
   "execution_count": 67,
   "metadata": {},
   "outputs": [
    {
     "data": {
      "text/html": [
       "<div>\n",
       "<style scoped>\n",
       "    .dataframe tbody tr th:only-of-type {\n",
       "        vertical-align: middle;\n",
       "    }\n",
       "\n",
       "    .dataframe tbody tr th {\n",
       "        vertical-align: top;\n",
       "    }\n",
       "\n",
       "    .dataframe thead th {\n",
       "        text-align: right;\n",
       "    }\n",
       "</style>\n",
       "<table border=\"1\" class=\"dataframe\">\n",
       "  <thead>\n",
       "    <tr style=\"text-align: right;\">\n",
       "      <th></th>\n",
       "      <th>EMP_ID</th>\n",
       "      <th>NUM_LOGIN</th>\n",
       "      <th>NUM_CONTENTS</th>\n",
       "      <th>NUM_ACTION</th>\n",
       "      <th>TIME_LOGIN</th>\n",
       "      <th>TIME_TEST</th>\n",
       "      <th>NUM_REVISION</th>\n",
       "      <th>SCORE</th>\n",
       "    </tr>\n",
       "  </thead>\n",
       "  <tbody>\n",
       "    <tr>\n",
       "      <td>0</td>\n",
       "      <td>S0001</td>\n",
       "      <td>7</td>\n",
       "      <td>10</td>\n",
       "      <td>57</td>\n",
       "      <td>150</td>\n",
       "      <td>1.95</td>\n",
       "      <td>1</td>\n",
       "      <td>9.77</td>\n",
       "    </tr>\n",
       "    <tr>\n",
       "      <td>1</td>\n",
       "      <td>S0002</td>\n",
       "      <td>7</td>\n",
       "      <td>11</td>\n",
       "      <td>54</td>\n",
       "      <td>144</td>\n",
       "      <td>2.42</td>\n",
       "      <td>10</td>\n",
       "      <td>5.80</td>\n",
       "    </tr>\n",
       "    <tr>\n",
       "      <td>2</td>\n",
       "      <td>S0003</td>\n",
       "      <td>2</td>\n",
       "      <td>11</td>\n",
       "      <td>21</td>\n",
       "      <td>132</td>\n",
       "      <td>2.14</td>\n",
       "      <td>1</td>\n",
       "      <td>9.77</td>\n",
       "    </tr>\n",
       "    <tr>\n",
       "      <td>3</td>\n",
       "      <td>S0004</td>\n",
       "      <td>10</td>\n",
       "      <td>11</td>\n",
       "      <td>101</td>\n",
       "      <td>350</td>\n",
       "      <td>2.73</td>\n",
       "      <td>7</td>\n",
       "      <td>7.15</td>\n",
       "    </tr>\n",
       "    <tr>\n",
       "      <td>4</td>\n",
       "      <td>S0005</td>\n",
       "      <td>4</td>\n",
       "      <td>11</td>\n",
       "      <td>35</td>\n",
       "      <td>93</td>\n",
       "      <td>1.61</td>\n",
       "      <td>5</td>\n",
       "      <td>5.28</td>\n",
       "    </tr>\n",
       "  </tbody>\n",
       "</table>\n",
       "</div>"
      ],
      "text/plain": [
       "  EMP_ID  NUM_LOGIN  NUM_CONTENTS  NUM_ACTION  TIME_LOGIN  TIME_TEST  \\\n",
       "0  S0001          7            10          57         150       1.95   \n",
       "1  S0002          7            11          54         144       2.42   \n",
       "2  S0003          2            11          21         132       2.14   \n",
       "3  S0004         10            11         101         350       2.73   \n",
       "4  S0005          4            11          35          93       1.61   \n",
       "\n",
       "   NUM_REVISION  SCORE  \n",
       "0             1   9.77  \n",
       "1            10   5.80  \n",
       "2             1   9.77  \n",
       "3             7   7.15  \n",
       "4             5   5.28  "
      ]
     },
     "execution_count": 67,
     "metadata": {},
     "output_type": "execute_result"
    }
   ],
   "source": [
    "df_outlier.head()"
   ]
  },
  {
   "cell_type": "code",
   "execution_count": 75,
   "metadata": {},
   "outputs": [
    {
     "data": {
      "text/plain": [
       "'1'"
      ]
     },
     "execution_count": 75,
     "metadata": {},
     "output_type": "execute_result"
    }
   ],
   "source": [
    "df_outlier.EMP_ID.iloc[0][-1]"
   ]
  },
  {
   "cell_type": "code",
   "execution_count": 77,
   "metadata": {},
   "outputs": [
    {
     "name": "stderr",
     "output_type": "stream",
     "text": [
      "C:\\Users\\yuvjj\\Anaconda3\\lib\\site-packages\\ipykernel_launcher.py:1: SettingWithCopyWarning: \n",
      "A value is trying to be set on a copy of a slice from a DataFrame.\n",
      "Try using .loc[row_indexer,col_indexer] = value instead\n",
      "\n",
      "See the caveats in the documentation: http://pandas.pydata.org/pandas-docs/stable/user_guide/indexing.html#returning-a-view-versus-a-copy\n",
      "  \"\"\"Entry point for launching an IPython kernel.\n"
     ]
    }
   ],
   "source": [
    "df_outlier[\"new_line_num\"] = df_outlier.EMP_ID.apply(lambda x: int(x[-1]))"
   ]
  },
  {
   "cell_type": "code",
   "execution_count": 78,
   "metadata": {},
   "outputs": [],
   "source": [
    "df_test = df_outlier.loc[df_outlier.new_line_num%4==0,:]"
   ]
  },
  {
   "cell_type": "code",
   "execution_count": 88,
   "metadata": {},
   "outputs": [],
   "source": [
    "df_train = df_outlier.loc[set(df_outlier.index) - set(df_test.index),:]"
   ]
  },
  {
   "cell_type": "code",
   "execution_count": 89,
   "metadata": {},
   "outputs": [
    {
     "data": {
      "text/plain": [
       "Index(['EMP_ID', 'NUM_LOGIN', 'NUM_CONTENTS', 'NUM_ACTION', 'TIME_LOGIN',\n",
       "       'TIME_TEST', 'NUM_REVISION', 'SCORE', 'new_line_num'],\n",
       "      dtype='object')"
      ]
     },
     "execution_count": 89,
     "metadata": {},
     "output_type": "execute_result"
    }
   ],
   "source": [
    "df_train.columns"
   ]
  },
  {
   "cell_type": "code",
   "execution_count": 124,
   "metadata": {},
   "outputs": [],
   "source": [
    "linear_colx = ['NUM_LOGIN', 'NUM_CONTENTS', 'NUM_ACTION', 'TIME_LOGIN','TIME_TEST','NUM_REVISION']"
   ]
  },
  {
   "cell_type": "code",
   "execution_count": 125,
   "metadata": {},
   "outputs": [
    {
     "data": {
      "text/plain": [
       "6"
      ]
     },
     "execution_count": 125,
     "metadata": {},
     "output_type": "execute_result"
    }
   ],
   "source": [
    "len(linear_colx)"
   ]
  },
  {
   "cell_type": "code",
   "execution_count": 126,
   "metadata": {},
   "outputs": [],
   "source": [
    "from statsmodels.formula.api import ols"
   ]
  },
  {
   "cell_type": "code",
   "execution_count": 127,
   "metadata": {},
   "outputs": [],
   "source": [
    "def adj_R_from_ols(df, out_param, in_param):\n",
    "    form = out_param+\"~\"+in_param\n",
    "    model = ols(formula=form, data=df).fit()\n",
    "    return model.rsquared_adj"
   ]
  },
  {
   "cell_type": "code",
   "execution_count": 128,
   "metadata": {},
   "outputs": [
    {
     "data": {
      "text/plain": [
       "[0.057608013847923356,\n",
       " 0.09750211233161177,\n",
       " 0.07595351388582561,\n",
       " 0.26585408702965896,\n",
       " 0.05859302381994669,\n",
       " 0.005209967763311507]"
      ]
     },
     "execution_count": 128,
     "metadata": {},
     "output_type": "execute_result"
    }
   ],
   "source": [
    "[adj_R_from_ols(df_train, \"SCORE\",x) for x in linear_colx]"
   ]
  },
  {
   "cell_type": "code",
   "execution_count": 129,
   "metadata": {},
   "outputs": [],
   "source": [
    "def adj_R_from_ols2(df, out_param, in_param):\n",
    "    form = out_param+\"~\"+\"TIME_LOGIN+\"+in_param\n",
    "    model = ols(formula=form, data=df).fit()\n",
    "    return model.rsquared_adj"
   ]
  },
  {
   "cell_type": "code",
   "execution_count": 130,
   "metadata": {},
   "outputs": [],
   "source": [
    "linear_colx.remove(\"TIME_LOGIN\")"
   ]
  },
  {
   "cell_type": "code",
   "execution_count": 131,
   "metadata": {},
   "outputs": [
    {
     "data": {
      "text/plain": [
       "['NUM_LOGIN', 'NUM_CONTENTS', 'NUM_ACTION', 'TIME_TEST', 'NUM_REVISION']"
      ]
     },
     "execution_count": 131,
     "metadata": {},
     "output_type": "execute_result"
    }
   ],
   "source": [
    "linear_colx"
   ]
  },
  {
   "cell_type": "code",
   "execution_count": 132,
   "metadata": {},
   "outputs": [
    {
     "data": {
      "text/plain": [
       "[0.2830733163482514,\n",
       " 0.2967442871372139,\n",
       " 0.2657945678854614,\n",
       " 0.2726112372266525,\n",
       " 0.27905877499005327]"
      ]
     },
     "execution_count": 132,
     "metadata": {},
     "output_type": "execute_result"
    }
   ],
   "source": [
    "[adj_R_from_ols2(df_train, \"SCORE\",x) for x in linear_colx]"
   ]
  },
  {
   "cell_type": "code",
   "execution_count": 133,
   "metadata": {},
   "outputs": [],
   "source": [
    "def adj_R_from_ols3(df, out_param, in_param):\n",
    "    form = out_param+\"~\"+\"TIME_LOGIN+\"+'NUM_CONTENTS+'+in_param\n",
    "    model = ols(formula=form, data=df).fit()\n",
    "    return model.rsquared_adj"
   ]
  },
  {
   "cell_type": "code",
   "execution_count": 134,
   "metadata": {},
   "outputs": [],
   "source": [
    "linear_colx.remove(\"NUM_CONTENTS\")"
   ]
  },
  {
   "cell_type": "code",
   "execution_count": 135,
   "metadata": {},
   "outputs": [
    {
     "data": {
      "text/plain": [
       "['NUM_LOGIN', 'NUM_ACTION', 'TIME_TEST', 'NUM_REVISION']"
      ]
     },
     "execution_count": 135,
     "metadata": {},
     "output_type": "execute_result"
    }
   ],
   "source": [
    "linear_colx"
   ]
  },
  {
   "cell_type": "code",
   "execution_count": 136,
   "metadata": {},
   "outputs": [
    {
     "data": {
      "text/plain": [
       "[0.32515529467578497,\n",
       " 0.30824389948210706,\n",
       " 0.29560255502145927,\n",
       " 0.3265951102870196]"
      ]
     },
     "execution_count": 136,
     "metadata": {},
     "output_type": "execute_result"
    }
   ],
   "source": [
    "[adj_R_from_ols3(df_train, \"SCORE\",x) for x in linear_colx]"
   ]
  },
  {
   "cell_type": "code",
   "execution_count": 137,
   "metadata": {},
   "outputs": [],
   "source": [
    "form = \"SCORE ~ TIME_LOGIN+NUM_CONTENTS+NUM_REVISION\""
   ]
  },
  {
   "cell_type": "code",
   "execution_count": 138,
   "metadata": {},
   "outputs": [],
   "source": [
    "model=ols(formula=form, data=df_outlier).fit()"
   ]
  },
  {
   "cell_type": "code",
   "execution_count": 202,
   "metadata": {},
   "outputs": [
    {
     "data": {
      "text/html": [
       "<table class=\"simpletable\">\n",
       "<tr>\n",
       "        <td>Model:</td>               <td>OLS</td>         <td>Adj. R-squared:</td>     <td>0.329</td> \n",
       "</tr>\n",
       "<tr>\n",
       "  <td>Dependent Variable:</td>       <td>SCORE</td>             <td>AIC:</td>         <td>911.9272</td>\n",
       "</tr>\n",
       "<tr>\n",
       "         <td>Date:</td>        <td>2023-05-18 18:39</td>        <td>BIC:</td>         <td>926.2762</td>\n",
       "</tr>\n",
       "<tr>\n",
       "   <td>No. Observations:</td>         <td>267</td>         <td>Log-Likelihood:</td>    <td>-451.96</td>\n",
       "</tr>\n",
       "<tr>\n",
       "       <td>Df Model:</td>              <td>3</td>           <td>F-statistic:</td>       <td>44.53</td> \n",
       "</tr>\n",
       "<tr>\n",
       "     <td>Df Residuals:</td>           <td>263</td>       <td>Prob (F-statistic):</td> <td>2.65e-23</td>\n",
       "</tr>\n",
       "<tr>\n",
       "      <td>R-squared:</td>            <td>0.337</td>            <td>Scale:</td>         <td>1.7554</td> \n",
       "</tr>\n",
       "</table>\n",
       "<table class=\"simpletable\">\n",
       "<tr>\n",
       "        <td></td>        <th>Coef.</th>  <th>Std.Err.</th>    <th>t</th>     <th>P>|t|</th> <th>[0.025</th>  <th>0.975]</th> \n",
       "</tr>\n",
       "<tr>\n",
       "  <th>Intercept</th>    <td>4.1675</td>   <td>0.4215</td>  <td>9.8872</td>  <td>0.0000</td> <td>3.3375</td>  <td>4.9974</td> \n",
       "</tr>\n",
       "<tr>\n",
       "  <th>TIME_LOGIN</th>   <td>0.0051</td>   <td>0.0005</td>  <td>9.2052</td>  <td>0.0000</td> <td>0.0040</td>  <td>0.0061</td> \n",
       "</tr>\n",
       "<tr>\n",
       "  <th>NUM_CONTENTS</th> <td>0.1773</td>   <td>0.0431</td>  <td>4.1153</td>  <td>0.0001</td> <td>0.0925</td>  <td>0.2621</td> \n",
       "</tr>\n",
       "<tr>\n",
       "  <th>NUM_REVISION</th> <td>-0.0364</td>  <td>0.0094</td>  <td>-3.8945</td> <td>0.0001</td> <td>-0.0548</td> <td>-0.0180</td>\n",
       "</tr>\n",
       "</table>\n",
       "<table class=\"simpletable\">\n",
       "<tr>\n",
       "     <td>Omnibus:</td>    <td>4.138</td>  <td>Durbin-Watson:</td>   <td>2.003</td>\n",
       "</tr>\n",
       "<tr>\n",
       "  <td>Prob(Omnibus):</td> <td>0.126</td> <td>Jarque-Bera (JB):</td> <td>4.010</td>\n",
       "</tr>\n",
       "<tr>\n",
       "       <td>Skew:</td>     <td>0.300</td>     <td>Prob(JB):</td>     <td>0.135</td>\n",
       "</tr>\n",
       "<tr>\n",
       "     <td>Kurtosis:</td>   <td>3.023</td>  <td>Condition No.:</td>   <td>1208</td> \n",
       "</tr>\n",
       "</table>"
      ],
      "text/plain": [
       "<class 'statsmodels.iolib.summary2.Summary'>\n",
       "\"\"\"\n",
       "                 Results: Ordinary least squares\n",
       "=================================================================\n",
       "Model:              OLS              Adj. R-squared:     0.329   \n",
       "Dependent Variable: SCORE            AIC:                911.9272\n",
       "Date:               2023-05-18 18:39 BIC:                926.2762\n",
       "No. Observations:   267              Log-Likelihood:     -451.96 \n",
       "Df Model:           3                F-statistic:        44.53   \n",
       "Df Residuals:       263              Prob (F-statistic): 2.65e-23\n",
       "R-squared:          0.337            Scale:              1.7554  \n",
       "------------------------------------------------------------------\n",
       "               Coef.   Std.Err.     t     P>|t|    [0.025   0.975]\n",
       "------------------------------------------------------------------\n",
       "Intercept      4.1675    0.4215   9.8872  0.0000   3.3375   4.9974\n",
       "TIME_LOGIN     0.0051    0.0005   9.2052  0.0000   0.0040   0.0061\n",
       "NUM_CONTENTS   0.1773    0.0431   4.1153  0.0001   0.0925   0.2621\n",
       "NUM_REVISION  -0.0364    0.0094  -3.8945  0.0001  -0.0548  -0.0180\n",
       "-----------------------------------------------------------------\n",
       "Omnibus:              4.138        Durbin-Watson:           2.003\n",
       "Prob(Omnibus):        0.126        Jarque-Bera (JB):        4.010\n",
       "Skew:                 0.300        Prob(JB):                0.135\n",
       "Kurtosis:             3.023        Condition No.:           1208 \n",
       "=================================================================\n",
       "* The condition number is large (1e+03). This might indicate\n",
       "strong multicollinearity or other numerical problems.\n",
       "\"\"\""
      ]
     },
     "execution_count": 202,
     "metadata": {},
     "output_type": "execute_result"
    }
   ],
   "source": [
    "model.summary2()"
   ]
  },
  {
   "cell_type": "code",
   "execution_count": 139,
   "metadata": {},
   "outputs": [],
   "source": [
    "test_colx = [\"TIME_LOGIN\",\"NUM_CONTENTS\",\"NUM_REVISION\"]"
   ]
  },
  {
   "cell_type": "code",
   "execution_count": 140,
   "metadata": {},
   "outputs": [],
   "source": [
    "pred = model.predict(df_test.loc[:,test_colx])"
   ]
  },
  {
   "cell_type": "code",
   "execution_count": 141,
   "metadata": {},
   "outputs": [],
   "source": [
    "from sklearn.metrics import mean_squared_error as mse"
   ]
  },
  {
   "cell_type": "code",
   "execution_count": 203,
   "metadata": {},
   "outputs": [],
   "source": [
    "rmse = lambda y_true, y_pred:mse(y_true,y_pred)**(0.5)"
   ]
  },
  {
   "cell_type": "code",
   "execution_count": 204,
   "metadata": {},
   "outputs": [],
   "source": [
    "prob_2 = round(rmse(y_true=df_test.SCORE,y_pred=pred),2)"
   ]
  },
  {
   "cell_type": "code",
   "execution_count": 205,
   "metadata": {},
   "outputs": [
    {
     "data": {
      "text/plain": [
       "1.37"
      ]
     },
     "execution_count": 205,
     "metadata": {},
     "output_type": "execute_result"
    }
   ],
   "source": [
    "prob_2"
   ]
  },
  {
   "cell_type": "code",
   "execution_count": 147,
   "metadata": {},
   "outputs": [],
   "source": [
    "# =======================================================================================================\n",
    "# 3\n",
    "# ======================================================================================================="
   ]
  },
  {
   "cell_type": "code",
   "execution_count": 149,
   "metadata": {},
   "outputs": [],
   "source": [
    "df_num3 = df.copy()"
   ]
  },
  {
   "cell_type": "code",
   "execution_count": 156,
   "metadata": {},
   "outputs": [
    {
     "data": {
      "text/plain": [
       "9.77"
      ]
     },
     "execution_count": 156,
     "metadata": {},
     "output_type": "execute_result"
    }
   ],
   "source": [
    "df.SCORE.max()"
   ]
  },
  {
   "cell_type": "code",
   "execution_count": 154,
   "metadata": {},
   "outputs": [],
   "source": [
    "df_A = df_num3.loc[df.SCORE<=5,:]"
   ]
  },
  {
   "cell_type": "code",
   "execution_count": 155,
   "metadata": {},
   "outputs": [],
   "source": [
    "df_B = df_num3.loc[(df.SCORE>5) & (df.SCORE<=7),:]"
   ]
  },
  {
   "cell_type": "code",
   "execution_count": 157,
   "metadata": {},
   "outputs": [],
   "source": [
    "df_C = df_num3.loc[df.SCORE>7,:]"
   ]
  },
  {
   "cell_type": "code",
   "execution_count": 158,
   "metadata": {},
   "outputs": [
    {
     "data": {
      "text/plain": [
       "(268, 8)"
      ]
     },
     "execution_count": 158,
     "metadata": {},
     "output_type": "execute_result"
    }
   ],
   "source": [
    "df_num3.shape"
   ]
  },
  {
   "cell_type": "code",
   "execution_count": 159,
   "metadata": {},
   "outputs": [
    {
     "data": {
      "text/plain": [
       "(47, 8)"
      ]
     },
     "execution_count": 159,
     "metadata": {},
     "output_type": "execute_result"
    }
   ],
   "source": [
    "df_A.shape"
   ]
  },
  {
   "cell_type": "code",
   "execution_count": 160,
   "metadata": {},
   "outputs": [
    {
     "data": {
      "text/plain": [
       "(122, 8)"
      ]
     },
     "execution_count": 160,
     "metadata": {},
     "output_type": "execute_result"
    }
   ],
   "source": [
    "df_B.shape"
   ]
  },
  {
   "cell_type": "code",
   "execution_count": 161,
   "metadata": {},
   "outputs": [
    {
     "data": {
      "text/plain": [
       "(99, 8)"
      ]
     },
     "execution_count": 161,
     "metadata": {},
     "output_type": "execute_result"
    }
   ],
   "source": [
    "df_C.shape"
   ]
  },
  {
   "cell_type": "code",
   "execution_count": 163,
   "metadata": {},
   "outputs": [
    {
     "data": {
      "text/html": [
       "<div>\n",
       "<style scoped>\n",
       "    .dataframe tbody tr th:only-of-type {\n",
       "        vertical-align: middle;\n",
       "    }\n",
       "\n",
       "    .dataframe tbody tr th {\n",
       "        vertical-align: top;\n",
       "    }\n",
       "\n",
       "    .dataframe thead th {\n",
       "        text-align: right;\n",
       "    }\n",
       "</style>\n",
       "<table border=\"1\" class=\"dataframe\">\n",
       "  <thead>\n",
       "    <tr style=\"text-align: right;\">\n",
       "      <th></th>\n",
       "      <th>EMP_ID</th>\n",
       "      <th>NUM_LOGIN</th>\n",
       "      <th>NUM_CONTENTS</th>\n",
       "      <th>NUM_ACTION</th>\n",
       "      <th>TIME_LOGIN</th>\n",
       "      <th>TIME_TEST</th>\n",
       "      <th>NUM_REVISION</th>\n",
       "      <th>SCORE</th>\n",
       "    </tr>\n",
       "  </thead>\n",
       "  <tbody>\n",
       "    <tr>\n",
       "      <td>0</td>\n",
       "      <td>S0001</td>\n",
       "      <td>7</td>\n",
       "      <td>10</td>\n",
       "      <td>57</td>\n",
       "      <td>150</td>\n",
       "      <td>1.95</td>\n",
       "      <td>1</td>\n",
       "      <td>9.77</td>\n",
       "    </tr>\n",
       "    <tr>\n",
       "      <td>1</td>\n",
       "      <td>S0002</td>\n",
       "      <td>7</td>\n",
       "      <td>11</td>\n",
       "      <td>54</td>\n",
       "      <td>144</td>\n",
       "      <td>2.42</td>\n",
       "      <td>10</td>\n",
       "      <td>5.80</td>\n",
       "    </tr>\n",
       "    <tr>\n",
       "      <td>2</td>\n",
       "      <td>S0003</td>\n",
       "      <td>2</td>\n",
       "      <td>11</td>\n",
       "      <td>21</td>\n",
       "      <td>132</td>\n",
       "      <td>2.14</td>\n",
       "      <td>1</td>\n",
       "      <td>9.77</td>\n",
       "    </tr>\n",
       "    <tr>\n",
       "      <td>3</td>\n",
       "      <td>S0004</td>\n",
       "      <td>10</td>\n",
       "      <td>11</td>\n",
       "      <td>101</td>\n",
       "      <td>350</td>\n",
       "      <td>2.73</td>\n",
       "      <td>7</td>\n",
       "      <td>7.15</td>\n",
       "    </tr>\n",
       "    <tr>\n",
       "      <td>4</td>\n",
       "      <td>S0005</td>\n",
       "      <td>4</td>\n",
       "      <td>11</td>\n",
       "      <td>35</td>\n",
       "      <td>93</td>\n",
       "      <td>1.61</td>\n",
       "      <td>5</td>\n",
       "      <td>5.28</td>\n",
       "    </tr>\n",
       "  </tbody>\n",
       "</table>\n",
       "</div>"
      ],
      "text/plain": [
       "  EMP_ID  NUM_LOGIN  NUM_CONTENTS  NUM_ACTION  TIME_LOGIN  TIME_TEST  \\\n",
       "0  S0001          7            10          57         150       1.95   \n",
       "1  S0002          7            11          54         144       2.42   \n",
       "2  S0003          2            11          21         132       2.14   \n",
       "3  S0004         10            11         101         350       2.73   \n",
       "4  S0005          4            11          35          93       1.61   \n",
       "\n",
       "   NUM_REVISION  SCORE  \n",
       "0             1   9.77  \n",
       "1            10   5.80  \n",
       "2             1   9.77  \n",
       "3             7   7.15  \n",
       "4             5   5.28  "
      ]
     },
     "execution_count": 163,
     "metadata": {},
     "output_type": "execute_result"
    }
   ],
   "source": [
    "df_num3.head()"
   ]
  },
  {
   "cell_type": "code",
   "execution_count": 164,
   "metadata": {},
   "outputs": [
    {
     "data": {
      "text/plain": [
       "Index(['EMP_ID', 'NUM_LOGIN', 'NUM_CONTENTS', 'NUM_ACTION', 'TIME_LOGIN',\n",
       "       'TIME_TEST', 'NUM_REVISION', 'SCORE'],\n",
       "      dtype='object')"
      ]
     },
     "execution_count": 164,
     "metadata": {},
     "output_type": "execute_result"
    }
   ],
   "source": [
    "df_num3.columns"
   ]
  },
  {
   "cell_type": "code",
   "execution_count": 165,
   "metadata": {},
   "outputs": [],
   "source": [
    "colx=['NUM_LOGIN', 'NUM_CONTENTS', 'NUM_ACTION', 'TIME_LOGIN',\\\n",
    "       'TIME_TEST', 'NUM_REVISION']"
   ]
  },
  {
   "cell_type": "code",
   "execution_count": 167,
   "metadata": {},
   "outputs": [
    {
     "data": {
      "text/plain": [
       "6"
      ]
     },
     "execution_count": 167,
     "metadata": {},
     "output_type": "execute_result"
    }
   ],
   "source": [
    "len(colx)"
   ]
  },
  {
   "cell_type": "code",
   "execution_count": 168,
   "metadata": {},
   "outputs": [],
   "source": [
    "from sklearn.ensemble import RandomForestRegressor"
   ]
  },
  {
   "cell_type": "code",
   "execution_count": 208,
   "metadata": {},
   "outputs": [],
   "source": [
    "model1 = RandomForestRegressor(n_estimators=10, min_samples_leaf=10, random_state=1234)\\\n",
    ".fit(X=df_A.loc[:,colx], y=df_A.SCORE)"
   ]
  },
  {
   "cell_type": "code",
   "execution_count": 207,
   "metadata": {},
   "outputs": [],
   "source": [
    "model2 = RandomForestRegressor(n_estimators=10, min_samples_leaf=10, random_state=1234)\\\n",
    ".fit(X=df_B.loc[:,colx], y=df_B.SCORE)"
   ]
  },
  {
   "cell_type": "code",
   "execution_count": 209,
   "metadata": {},
   "outputs": [],
   "source": [
    "model3 = RandomForestRegressor(n_estimators=10, min_samples_leaf=10, random_state=1234)\\\n",
    ".fit(X=df_C.loc[:,colx], y=df_C.SCORE)"
   ]
  },
  {
   "cell_type": "code",
   "execution_count": 210,
   "metadata": {},
   "outputs": [],
   "source": [
    "df_importance = pd.DataFrame()\n",
    "df_importance[\"params\"]=colx\n",
    "df_importance[\"A_FI\"]=model1.feature_importances_\n",
    "df_importance[\"B_FI\"]=model2.feature_importances_\n",
    "df_importance[\"C_FI\"]=model3.feature_importances_"
   ]
  },
  {
   "cell_type": "code",
   "execution_count": 211,
   "metadata": {},
   "outputs": [
    {
     "data": {
      "text/html": [
       "<div>\n",
       "<style scoped>\n",
       "    .dataframe tbody tr th:only-of-type {\n",
       "        vertical-align: middle;\n",
       "    }\n",
       "\n",
       "    .dataframe tbody tr th {\n",
       "        vertical-align: top;\n",
       "    }\n",
       "\n",
       "    .dataframe thead th {\n",
       "        text-align: right;\n",
       "    }\n",
       "</style>\n",
       "<table border=\"1\" class=\"dataframe\">\n",
       "  <thead>\n",
       "    <tr style=\"text-align: right;\">\n",
       "      <th></th>\n",
       "      <th>params</th>\n",
       "      <th>A_FI</th>\n",
       "      <th>B_FI</th>\n",
       "      <th>C_FI</th>\n",
       "    </tr>\n",
       "  </thead>\n",
       "  <tbody>\n",
       "    <tr>\n",
       "      <td>0</td>\n",
       "      <td>NUM_LOGIN</td>\n",
       "      <td>0.100000</td>\n",
       "      <td>0.023803</td>\n",
       "      <td>0.000000</td>\n",
       "    </tr>\n",
       "    <tr>\n",
       "      <td>1</td>\n",
       "      <td>NUM_CONTENTS</td>\n",
       "      <td>0.283298</td>\n",
       "      <td>0.002720</td>\n",
       "      <td>0.007413</td>\n",
       "    </tr>\n",
       "    <tr>\n",
       "      <td>2</td>\n",
       "      <td>NUM_ACTION</td>\n",
       "      <td>0.600000</td>\n",
       "      <td>0.038909</td>\n",
       "      <td>0.179341</td>\n",
       "    </tr>\n",
       "    <tr>\n",
       "      <td>3</td>\n",
       "      <td>TIME_LOGIN</td>\n",
       "      <td>0.000000</td>\n",
       "      <td>0.743178</td>\n",
       "      <td>0.104808</td>\n",
       "    </tr>\n",
       "    <tr>\n",
       "      <td>4</td>\n",
       "      <td>TIME_TEST</td>\n",
       "      <td>0.000000</td>\n",
       "      <td>0.169527</td>\n",
       "      <td>0.605861</td>\n",
       "    </tr>\n",
       "    <tr>\n",
       "      <td>5</td>\n",
       "      <td>NUM_REVISION</td>\n",
       "      <td>0.016702</td>\n",
       "      <td>0.021863</td>\n",
       "      <td>0.102577</td>\n",
       "    </tr>\n",
       "  </tbody>\n",
       "</table>\n",
       "</div>"
      ],
      "text/plain": [
       "         params      A_FI      B_FI      C_FI\n",
       "0     NUM_LOGIN  0.100000  0.023803  0.000000\n",
       "1  NUM_CONTENTS  0.283298  0.002720  0.007413\n",
       "2    NUM_ACTION  0.600000  0.038909  0.179341\n",
       "3    TIME_LOGIN  0.000000  0.743178  0.104808\n",
       "4     TIME_TEST  0.000000  0.169527  0.605861\n",
       "5  NUM_REVISION  0.016702  0.021863  0.102577"
      ]
     },
     "execution_count": 211,
     "metadata": {},
     "output_type": "execute_result"
    }
   ],
   "source": [
    "df_importance"
   ]
  },
  {
   "cell_type": "code",
   "execution_count": 212,
   "metadata": {},
   "outputs": [
    {
     "data": {
      "text/plain": [
       "2"
      ]
     },
     "execution_count": 212,
     "metadata": {},
     "output_type": "execute_result"
    }
   ],
   "source": [
    "df_importance.A_FI.idxmax()"
   ]
  },
  {
   "cell_type": "code",
   "execution_count": 213,
   "metadata": {},
   "outputs": [
    {
     "data": {
      "text/plain": [
       "3"
      ]
     },
     "execution_count": 213,
     "metadata": {},
     "output_type": "execute_result"
    }
   ],
   "source": [
    "df_importance.B_FI.idxmax()"
   ]
  },
  {
   "cell_type": "code",
   "execution_count": 214,
   "metadata": {},
   "outputs": [
    {
     "data": {
      "text/plain": [
       "4"
      ]
     },
     "execution_count": 214,
     "metadata": {},
     "output_type": "execute_result"
    }
   ],
   "source": [
    "df_importance.C_FI.idxmax()"
   ]
  },
  {
   "cell_type": "code",
   "execution_count": 215,
   "metadata": {},
   "outputs": [],
   "source": [
    "prob_3 = round(df_importance.A_FI.max()+df_importance.B_FI.max()+df_importance.C_FI.max(),2)"
   ]
  },
  {
   "cell_type": "code",
   "execution_count": 216,
   "metadata": {},
   "outputs": [],
   "source": [
    "# =========="
   ]
  },
  {
   "cell_type": "code",
   "execution_count": 217,
   "metadata": {},
   "outputs": [
    {
     "data": {
      "text/plain": [
       "0.446"
      ]
     },
     "execution_count": 217,
     "metadata": {},
     "output_type": "execute_result"
    }
   ],
   "source": [
    "prob_1"
   ]
  },
  {
   "cell_type": "code",
   "execution_count": 218,
   "metadata": {},
   "outputs": [
    {
     "data": {
      "text/plain": [
       "1.37"
      ]
     },
     "execution_count": 218,
     "metadata": {},
     "output_type": "execute_result"
    }
   ],
   "source": [
    "prob_2"
   ]
  },
  {
   "cell_type": "code",
   "execution_count": 219,
   "metadata": {},
   "outputs": [
    {
     "data": {
      "text/plain": [
       "1.95"
      ]
     },
     "execution_count": 219,
     "metadata": {},
     "output_type": "execute_result"
    }
   ],
   "source": [
    "prob_3"
   ]
  },
  {
   "cell_type": "code",
   "execution_count": null,
   "metadata": {},
   "outputs": [],
   "source": []
  },
  {
   "cell_type": "code",
   "execution_count": null,
   "metadata": {},
   "outputs": [],
   "source": []
  }
 ],
 "metadata": {
  "kernelspec": {
   "display_name": "Python 3",
   "language": "python",
   "name": "python3"
  },
  "language_info": {
   "codemirror_mode": {
    "name": "ipython",
    "version": 3
   },
   "file_extension": ".py",
   "mimetype": "text/x-python",
   "name": "python",
   "nbconvert_exporter": "python",
   "pygments_lexer": "ipython3",
   "version": "3.7.4"
  }
 },
 "nbformat": 4,
 "nbformat_minor": 2
}
