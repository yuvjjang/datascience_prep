{
 "cells": [
  {
   "cell_type": "code",
   "execution_count": 1,
   "id": "1bd8e0ed",
   "metadata": {},
   "outputs": [],
   "source": [
    "import pandas as pd\n",
    "import numpy as np\n",
    "\n",
    "import warnings\n",
    "warnings.filterwarnings('ignore')"
   ]
  },
  {
   "cell_type": "markdown",
   "id": "a2f33b28",
   "metadata": {},
   "source": [
    "### Data Science Level 2 Practical Problem 2305-1"
   ]
  },
  {
   "cell_type": "code",
   "execution_count": 2,
   "id": "fb0a6d4c",
   "metadata": {},
   "outputs": [],
   "source": [
    "df = pd.read_csv('lv2-2305-1.csv')"
   ]
  },
  {
   "cell_type": "markdown",
   "id": "c638c187",
   "metadata": {},
   "source": [
    "#### Q1"
   ]
  },
  {
   "cell_type": "code",
   "execution_count": 3,
   "id": "396b155a",
   "metadata": {},
   "outputs": [],
   "source": [
    "df4 = df.copy()"
   ]
  },
  {
   "cell_type": "code",
   "execution_count": 4,
   "id": "2e6511d6",
   "metadata": {},
   "outputs": [],
   "source": [
    "from sklearn.preprocessing import StandardScaler\n",
    "# Step 1-1 \n",
    "sc = StandardScaler()\n",
    "df4.iloc[:,1:5] = sc.fit_transform(df4.iloc[:,1:5])\n",
    "\n",
    "#Step 1-2\n",
    "df4['INVOLVEMENT'] = df4['NUM_LOGIN'] + df4['NUM_CONTENTS'] + df4['NUM_ACTION'] + df4['TIME_LOGIN']\n",
    "\n",
    "#Step 1-3 \n",
    "from scipy.stats import pearsonr\n",
    "coef,p=pearsonr(df4['INVOLVEMENT'],df4['SCORE'])"
   ]
  },
  {
   "cell_type": "code",
   "execution_count": 5,
   "id": "98bbcd70",
   "metadata": {},
   "outputs": [
    {
     "name": "stdout",
     "output_type": "stream",
     "text": [
      "Q1 Result: 0.44598688704115624\n",
      "Q1 Answer: 0.446\n"
     ]
    }
   ],
   "source": [
    "print('Q1 Result:', coef)\n",
    "print('Q1 Answer:', round(coef, 3))"
   ]
  },
  {
   "cell_type": "markdown",
   "id": "297771ce",
   "metadata": {},
   "source": [
    "#### Q2"
   ]
  },
  {
   "cell_type": "code",
   "execution_count": 6,
   "id": "114d7786",
   "metadata": {},
   "outputs": [],
   "source": [
    "df5 = df.copy()"
   ]
  },
  {
   "cell_type": "code",
   "execution_count": 7,
   "id": "dc22caab",
   "metadata": {},
   "outputs": [
    {
     "name": "stdout",
     "output_type": "stream",
     "text": [
      "0.26585408702965907 TIME_LOGIN\n"
     ]
    }
   ],
   "source": [
    "from sklearn.metrics import r2_score\n",
    "from sklearn.linear_model import LinearRegression\n",
    "import statsmodels.api as sm\n",
    "\n",
    "# Step 2-1\n",
    "q1 = df5['SCORE'].quantile(0.25)\n",
    "q3 = df5['SCORE'].quantile(0.75)\n",
    "iqr = q3-q1\n",
    "df5_1 = df5[(df5['SCORE'] >= q1 -1.5*iqr) & (df5['SCORE'] <= q3 + 1.5*iqr)]\n",
    "\n",
    "# Step 2-2\n",
    "train = df5_1[df5_1['EMP_ID'].str[4].astype('int') % 4 != 0]\n",
    "test = df5_1[df5_1['EMP_ID'].str[4].astype('int') % 4 == 0]\n",
    "\n",
    "# Step 2-3\n",
    "y = train[['SCORE']]\n",
    "max_num = -999\n",
    "f_list= ['NUM_LOGIN', 'NUM_CONTENTS', 'NUM_ACTION', 'TIME_LOGIN', 'TIME_TEST', 'NUM_REVISION']\n",
    "for f in f_list:\n",
    "    x = train[[f]]\n",
    "    lr = LinearRegression()\n",
    "    lr.fit(x,y)\n",
    "    adj_r = 1 - (1-lr.score(x,y))*(len(y)-1)/(len(y)-x.shape[1]-1)\n",
    "    if adj_r > max_num:\n",
    "        max_num = adj_r\n",
    "        max_var = f\n",
    "print(max_num, max_var)    "
   ]
  },
  {
   "cell_type": "code",
   "execution_count": 8,
   "id": "5a1954c2",
   "metadata": {},
   "outputs": [
    {
     "name": "stdout",
     "output_type": "stream",
     "text": [
      "0.29674428713721424 NUM_CONTENTS\n"
     ]
    }
   ],
   "source": [
    "y = train[['SCORE']]\n",
    "max_num = -999\n",
    "f_list= ['NUM_LOGIN', 'NUM_CONTENTS', 'NUM_ACTION', 'TIME_TEST', 'NUM_REVISION'] # Remove TIME_LOGIN\n",
    "for f in f_list:\n",
    "    x = train[['TIME_LOGIN',f]]\n",
    "    lr = LinearRegression()\n",
    "    lr.fit(x,y)\n",
    "    adj_r = 1 - (1-lr.score(x, y))*(len(y)-1)/(len(y)-x.shape[1]-1)\n",
    "    if adj_r > max_num:\n",
    "        max_num = adj_r\n",
    "        max_var = f\n",
    "print(max_num, max_var)    "
   ]
  },
  {
   "cell_type": "code",
   "execution_count": 9,
   "id": "87590064",
   "metadata": {},
   "outputs": [
    {
     "name": "stdout",
     "output_type": "stream",
     "text": [
      "0.3265951102870196 NUM_REVISION\n"
     ]
    }
   ],
   "source": [
    "y = train[['SCORE']]\n",
    "max_num = -999\n",
    "f_list= ['NUM_LOGIN', 'NUM_ACTION', 'TIME_TEST', 'NUM_REVISION']\n",
    "for f in f_list:\n",
    "    x = train[['TIME_LOGIN','NUM_CONTENTS',f]]\n",
    "    lr = LinearRegression()\n",
    "    lr.fit(x,y)\n",
    "    adj_r = 1 - (1-lr.score(x, y))*(len(y)-1)/(len(y)-x.shape[1]-1)\n",
    "    if adj_r > max_num:\n",
    "        max_num = adj_r\n",
    "        max_var = f\n",
    "print(max_num, max_var)    "
   ]
  },
  {
   "cell_type": "code",
   "execution_count": 10,
   "id": "bdfe1b9c",
   "metadata": {},
   "outputs": [],
   "source": [
    "# Step 2-4\n",
    "from sklearn.metrics import mean_squared_error\n",
    "train_x = train[['TIME_LOGIN', 'NUM_CONTENTS', 'NUM_REVISION']]\n",
    "train_y = train[['SCORE']]\n",
    "test_x = test[['TIME_LOGIN', 'NUM_CONTENTS', 'NUM_REVISION']]\n",
    "test_y = test[['SCORE']]\n",
    "# Sklearn \n",
    "lr = LinearRegression()\n",
    "lr.fit(train_x,train_y)\n",
    "\n",
    "test_y['prd'] = lr.predict(test_x)\n",
    "res = mean_squared_error(test_y['prd'], test_y['SCORE']) **0.5"
   ]
  },
  {
   "cell_type": "code",
   "execution_count": 11,
   "id": "19b6c32c",
   "metadata": {},
   "outputs": [
    {
     "name": "stdout",
     "output_type": "stream",
     "text": [
      "Q2 Result: 1.3919187141780969\n",
      "Q2 Answer: 1.39\n"
     ]
    }
   ],
   "source": [
    "print('Q2 Result:', res)\n",
    "print('Q2 Answer:', round(res, 2))"
   ]
  },
  {
   "cell_type": "markdown",
   "id": "6167d03b",
   "metadata": {},
   "source": [
    "#### Q3"
   ]
  },
  {
   "cell_type": "code",
   "execution_count": 12,
   "id": "170319b8",
   "metadata": {},
   "outputs": [],
   "source": [
    "df6 = df.copy()"
   ]
  },
  {
   "cell_type": "code",
   "execution_count": 13,
   "id": "2f9d73b7",
   "metadata": {},
   "outputs": [],
   "source": [
    "# Step 3-1\n",
    "df6_a = df6[df6['SCORE'] <= 5]\n",
    "df6_b = df6[(df6['SCORE'] <=7) & (df6['SCORE']>5)]\n",
    "df6_c = df6[(df6['SCORE'] <=10) & (df6['SCORE']>7)]"
   ]
  },
  {
   "cell_type": "code",
   "execution_count": 14,
   "id": "96d92747",
   "metadata": {},
   "outputs": [],
   "source": [
    "from sklearn.ensemble import RandomForestRegressor\n",
    "\n",
    "# Step 3-2\n",
    "rf_a = RandomForestRegressor(random_state=1234, n_estimators = 10, min_samples_leaf = 10)\n",
    "rf_b = RandomForestRegressor(random_state=1234, n_estimators = 10, min_samples_leaf = 10)\n",
    "rf_c = RandomForestRegressor(random_state=1234, n_estimators = 10, min_samples_leaf= 10)\n",
    "\n",
    "train_a_y = df6_a['SCORE']\n",
    "train_a_x = df6_a.drop(columns=['EMP_ID','SCORE'])\n",
    "\n",
    "train_b_y = df6_b['SCORE']\n",
    "train_b_x = df6_b.drop(columns=['EMP_ID','SCORE'])\n",
    "\n",
    "train_c_y = df6_c['SCORE']\n",
    "train_c_x = df6_c.drop(columns=['EMP_ID','SCORE'])\n",
    "\n",
    "rf_a.fit(train_a_x, train_a_y)\n",
    "a_fi = rf_a.feature_importances_\n",
    "\n",
    "rf_b.fit(train_b_x, train_b_y)\n",
    "b_fi = rf_b.feature_importances_\n",
    "\n",
    "rf_c.fit(train_c_x, train_c_y)\n",
    "c_fi = rf_c.feature_importances_"
   ]
  },
  {
   "cell_type": "code",
   "execution_count": 15,
   "id": "0f6eba4d",
   "metadata": {},
   "outputs": [],
   "source": [
    "# Step 3-3 Compare Feature Importance "
   ]
  },
  {
   "cell_type": "code",
   "execution_count": 16,
   "id": "fceb674c",
   "metadata": {},
   "outputs": [
    {
     "data": {
      "text/plain": [
       "array([0.1       , 0.28329769, 0.6       , 0.        , 0.        ,\n",
       "       0.01670231])"
      ]
     },
     "execution_count": 16,
     "metadata": {},
     "output_type": "execute_result"
    }
   ],
   "source": [
    "a_fi"
   ]
  },
  {
   "cell_type": "code",
   "execution_count": 17,
   "id": "accf06ba",
   "metadata": {},
   "outputs": [
    {
     "data": {
      "text/plain": [
       "array([0.02380331, 0.00271996, 0.03890917, 0.74317753, 0.16952741,\n",
       "       0.02186262])"
      ]
     },
     "execution_count": 17,
     "metadata": {},
     "output_type": "execute_result"
    }
   ],
   "source": [
    "b_fi"
   ]
  },
  {
   "cell_type": "code",
   "execution_count": 18,
   "id": "a86bfc1b",
   "metadata": {
    "scrolled": true
   },
   "outputs": [
    {
     "data": {
      "text/plain": [
       "array([0.        , 0.0074127 , 0.17934068, 0.10480842, 0.6058609 ,\n",
       "       0.1025773 ])"
      ]
     },
     "execution_count": 18,
     "metadata": {},
     "output_type": "execute_result"
    }
   ],
   "source": [
    "c_fi"
   ]
  },
  {
   "cell_type": "code",
   "execution_count": 19,
   "id": "ead89b12",
   "metadata": {},
   "outputs": [],
   "source": [
    "res = a_fi.max() + b_fi.max() + c_fi.max()"
   ]
  },
  {
   "cell_type": "code",
   "execution_count": 20,
   "id": "a2839ccd",
   "metadata": {},
   "outputs": [
    {
     "name": "stdout",
     "output_type": "stream",
     "text": [
      "Q3 Result: 1.9490384300673917\n",
      "Q3 Answer: 1.95\n"
     ]
    }
   ],
   "source": [
    "print('Q3 Result:', res)\n",
    "print('Q3 Answer:', round(res, 2))"
   ]
  },
  {
   "cell_type": "code",
   "execution_count": null,
   "id": "5d5c787c",
   "metadata": {},
   "outputs": [],
   "source": []
  }
 ],
 "metadata": {
  "kernelspec": {
   "display_name": "Python 3 (ipykernel)",
   "language": "python",
   "name": "python3"
  },
  "language_info": {
   "codemirror_mode": {
    "name": "ipython",
    "version": 3
   },
   "file_extension": ".py",
   "mimetype": "text/x-python",
   "name": "python",
   "nbconvert_exporter": "python",
   "pygments_lexer": "ipython3",
   "version": "3.7.4"
  }
 },
 "nbformat": 4,
 "nbformat_minor": 5
}
