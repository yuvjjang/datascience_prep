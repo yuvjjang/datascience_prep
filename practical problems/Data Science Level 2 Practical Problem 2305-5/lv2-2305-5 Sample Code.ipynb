{
 "cells": [
  {
   "cell_type": "markdown",
   "id": "4b848754",
   "metadata": {},
   "source": [
    "## <span style='background-color:#fff651'> Data Science Level 2 Practical Problem 2305-5 </span>"
   ]
  },
  {
   "cell_type": "code",
   "execution_count": 1,
   "id": "2d9ed952",
   "metadata": {},
   "outputs": [
    {
     "name": "stdout",
     "output_type": "stream",
     "text": [
      "<class 'pandas.core.frame.DataFrame'>\n",
      "RangeIndex: 30308 entries, 0 to 30307\n",
      "Data columns (total 7 columns):\n",
      "USER_ID       30308 non-null int64\n",
      "PRD_CAT       30308 non-null int64\n",
      "PRD_ID        30308 non-null object\n",
      "GENDER        30308 non-null object\n",
      "AGE_GRP       30308 non-null object\n",
      "MARITAL_YN    30308 non-null int64\n",
      "PUR_AMT       30308 non-null int64\n",
      "dtypes: int64(4), object(3)\n",
      "memory usage: 1.6+ MB\n"
     ]
    }
   ],
   "source": [
    "import pandas as pd\n",
    "import numpy as np\n",
    "\n",
    "purchase = pd.read_csv('lv2-2305-5.csv')\n",
    "purchase.info()"
   ]
  },
  {
   "cell_type": "markdown",
   "id": "5232929c",
   "metadata": {},
   "source": [
    "### <span style='background-color:#fff651'> Question 1 </span>"
   ]
  },
  {
   "cell_type": "code",
   "execution_count": 2,
   "id": "bf73df48",
   "metadata": {},
   "outputs": [
    {
     "data": {
      "text/html": [
       "<div>\n",
       "<style scoped>\n",
       "    .dataframe tbody tr th:only-of-type {\n",
       "        vertical-align: middle;\n",
       "    }\n",
       "\n",
       "    .dataframe tbody tr th {\n",
       "        vertical-align: top;\n",
       "    }\n",
       "\n",
       "    .dataframe thead th {\n",
       "        text-align: right;\n",
       "    }\n",
       "</style>\n",
       "<table border=\"1\" class=\"dataframe\">\n",
       "  <thead>\n",
       "    <tr style=\"text-align: right;\">\n",
       "      <th></th>\n",
       "      <th>MARITAL_YN</th>\n",
       "      <th>USER_ID</th>\n",
       "      <th>CAT1_AMT</th>\n",
       "      <th>CAT2_AMT</th>\n",
       "      <th>CAT3_AMT</th>\n",
       "    </tr>\n",
       "  </thead>\n",
       "  <tbody>\n",
       "    <tr>\n",
       "      <td>0</td>\n",
       "      <td>0</td>\n",
       "      <td>1000003</td>\n",
       "      <td>162439</td>\n",
       "      <td>29054</td>\n",
       "      <td>10906</td>\n",
       "    </tr>\n",
       "    <tr>\n",
       "      <td>1</td>\n",
       "      <td>0</td>\n",
       "      <td>1000006</td>\n",
       "      <td>93457</td>\n",
       "      <td>35997</td>\n",
       "      <td>59314</td>\n",
       "    </tr>\n",
       "    <tr>\n",
       "      <td>2</td>\n",
       "      <td>0</td>\n",
       "      <td>1000009</td>\n",
       "      <td>78545</td>\n",
       "      <td>0</td>\n",
       "      <td>21602</td>\n",
       "    </tr>\n",
       "    <tr>\n",
       "      <td>3</td>\n",
       "      <td>0</td>\n",
       "      <td>1000011</td>\n",
       "      <td>58290</td>\n",
       "      <td>13852</td>\n",
       "      <td>2663</td>\n",
       "    </tr>\n",
       "    <tr>\n",
       "      <td>4</td>\n",
       "      <td>0</td>\n",
       "      <td>1000012</td>\n",
       "      <td>46368</td>\n",
       "      <td>12788</td>\n",
       "      <td>0</td>\n",
       "    </tr>\n",
       "  </tbody>\n",
       "</table>\n",
       "</div>"
      ],
      "text/plain": [
       "   MARITAL_YN  USER_ID  CAT1_AMT  CAT2_AMT  CAT3_AMT\n",
       "0           0  1000003    162439     29054     10906\n",
       "1           0  1000006     93457     35997     59314\n",
       "2           0  1000009     78545         0     21602\n",
       "3           0  1000011     58290     13852      2663\n",
       "4           0  1000012     46368     12788         0"
      ]
     },
     "execution_count": 2,
     "metadata": {},
     "output_type": "execute_result"
    }
   ],
   "source": [
    "# Step 1-1\n",
    "df1 = purchase.pivot_table(index=['MARITAL_YN','USER_ID'], columns='PRD_CAT', values='PUR_AMT', aggfunc=sum, fill_value=0).reset_index().rename_axis(None, axis=1)\n",
    "df1.columns = ['MARITAL_YN','USER_ID','CAT1_AMT','CAT2_AMT','CAT3_AMT']\n",
    "df1.head()"
   ]
  },
  {
   "cell_type": "code",
   "execution_count": 3,
   "id": "7f3f43e6",
   "metadata": {},
   "outputs": [
    {
     "data": {
      "text/html": [
       "<div>\n",
       "<style scoped>\n",
       "    .dataframe tbody tr th:only-of-type {\n",
       "        vertical-align: middle;\n",
       "    }\n",
       "\n",
       "    .dataframe tbody tr th {\n",
       "        vertical-align: top;\n",
       "    }\n",
       "\n",
       "    .dataframe thead th {\n",
       "        text-align: right;\n",
       "    }\n",
       "</style>\n",
       "<table border=\"1\" class=\"dataframe\">\n",
       "  <thead>\n",
       "    <tr style=\"text-align: right;\">\n",
       "      <th></th>\n",
       "      <th>CAT1_AMT</th>\n",
       "      <th>CAT2_AMT</th>\n",
       "      <th>CAT3_AMT</th>\n",
       "    </tr>\n",
       "  </thead>\n",
       "  <tbody>\n",
       "    <tr>\n",
       "      <td>CAT1_AMT</td>\n",
       "      <td>NaN</td>\n",
       "      <td>0.728646</td>\n",
       "      <td>0.553856</td>\n",
       "    </tr>\n",
       "    <tr>\n",
       "      <td>CAT2_AMT</td>\n",
       "      <td>0.728646</td>\n",
       "      <td>NaN</td>\n",
       "      <td>0.650382</td>\n",
       "    </tr>\n",
       "    <tr>\n",
       "      <td>CAT3_AMT</td>\n",
       "      <td>0.553856</td>\n",
       "      <td>0.650382</td>\n",
       "      <td>NaN</td>\n",
       "    </tr>\n",
       "  </tbody>\n",
       "</table>\n",
       "</div>"
      ],
      "text/plain": [
       "          CAT1_AMT  CAT2_AMT  CAT3_AMT\n",
       "CAT1_AMT       NaN  0.728646  0.553856\n",
       "CAT2_AMT  0.728646       NaN  0.650382\n",
       "CAT3_AMT  0.553856  0.650382       NaN"
      ]
     },
     "execution_count": 3,
     "metadata": {},
     "output_type": "execute_result"
    }
   ],
   "source": [
    "# Step 1-2\n",
    "cor0 = df1[df1['MARITAL_YN']==0][['CAT1_AMT','CAT2_AMT','CAT3_AMT']].corr()\n",
    "for i in [0,1,2]:\n",
    "    cor0.iloc[i,i] = np.nan\n",
    "cor0"
   ]
  },
  {
   "cell_type": "code",
   "execution_count": 4,
   "id": "8924a92d",
   "metadata": {},
   "outputs": [
    {
     "data": {
      "text/html": [
       "<div>\n",
       "<style scoped>\n",
       "    .dataframe tbody tr th:only-of-type {\n",
       "        vertical-align: middle;\n",
       "    }\n",
       "\n",
       "    .dataframe tbody tr th {\n",
       "        vertical-align: top;\n",
       "    }\n",
       "\n",
       "    .dataframe thead th {\n",
       "        text-align: right;\n",
       "    }\n",
       "</style>\n",
       "<table border=\"1\" class=\"dataframe\">\n",
       "  <thead>\n",
       "    <tr style=\"text-align: right;\">\n",
       "      <th></th>\n",
       "      <th>CAT1_AMT</th>\n",
       "      <th>CAT2_AMT</th>\n",
       "      <th>CAT3_AMT</th>\n",
       "    </tr>\n",
       "  </thead>\n",
       "  <tbody>\n",
       "    <tr>\n",
       "      <td>CAT1_AMT</td>\n",
       "      <td>NaN</td>\n",
       "      <td>0.695264</td>\n",
       "      <td>0.509462</td>\n",
       "    </tr>\n",
       "    <tr>\n",
       "      <td>CAT2_AMT</td>\n",
       "      <td>0.695264</td>\n",
       "      <td>NaN</td>\n",
       "      <td>0.709962</td>\n",
       "    </tr>\n",
       "    <tr>\n",
       "      <td>CAT3_AMT</td>\n",
       "      <td>0.509462</td>\n",
       "      <td>0.709962</td>\n",
       "      <td>NaN</td>\n",
       "    </tr>\n",
       "  </tbody>\n",
       "</table>\n",
       "</div>"
      ],
      "text/plain": [
       "          CAT1_AMT  CAT2_AMT  CAT3_AMT\n",
       "CAT1_AMT       NaN  0.695264  0.509462\n",
       "CAT2_AMT  0.695264       NaN  0.709962\n",
       "CAT3_AMT  0.509462  0.709962       NaN"
      ]
     },
     "execution_count": 4,
     "metadata": {},
     "output_type": "execute_result"
    }
   ],
   "source": [
    "cor1 = df1[df1['MARITAL_YN']==1][['CAT1_AMT','CAT2_AMT','CAT3_AMT']].corr()\n",
    "for i in [0,1,2]:\n",
    "    cor1.iloc[i,i] = np.nan\n",
    "cor1"
   ]
  },
  {
   "cell_type": "code",
   "execution_count": 5,
   "id": "4744fb3c",
   "metadata": {},
   "outputs": [
    {
     "name": "stdout",
     "output_type": "stream",
     "text": [
      "A: 0.7286459763376788 ,B: 0.5094616685957604 ,C: 0.21918430774191844\n"
     ]
    }
   ],
   "source": [
    "# Step 1-3\n",
    "A = np.max(np.max(np.abs(cor0)))\n",
    "B = np.min(np.min(np.abs(cor1)))\n",
    "C = np.abs(A - B)\n",
    "print('A:',A, ',B:',B, ',C:',C)"
   ]
  },
  {
   "cell_type": "code",
   "execution_count": 6,
   "id": "710112f1",
   "metadata": {},
   "outputs": [
    {
     "name": "stdout",
     "output_type": "stream",
     "text": [
      "0.219\n"
     ]
    }
   ],
   "source": [
    "# Answer 1\n",
    "ans21 = np.round(C, 3)\n",
    "print(ans21)"
   ]
  },
  {
   "cell_type": "markdown",
   "id": "15a13311",
   "metadata": {},
   "source": [
    "### <span style='background-color:#fff651'> Question 2</span>"
   ]
  },
  {
   "cell_type": "code",
   "execution_count": 7,
   "id": "ef7592a9",
   "metadata": {},
   "outputs": [
    {
     "data": {
      "text/html": [
       "<div>\n",
       "<style scoped>\n",
       "    .dataframe tbody tr th:only-of-type {\n",
       "        vertical-align: middle;\n",
       "    }\n",
       "\n",
       "    .dataframe tbody tr th {\n",
       "        vertical-align: top;\n",
       "    }\n",
       "\n",
       "    .dataframe thead th {\n",
       "        text-align: right;\n",
       "    }\n",
       "</style>\n",
       "<table border=\"1\" class=\"dataframe\">\n",
       "  <thead>\n",
       "    <tr style=\"text-align: right;\">\n",
       "      <th></th>\n",
       "      <th>USER_ID</th>\n",
       "      <th>PRD_CAT</th>\n",
       "      <th>PRD_ID</th>\n",
       "      <th>GENDER</th>\n",
       "      <th>AGE_GRP</th>\n",
       "      <th>MARITAL_YN</th>\n",
       "      <th>PUR_AMT</th>\n",
       "    </tr>\n",
       "  </thead>\n",
       "  <tbody>\n",
       "    <tr>\n",
       "      <td>0</td>\n",
       "      <td>1001395</td>\n",
       "      <td>1</td>\n",
       "      <td>P00270942</td>\n",
       "      <td>M</td>\n",
       "      <td>26-35</td>\n",
       "      <td>1</td>\n",
       "      <td>11535</td>\n",
       "    </tr>\n",
       "    <tr>\n",
       "      <td>1</td>\n",
       "      <td>1001004</td>\n",
       "      <td>3</td>\n",
       "      <td>P00004842</td>\n",
       "      <td>M</td>\n",
       "      <td>26-35</td>\n",
       "      <td>0</td>\n",
       "      <td>5724</td>\n",
       "    </tr>\n",
       "    <tr>\n",
       "      <td>2</td>\n",
       "      <td>1000819</td>\n",
       "      <td>1</td>\n",
       "      <td>P00036842</td>\n",
       "      <td>M</td>\n",
       "      <td>36-45</td>\n",
       "      <td>0</td>\n",
       "      <td>11787</td>\n",
       "    </tr>\n",
       "    <tr>\n",
       "      <td>3</td>\n",
       "      <td>1001611</td>\n",
       "      <td>1</td>\n",
       "      <td>P00127742</td>\n",
       "      <td>M</td>\n",
       "      <td>26-35</td>\n",
       "      <td>0</td>\n",
       "      <td>8125</td>\n",
       "    </tr>\n",
       "    <tr>\n",
       "      <td>4</td>\n",
       "      <td>1000438</td>\n",
       "      <td>1</td>\n",
       "      <td>P00129342</td>\n",
       "      <td>M</td>\n",
       "      <td>18-25</td>\n",
       "      <td>0</td>\n",
       "      <td>19096</td>\n",
       "    </tr>\n",
       "    <tr>\n",
       "      <td>...</td>\n",
       "      <td>...</td>\n",
       "      <td>...</td>\n",
       "      <td>...</td>\n",
       "      <td>...</td>\n",
       "      <td>...</td>\n",
       "      <td>...</td>\n",
       "      <td>...</td>\n",
       "    </tr>\n",
       "    <tr>\n",
       "      <td>30303</td>\n",
       "      <td>1001449</td>\n",
       "      <td>3</td>\n",
       "      <td>P00294442</td>\n",
       "      <td>M</td>\n",
       "      <td>36-45</td>\n",
       "      <td>1</td>\n",
       "      <td>5612</td>\n",
       "    </tr>\n",
       "    <tr>\n",
       "      <td>30304</td>\n",
       "      <td>1001694</td>\n",
       "      <td>1</td>\n",
       "      <td>P00034442</td>\n",
       "      <td>M</td>\n",
       "      <td>26-35</td>\n",
       "      <td>1</td>\n",
       "      <td>15501</td>\n",
       "    </tr>\n",
       "    <tr>\n",
       "      <td>30305</td>\n",
       "      <td>1000889</td>\n",
       "      <td>1</td>\n",
       "      <td>P00249742</td>\n",
       "      <td>M</td>\n",
       "      <td>46-50</td>\n",
       "      <td>0</td>\n",
       "      <td>4020</td>\n",
       "    </tr>\n",
       "    <tr>\n",
       "      <td>30306</td>\n",
       "      <td>1000714</td>\n",
       "      <td>1</td>\n",
       "      <td>P00193542</td>\n",
       "      <td>M</td>\n",
       "      <td>18-25</td>\n",
       "      <td>0</td>\n",
       "      <td>19342</td>\n",
       "    </tr>\n",
       "    <tr>\n",
       "      <td>30307</td>\n",
       "      <td>1000387</td>\n",
       "      <td>2</td>\n",
       "      <td>P00000242</td>\n",
       "      <td>F</td>\n",
       "      <td>36-45</td>\n",
       "      <td>0</td>\n",
       "      <td>13107</td>\n",
       "    </tr>\n",
       "  </tbody>\n",
       "</table>\n",
       "<p>30308 rows × 7 columns</p>\n",
       "</div>"
      ],
      "text/plain": [
       "       USER_ID  PRD_CAT     PRD_ID GENDER AGE_GRP  MARITAL_YN  PUR_AMT\n",
       "0      1001395        1  P00270942      M   26-35           1    11535\n",
       "1      1001004        3  P00004842      M   26-35           0     5724\n",
       "2      1000819        1  P00036842      M   36-45           0    11787\n",
       "3      1001611        1  P00127742      M   26-35           0     8125\n",
       "4      1000438        1  P00129342      M   18-25           0    19096\n",
       "...        ...      ...        ...    ...     ...         ...      ...\n",
       "30303  1001449        3  P00294442      M   36-45           1     5612\n",
       "30304  1001694        1  P00034442      M   26-35           1    15501\n",
       "30305  1000889        1  P00249742      M   46-50           0     4020\n",
       "30306  1000714        1  P00193542      M   18-25           0    19342\n",
       "30307  1000387        2  P00000242      F   36-45           0    13107\n",
       "\n",
       "[30308 rows x 7 columns]"
      ]
     },
     "execution_count": 7,
     "metadata": {},
     "output_type": "execute_result"
    }
   ],
   "source": [
    "purchase"
   ]
  },
  {
   "cell_type": "code",
   "execution_count": 8,
   "id": "9d365cc5",
   "metadata": {
    "scrolled": true
   },
   "outputs": [
    {
     "name": "stdout",
     "output_type": "stream",
     "text": [
      "(707, 6)\n"
     ]
    },
    {
     "data": {
      "text/html": [
       "<div>\n",
       "<style scoped>\n",
       "    .dataframe tbody tr th:only-of-type {\n",
       "        vertical-align: middle;\n",
       "    }\n",
       "\n",
       "    .dataframe tbody tr th {\n",
       "        vertical-align: top;\n",
       "    }\n",
       "\n",
       "    .dataframe thead th {\n",
       "        text-align: right;\n",
       "    }\n",
       "</style>\n",
       "<table border=\"1\" class=\"dataframe\">\n",
       "  <thead>\n",
       "    <tr style=\"text-align: right;\">\n",
       "      <th></th>\n",
       "      <th>PRD_ID</th>\n",
       "      <th>AGE1_AMT</th>\n",
       "      <th>AGE2_AMT</th>\n",
       "      <th>AGE3_AMT</th>\n",
       "      <th>AGE4_AMT</th>\n",
       "      <th>AGE5_AMT</th>\n",
       "    </tr>\n",
       "  </thead>\n",
       "  <tbody>\n",
       "    <tr>\n",
       "      <td>0</td>\n",
       "      <td>P00000142</td>\n",
       "      <td>532314</td>\n",
       "      <td>857816</td>\n",
       "      <td>410458</td>\n",
       "      <td>110167</td>\n",
       "      <td>78328</td>\n",
       "    </tr>\n",
       "    <tr>\n",
       "      <td>1</td>\n",
       "      <td>P00000242</td>\n",
       "      <td>163997</td>\n",
       "      <td>254667</td>\n",
       "      <td>124015</td>\n",
       "      <td>88333</td>\n",
       "      <td>22685</td>\n",
       "    </tr>\n",
       "    <tr>\n",
       "      <td>2</td>\n",
       "      <td>P00000642</td>\n",
       "      <td>370517</td>\n",
       "      <td>574747</td>\n",
       "      <td>175068</td>\n",
       "      <td>47192</td>\n",
       "      <td>39675</td>\n",
       "    </tr>\n",
       "    <tr>\n",
       "      <td>3</td>\n",
       "      <td>P00000842</td>\n",
       "      <td>26105</td>\n",
       "      <td>0</td>\n",
       "      <td>0</td>\n",
       "      <td>0</td>\n",
       "      <td>0</td>\n",
       "    </tr>\n",
       "    <tr>\n",
       "      <td>4</td>\n",
       "      <td>P00000942</td>\n",
       "      <td>64393</td>\n",
       "      <td>51194</td>\n",
       "      <td>50653</td>\n",
       "      <td>0</td>\n",
       "      <td>0</td>\n",
       "    </tr>\n",
       "  </tbody>\n",
       "</table>\n",
       "</div>"
      ],
      "text/plain": [
       "      PRD_ID  AGE1_AMT  AGE2_AMT  AGE3_AMT  AGE4_AMT  AGE5_AMT\n",
       "0  P00000142    532314    857816    410458    110167     78328\n",
       "1  P00000242    163997    254667    124015     88333     22685\n",
       "2  P00000642    370517    574747    175068     47192     39675\n",
       "3  P00000842     26105         0         0         0         0\n",
       "4  P00000942     64393     51194     50653         0         0"
      ]
     },
     "execution_count": 8,
     "metadata": {},
     "output_type": "execute_result"
    }
   ],
   "source": [
    "# Step 2-1\n",
    "df2 = purchase.pivot_table(index=['PRD_ID'], columns='AGE_GRP', values='PUR_AMT', aggfunc=sum, fill_value=0).reset_index().rename_axis(None, axis=1)\n",
    "df2.columns = ['PRD_ID','AGE1_AMT','AGE2_AMT','AGE3_AMT','AGE4_AMT','AGE5_AMT']\n",
    "print(df2.shape)\n",
    "df2.head()"
   ]
  },
  {
   "cell_type": "code",
   "execution_count": 9,
   "id": "cce08887",
   "metadata": {},
   "outputs": [],
   "source": [
    "# Step 2-2\n",
    "from sklearn.preprocessing import StandardScaler \n",
    "\n",
    "df2z = pd.DataFrame(StandardScaler().fit_transform(df2.drop(columns='PRD_ID')))"
   ]
  },
  {
   "cell_type": "code",
   "execution_count": 10,
   "id": "865e645f",
   "metadata": {},
   "outputs": [],
   "source": [
    "# Step 2-3\n",
    "from sklearn.cluster import KMeans\n",
    "\n",
    "df2['CLST'] = KMeans(random_state=1234, n_clusters=3, init='random', n_init=50).fit_predict(df2z)"
   ]
  },
  {
   "cell_type": "code",
   "execution_count": 11,
   "id": "8c3881eb",
   "metadata": {},
   "outputs": [
    {
     "data": {
      "text/plain": [
       "CLST\n",
       "0    690486.000000\n",
       "1     46262.423792\n",
       "2    257342.686667\n",
       "Name: AGE3_AMT, dtype: float64"
      ]
     },
     "execution_count": 11,
     "metadata": {},
     "output_type": "execute_result"
    }
   ],
   "source": [
    "# Step 2-4\n",
    "df2_agg = df2.groupby('CLST').mean()['AGE3_AMT']\n",
    "df2_agg"
   ]
  },
  {
   "cell_type": "code",
   "execution_count": 12,
   "id": "237f3e79",
   "metadata": {},
   "outputs": [
    {
     "name": "stdout",
     "output_type": "stream",
     "text": [
      "46262.42379182156\n",
      "46262.0\n"
     ]
    }
   ],
   "source": [
    "# Answer 2\n",
    "print(np.min(df2_agg))\n",
    "ans22 = np.round(np.min(df2_agg), 0)\n",
    "print(ans22)"
   ]
  },
  {
   "cell_type": "markdown",
   "id": "6d30920c",
   "metadata": {},
   "source": [
    "### <span style='background-color:#fff651'> Question 3 </span>"
   ]
  },
  {
   "cell_type": "code",
   "execution_count": 13,
   "id": "6c9a0309",
   "metadata": {},
   "outputs": [
    {
     "data": {
      "text/html": [
       "<div>\n",
       "<style scoped>\n",
       "    .dataframe tbody tr th:only-of-type {\n",
       "        vertical-align: middle;\n",
       "    }\n",
       "\n",
       "    .dataframe tbody tr th {\n",
       "        vertical-align: top;\n",
       "    }\n",
       "\n",
       "    .dataframe thead th {\n",
       "        text-align: right;\n",
       "    }\n",
       "</style>\n",
       "<table border=\"1\" class=\"dataframe\">\n",
       "  <thead>\n",
       "    <tr style=\"text-align: right;\">\n",
       "      <th></th>\n",
       "      <th>USER_ID</th>\n",
       "      <th>CAT1</th>\n",
       "      <th>CAT2</th>\n",
       "      <th>CAT3</th>\n",
       "      <th>PRF_CAT</th>\n",
       "    </tr>\n",
       "  </thead>\n",
       "  <tbody>\n",
       "    <tr>\n",
       "      <td>0</td>\n",
       "      <td>1000003</td>\n",
       "      <td>162439</td>\n",
       "      <td>29054</td>\n",
       "      <td>10906</td>\n",
       "      <td>1</td>\n",
       "    </tr>\n",
       "    <tr>\n",
       "      <td>1</td>\n",
       "      <td>1000004</td>\n",
       "      <td>205987</td>\n",
       "      <td>0</td>\n",
       "      <td>0</td>\n",
       "      <td>1</td>\n",
       "    </tr>\n",
       "    <tr>\n",
       "      <td>2</td>\n",
       "      <td>1000005</td>\n",
       "      <td>104097</td>\n",
       "      <td>12841</td>\n",
       "      <td>10851</td>\n",
       "      <td>1</td>\n",
       "    </tr>\n",
       "    <tr>\n",
       "      <td>3</td>\n",
       "      <td>1000006</td>\n",
       "      <td>93457</td>\n",
       "      <td>35997</td>\n",
       "      <td>59314</td>\n",
       "      <td>1</td>\n",
       "    </tr>\n",
       "    <tr>\n",
       "      <td>4</td>\n",
       "      <td>1000007</td>\n",
       "      <td>158969</td>\n",
       "      <td>0</td>\n",
       "      <td>0</td>\n",
       "      <td>1</td>\n",
       "    </tr>\n",
       "  </tbody>\n",
       "</table>\n",
       "</div>"
      ],
      "text/plain": [
       "   USER_ID    CAT1   CAT2   CAT3  PRF_CAT\n",
       "0  1000003  162439  29054  10906        1\n",
       "1  1000004  205987      0      0        1\n",
       "2  1000005  104097  12841  10851        1\n",
       "3  1000006   93457  35997  59314        1\n",
       "4  1000007  158969      0      0        1"
      ]
     },
     "execution_count": 13,
     "metadata": {},
     "output_type": "execute_result"
    }
   ],
   "source": [
    "# Step 3-1\n",
    "df3_cat = purchase.pivot_table(index='USER_ID', columns='PRD_CAT', values='PUR_AMT', aggfunc= 'sum', fill_value = 0).reset_index().rename_axis(None, axis=1)\n",
    "df3_cat['MAX_CAT'] = df3_cat.drop(columns='USER_ID').idxmax(axis=1)\n",
    "df3_cat.columns = ['USER_ID','CAT1','CAT2','CAT3','PRF_CAT']\n",
    "df3_cat.head()"
   ]
  },
  {
   "cell_type": "code",
   "execution_count": 14,
   "id": "90a5f2a3",
   "metadata": {},
   "outputs": [
    {
     "data": {
      "text/html": [
       "<div>\n",
       "<style scoped>\n",
       "    .dataframe tbody tr th:only-of-type {\n",
       "        vertical-align: middle;\n",
       "    }\n",
       "\n",
       "    .dataframe tbody tr th {\n",
       "        vertical-align: top;\n",
       "    }\n",
       "\n",
       "    .dataframe thead th {\n",
       "        text-align: right;\n",
       "    }\n",
       "</style>\n",
       "<table border=\"1\" class=\"dataframe\">\n",
       "  <thead>\n",
       "    <tr style=\"text-align: right;\">\n",
       "      <th></th>\n",
       "      <th>USER_ID</th>\n",
       "      <th>GENDER</th>\n",
       "      <th>AGE_GRP</th>\n",
       "      <th>MARITAL_YN</th>\n",
       "      <th>TOT_AMT</th>\n",
       "      <th>PRF_CAT</th>\n",
       "    </tr>\n",
       "  </thead>\n",
       "  <tbody>\n",
       "    <tr>\n",
       "      <td>0</td>\n",
       "      <td>1000003</td>\n",
       "      <td>M</td>\n",
       "      <td>26-35</td>\n",
       "      <td>0</td>\n",
       "      <td>202399</td>\n",
       "      <td>1</td>\n",
       "    </tr>\n",
       "    <tr>\n",
       "      <td>1</td>\n",
       "      <td>1000004</td>\n",
       "      <td>M</td>\n",
       "      <td>46-50</td>\n",
       "      <td>1</td>\n",
       "      <td>205987</td>\n",
       "      <td>1</td>\n",
       "    </tr>\n",
       "    <tr>\n",
       "      <td>2</td>\n",
       "      <td>1000005</td>\n",
       "      <td>M</td>\n",
       "      <td>26-35</td>\n",
       "      <td>1</td>\n",
       "      <td>127789</td>\n",
       "      <td>1</td>\n",
       "    </tr>\n",
       "    <tr>\n",
       "      <td>3</td>\n",
       "      <td>1000006</td>\n",
       "      <td>F</td>\n",
       "      <td>51-55</td>\n",
       "      <td>0</td>\n",
       "      <td>188768</td>\n",
       "      <td>1</td>\n",
       "    </tr>\n",
       "    <tr>\n",
       "      <td>4</td>\n",
       "      <td>1000007</td>\n",
       "      <td>M</td>\n",
       "      <td>36-45</td>\n",
       "      <td>1</td>\n",
       "      <td>158969</td>\n",
       "      <td>1</td>\n",
       "    </tr>\n",
       "  </tbody>\n",
       "</table>\n",
       "</div>"
      ],
      "text/plain": [
       "   USER_ID GENDER AGE_GRP  MARITAL_YN  TOT_AMT  PRF_CAT\n",
       "0  1000003      M   26-35           0   202399        1\n",
       "1  1000004      M   46-50           1   205987        1\n",
       "2  1000005      M   26-35           1   127789        1\n",
       "3  1000006      F   51-55           0   188768        1\n",
       "4  1000007      M   36-45           1   158969        1"
      ]
     },
     "execution_count": 14,
     "metadata": {},
     "output_type": "execute_result"
    }
   ],
   "source": [
    "df3 = purchase.groupby(['USER_ID','GENDER','AGE_GRP','MARITAL_YN']).sum().reset_index().drop(columns='PRD_CAT')\n",
    "df3 = pd.merge(left=df3, right=df3_cat[['USER_ID','PRF_CAT']], how='inner', on='USER_ID')\n",
    "df3.rename(columns = {'PUR_AMT' : 'TOT_AMT'}, inplace = True)\n",
    "df3.head()"
   ]
  },
  {
   "cell_type": "code",
   "execution_count": 15,
   "id": "2217b4a1",
   "metadata": {},
   "outputs": [
    {
     "data": {
      "text/plain": [
       "(321, 6)"
      ]
     },
     "execution_count": 15,
     "metadata": {},
     "output_type": "execute_result"
    }
   ],
   "source": [
    "# Step 3-2\n",
    "q2 = df3.TOT_AMT.quantile(0.5)\n",
    "q3 = df3.TOT_AMT.quantile(0.75)\n",
    "df3_filtered = df3[(df3['TOT_AMT']>=q2)&(df3['TOT_AMT']<=q3)]\n",
    "df3_filtered.shape"
   ]
  },
  {
   "cell_type": "code",
   "execution_count": 16,
   "id": "94d1a220",
   "metadata": {},
   "outputs": [
    {
     "data": {
      "text/html": [
       "<div>\n",
       "<style scoped>\n",
       "    .dataframe tbody tr th:only-of-type {\n",
       "        vertical-align: middle;\n",
       "    }\n",
       "\n",
       "    .dataframe tbody tr th {\n",
       "        vertical-align: top;\n",
       "    }\n",
       "\n",
       "    .dataframe thead th {\n",
       "        text-align: right;\n",
       "    }\n",
       "</style>\n",
       "<table border=\"1\" class=\"dataframe\">\n",
       "  <thead>\n",
       "    <tr style=\"text-align: right;\">\n",
       "      <th></th>\n",
       "      <th>USER_ID</th>\n",
       "      <th>TOT_AMT</th>\n",
       "      <th>GENDER_F</th>\n",
       "      <th>GENDER_M</th>\n",
       "      <th>AGE_GRP_18-25</th>\n",
       "      <th>AGE_GRP_26-35</th>\n",
       "      <th>AGE_GRP_36-45</th>\n",
       "      <th>AGE_GRP_46-50</th>\n",
       "      <th>AGE_GRP_51-55</th>\n",
       "      <th>MARITAL_YN_0</th>\n",
       "      <th>MARITAL_YN_1</th>\n",
       "      <th>PRF_CAT_1</th>\n",
       "      <th>PRF_CAT_3</th>\n",
       "    </tr>\n",
       "  </thead>\n",
       "  <tbody>\n",
       "    <tr>\n",
       "      <td>0</td>\n",
       "      <td>1000003</td>\n",
       "      <td>202399</td>\n",
       "      <td>0</td>\n",
       "      <td>1</td>\n",
       "      <td>0</td>\n",
       "      <td>1</td>\n",
       "      <td>0</td>\n",
       "      <td>0</td>\n",
       "      <td>0</td>\n",
       "      <td>1</td>\n",
       "      <td>0</td>\n",
       "      <td>1</td>\n",
       "      <td>0</td>\n",
       "    </tr>\n",
       "    <tr>\n",
       "      <td>1</td>\n",
       "      <td>1000004</td>\n",
       "      <td>205987</td>\n",
       "      <td>0</td>\n",
       "      <td>1</td>\n",
       "      <td>0</td>\n",
       "      <td>0</td>\n",
       "      <td>0</td>\n",
       "      <td>1</td>\n",
       "      <td>0</td>\n",
       "      <td>0</td>\n",
       "      <td>1</td>\n",
       "      <td>1</td>\n",
       "      <td>0</td>\n",
       "    </tr>\n",
       "    <tr>\n",
       "      <td>3</td>\n",
       "      <td>1000006</td>\n",
       "      <td>188768</td>\n",
       "      <td>1</td>\n",
       "      <td>0</td>\n",
       "      <td>0</td>\n",
       "      <td>0</td>\n",
       "      <td>0</td>\n",
       "      <td>0</td>\n",
       "      <td>1</td>\n",
       "      <td>1</td>\n",
       "      <td>0</td>\n",
       "      <td>1</td>\n",
       "      <td>0</td>\n",
       "    </tr>\n",
       "    <tr>\n",
       "      <td>8</td>\n",
       "      <td>1000013</td>\n",
       "      <td>410999</td>\n",
       "      <td>0</td>\n",
       "      <td>1</td>\n",
       "      <td>0</td>\n",
       "      <td>0</td>\n",
       "      <td>0</td>\n",
       "      <td>1</td>\n",
       "      <td>0</td>\n",
       "      <td>0</td>\n",
       "      <td>1</td>\n",
       "      <td>1</td>\n",
       "      <td>0</td>\n",
       "    </tr>\n",
       "    <tr>\n",
       "      <td>10</td>\n",
       "      <td>1000015</td>\n",
       "      <td>242334</td>\n",
       "      <td>0</td>\n",
       "      <td>1</td>\n",
       "      <td>0</td>\n",
       "      <td>1</td>\n",
       "      <td>0</td>\n",
       "      <td>0</td>\n",
       "      <td>0</td>\n",
       "      <td>1</td>\n",
       "      <td>0</td>\n",
       "      <td>1</td>\n",
       "      <td>0</td>\n",
       "    </tr>\n",
       "  </tbody>\n",
       "</table>\n",
       "</div>"
      ],
      "text/plain": [
       "    USER_ID  TOT_AMT  GENDER_F  GENDER_M  AGE_GRP_18-25  AGE_GRP_26-35  \\\n",
       "0   1000003   202399         0         1              0              1   \n",
       "1   1000004   205987         0         1              0              0   \n",
       "3   1000006   188768         1         0              0              0   \n",
       "8   1000013   410999         0         1              0              0   \n",
       "10  1000015   242334         0         1              0              1   \n",
       "\n",
       "    AGE_GRP_36-45  AGE_GRP_46-50  AGE_GRP_51-55  MARITAL_YN_0  MARITAL_YN_1  \\\n",
       "0               0              0              0             1             0   \n",
       "1               0              1              0             0             1   \n",
       "3               0              0              1             1             0   \n",
       "8               0              1              0             0             1   \n",
       "10              0              0              0             1             0   \n",
       "\n",
       "    PRF_CAT_1  PRF_CAT_3  \n",
       "0           1          0  \n",
       "1           1          0  \n",
       "3           1          0  \n",
       "8           1          0  \n",
       "10          1          0  "
      ]
     },
     "execution_count": 16,
     "metadata": {},
     "output_type": "execute_result"
    }
   ],
   "source": [
    "# Step 3-3\n",
    "df3_dummies = pd.get_dummies(df3_filtered[['GENDER','AGE_GRP','MARITAL_YN','PRF_CAT']].astype(str))\n",
    "df3 = df3_filtered.drop(columns=['GENDER','AGE_GRP','MARITAL_YN','PRF_CAT']).join(df3_dummies)\n",
    "df3 = df3.sort_values('USER_ID')\n",
    "df3.head()"
   ]
  },
  {
   "cell_type": "code",
   "execution_count": 17,
   "id": "a2113da3",
   "metadata": {},
   "outputs": [
    {
     "data": {
      "text/plain": [
       "1    311\n",
       "3     10\n",
       "Name: PRF_CAT, dtype: int64"
      ]
     },
     "execution_count": 17,
     "metadata": {},
     "output_type": "execute_result"
    }
   ],
   "source": [
    "df3_filtered['PRF_CAT'].value_counts()"
   ]
  },
  {
   "cell_type": "code",
   "execution_count": 18,
   "id": "1988adfd",
   "metadata": {},
   "outputs": [
    {
     "data": {
      "text/plain": [
       "Index(['USER_ID', 'TOT_AMT', 'GENDER_F', 'GENDER_M', 'AGE_GRP_18-25',\n",
       "       'AGE_GRP_26-35', 'AGE_GRP_36-45', 'AGE_GRP_46-50', 'AGE_GRP_51-55',\n",
       "       'MARITAL_YN_0', 'MARITAL_YN_1', 'PRF_CAT_1', 'PRF_CAT_3'],\n",
       "      dtype='object')"
      ]
     },
     "execution_count": 18,
     "metadata": {},
     "output_type": "execute_result"
    }
   ],
   "source": [
    "df3.columns"
   ]
  },
  {
   "cell_type": "code",
   "execution_count": 19,
   "id": "878347de",
   "metadata": {},
   "outputs": [
    {
     "name": "stdout",
     "output_type": "stream",
     "text": [
      "(248, 12) (73, 12)\n"
     ]
    }
   ],
   "source": [
    "# Step 3-4\n",
    "train3 = df3[df3['USER_ID']%4!=0].drop(columns='USER_ID')\n",
    "test3 = df3[df3['USER_ID']%4==0].drop(columns='USER_ID')\n",
    "print(train3.shape, test3.shape)"
   ]
  },
  {
   "cell_type": "code",
   "execution_count": 20,
   "id": "e95b6c13",
   "metadata": {},
   "outputs": [
    {
     "data": {
      "text/plain": [
       "DecisionTreeRegressor(criterion='mse', max_depth=6, max_features=None,\n",
       "                      max_leaf_nodes=None, min_impurity_decrease=0.0,\n",
       "                      min_impurity_split=None, min_samples_leaf=1,\n",
       "                      min_samples_split=2, min_weight_fraction_leaf=0.0,\n",
       "                      presort=False, random_state=1234, splitter='best')"
      ]
     },
     "execution_count": 20,
     "metadata": {},
     "output_type": "execute_result"
    }
   ],
   "source": [
    "# Step 3-5\n",
    "from sklearn.tree import DecisionTreeRegressor\n",
    "\n",
    "dtr = DecisionTreeRegressor(random_state=1234, max_depth=6)\n",
    "dtr.fit(train3.drop(columns='TOT_AMT'), train3.TOT_AMT)"
   ]
  },
  {
   "cell_type": "code",
   "execution_count": 18,
   "id": "3955bda4",
   "metadata": {},
   "outputs": [
    {
     "data": {
      "text/plain": [
       "26.53749944749592"
      ]
     },
     "execution_count": 18,
     "metadata": {},
     "output_type": "execute_result"
    }
   ],
   "source": [
    "# Step 23-6\n",
    "y = dtr.predict(test3.drop(columns='TOT_AMT'))\n",
    "np.mean(abs((y-test3.TOT_AMT)/test3.TOT_AMT))*100"
   ]
  },
  {
   "cell_type": "code",
   "execution_count": 19,
   "id": "085ab630",
   "metadata": {},
   "outputs": [
    {
     "data": {
      "text/plain": [
       "26.54"
      ]
     },
     "execution_count": 19,
     "metadata": {},
     "output_type": "execute_result"
    }
   ],
   "source": [
    "# Answer 23\n",
    "ans23 = np.round(np.mean(abs((y-test3.TOT_AMT)/test3.TOT_AMT))*100, 2)\n",
    "ans23                 "
   ]
  }
 ],
 "metadata": {
  "kernelspec": {
   "display_name": "Python 3 (ipykernel)",
   "language": "python",
   "name": "python3"
  },
  "language_info": {
   "codemirror_mode": {
    "name": "ipython",
    "version": 3
   },
   "file_extension": ".py",
   "mimetype": "text/x-python",
   "name": "python",
   "nbconvert_exporter": "python",
   "pygments_lexer": "ipython3",
   "version": "3.7.4"
  }
 },
 "nbformat": 4,
 "nbformat_minor": 5
}
