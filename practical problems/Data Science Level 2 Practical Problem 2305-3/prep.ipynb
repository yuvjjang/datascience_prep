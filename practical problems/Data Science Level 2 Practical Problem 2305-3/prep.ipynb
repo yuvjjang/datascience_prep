{
 "cells": [
  {
   "cell_type": "code",
   "execution_count": 2,
   "metadata": {},
   "outputs": [],
   "source": [
    "import pandas as pd"
   ]
  },
  {
   "cell_type": "code",
   "execution_count": 76,
   "metadata": {},
   "outputs": [],
   "source": [
    "df = pd.read_csv(\"lv2-2305-3.csv\")"
   ]
  },
  {
   "cell_type": "code",
   "execution_count": 77,
   "metadata": {},
   "outputs": [
    {
     "data": {
      "text/html": [
       "<div>\n",
       "<style scoped>\n",
       "    .dataframe tbody tr th:only-of-type {\n",
       "        vertical-align: middle;\n",
       "    }\n",
       "\n",
       "    .dataframe tbody tr th {\n",
       "        vertical-align: top;\n",
       "    }\n",
       "\n",
       "    .dataframe thead th {\n",
       "        text-align: right;\n",
       "    }\n",
       "</style>\n",
       "<table border=\"1\" class=\"dataframe\">\n",
       "  <thead>\n",
       "    <tr style=\"text-align: right;\">\n",
       "      <th></th>\n",
       "      <th>OBS_DT</th>\n",
       "      <th>RADIATION</th>\n",
       "      <th>TEMPERATURE</th>\n",
       "      <th>PRESSURE</th>\n",
       "      <th>HUMIDITY</th>\n",
       "      <th>WIND_DIRECTION</th>\n",
       "      <th>WIND_SPEED</th>\n",
       "      <th>TIME_SUNRISE</th>\n",
       "      <th>TIME_SUNSET</th>\n",
       "    </tr>\n",
       "  </thead>\n",
       "  <tbody>\n",
       "    <tr>\n",
       "      <td>0</td>\n",
       "      <td>2022-09-29 23:55:26</td>\n",
       "      <td>1.21</td>\n",
       "      <td>48.0</td>\n",
       "      <td>30.46</td>\n",
       "      <td>59.0</td>\n",
       "      <td>177.39</td>\n",
       "      <td>5.62</td>\n",
       "      <td>06:13:00</td>\n",
       "      <td>18:13:00</td>\n",
       "    </tr>\n",
       "    <tr>\n",
       "      <td>1</td>\n",
       "      <td>2022-09-29 23:50:23</td>\n",
       "      <td>1.21</td>\n",
       "      <td>48.0</td>\n",
       "      <td>30.46</td>\n",
       "      <td>58.0</td>\n",
       "      <td>176.78</td>\n",
       "      <td>3.37</td>\n",
       "      <td>06:13:00</td>\n",
       "      <td>18:13:00</td>\n",
       "    </tr>\n",
       "    <tr>\n",
       "      <td>2</td>\n",
       "      <td>2022-09-29 23:45:26</td>\n",
       "      <td>1.23</td>\n",
       "      <td>48.0</td>\n",
       "      <td>30.46</td>\n",
       "      <td>57.0</td>\n",
       "      <td>158.75</td>\n",
       "      <td>3.37</td>\n",
       "      <td>06:13:00</td>\n",
       "      <td>18:13:00</td>\n",
       "    </tr>\n",
       "    <tr>\n",
       "      <td>3</td>\n",
       "      <td>2022-09-29 23:40:21</td>\n",
       "      <td>1.21</td>\n",
       "      <td>48.0</td>\n",
       "      <td>30.46</td>\n",
       "      <td>60.0</td>\n",
       "      <td>137.71</td>\n",
       "      <td>3.37</td>\n",
       "      <td>06:13:00</td>\n",
       "      <td>18:13:00</td>\n",
       "    </tr>\n",
       "    <tr>\n",
       "      <td>4</td>\n",
       "      <td>2022-09-29 23:35:24</td>\n",
       "      <td>1.17</td>\n",
       "      <td>48.0</td>\n",
       "      <td>30.46</td>\n",
       "      <td>62.0</td>\n",
       "      <td>104.95</td>\n",
       "      <td>5.62</td>\n",
       "      <td>06:13:00</td>\n",
       "      <td>18:13:00</td>\n",
       "    </tr>\n",
       "  </tbody>\n",
       "</table>\n",
       "</div>"
      ],
      "text/plain": [
       "                OBS_DT  RADIATION  TEMPERATURE  PRESSURE  HUMIDITY  \\\n",
       "0  2022-09-29 23:55:26       1.21         48.0     30.46      59.0   \n",
       "1  2022-09-29 23:50:23       1.21         48.0     30.46      58.0   \n",
       "2  2022-09-29 23:45:26       1.23         48.0     30.46      57.0   \n",
       "3  2022-09-29 23:40:21       1.21         48.0     30.46      60.0   \n",
       "4  2022-09-29 23:35:24       1.17         48.0     30.46      62.0   \n",
       "\n",
       "   WIND_DIRECTION  WIND_SPEED TIME_SUNRISE TIME_SUNSET  \n",
       "0          177.39        5.62     06:13:00    18:13:00  \n",
       "1          176.78        3.37     06:13:00    18:13:00  \n",
       "2          158.75        3.37     06:13:00    18:13:00  \n",
       "3          137.71        3.37     06:13:00    18:13:00  \n",
       "4          104.95        5.62     06:13:00    18:13:00  "
      ]
     },
     "execution_count": 77,
     "metadata": {},
     "output_type": "execute_result"
    }
   ],
   "source": [
    "df.head()"
   ]
  },
  {
   "cell_type": "code",
   "execution_count": 78,
   "metadata": {},
   "outputs": [],
   "source": [
    "#prob 1"
   ]
  },
  {
   "cell_type": "code",
   "execution_count": 35,
   "metadata": {},
   "outputs": [],
   "source": [
    "import datetime as dt"
   ]
  },
  {
   "cell_type": "code",
   "execution_count": 79,
   "metadata": {},
   "outputs": [],
   "source": [
    "df_prob1 = df.copy()"
   ]
  },
  {
   "cell_type": "code",
   "execution_count": 90,
   "metadata": {},
   "outputs": [],
   "source": [
    "df_prob1[\"TIME\"] = pd.to_datetime(df_prob1.OBS_DT).apply(lambda x: x.time())"
   ]
  },
  {
   "cell_type": "code",
   "execution_count": 92,
   "metadata": {},
   "outputs": [],
   "source": [
    "df_prob1[\"TIME_SUNRISE\"] = df_prob1[\"TIME_SUNRISE\"].apply(lambda x: dt.time.fromisoformat(x))"
   ]
  },
  {
   "cell_type": "code",
   "execution_count": 95,
   "metadata": {},
   "outputs": [],
   "source": [
    "df_prob1[\"TIME_SUNSET\"] = df_prob1[\"TIME_SUNSET\"].apply(lambda x: dt.time.fromisoformat(x))"
   ]
  },
  {
   "cell_type": "code",
   "execution_count": 96,
   "metadata": {},
   "outputs": [
    {
     "data": {
      "text/html": [
       "<div>\n",
       "<style scoped>\n",
       "    .dataframe tbody tr th:only-of-type {\n",
       "        vertical-align: middle;\n",
       "    }\n",
       "\n",
       "    .dataframe tbody tr th {\n",
       "        vertical-align: top;\n",
       "    }\n",
       "\n",
       "    .dataframe thead th {\n",
       "        text-align: right;\n",
       "    }\n",
       "</style>\n",
       "<table border=\"1\" class=\"dataframe\">\n",
       "  <thead>\n",
       "    <tr style=\"text-align: right;\">\n",
       "      <th></th>\n",
       "      <th>OBS_DT</th>\n",
       "      <th>RADIATION</th>\n",
       "      <th>TEMPERATURE</th>\n",
       "      <th>PRESSURE</th>\n",
       "      <th>HUMIDITY</th>\n",
       "      <th>WIND_DIRECTION</th>\n",
       "      <th>WIND_SPEED</th>\n",
       "      <th>TIME_SUNRISE</th>\n",
       "      <th>TIME_SUNSET</th>\n",
       "      <th>TIME</th>\n",
       "    </tr>\n",
       "  </thead>\n",
       "  <tbody>\n",
       "    <tr>\n",
       "      <td>0</td>\n",
       "      <td>2022-09-29 23:55:26</td>\n",
       "      <td>1.21</td>\n",
       "      <td>48.0</td>\n",
       "      <td>30.46</td>\n",
       "      <td>59.0</td>\n",
       "      <td>177.39</td>\n",
       "      <td>5.62</td>\n",
       "      <td>06:13:00</td>\n",
       "      <td>18:13:00</td>\n",
       "      <td>23:55:26</td>\n",
       "    </tr>\n",
       "    <tr>\n",
       "      <td>1</td>\n",
       "      <td>2022-09-29 23:50:23</td>\n",
       "      <td>1.21</td>\n",
       "      <td>48.0</td>\n",
       "      <td>30.46</td>\n",
       "      <td>58.0</td>\n",
       "      <td>176.78</td>\n",
       "      <td>3.37</td>\n",
       "      <td>06:13:00</td>\n",
       "      <td>18:13:00</td>\n",
       "      <td>23:50:23</td>\n",
       "    </tr>\n",
       "    <tr>\n",
       "      <td>2</td>\n",
       "      <td>2022-09-29 23:45:26</td>\n",
       "      <td>1.23</td>\n",
       "      <td>48.0</td>\n",
       "      <td>30.46</td>\n",
       "      <td>57.0</td>\n",
       "      <td>158.75</td>\n",
       "      <td>3.37</td>\n",
       "      <td>06:13:00</td>\n",
       "      <td>18:13:00</td>\n",
       "      <td>23:45:26</td>\n",
       "    </tr>\n",
       "    <tr>\n",
       "      <td>3</td>\n",
       "      <td>2022-09-29 23:40:21</td>\n",
       "      <td>1.21</td>\n",
       "      <td>48.0</td>\n",
       "      <td>30.46</td>\n",
       "      <td>60.0</td>\n",
       "      <td>137.71</td>\n",
       "      <td>3.37</td>\n",
       "      <td>06:13:00</td>\n",
       "      <td>18:13:00</td>\n",
       "      <td>23:40:21</td>\n",
       "    </tr>\n",
       "    <tr>\n",
       "      <td>4</td>\n",
       "      <td>2022-09-29 23:35:24</td>\n",
       "      <td>1.17</td>\n",
       "      <td>48.0</td>\n",
       "      <td>30.46</td>\n",
       "      <td>62.0</td>\n",
       "      <td>104.95</td>\n",
       "      <td>5.62</td>\n",
       "      <td>06:13:00</td>\n",
       "      <td>18:13:00</td>\n",
       "      <td>23:35:24</td>\n",
       "    </tr>\n",
       "    <tr>\n",
       "      <td>...</td>\n",
       "      <td>...</td>\n",
       "      <td>...</td>\n",
       "      <td>...</td>\n",
       "      <td>...</td>\n",
       "      <td>...</td>\n",
       "      <td>...</td>\n",
       "      <td>...</td>\n",
       "      <td>...</td>\n",
       "      <td>...</td>\n",
       "      <td>...</td>\n",
       "    </tr>\n",
       "    <tr>\n",
       "      <td>32681</td>\n",
       "      <td>2022-12-01 00:20:04</td>\n",
       "      <td>1.22</td>\n",
       "      <td>44.0</td>\n",
       "      <td>30.43</td>\n",
       "      <td>102.0</td>\n",
       "      <td>145.42</td>\n",
       "      <td>6.75</td>\n",
       "      <td>06:41:00</td>\n",
       "      <td>17:42:00</td>\n",
       "      <td>00:20:04</td>\n",
       "    </tr>\n",
       "    <tr>\n",
       "      <td>32682</td>\n",
       "      <td>2022-12-01 00:15:01</td>\n",
       "      <td>1.17</td>\n",
       "      <td>44.0</td>\n",
       "      <td>30.42</td>\n",
       "      <td>102.0</td>\n",
       "      <td>117.78</td>\n",
       "      <td>6.75</td>\n",
       "      <td>06:41:00</td>\n",
       "      <td>17:42:00</td>\n",
       "      <td>00:15:01</td>\n",
       "    </tr>\n",
       "    <tr>\n",
       "      <td>32683</td>\n",
       "      <td>2022-12-01 00:10:01</td>\n",
       "      <td>1.20</td>\n",
       "      <td>44.0</td>\n",
       "      <td>30.42</td>\n",
       "      <td>102.0</td>\n",
       "      <td>145.19</td>\n",
       "      <td>9.00</td>\n",
       "      <td>06:41:00</td>\n",
       "      <td>17:42:00</td>\n",
       "      <td>00:10:01</td>\n",
       "    </tr>\n",
       "    <tr>\n",
       "      <td>32684</td>\n",
       "      <td>2022-12-01 00:05:02</td>\n",
       "      <td>1.23</td>\n",
       "      <td>44.0</td>\n",
       "      <td>30.42</td>\n",
       "      <td>101.0</td>\n",
       "      <td>164.19</td>\n",
       "      <td>7.87</td>\n",
       "      <td>06:41:00</td>\n",
       "      <td>17:42:00</td>\n",
       "      <td>00:05:02</td>\n",
       "    </tr>\n",
       "    <tr>\n",
       "      <td>32685</td>\n",
       "      <td>2022-12-01 00:00:02</td>\n",
       "      <td>1.20</td>\n",
       "      <td>44.0</td>\n",
       "      <td>30.43</td>\n",
       "      <td>101.0</td>\n",
       "      <td>83.59</td>\n",
       "      <td>3.37</td>\n",
       "      <td>06:41:00</td>\n",
       "      <td>17:42:00</td>\n",
       "      <td>00:00:02</td>\n",
       "    </tr>\n",
       "  </tbody>\n",
       "</table>\n",
       "<p>32686 rows × 10 columns</p>\n",
       "</div>"
      ],
      "text/plain": [
       "                   OBS_DT  RADIATION  TEMPERATURE  PRESSURE  HUMIDITY  \\\n",
       "0     2022-09-29 23:55:26       1.21         48.0     30.46      59.0   \n",
       "1     2022-09-29 23:50:23       1.21         48.0     30.46      58.0   \n",
       "2     2022-09-29 23:45:26       1.23         48.0     30.46      57.0   \n",
       "3     2022-09-29 23:40:21       1.21         48.0     30.46      60.0   \n",
       "4     2022-09-29 23:35:24       1.17         48.0     30.46      62.0   \n",
       "...                   ...        ...          ...       ...       ...   \n",
       "32681 2022-12-01 00:20:04       1.22         44.0     30.43     102.0   \n",
       "32682 2022-12-01 00:15:01       1.17         44.0     30.42     102.0   \n",
       "32683 2022-12-01 00:10:01       1.20         44.0     30.42     102.0   \n",
       "32684 2022-12-01 00:05:02       1.23         44.0     30.42     101.0   \n",
       "32685 2022-12-01 00:00:02       1.20         44.0     30.43     101.0   \n",
       "\n",
       "       WIND_DIRECTION  WIND_SPEED TIME_SUNRISE TIME_SUNSET      TIME  \n",
       "0              177.39        5.62     06:13:00    18:13:00  23:55:26  \n",
       "1              176.78        3.37     06:13:00    18:13:00  23:50:23  \n",
       "2              158.75        3.37     06:13:00    18:13:00  23:45:26  \n",
       "3              137.71        3.37     06:13:00    18:13:00  23:40:21  \n",
       "4              104.95        5.62     06:13:00    18:13:00  23:35:24  \n",
       "...               ...         ...          ...         ...       ...  \n",
       "32681          145.42        6.75     06:41:00    17:42:00  00:20:04  \n",
       "32682          117.78        6.75     06:41:00    17:42:00  00:15:01  \n",
       "32683          145.19        9.00     06:41:00    17:42:00  00:10:01  \n",
       "32684          164.19        7.87     06:41:00    17:42:00  00:05:02  \n",
       "32685           83.59        3.37     06:41:00    17:42:00  00:00:02  \n",
       "\n",
       "[32686 rows x 10 columns]"
      ]
     },
     "execution_count": 96,
     "metadata": {},
     "output_type": "execute_result"
    }
   ],
   "source": [
    "df_prob1"
   ]
  },
  {
   "cell_type": "code",
   "execution_count": 99,
   "metadata": {},
   "outputs": [],
   "source": [
    "df_prob1_sub = df_prob1.loc[(df_prob1.TIME>=df_prob1.TIME_SUNRISE) &\\\n",
    "      (df_prob1.TIME<=df_prob1.TIME_SUNSET),:]"
   ]
  },
  {
   "cell_type": "code",
   "execution_count": 100,
   "metadata": {},
   "outputs": [
    {
     "data": {
      "text/html": [
       "<div>\n",
       "<style scoped>\n",
       "    .dataframe tbody tr th:only-of-type {\n",
       "        vertical-align: middle;\n",
       "    }\n",
       "\n",
       "    .dataframe tbody tr th {\n",
       "        vertical-align: top;\n",
       "    }\n",
       "\n",
       "    .dataframe thead th {\n",
       "        text-align: right;\n",
       "    }\n",
       "</style>\n",
       "<table border=\"1\" class=\"dataframe\">\n",
       "  <thead>\n",
       "    <tr style=\"text-align: right;\">\n",
       "      <th></th>\n",
       "      <th>OBS_DT</th>\n",
       "      <th>RADIATION</th>\n",
       "      <th>TEMPERATURE</th>\n",
       "      <th>PRESSURE</th>\n",
       "      <th>HUMIDITY</th>\n",
       "      <th>WIND_DIRECTION</th>\n",
       "      <th>WIND_SPEED</th>\n",
       "      <th>TIME_SUNRISE</th>\n",
       "      <th>TIME_SUNSET</th>\n",
       "      <th>TIME</th>\n",
       "    </tr>\n",
       "  </thead>\n",
       "  <tbody>\n",
       "    <tr>\n",
       "      <td>69</td>\n",
       "      <td>2022-09-29 18:10:52</td>\n",
       "      <td>6.63</td>\n",
       "      <td>53.0</td>\n",
       "      <td>30.44</td>\n",
       "      <td>59.0</td>\n",
       "      <td>118.82</td>\n",
       "      <td>5.62</td>\n",
       "      <td>06:13:00</td>\n",
       "      <td>18:13:00</td>\n",
       "      <td>18:10:52</td>\n",
       "    </tr>\n",
       "    <tr>\n",
       "      <td>70</td>\n",
       "      <td>2022-09-29 18:05:22</td>\n",
       "      <td>10.96</td>\n",
       "      <td>54.0</td>\n",
       "      <td>30.44</td>\n",
       "      <td>59.0</td>\n",
       "      <td>154.16</td>\n",
       "      <td>4.50</td>\n",
       "      <td>06:13:00</td>\n",
       "      <td>18:13:00</td>\n",
       "      <td>18:05:22</td>\n",
       "    </tr>\n",
       "    <tr>\n",
       "      <td>71</td>\n",
       "      <td>2022-09-29 18:00:22</td>\n",
       "      <td>19.42</td>\n",
       "      <td>55.0</td>\n",
       "      <td>30.44</td>\n",
       "      <td>57.0</td>\n",
       "      <td>58.42</td>\n",
       "      <td>6.75</td>\n",
       "      <td>06:13:00</td>\n",
       "      <td>18:13:00</td>\n",
       "      <td>18:00:22</td>\n",
       "    </tr>\n",
       "    <tr>\n",
       "      <td>72</td>\n",
       "      <td>2022-09-29 17:55:22</td>\n",
       "      <td>27.14</td>\n",
       "      <td>55.0</td>\n",
       "      <td>30.44</td>\n",
       "      <td>53.0</td>\n",
       "      <td>47.86</td>\n",
       "      <td>4.50</td>\n",
       "      <td>06:13:00</td>\n",
       "      <td>18:13:00</td>\n",
       "      <td>17:55:22</td>\n",
       "    </tr>\n",
       "    <tr>\n",
       "      <td>73</td>\n",
       "      <td>2022-09-29 17:50:19</td>\n",
       "      <td>33.75</td>\n",
       "      <td>56.0</td>\n",
       "      <td>30.44</td>\n",
       "      <td>52.0</td>\n",
       "      <td>74.56</td>\n",
       "      <td>2.25</td>\n",
       "      <td>06:13:00</td>\n",
       "      <td>18:13:00</td>\n",
       "      <td>17:50:19</td>\n",
       "    </tr>\n",
       "    <tr>\n",
       "      <td>...</td>\n",
       "      <td>...</td>\n",
       "      <td>...</td>\n",
       "      <td>...</td>\n",
       "      <td>...</td>\n",
       "      <td>...</td>\n",
       "      <td>...</td>\n",
       "      <td>...</td>\n",
       "      <td>...</td>\n",
       "      <td>...</td>\n",
       "      <td>...</td>\n",
       "    </tr>\n",
       "    <tr>\n",
       "      <td>32600</td>\n",
       "      <td>2022-12-01 07:05:04</td>\n",
       "      <td>1.24</td>\n",
       "      <td>44.0</td>\n",
       "      <td>30.41</td>\n",
       "      <td>99.0</td>\n",
       "      <td>131.66</td>\n",
       "      <td>13.50</td>\n",
       "      <td>06:41:00</td>\n",
       "      <td>17:42:00</td>\n",
       "      <td>07:05:04</td>\n",
       "    </tr>\n",
       "    <tr>\n",
       "      <td>32601</td>\n",
       "      <td>2022-12-01 07:00:02</td>\n",
       "      <td>1.19</td>\n",
       "      <td>44.0</td>\n",
       "      <td>30.41</td>\n",
       "      <td>100.0</td>\n",
       "      <td>176.67</td>\n",
       "      <td>9.00</td>\n",
       "      <td>06:41:00</td>\n",
       "      <td>17:42:00</td>\n",
       "      <td>07:00:02</td>\n",
       "    </tr>\n",
       "    <tr>\n",
       "      <td>32602</td>\n",
       "      <td>2022-12-01 06:55:02</td>\n",
       "      <td>1.19</td>\n",
       "      <td>44.0</td>\n",
       "      <td>30.41</td>\n",
       "      <td>100.0</td>\n",
       "      <td>7.27</td>\n",
       "      <td>2.25</td>\n",
       "      <td>06:41:00</td>\n",
       "      <td>17:42:00</td>\n",
       "      <td>06:55:02</td>\n",
       "    </tr>\n",
       "    <tr>\n",
       "      <td>32603</td>\n",
       "      <td>2022-12-01 06:50:03</td>\n",
       "      <td>1.20</td>\n",
       "      <td>44.0</td>\n",
       "      <td>30.40</td>\n",
       "      <td>100.0</td>\n",
       "      <td>50.69</td>\n",
       "      <td>6.75</td>\n",
       "      <td>06:41:00</td>\n",
       "      <td>17:42:00</td>\n",
       "      <td>06:50:03</td>\n",
       "    </tr>\n",
       "    <tr>\n",
       "      <td>32604</td>\n",
       "      <td>2022-12-01 06:45:04</td>\n",
       "      <td>1.22</td>\n",
       "      <td>44.0</td>\n",
       "      <td>30.40</td>\n",
       "      <td>100.0</td>\n",
       "      <td>38.71</td>\n",
       "      <td>3.37</td>\n",
       "      <td>06:41:00</td>\n",
       "      <td>17:42:00</td>\n",
       "      <td>06:45:04</td>\n",
       "    </tr>\n",
       "  </tbody>\n",
       "</table>\n",
       "<p>15608 rows × 10 columns</p>\n",
       "</div>"
      ],
      "text/plain": [
       "                   OBS_DT  RADIATION  TEMPERATURE  PRESSURE  HUMIDITY  \\\n",
       "69    2022-09-29 18:10:52       6.63         53.0     30.44      59.0   \n",
       "70    2022-09-29 18:05:22      10.96         54.0     30.44      59.0   \n",
       "71    2022-09-29 18:00:22      19.42         55.0     30.44      57.0   \n",
       "72    2022-09-29 17:55:22      27.14         55.0     30.44      53.0   \n",
       "73    2022-09-29 17:50:19      33.75         56.0     30.44      52.0   \n",
       "...                   ...        ...          ...       ...       ...   \n",
       "32600 2022-12-01 07:05:04       1.24         44.0     30.41      99.0   \n",
       "32601 2022-12-01 07:00:02       1.19         44.0     30.41     100.0   \n",
       "32602 2022-12-01 06:55:02       1.19         44.0     30.41     100.0   \n",
       "32603 2022-12-01 06:50:03       1.20         44.0     30.40     100.0   \n",
       "32604 2022-12-01 06:45:04       1.22         44.0     30.40     100.0   \n",
       "\n",
       "       WIND_DIRECTION  WIND_SPEED TIME_SUNRISE TIME_SUNSET      TIME  \n",
       "69             118.82        5.62     06:13:00    18:13:00  18:10:52  \n",
       "70             154.16        4.50     06:13:00    18:13:00  18:05:22  \n",
       "71              58.42        6.75     06:13:00    18:13:00  18:00:22  \n",
       "72              47.86        4.50     06:13:00    18:13:00  17:55:22  \n",
       "73              74.56        2.25     06:13:00    18:13:00  17:50:19  \n",
       "...               ...         ...          ...         ...       ...  \n",
       "32600          131.66       13.50     06:41:00    17:42:00  07:05:04  \n",
       "32601          176.67        9.00     06:41:00    17:42:00  07:00:02  \n",
       "32602            7.27        2.25     06:41:00    17:42:00  06:55:02  \n",
       "32603           50.69        6.75     06:41:00    17:42:00  06:50:03  \n",
       "32604           38.71        3.37     06:41:00    17:42:00  06:45:04  \n",
       "\n",
       "[15608 rows x 10 columns]"
      ]
     },
     "execution_count": 100,
     "metadata": {},
     "output_type": "execute_result"
    }
   ],
   "source": [
    "df_prob1_sub"
   ]
  },
  {
   "cell_type": "code",
   "execution_count": 101,
   "metadata": {},
   "outputs": [
    {
     "data": {
      "text/plain": [
       "Index(['OBS_DT', 'RADIATION', 'TEMPERATURE', 'PRESSURE', 'HUMIDITY',\n",
       "       'WIND_DIRECTION', 'WIND_SPEED', 'TIME_SUNRISE', 'TIME_SUNSET', 'TIME'],\n",
       "      dtype='object')"
      ]
     },
     "execution_count": 101,
     "metadata": {},
     "output_type": "execute_result"
    }
   ],
   "source": [
    "df_prob1_sub.columns"
   ]
  },
  {
   "cell_type": "code",
   "execution_count": 102,
   "metadata": {},
   "outputs": [],
   "source": [
    "colx=['PRESSURE', 'HUMIDITY', 'WIND_SPEED']"
   ]
  },
  {
   "cell_type": "code",
   "execution_count": 103,
   "metadata": {},
   "outputs": [
    {
     "data": {
      "text/plain": [
       "['PRESSURE', 'HUMIDITY', 'WIND_SPEED']"
      ]
     },
     "execution_count": 103,
     "metadata": {},
     "output_type": "execute_result"
    }
   ],
   "source": [
    "colx"
   ]
  },
  {
   "cell_type": "code",
   "execution_count": 108,
   "metadata": {},
   "outputs": [],
   "source": [
    "prob_1 = df_prob1_sub.loc[:,colx].corrwith(df_prob1_sub[\"RADIATION\"]).abs().round(3).max()"
   ]
  },
  {
   "cell_type": "code",
   "execution_count": 109,
   "metadata": {},
   "outputs": [],
   "source": [
    "#prob 2"
   ]
  },
  {
   "cell_type": "code",
   "execution_count": 117,
   "metadata": {},
   "outputs": [],
   "source": [
    "df_prob2 = df.copy()"
   ]
  },
  {
   "cell_type": "code",
   "execution_count": 118,
   "metadata": {},
   "outputs": [],
   "source": [
    "df_prob2[\"DATE\"] = df_prob2.OBS_DT.apply(lambda x: dt.datetime.strptime(x,\"%Y-%m-%d %H:%M:%S\").date())"
   ]
  },
  {
   "cell_type": "code",
   "execution_count": 122,
   "metadata": {},
   "outputs": [],
   "source": [
    "df_max_temp = df_prob2.groupby('DATE',as_index=False)[\"TEMPERATURE\"].max()"
   ]
  },
  {
   "cell_type": "code",
   "execution_count": 159,
   "metadata": {},
   "outputs": [],
   "source": [
    "df_max_temp.rename(inplace=True, columns={\"TEMPERATURE\":\"MAX_TEMPERATURE\"})"
   ]
  },
  {
   "cell_type": "code",
   "execution_count": 160,
   "metadata": {},
   "outputs": [
    {
     "data": {
      "text/plain": [
       "DATE               0\n",
       "MAX_TEMPERATURE    0\n",
       "dtype: int64"
      ]
     },
     "execution_count": 160,
     "metadata": {},
     "output_type": "execute_result"
    }
   ],
   "source": [
    "df_max_temp.isna().sum()"
   ]
  },
  {
   "cell_type": "code",
   "execution_count": 161,
   "metadata": {},
   "outputs": [
    {
     "data": {
      "text/plain": [
       "array([datetime.date(2022, 9, 1), datetime.date(2022, 9, 2),\n",
       "       datetime.date(2022, 9, 3), datetime.date(2022, 9, 4),\n",
       "       datetime.date(2022, 9, 5), datetime.date(2022, 9, 6),\n",
       "       datetime.date(2022, 9, 7), datetime.date(2022, 9, 8),\n",
       "       datetime.date(2022, 9, 9), datetime.date(2022, 9, 10),\n",
       "       datetime.date(2022, 9, 11), datetime.date(2022, 9, 12),\n",
       "       datetime.date(2022, 9, 13), datetime.date(2022, 9, 14),\n",
       "       datetime.date(2022, 9, 15), datetime.date(2022, 9, 16),\n",
       "       datetime.date(2022, 9, 17), datetime.date(2022, 9, 18),\n",
       "       datetime.date(2022, 9, 19), datetime.date(2022, 9, 20),\n",
       "       datetime.date(2022, 9, 21), datetime.date(2022, 9, 22),\n",
       "       datetime.date(2022, 9, 23), datetime.date(2022, 9, 24),\n",
       "       datetime.date(2022, 9, 25), datetime.date(2022, 9, 26),\n",
       "       datetime.date(2022, 9, 27), datetime.date(2022, 9, 28),\n",
       "       datetime.date(2022, 9, 29), datetime.date(2022, 10, 1),\n",
       "       datetime.date(2022, 10, 2), datetime.date(2022, 10, 3),\n",
       "       datetime.date(2022, 10, 4), datetime.date(2022, 10, 5),\n",
       "       datetime.date(2022, 10, 6), datetime.date(2022, 10, 7),\n",
       "       datetime.date(2022, 10, 8), datetime.date(2022, 10, 9),\n",
       "       datetime.date(2022, 10, 10), datetime.date(2022, 10, 11),\n",
       "       datetime.date(2022, 10, 12), datetime.date(2022, 10, 13),\n",
       "       datetime.date(2022, 10, 14), datetime.date(2022, 10, 15),\n",
       "       datetime.date(2022, 10, 16), datetime.date(2022, 10, 17),\n",
       "       datetime.date(2022, 10, 18), datetime.date(2022, 10, 19),\n",
       "       datetime.date(2022, 10, 20), datetime.date(2022, 10, 21),\n",
       "       datetime.date(2022, 10, 22), datetime.date(2022, 10, 23),\n",
       "       datetime.date(2022, 10, 24), datetime.date(2022, 10, 25),\n",
       "       datetime.date(2022, 10, 26), datetime.date(2022, 10, 27),\n",
       "       datetime.date(2022, 10, 28), datetime.date(2022, 10, 29),\n",
       "       datetime.date(2022, 10, 30), datetime.date(2022, 10, 31),\n",
       "       datetime.date(2022, 11, 1), datetime.date(2022, 11, 2),\n",
       "       datetime.date(2022, 11, 3), datetime.date(2022, 11, 4),\n",
       "       datetime.date(2022, 11, 5), datetime.date(2022, 11, 6),\n",
       "       datetime.date(2022, 11, 7), datetime.date(2022, 11, 8),\n",
       "       datetime.date(2022, 11, 9), datetime.date(2022, 11, 10),\n",
       "       datetime.date(2022, 11, 11), datetime.date(2022, 11, 12),\n",
       "       datetime.date(2022, 11, 13), datetime.date(2022, 11, 14),\n",
       "       datetime.date(2022, 11, 15), datetime.date(2022, 11, 16),\n",
       "       datetime.date(2022, 11, 17), datetime.date(2022, 11, 18),\n",
       "       datetime.date(2022, 11, 19), datetime.date(2022, 11, 20),\n",
       "       datetime.date(2022, 11, 21), datetime.date(2022, 11, 22),\n",
       "       datetime.date(2022, 11, 23), datetime.date(2022, 11, 24),\n",
       "       datetime.date(2022, 11, 25), datetime.date(2022, 11, 26),\n",
       "       datetime.date(2022, 11, 27), datetime.date(2022, 11, 28),\n",
       "       datetime.date(2022, 11, 29), datetime.date(2022, 12, 1),\n",
       "       datetime.date(2022, 12, 2), datetime.date(2022, 12, 3),\n",
       "       datetime.date(2022, 12, 4), datetime.date(2022, 12, 5),\n",
       "       datetime.date(2022, 12, 8), datetime.date(2022, 12, 9),\n",
       "       datetime.date(2022, 12, 10), datetime.date(2022, 12, 11),\n",
       "       datetime.date(2022, 12, 12), datetime.date(2022, 12, 13),\n",
       "       datetime.date(2022, 12, 14), datetime.date(2022, 12, 15),\n",
       "       datetime.date(2022, 12, 16), datetime.date(2022, 12, 17),\n",
       "       datetime.date(2022, 12, 18), datetime.date(2022, 12, 19),\n",
       "       datetime.date(2022, 12, 20), datetime.date(2022, 12, 21),\n",
       "       datetime.date(2022, 12, 22), datetime.date(2022, 12, 23),\n",
       "       datetime.date(2022, 12, 24), datetime.date(2022, 12, 25),\n",
       "       datetime.date(2022, 12, 26), datetime.date(2022, 12, 27),\n",
       "       datetime.date(2022, 12, 28), datetime.date(2022, 12, 29),\n",
       "       datetime.date(2022, 12, 30), datetime.date(2022, 12, 31)],\n",
       "      dtype=object)"
      ]
     },
     "execution_count": 161,
     "metadata": {},
     "output_type": "execute_result"
    }
   ],
   "source": [
    "df_max_temp.DATE.unique()"
   ]
  },
  {
   "cell_type": "code",
   "execution_count": 162,
   "metadata": {},
   "outputs": [],
   "source": [
    "import numpy as np"
   ]
  },
  {
   "cell_type": "code",
   "execution_count": 163,
   "metadata": {},
   "outputs": [],
   "source": [
    "df_temp = pd.DataFrame()"
   ]
  },
  {
   "cell_type": "code",
   "execution_count": 164,
   "metadata": {},
   "outputs": [],
   "source": [
    "str_days = [\"2022-09-30\",\"2022-11-30\", \"2022-12-06\",\"2022-12-07\"]"
   ]
  },
  {
   "cell_type": "code",
   "execution_count": 165,
   "metadata": {},
   "outputs": [],
   "source": [
    "df_temp[\"DATE\"]=[dt.date.fromisoformat(d) for d in str_days]"
   ]
  },
  {
   "cell_type": "code",
   "execution_count": 166,
   "metadata": {},
   "outputs": [],
   "source": [
    "df_temp[\"MAX_TEMPERATURE\"]=[np.nan for n in range(4)]"
   ]
  },
  {
   "cell_type": "code",
   "execution_count": 167,
   "metadata": {},
   "outputs": [
    {
     "data": {
      "text/html": [
       "<div>\n",
       "<style scoped>\n",
       "    .dataframe tbody tr th:only-of-type {\n",
       "        vertical-align: middle;\n",
       "    }\n",
       "\n",
       "    .dataframe tbody tr th {\n",
       "        vertical-align: top;\n",
       "    }\n",
       "\n",
       "    .dataframe thead th {\n",
       "        text-align: right;\n",
       "    }\n",
       "</style>\n",
       "<table border=\"1\" class=\"dataframe\">\n",
       "  <thead>\n",
       "    <tr style=\"text-align: right;\">\n",
       "      <th></th>\n",
       "      <th>DATE</th>\n",
       "      <th>MAX_TEMPERATURE</th>\n",
       "    </tr>\n",
       "  </thead>\n",
       "  <tbody>\n",
       "    <tr>\n",
       "      <td>0</td>\n",
       "      <td>2022-09-30</td>\n",
       "      <td>NaN</td>\n",
       "    </tr>\n",
       "    <tr>\n",
       "      <td>1</td>\n",
       "      <td>2022-11-30</td>\n",
       "      <td>NaN</td>\n",
       "    </tr>\n",
       "    <tr>\n",
       "      <td>2</td>\n",
       "      <td>2022-12-06</td>\n",
       "      <td>NaN</td>\n",
       "    </tr>\n",
       "    <tr>\n",
       "      <td>3</td>\n",
       "      <td>2022-12-07</td>\n",
       "      <td>NaN</td>\n",
       "    </tr>\n",
       "  </tbody>\n",
       "</table>\n",
       "</div>"
      ],
      "text/plain": [
       "         DATE  MAX_TEMPERATURE\n",
       "0  2022-09-30              NaN\n",
       "1  2022-11-30              NaN\n",
       "2  2022-12-06              NaN\n",
       "3  2022-12-07              NaN"
      ]
     },
     "execution_count": 167,
     "metadata": {},
     "output_type": "execute_result"
    }
   ],
   "source": [
    "df_temp"
   ]
  },
  {
   "cell_type": "code",
   "execution_count": 169,
   "metadata": {},
   "outputs": [],
   "source": [
    "df_max_temp = pd.concat([df_max_temp, df_temp])"
   ]
  },
  {
   "cell_type": "code",
   "execution_count": 173,
   "metadata": {},
   "outputs": [],
   "source": [
    "df_max_temp = df_max_temp.sort_values(by=\"DATE\",ascending=True).reset_index(drop=True)"
   ]
  },
  {
   "cell_type": "code",
   "execution_count": 177,
   "metadata": {},
   "outputs": [
    {
     "data": {
      "text/plain": [
       "array([63., 65., 62., 64., 57., 66., 69., 70., 55., 60., 68., 61., 71.,\n",
       "       nan, 59., 56., 58., 52., 67., 50., 53., 54., 51., 45.])"
      ]
     },
     "execution_count": 177,
     "metadata": {},
     "output_type": "execute_result"
    }
   ],
   "source": [
    "df_max_temp.MAX_TEMPERATURE.unique()"
   ]
  },
  {
   "cell_type": "code",
   "execution_count": 188,
   "metadata": {},
   "outputs": [
    {
     "data": {
      "text/plain": [
       "datetime.date(2022, 9, 2)"
      ]
     },
     "execution_count": 188,
     "metadata": {},
     "output_type": "execute_result"
    }
   ],
   "source": [
    "df_max_temp.iloc[0,0]+dt.timedelta(days=1)"
   ]
  },
  {
   "cell_type": "code",
   "execution_count": 193,
   "metadata": {},
   "outputs": [
    {
     "data": {
      "text/plain": [
       "[27   NaN\n",
       " 28   NaN\n",
       " Name: MAX_TEMPERATURE, dtype: float64, 88   NaN\n",
       " 89   NaN\n",
       " Name: MAX_TEMPERATURE, dtype: float64, 94   NaN\n",
       " 95   NaN\n",
       " Name: MAX_TEMPERATURE, dtype: float64, 95   NaN\n",
       " 96   NaN\n",
       " Name: MAX_TEMPERATURE, dtype: float64]"
      ]
     },
     "execution_count": 193,
     "metadata": {},
     "output_type": "execute_result"
    }
   ],
   "source": [
    "[df_max_temp.loc[df_max_temp.DATE==(x-dt.timedelta(days=1)),\"MAX_TEMPERATURE\"]*0.7+\\\n",
    "df_max_temp.loc[df_max_temp.DATE==(x-dt.timedelta(days=2)),\"MAX_TEMPERATURE\"]*0.3 for x in df_temp.DATE.values]"
   ]
  },
  {
   "cell_type": "code",
   "execution_count": 194,
   "metadata": {},
   "outputs": [
    {
     "data": {
      "text/plain": [
       "array([datetime.date(2022, 9, 30), datetime.date(2022, 11, 30),\n",
       "       datetime.date(2022, 12, 6), datetime.date(2022, 12, 7)],\n",
       "      dtype=object)"
      ]
     },
     "execution_count": 194,
     "metadata": {},
     "output_type": "execute_result"
    }
   ],
   "source": [
    "df_temp.DATE.values"
   ]
  },
  {
   "cell_type": "code",
   "execution_count": 197,
   "metadata": {},
   "outputs": [
    {
     "data": {
      "text/plain": [
       "[datetime.date(2022, 9, 29),\n",
       " datetime.date(2022, 11, 29),\n",
       " datetime.date(2022, 12, 5),\n",
       " datetime.date(2022, 12, 6)]"
      ]
     },
     "execution_count": 197,
     "metadata": {},
     "output_type": "execute_result"
    }
   ],
   "source": [
    "[x-dt.timedelta(days=1) for x in df_temp.DATE.values]"
   ]
  },
  {
   "cell_type": "code",
   "execution_count": 198,
   "metadata": {},
   "outputs": [
    {
     "data": {
      "text/plain": [
       "[datetime.date(2022, 9, 28),\n",
       " datetime.date(2022, 11, 28),\n",
       " datetime.date(2022, 12, 4),\n",
       " datetime.date(2022, 12, 5)]"
      ]
     },
     "execution_count": 198,
     "metadata": {},
     "output_type": "execute_result"
    }
   ],
   "source": [
    "[x-dt.timedelta(days=2) for x in df_temp.DATE.values]"
   ]
  },
  {
   "cell_type": "code",
   "execution_count": 204,
   "metadata": {},
   "outputs": [
    {
     "data": {
      "text/html": [
       "<div>\n",
       "<style scoped>\n",
       "    .dataframe tbody tr th:only-of-type {\n",
       "        vertical-align: middle;\n",
       "    }\n",
       "\n",
       "    .dataframe tbody tr th {\n",
       "        vertical-align: top;\n",
       "    }\n",
       "\n",
       "    .dataframe thead th {\n",
       "        text-align: right;\n",
       "    }\n",
       "</style>\n",
       "<table border=\"1\" class=\"dataframe\">\n",
       "  <thead>\n",
       "    <tr style=\"text-align: right;\">\n",
       "      <th></th>\n",
       "      <th>DATE</th>\n",
       "      <th>MAX_TEMPERATURE</th>\n",
       "    </tr>\n",
       "  </thead>\n",
       "  <tbody>\n",
       "    <tr>\n",
       "      <td>0</td>\n",
       "      <td>2022-09-30</td>\n",
       "      <td>NaN</td>\n",
       "    </tr>\n",
       "    <tr>\n",
       "      <td>1</td>\n",
       "      <td>2022-11-30</td>\n",
       "      <td>NaN</td>\n",
       "    </tr>\n",
       "    <tr>\n",
       "      <td>2</td>\n",
       "      <td>2022-12-06</td>\n",
       "      <td>NaN</td>\n",
       "    </tr>\n",
       "    <tr>\n",
       "      <td>3</td>\n",
       "      <td>2022-12-07</td>\n",
       "      <td>NaN</td>\n",
       "    </tr>\n",
       "  </tbody>\n",
       "</table>\n",
       "</div>"
      ],
      "text/plain": [
       "         DATE  MAX_TEMPERATURE\n",
       "0  2022-09-30              NaN\n",
       "1  2022-11-30              NaN\n",
       "2  2022-12-06              NaN\n",
       "3  2022-12-07              NaN"
      ]
     },
     "execution_count": 204,
     "metadata": {},
     "output_type": "execute_result"
    }
   ],
   "source": [
    "df_temp"
   ]
  },
  {
   "cell_type": "code",
   "execution_count": 210,
   "metadata": {},
   "outputs": [],
   "source": [
    "for x in df_temp.DATE.values[0:3]:\n",
    "    TD1=(df_max_temp.loc[df_max_temp.DATE==(x-dt.timedelta(days=1)),\"MAX_TEMPERATURE\"].values[0])\n",
    "    TD2=(df_max_temp.loc[df_max_temp.DATE==(x-dt.timedelta(days=2)),\"MAX_TEMPERATURE\"].values[0])\n",
    "    TD=0.7*TD1+0.3*TD2\n",
    "    df_max_temp.loc[df_max_temp.DATE==x, \"MAX_TEMPERATURE\"] = TD"
   ]
  },
  {
   "cell_type": "code",
   "execution_count": 214,
   "metadata": {},
   "outputs": [],
   "source": [
    "TD2=(df_max_temp.loc[df_max_temp.DATE==(df_temp.DATE.iloc[3]-dt.timedelta(days=2)),\"MAX_TEMPERATURE\"].values[0])\n",
    "TD3=(df_max_temp.loc[df_max_temp.DATE==(df_temp.DATE.iloc[3]-dt.timedelta(days=3)),\"MAX_TEMPERATURE\"].values[0])\n",
    "\n",
    "df_max_temp.loc[df_max_temp.DATE==df_temp.DATE.iloc[3],\"MAX_TEMPERATURE\"] = \\\n",
    "TD2*0.7+TD3*0.3"
   ]
  },
  {
   "cell_type": "code",
   "execution_count": 215,
   "metadata": {},
   "outputs": [
    {
     "data": {
      "text/plain": [
       "97    45.0\n",
       "Name: MAX_TEMPERATURE, dtype: float64"
      ]
     },
     "execution_count": 215,
     "metadata": {},
     "output_type": "execute_result"
    }
   ],
   "source": [
    "df_max_temp.loc[df_max_temp.DATE==df_temp.DATE.iloc[3],\"MAX_TEMPERATURE\"]"
   ]
  },
  {
   "cell_type": "code",
   "execution_count": 216,
   "metadata": {},
   "outputs": [
    {
     "data": {
      "text/plain": [
       "DATE               0\n",
       "MAX_TEMPERATURE    0\n",
       "dtype: int64"
      ]
     },
     "execution_count": 216,
     "metadata": {},
     "output_type": "execute_result"
    }
   ],
   "source": [
    "df_max_temp.isna().sum()"
   ]
  },
  {
   "cell_type": "code",
   "execution_count": 219,
   "metadata": {},
   "outputs": [],
   "source": [
    "sum=0\n",
    "for x in df_temp.DATE.values[0:4]:\n",
    "    sum+=df_max_temp.loc[df_max_temp.DATE==x,\"MAX_TEMPERATURE\"].values[0]\n",
    "prob_2=round(sum/4,1)"
   ]
  },
  {
   "cell_type": "code",
   "execution_count": 220,
   "metadata": {},
   "outputs": [
    {
     "data": {
      "text/plain": [
       "52.1"
      ]
     },
     "execution_count": 220,
     "metadata": {},
     "output_type": "execute_result"
    }
   ],
   "source": [
    "prob_2"
   ]
  },
  {
   "cell_type": "code",
   "execution_count": 221,
   "metadata": {},
   "outputs": [],
   "source": [
    "# prob 3"
   ]
  },
  {
   "cell_type": "code",
   "execution_count": 222,
   "metadata": {},
   "outputs": [],
   "source": [
    "df_prob3 = df.copy()"
   ]
  },
  {
   "cell_type": "code",
   "execution_count": 226,
   "metadata": {},
   "outputs": [
    {
     "data": {
      "text/html": [
       "<div>\n",
       "<style scoped>\n",
       "    .dataframe tbody tr th:only-of-type {\n",
       "        vertical-align: middle;\n",
       "    }\n",
       "\n",
       "    .dataframe tbody tr th {\n",
       "        vertical-align: top;\n",
       "    }\n",
       "\n",
       "    .dataframe thead th {\n",
       "        text-align: right;\n",
       "    }\n",
       "</style>\n",
       "<table border=\"1\" class=\"dataframe\">\n",
       "  <thead>\n",
       "    <tr style=\"text-align: right;\">\n",
       "      <th></th>\n",
       "      <th>OBS_DT</th>\n",
       "      <th>RADIATION</th>\n",
       "      <th>TEMPERATURE</th>\n",
       "      <th>PRESSURE</th>\n",
       "      <th>HUMIDITY</th>\n",
       "      <th>WIND_DIRECTION</th>\n",
       "      <th>WIND_SPEED</th>\n",
       "      <th>TIME_SUNRISE</th>\n",
       "      <th>TIME_SUNSET</th>\n",
       "      <th>DATE</th>\n",
       "    </tr>\n",
       "  </thead>\n",
       "  <tbody>\n",
       "    <tr>\n",
       "      <td>0</td>\n",
       "      <td>2022-09-29 23:55:26</td>\n",
       "      <td>1.21</td>\n",
       "      <td>48.0</td>\n",
       "      <td>30.46</td>\n",
       "      <td>59.0</td>\n",
       "      <td>177.39</td>\n",
       "      <td>5.62</td>\n",
       "      <td>06:13:00</td>\n",
       "      <td>18:13:00</td>\n",
       "      <td>2022-09-29</td>\n",
       "    </tr>\n",
       "    <tr>\n",
       "      <td>1</td>\n",
       "      <td>2022-09-29 23:50:23</td>\n",
       "      <td>1.21</td>\n",
       "      <td>48.0</td>\n",
       "      <td>30.46</td>\n",
       "      <td>58.0</td>\n",
       "      <td>176.78</td>\n",
       "      <td>3.37</td>\n",
       "      <td>06:13:00</td>\n",
       "      <td>18:13:00</td>\n",
       "      <td>2022-09-29</td>\n",
       "    </tr>\n",
       "    <tr>\n",
       "      <td>2</td>\n",
       "      <td>2022-09-29 23:45:26</td>\n",
       "      <td>1.23</td>\n",
       "      <td>48.0</td>\n",
       "      <td>30.46</td>\n",
       "      <td>57.0</td>\n",
       "      <td>158.75</td>\n",
       "      <td>3.37</td>\n",
       "      <td>06:13:00</td>\n",
       "      <td>18:13:00</td>\n",
       "      <td>2022-09-29</td>\n",
       "    </tr>\n",
       "    <tr>\n",
       "      <td>3</td>\n",
       "      <td>2022-09-29 23:40:21</td>\n",
       "      <td>1.21</td>\n",
       "      <td>48.0</td>\n",
       "      <td>30.46</td>\n",
       "      <td>60.0</td>\n",
       "      <td>137.71</td>\n",
       "      <td>3.37</td>\n",
       "      <td>06:13:00</td>\n",
       "      <td>18:13:00</td>\n",
       "      <td>2022-09-29</td>\n",
       "    </tr>\n",
       "    <tr>\n",
       "      <td>4</td>\n",
       "      <td>2022-09-29 23:35:24</td>\n",
       "      <td>1.17</td>\n",
       "      <td>48.0</td>\n",
       "      <td>30.46</td>\n",
       "      <td>62.0</td>\n",
       "      <td>104.95</td>\n",
       "      <td>5.62</td>\n",
       "      <td>06:13:00</td>\n",
       "      <td>18:13:00</td>\n",
       "      <td>2022-09-29</td>\n",
       "    </tr>\n",
       "  </tbody>\n",
       "</table>\n",
       "</div>"
      ],
      "text/plain": [
       "                OBS_DT  RADIATION  TEMPERATURE  PRESSURE  HUMIDITY  \\\n",
       "0  2022-09-29 23:55:26       1.21         48.0     30.46      59.0   \n",
       "1  2022-09-29 23:50:23       1.21         48.0     30.46      58.0   \n",
       "2  2022-09-29 23:45:26       1.23         48.0     30.46      57.0   \n",
       "3  2022-09-29 23:40:21       1.21         48.0     30.46      60.0   \n",
       "4  2022-09-29 23:35:24       1.17         48.0     30.46      62.0   \n",
       "\n",
       "   WIND_DIRECTION  WIND_SPEED TIME_SUNRISE TIME_SUNSET        DATE  \n",
       "0          177.39        5.62     06:13:00    18:13:00  2022-09-29  \n",
       "1          176.78        3.37     06:13:00    18:13:00  2022-09-29  \n",
       "2          158.75        3.37     06:13:00    18:13:00  2022-09-29  \n",
       "3          137.71        3.37     06:13:00    18:13:00  2022-09-29  \n",
       "4          104.95        5.62     06:13:00    18:13:00  2022-09-29  "
      ]
     },
     "execution_count": 226,
     "metadata": {},
     "output_type": "execute_result"
    }
   ],
   "source": [
    "df_prob3.head()"
   ]
  },
  {
   "cell_type": "code",
   "execution_count": 225,
   "metadata": {},
   "outputs": [],
   "source": [
    "df_prob3[\"DATE\"] = pd.to_datetime(df_prob3.OBS_DT).apply(lambda x: x.date())"
   ]
  },
  {
   "cell_type": "code",
   "execution_count": 229,
   "metadata": {},
   "outputs": [],
   "source": [
    "df_prob3[\"TIME_SUNRISE\"] = df_prob3.TIME_SUNRISE.apply(lambda x: dt.time.fromisoformat(x))"
   ]
  },
  {
   "cell_type": "code",
   "execution_count": 231,
   "metadata": {},
   "outputs": [],
   "source": [
    "df_prob3[\"TIME_SUNSET\"] = df_prob3.TIME_SUNSET.apply(lambda x: dt.time.fromisoformat(x))"
   ]
  },
  {
   "cell_type": "code",
   "execution_count": 239,
   "metadata": {},
   "outputs": [
    {
     "data": {
      "text/plain": [
       "datetime.date(2022, 9, 29)"
      ]
     },
     "execution_count": 239,
     "metadata": {},
     "output_type": "execute_result"
    }
   ],
   "source": [
    "df_prob3.DATE.iloc[0]"
   ]
  },
  {
   "cell_type": "code",
   "execution_count": 273,
   "metadata": {},
   "outputs": [],
   "source": [
    "df_prob3[\"SUN_DURATION\"] = df_prob3.apply(lambda x:\\\n",
    "              (dt.datetime.combine(x[\"DATE\"],x[\"TIME_SUNSET\"])\\\n",
    "               -dt.datetime.combine(x[\"DATE\"],x[\"TIME_SUNRISE\"])).total_seconds(),axis=1)"
   ]
  },
  {
   "cell_type": "code",
   "execution_count": 274,
   "metadata": {
    "scrolled": true
   },
   "outputs": [
    {
     "data": {
      "text/html": [
       "<div>\n",
       "<style scoped>\n",
       "    .dataframe tbody tr th:only-of-type {\n",
       "        vertical-align: middle;\n",
       "    }\n",
       "\n",
       "    .dataframe tbody tr th {\n",
       "        vertical-align: top;\n",
       "    }\n",
       "\n",
       "    .dataframe thead th {\n",
       "        text-align: right;\n",
       "    }\n",
       "</style>\n",
       "<table border=\"1\" class=\"dataframe\">\n",
       "  <thead>\n",
       "    <tr style=\"text-align: right;\">\n",
       "      <th></th>\n",
       "      <th>OBS_DT</th>\n",
       "      <th>RADIATION</th>\n",
       "      <th>TEMPERATURE</th>\n",
       "      <th>PRESSURE</th>\n",
       "      <th>HUMIDITY</th>\n",
       "      <th>WIND_DIRECTION</th>\n",
       "      <th>WIND_SPEED</th>\n",
       "      <th>TIME_SUNRISE</th>\n",
       "      <th>TIME_SUNSET</th>\n",
       "      <th>DATE</th>\n",
       "      <th>SUN_DURATION</th>\n",
       "    </tr>\n",
       "  </thead>\n",
       "  <tbody>\n",
       "    <tr>\n",
       "      <td>0</td>\n",
       "      <td>2022-09-29 23:55:26</td>\n",
       "      <td>1.21</td>\n",
       "      <td>48.0</td>\n",
       "      <td>30.46</td>\n",
       "      <td>59.0</td>\n",
       "      <td>177.39</td>\n",
       "      <td>5.62</td>\n",
       "      <td>06:13:00</td>\n",
       "      <td>18:13:00</td>\n",
       "      <td>2022-09-29</td>\n",
       "      <td>43200.0</td>\n",
       "    </tr>\n",
       "    <tr>\n",
       "      <td>1</td>\n",
       "      <td>2022-09-29 23:50:23</td>\n",
       "      <td>1.21</td>\n",
       "      <td>48.0</td>\n",
       "      <td>30.46</td>\n",
       "      <td>58.0</td>\n",
       "      <td>176.78</td>\n",
       "      <td>3.37</td>\n",
       "      <td>06:13:00</td>\n",
       "      <td>18:13:00</td>\n",
       "      <td>2022-09-29</td>\n",
       "      <td>43200.0</td>\n",
       "    </tr>\n",
       "    <tr>\n",
       "      <td>2</td>\n",
       "      <td>2022-09-29 23:45:26</td>\n",
       "      <td>1.23</td>\n",
       "      <td>48.0</td>\n",
       "      <td>30.46</td>\n",
       "      <td>57.0</td>\n",
       "      <td>158.75</td>\n",
       "      <td>3.37</td>\n",
       "      <td>06:13:00</td>\n",
       "      <td>18:13:00</td>\n",
       "      <td>2022-09-29</td>\n",
       "      <td>43200.0</td>\n",
       "    </tr>\n",
       "    <tr>\n",
       "      <td>3</td>\n",
       "      <td>2022-09-29 23:40:21</td>\n",
       "      <td>1.21</td>\n",
       "      <td>48.0</td>\n",
       "      <td>30.46</td>\n",
       "      <td>60.0</td>\n",
       "      <td>137.71</td>\n",
       "      <td>3.37</td>\n",
       "      <td>06:13:00</td>\n",
       "      <td>18:13:00</td>\n",
       "      <td>2022-09-29</td>\n",
       "      <td>43200.0</td>\n",
       "    </tr>\n",
       "    <tr>\n",
       "      <td>4</td>\n",
       "      <td>2022-09-29 23:35:24</td>\n",
       "      <td>1.17</td>\n",
       "      <td>48.0</td>\n",
       "      <td>30.46</td>\n",
       "      <td>62.0</td>\n",
       "      <td>104.95</td>\n",
       "      <td>5.62</td>\n",
       "      <td>06:13:00</td>\n",
       "      <td>18:13:00</td>\n",
       "      <td>2022-09-29</td>\n",
       "      <td>43200.0</td>\n",
       "    </tr>\n",
       "    <tr>\n",
       "      <td>...</td>\n",
       "      <td>...</td>\n",
       "      <td>...</td>\n",
       "      <td>...</td>\n",
       "      <td>...</td>\n",
       "      <td>...</td>\n",
       "      <td>...</td>\n",
       "      <td>...</td>\n",
       "      <td>...</td>\n",
       "      <td>...</td>\n",
       "      <td>...</td>\n",
       "      <td>...</td>\n",
       "    </tr>\n",
       "    <tr>\n",
       "      <td>32681</td>\n",
       "      <td>2022-12-01 00:20:04</td>\n",
       "      <td>1.22</td>\n",
       "      <td>44.0</td>\n",
       "      <td>30.43</td>\n",
       "      <td>102.0</td>\n",
       "      <td>145.42</td>\n",
       "      <td>6.75</td>\n",
       "      <td>06:41:00</td>\n",
       "      <td>17:42:00</td>\n",
       "      <td>2022-12-01</td>\n",
       "      <td>39660.0</td>\n",
       "    </tr>\n",
       "    <tr>\n",
       "      <td>32682</td>\n",
       "      <td>2022-12-01 00:15:01</td>\n",
       "      <td>1.17</td>\n",
       "      <td>44.0</td>\n",
       "      <td>30.42</td>\n",
       "      <td>102.0</td>\n",
       "      <td>117.78</td>\n",
       "      <td>6.75</td>\n",
       "      <td>06:41:00</td>\n",
       "      <td>17:42:00</td>\n",
       "      <td>2022-12-01</td>\n",
       "      <td>39660.0</td>\n",
       "    </tr>\n",
       "    <tr>\n",
       "      <td>32683</td>\n",
       "      <td>2022-12-01 00:10:01</td>\n",
       "      <td>1.20</td>\n",
       "      <td>44.0</td>\n",
       "      <td>30.42</td>\n",
       "      <td>102.0</td>\n",
       "      <td>145.19</td>\n",
       "      <td>9.00</td>\n",
       "      <td>06:41:00</td>\n",
       "      <td>17:42:00</td>\n",
       "      <td>2022-12-01</td>\n",
       "      <td>39660.0</td>\n",
       "    </tr>\n",
       "    <tr>\n",
       "      <td>32684</td>\n",
       "      <td>2022-12-01 00:05:02</td>\n",
       "      <td>1.23</td>\n",
       "      <td>44.0</td>\n",
       "      <td>30.42</td>\n",
       "      <td>101.0</td>\n",
       "      <td>164.19</td>\n",
       "      <td>7.87</td>\n",
       "      <td>06:41:00</td>\n",
       "      <td>17:42:00</td>\n",
       "      <td>2022-12-01</td>\n",
       "      <td>39660.0</td>\n",
       "    </tr>\n",
       "    <tr>\n",
       "      <td>32685</td>\n",
       "      <td>2022-12-01 00:00:02</td>\n",
       "      <td>1.20</td>\n",
       "      <td>44.0</td>\n",
       "      <td>30.43</td>\n",
       "      <td>101.0</td>\n",
       "      <td>83.59</td>\n",
       "      <td>3.37</td>\n",
       "      <td>06:41:00</td>\n",
       "      <td>17:42:00</td>\n",
       "      <td>2022-12-01</td>\n",
       "      <td>39660.0</td>\n",
       "    </tr>\n",
       "  </tbody>\n",
       "</table>\n",
       "<p>32686 rows × 11 columns</p>\n",
       "</div>"
      ],
      "text/plain": [
       "                    OBS_DT  RADIATION  TEMPERATURE  PRESSURE  HUMIDITY  \\\n",
       "0      2022-09-29 23:55:26       1.21         48.0     30.46      59.0   \n",
       "1      2022-09-29 23:50:23       1.21         48.0     30.46      58.0   \n",
       "2      2022-09-29 23:45:26       1.23         48.0     30.46      57.0   \n",
       "3      2022-09-29 23:40:21       1.21         48.0     30.46      60.0   \n",
       "4      2022-09-29 23:35:24       1.17         48.0     30.46      62.0   \n",
       "...                    ...        ...          ...       ...       ...   \n",
       "32681  2022-12-01 00:20:04       1.22         44.0     30.43     102.0   \n",
       "32682  2022-12-01 00:15:01       1.17         44.0     30.42     102.0   \n",
       "32683  2022-12-01 00:10:01       1.20         44.0     30.42     102.0   \n",
       "32684  2022-12-01 00:05:02       1.23         44.0     30.42     101.0   \n",
       "32685  2022-12-01 00:00:02       1.20         44.0     30.43     101.0   \n",
       "\n",
       "       WIND_DIRECTION  WIND_SPEED TIME_SUNRISE TIME_SUNSET        DATE  \\\n",
       "0              177.39        5.62     06:13:00    18:13:00  2022-09-29   \n",
       "1              176.78        3.37     06:13:00    18:13:00  2022-09-29   \n",
       "2              158.75        3.37     06:13:00    18:13:00  2022-09-29   \n",
       "3              137.71        3.37     06:13:00    18:13:00  2022-09-29   \n",
       "4              104.95        5.62     06:13:00    18:13:00  2022-09-29   \n",
       "...               ...         ...          ...         ...         ...   \n",
       "32681          145.42        6.75     06:41:00    17:42:00  2022-12-01   \n",
       "32682          117.78        6.75     06:41:00    17:42:00  2022-12-01   \n",
       "32683          145.19        9.00     06:41:00    17:42:00  2022-12-01   \n",
       "32684          164.19        7.87     06:41:00    17:42:00  2022-12-01   \n",
       "32685           83.59        3.37     06:41:00    17:42:00  2022-12-01   \n",
       "\n",
       "       SUN_DURATION  \n",
       "0           43200.0  \n",
       "1           43200.0  \n",
       "2           43200.0  \n",
       "3           43200.0  \n",
       "4           43200.0  \n",
       "...             ...  \n",
       "32681       39660.0  \n",
       "32682       39660.0  \n",
       "32683       39660.0  \n",
       "32684       39660.0  \n",
       "32685       39660.0  \n",
       "\n",
       "[32686 rows x 11 columns]"
      ]
     },
     "execution_count": 274,
     "metadata": {},
     "output_type": "execute_result"
    }
   ],
   "source": [
    "df_prob3"
   ]
  },
  {
   "cell_type": "code",
   "execution_count": 275,
   "metadata": {},
   "outputs": [
    {
     "data": {
      "text/plain": [
       "Index(['OBS_DT', 'RADIATION', 'TEMPERATURE', 'PRESSURE', 'HUMIDITY',\n",
       "       'WIND_DIRECTION', 'WIND_SPEED', 'TIME_SUNRISE', 'TIME_SUNSET', 'DATE',\n",
       "       'SUN_DURATION'],\n",
       "      dtype='object')"
      ]
     },
     "execution_count": 275,
     "metadata": {},
     "output_type": "execute_result"
    }
   ],
   "source": [
    "df_prob3.columns"
   ]
  },
  {
   "cell_type": "code",
   "execution_count": 276,
   "metadata": {},
   "outputs": [],
   "source": [
    "colx=['RADIATION', 'TEMPERATURE', 'PRESSURE', 'HUMIDITY',\n",
    "       'WIND_DIRECTION', 'WIND_SPEED']"
   ]
  },
  {
   "cell_type": "code",
   "execution_count": 277,
   "metadata": {},
   "outputs": [
    {
     "data": {
      "text/plain": [
       "6"
      ]
     },
     "execution_count": 277,
     "metadata": {},
     "output_type": "execute_result"
    }
   ],
   "source": [
    "len(colx)"
   ]
  },
  {
   "cell_type": "code",
   "execution_count": 278,
   "metadata": {},
   "outputs": [],
   "source": [
    "df_sub = df_prob3.groupby([\"DATE\",\"SUN_DURATION\"],as_index=False)[colx].mean()"
   ]
  },
  {
   "cell_type": "code",
   "execution_count": 279,
   "metadata": {},
   "outputs": [
    {
     "data": {
      "text/html": [
       "<div>\n",
       "<style scoped>\n",
       "    .dataframe tbody tr th:only-of-type {\n",
       "        vertical-align: middle;\n",
       "    }\n",
       "\n",
       "    .dataframe tbody tr th {\n",
       "        vertical-align: top;\n",
       "    }\n",
       "\n",
       "    .dataframe thead th {\n",
       "        text-align: right;\n",
       "    }\n",
       "</style>\n",
       "<table border=\"1\" class=\"dataframe\">\n",
       "  <thead>\n",
       "    <tr style=\"text-align: right;\">\n",
       "      <th></th>\n",
       "      <th>DATE</th>\n",
       "      <th>SUN_DURATION</th>\n",
       "      <th>RADIATION</th>\n",
       "      <th>TEMPERATURE</th>\n",
       "      <th>PRESSURE</th>\n",
       "      <th>HUMIDITY</th>\n",
       "      <th>WIND_DIRECTION</th>\n",
       "      <th>WIND_SPEED</th>\n",
       "    </tr>\n",
       "  </thead>\n",
       "  <tbody>\n",
       "    <tr>\n",
       "      <td>0</td>\n",
       "      <td>2022-09-01</td>\n",
       "      <td>45060.0</td>\n",
       "      <td>298.451600</td>\n",
       "      <td>54.556000</td>\n",
       "      <td>30.436640</td>\n",
       "      <td>78.968000</td>\n",
       "      <td>112.564000</td>\n",
       "      <td>6.396560</td>\n",
       "    </tr>\n",
       "    <tr>\n",
       "      <td>1</td>\n",
       "      <td>2022-09-02</td>\n",
       "      <td>45000.0</td>\n",
       "      <td>333.471219</td>\n",
       "      <td>56.379928</td>\n",
       "      <td>30.446487</td>\n",
       "      <td>72.501792</td>\n",
       "      <td>115.392079</td>\n",
       "      <td>5.804086</td>\n",
       "    </tr>\n",
       "    <tr>\n",
       "      <td>2</td>\n",
       "      <td>2022-09-03</td>\n",
       "      <td>44880.0</td>\n",
       "      <td>123.974574</td>\n",
       "      <td>55.507092</td>\n",
       "      <td>30.438546</td>\n",
       "      <td>94.599291</td>\n",
       "      <td>192.678546</td>\n",
       "      <td>4.960248</td>\n",
       "    </tr>\n",
       "    <tr>\n",
       "      <td>3</td>\n",
       "      <td>2022-09-04</td>\n",
       "      <td>44820.0</td>\n",
       "      <td>153.584321</td>\n",
       "      <td>53.589286</td>\n",
       "      <td>30.454107</td>\n",
       "      <td>93.878571</td>\n",
       "      <td>126.336714</td>\n",
       "      <td>5.184571</td>\n",
       "    </tr>\n",
       "    <tr>\n",
       "      <td>4</td>\n",
       "      <td>2022-09-05</td>\n",
       "      <td>44820.0</td>\n",
       "      <td>306.065125</td>\n",
       "      <td>53.199288</td>\n",
       "      <td>30.419680</td>\n",
       "      <td>79.943060</td>\n",
       "      <td>209.169253</td>\n",
       "      <td>5.830676</td>\n",
       "    </tr>\n",
       "  </tbody>\n",
       "</table>\n",
       "</div>"
      ],
      "text/plain": [
       "         DATE  SUN_DURATION   RADIATION  TEMPERATURE   PRESSURE   HUMIDITY  \\\n",
       "0  2022-09-01       45060.0  298.451600    54.556000  30.436640  78.968000   \n",
       "1  2022-09-02       45000.0  333.471219    56.379928  30.446487  72.501792   \n",
       "2  2022-09-03       44880.0  123.974574    55.507092  30.438546  94.599291   \n",
       "3  2022-09-04       44820.0  153.584321    53.589286  30.454107  93.878571   \n",
       "4  2022-09-05       44820.0  306.065125    53.199288  30.419680  79.943060   \n",
       "\n",
       "   WIND_DIRECTION  WIND_SPEED  \n",
       "0      112.564000    6.396560  \n",
       "1      115.392079    5.804086  \n",
       "2      192.678546    4.960248  \n",
       "3      126.336714    5.184571  \n",
       "4      209.169253    5.830676  "
      ]
     },
     "execution_count": 279,
     "metadata": {},
     "output_type": "execute_result"
    }
   ],
   "source": [
    "df_sub.head()"
   ]
  },
  {
   "cell_type": "code",
   "execution_count": 280,
   "metadata": {},
   "outputs": [
    {
     "data": {
      "text/plain": [
       "int"
      ]
     },
     "execution_count": 280,
     "metadata": {},
     "output_type": "execute_result"
    }
   ],
   "source": [
    "type(df_sub.DATE.iloc[0].day)"
   ]
  },
  {
   "cell_type": "code",
   "execution_count": 281,
   "metadata": {},
   "outputs": [],
   "source": [
    "df_test6 = df_sub.loc[df_sub.DATE.apply(lambda x:(x.day==1)|(x.day==15)),]"
   ]
  },
  {
   "cell_type": "code",
   "execution_count": 282,
   "metadata": {},
   "outputs": [],
   "source": [
    "df_train6=df_sub.loc[set(df_sub.index)-set(df_test6.index),:]"
   ]
  },
  {
   "cell_type": "code",
   "execution_count": 283,
   "metadata": {},
   "outputs": [
    {
     "data": {
      "text/html": [
       "<div>\n",
       "<style scoped>\n",
       "    .dataframe tbody tr th:only-of-type {\n",
       "        vertical-align: middle;\n",
       "    }\n",
       "\n",
       "    .dataframe tbody tr th {\n",
       "        vertical-align: top;\n",
       "    }\n",
       "\n",
       "    .dataframe thead th {\n",
       "        text-align: right;\n",
       "    }\n",
       "</style>\n",
       "<table border=\"1\" class=\"dataframe\">\n",
       "  <thead>\n",
       "    <tr style=\"text-align: right;\">\n",
       "      <th></th>\n",
       "      <th>DATE</th>\n",
       "      <th>SUN_DURATION</th>\n",
       "      <th>RADIATION</th>\n",
       "      <th>TEMPERATURE</th>\n",
       "      <th>PRESSURE</th>\n",
       "      <th>HUMIDITY</th>\n",
       "      <th>WIND_DIRECTION</th>\n",
       "      <th>WIND_SPEED</th>\n",
       "    </tr>\n",
       "  </thead>\n",
       "  <tbody>\n",
       "    <tr>\n",
       "      <td>1</td>\n",
       "      <td>2022-09-02</td>\n",
       "      <td>45000.0</td>\n",
       "      <td>333.471219</td>\n",
       "      <td>56.379928</td>\n",
       "      <td>30.446487</td>\n",
       "      <td>72.501792</td>\n",
       "      <td>115.392079</td>\n",
       "      <td>5.804086</td>\n",
       "    </tr>\n",
       "    <tr>\n",
       "      <td>2</td>\n",
       "      <td>2022-09-03</td>\n",
       "      <td>44880.0</td>\n",
       "      <td>123.974574</td>\n",
       "      <td>55.507092</td>\n",
       "      <td>30.438546</td>\n",
       "      <td>94.599291</td>\n",
       "      <td>192.678546</td>\n",
       "      <td>4.960248</td>\n",
       "    </tr>\n",
       "    <tr>\n",
       "      <td>3</td>\n",
       "      <td>2022-09-04</td>\n",
       "      <td>44820.0</td>\n",
       "      <td>153.584321</td>\n",
       "      <td>53.589286</td>\n",
       "      <td>30.454107</td>\n",
       "      <td>93.878571</td>\n",
       "      <td>126.336714</td>\n",
       "      <td>5.184571</td>\n",
       "    </tr>\n",
       "    <tr>\n",
       "      <td>4</td>\n",
       "      <td>2022-09-05</td>\n",
       "      <td>44820.0</td>\n",
       "      <td>306.065125</td>\n",
       "      <td>53.199288</td>\n",
       "      <td>30.419680</td>\n",
       "      <td>79.943060</td>\n",
       "      <td>209.169253</td>\n",
       "      <td>5.830676</td>\n",
       "    </tr>\n",
       "    <tr>\n",
       "      <td>5</td>\n",
       "      <td>2022-09-06</td>\n",
       "      <td>44760.0</td>\n",
       "      <td>310.643781</td>\n",
       "      <td>52.091873</td>\n",
       "      <td>30.403569</td>\n",
       "      <td>75.522968</td>\n",
       "      <td>117.117420</td>\n",
       "      <td>5.499152</td>\n",
       "    </tr>\n",
       "    <tr>\n",
       "      <td>...</td>\n",
       "      <td>...</td>\n",
       "      <td>...</td>\n",
       "      <td>...</td>\n",
       "      <td>...</td>\n",
       "      <td>...</td>\n",
       "      <td>...</td>\n",
       "      <td>...</td>\n",
       "      <td>...</td>\n",
       "    </tr>\n",
       "    <tr>\n",
       "      <td>113</td>\n",
       "      <td>2022-12-27</td>\n",
       "      <td>39360.0</td>\n",
       "      <td>239.910556</td>\n",
       "      <td>49.888889</td>\n",
       "      <td>30.431181</td>\n",
       "      <td>31.687500</td>\n",
       "      <td>133.341458</td>\n",
       "      <td>8.692708</td>\n",
       "    </tr>\n",
       "    <tr>\n",
       "      <td>114</td>\n",
       "      <td>2022-12-28</td>\n",
       "      <td>39360.0</td>\n",
       "      <td>174.910278</td>\n",
       "      <td>45.149306</td>\n",
       "      <td>30.384965</td>\n",
       "      <td>86.788194</td>\n",
       "      <td>134.345000</td>\n",
       "      <td>7.181076</td>\n",
       "    </tr>\n",
       "    <tr>\n",
       "      <td>115</td>\n",
       "      <td>2022-12-29</td>\n",
       "      <td>39420.0</td>\n",
       "      <td>125.018049</td>\n",
       "      <td>43.571429</td>\n",
       "      <td>30.328397</td>\n",
       "      <td>89.271777</td>\n",
       "      <td>130.917596</td>\n",
       "      <td>4.677805</td>\n",
       "    </tr>\n",
       "    <tr>\n",
       "      <td>116</td>\n",
       "      <td>2022-12-30</td>\n",
       "      <td>39420.0</td>\n",
       "      <td>88.367684</td>\n",
       "      <td>45.087719</td>\n",
       "      <td>30.312070</td>\n",
       "      <td>82.312281</td>\n",
       "      <td>222.130947</td>\n",
       "      <td>4.592211</td>\n",
       "    </tr>\n",
       "    <tr>\n",
       "      <td>117</td>\n",
       "      <td>2022-12-31</td>\n",
       "      <td>39420.0</td>\n",
       "      <td>144.288542</td>\n",
       "      <td>46.250000</td>\n",
       "      <td>30.312604</td>\n",
       "      <td>83.302083</td>\n",
       "      <td>265.131424</td>\n",
       "      <td>7.431042</td>\n",
       "    </tr>\n",
       "  </tbody>\n",
       "</table>\n",
       "<p>110 rows × 8 columns</p>\n",
       "</div>"
      ],
      "text/plain": [
       "           DATE  SUN_DURATION   RADIATION  TEMPERATURE   PRESSURE   HUMIDITY  \\\n",
       "1    2022-09-02       45000.0  333.471219    56.379928  30.446487  72.501792   \n",
       "2    2022-09-03       44880.0  123.974574    55.507092  30.438546  94.599291   \n",
       "3    2022-09-04       44820.0  153.584321    53.589286  30.454107  93.878571   \n",
       "4    2022-09-05       44820.0  306.065125    53.199288  30.419680  79.943060   \n",
       "5    2022-09-06       44760.0  310.643781    52.091873  30.403569  75.522968   \n",
       "..          ...           ...         ...          ...        ...        ...   \n",
       "113  2022-12-27       39360.0  239.910556    49.888889  30.431181  31.687500   \n",
       "114  2022-12-28       39360.0  174.910278    45.149306  30.384965  86.788194   \n",
       "115  2022-12-29       39420.0  125.018049    43.571429  30.328397  89.271777   \n",
       "116  2022-12-30       39420.0   88.367684    45.087719  30.312070  82.312281   \n",
       "117  2022-12-31       39420.0  144.288542    46.250000  30.312604  83.302083   \n",
       "\n",
       "     WIND_DIRECTION  WIND_SPEED  \n",
       "1        115.392079    5.804086  \n",
       "2        192.678546    4.960248  \n",
       "3        126.336714    5.184571  \n",
       "4        209.169253    5.830676  \n",
       "5        117.117420    5.499152  \n",
       "..              ...         ...  \n",
       "113      133.341458    8.692708  \n",
       "114      134.345000    7.181076  \n",
       "115      130.917596    4.677805  \n",
       "116      222.130947    4.592211  \n",
       "117      265.131424    7.431042  \n",
       "\n",
       "[110 rows x 8 columns]"
      ]
     },
     "execution_count": 283,
     "metadata": {},
     "output_type": "execute_result"
    }
   ],
   "source": [
    "df_train6"
   ]
  },
  {
   "cell_type": "code",
   "execution_count": 284,
   "metadata": {},
   "outputs": [
    {
     "data": {
      "text/html": [
       "<div>\n",
       "<style scoped>\n",
       "    .dataframe tbody tr th:only-of-type {\n",
       "        vertical-align: middle;\n",
       "    }\n",
       "\n",
       "    .dataframe tbody tr th {\n",
       "        vertical-align: top;\n",
       "    }\n",
       "\n",
       "    .dataframe thead th {\n",
       "        text-align: right;\n",
       "    }\n",
       "</style>\n",
       "<table border=\"1\" class=\"dataframe\">\n",
       "  <thead>\n",
       "    <tr style=\"text-align: right;\">\n",
       "      <th></th>\n",
       "      <th>DATE</th>\n",
       "      <th>SUN_DURATION</th>\n",
       "      <th>RADIATION</th>\n",
       "      <th>TEMPERATURE</th>\n",
       "      <th>PRESSURE</th>\n",
       "      <th>HUMIDITY</th>\n",
       "      <th>WIND_DIRECTION</th>\n",
       "      <th>WIND_SPEED</th>\n",
       "    </tr>\n",
       "  </thead>\n",
       "  <tbody>\n",
       "    <tr>\n",
       "      <td>0</td>\n",
       "      <td>2022-09-01</td>\n",
       "      <td>45060.0</td>\n",
       "      <td>298.451600</td>\n",
       "      <td>54.556000</td>\n",
       "      <td>30.436640</td>\n",
       "      <td>78.968000</td>\n",
       "      <td>112.564000</td>\n",
       "      <td>6.396560</td>\n",
       "    </tr>\n",
       "    <tr>\n",
       "      <td>14</td>\n",
       "      <td>2022-09-15</td>\n",
       "      <td>44160.0</td>\n",
       "      <td>39.832214</td>\n",
       "      <td>49.757143</td>\n",
       "      <td>30.432714</td>\n",
       "      <td>97.385714</td>\n",
       "      <td>172.693786</td>\n",
       "      <td>4.031857</td>\n",
       "    </tr>\n",
       "    <tr>\n",
       "      <td>29</td>\n",
       "      <td>2022-10-01</td>\n",
       "      <td>43080.0</td>\n",
       "      <td>219.594049</td>\n",
       "      <td>52.475352</td>\n",
       "      <td>30.448838</td>\n",
       "      <td>99.679577</td>\n",
       "      <td>109.212570</td>\n",
       "      <td>6.287958</td>\n",
       "    </tr>\n",
       "    <tr>\n",
       "      <td>43</td>\n",
       "      <td>2022-10-15</td>\n",
       "      <td>42120.0</td>\n",
       "      <td>302.207599</td>\n",
       "      <td>58.268817</td>\n",
       "      <td>30.491541</td>\n",
       "      <td>25.494624</td>\n",
       "      <td>126.270860</td>\n",
       "      <td>6.251505</td>\n",
       "    </tr>\n",
       "    <tr>\n",
       "      <td>60</td>\n",
       "      <td>2022-11-01</td>\n",
       "      <td>41040.0</td>\n",
       "      <td>203.763345</td>\n",
       "      <td>50.017422</td>\n",
       "      <td>30.468049</td>\n",
       "      <td>50.878049</td>\n",
       "      <td>131.698328</td>\n",
       "      <td>6.018258</td>\n",
       "    </tr>\n",
       "    <tr>\n",
       "      <td>74</td>\n",
       "      <td>2022-11-15</td>\n",
       "      <td>40320.0</td>\n",
       "      <td>215.356111</td>\n",
       "      <td>49.739583</td>\n",
       "      <td>30.455937</td>\n",
       "      <td>69.937500</td>\n",
       "      <td>134.964167</td>\n",
       "      <td>8.231806</td>\n",
       "    </tr>\n",
       "    <tr>\n",
       "      <td>89</td>\n",
       "      <td>2022-12-01</td>\n",
       "      <td>39660.0</td>\n",
       "      <td>51.853403</td>\n",
       "      <td>44.395833</td>\n",
       "      <td>30.406042</td>\n",
       "      <td>94.701389</td>\n",
       "      <td>136.396771</td>\n",
       "      <td>7.833333</td>\n",
       "    </tr>\n",
       "    <tr>\n",
       "      <td>101</td>\n",
       "      <td>2022-12-15</td>\n",
       "      <td>39360.0</td>\n",
       "      <td>122.469439</td>\n",
       "      <td>44.522807</td>\n",
       "      <td>30.249018</td>\n",
       "      <td>90.529825</td>\n",
       "      <td>279.019965</td>\n",
       "      <td>8.563298</td>\n",
       "    </tr>\n",
       "  </tbody>\n",
       "</table>\n",
       "</div>"
      ],
      "text/plain": [
       "           DATE  SUN_DURATION   RADIATION  TEMPERATURE   PRESSURE   HUMIDITY  \\\n",
       "0    2022-09-01       45060.0  298.451600    54.556000  30.436640  78.968000   \n",
       "14   2022-09-15       44160.0   39.832214    49.757143  30.432714  97.385714   \n",
       "29   2022-10-01       43080.0  219.594049    52.475352  30.448838  99.679577   \n",
       "43   2022-10-15       42120.0  302.207599    58.268817  30.491541  25.494624   \n",
       "60   2022-11-01       41040.0  203.763345    50.017422  30.468049  50.878049   \n",
       "74   2022-11-15       40320.0  215.356111    49.739583  30.455937  69.937500   \n",
       "89   2022-12-01       39660.0   51.853403    44.395833  30.406042  94.701389   \n",
       "101  2022-12-15       39360.0  122.469439    44.522807  30.249018  90.529825   \n",
       "\n",
       "     WIND_DIRECTION  WIND_SPEED  \n",
       "0        112.564000    6.396560  \n",
       "14       172.693786    4.031857  \n",
       "29       109.212570    6.287958  \n",
       "43       126.270860    6.251505  \n",
       "60       131.698328    6.018258  \n",
       "74       134.964167    8.231806  \n",
       "89       136.396771    7.833333  \n",
       "101      279.019965    8.563298  "
      ]
     },
     "execution_count": 284,
     "metadata": {},
     "output_type": "execute_result"
    }
   ],
   "source": [
    "df_test6"
   ]
  },
  {
   "cell_type": "code",
   "execution_count": 267,
   "metadata": {},
   "outputs": [
    {
     "data": {
      "text/plain": [
       "Index(['DATE', 'SUN_DURATION', 'RADIATION', 'TEMPERATURE', 'PRESSURE',\n",
       "       'HUMIDITY', 'WIND_DIRECTION', 'WIND_SPEED'],\n",
       "      dtype='object')"
      ]
     },
     "execution_count": 267,
     "metadata": {},
     "output_type": "execute_result"
    }
   ],
   "source": [
    "df_train6.columns"
   ]
  },
  {
   "cell_type": "code",
   "execution_count": 285,
   "metadata": {},
   "outputs": [],
   "source": [
    "colx=['SUN_DURATION', 'TEMPERATURE', 'PRESSURE',\n",
    "       'HUMIDITY', 'WIND_DIRECTION', 'WIND_SPEED']"
   ]
  },
  {
   "cell_type": "code",
   "execution_count": 288,
   "metadata": {},
   "outputs": [
    {
     "data": {
      "text/plain": [
       "6"
      ]
     },
     "execution_count": 288,
     "metadata": {},
     "output_type": "execute_result"
    }
   ],
   "source": [
    "len(colx)"
   ]
  },
  {
   "cell_type": "code",
   "execution_count": 289,
   "metadata": {},
   "outputs": [],
   "source": [
    "form = \"RADIATION ~ \"+\"+\".join(colx)"
   ]
  },
  {
   "cell_type": "code",
   "execution_count": 290,
   "metadata": {},
   "outputs": [
    {
     "data": {
      "text/plain": [
       "'RADIATION ~ SUN_DURATION+TEMPERATURE+PRESSURE+HUMIDITY+WIND_DIRECTION+WIND_SPEED'"
      ]
     },
     "execution_count": 290,
     "metadata": {},
     "output_type": "execute_result"
    }
   ],
   "source": [
    "form"
   ]
  },
  {
   "cell_type": "code",
   "execution_count": 291,
   "metadata": {},
   "outputs": [],
   "source": [
    "from statsmodels.formula.api import ols"
   ]
  },
  {
   "cell_type": "code",
   "execution_count": 292,
   "metadata": {},
   "outputs": [],
   "source": [
    "model=ols(formula=form, data=df_train6).fit()"
   ]
  },
  {
   "cell_type": "code",
   "execution_count": 293,
   "metadata": {},
   "outputs": [],
   "source": [
    "pred = model.predict(df_test6.loc[:,colx])"
   ]
  },
  {
   "cell_type": "code",
   "execution_count": 294,
   "metadata": {},
   "outputs": [],
   "source": [
    "from sklearn.metrics import mean_squared_error as mse"
   ]
  },
  {
   "cell_type": "code",
   "execution_count": 297,
   "metadata": {},
   "outputs": [],
   "source": [
    "prob_3 = round(mse(y_pred=pred, y_true=df_test6.RADIATION),2)"
   ]
  },
  {
   "cell_type": "code",
   "execution_count": 298,
   "metadata": {},
   "outputs": [
    {
     "data": {
      "text/plain": [
       "0.394"
      ]
     },
     "execution_count": 298,
     "metadata": {},
     "output_type": "execute_result"
    }
   ],
   "source": [
    "prob_1"
   ]
  },
  {
   "cell_type": "code",
   "execution_count": 299,
   "metadata": {},
   "outputs": [
    {
     "data": {
      "text/plain": [
       "52.1"
      ]
     },
     "execution_count": 299,
     "metadata": {},
     "output_type": "execute_result"
    }
   ],
   "source": [
    "prob_2"
   ]
  },
  {
   "cell_type": "code",
   "execution_count": 300,
   "metadata": {},
   "outputs": [
    {
     "data": {
      "text/plain": [
       "2364.53"
      ]
     },
     "execution_count": 300,
     "metadata": {},
     "output_type": "execute_result"
    }
   ],
   "source": [
    "prob_3"
   ]
  },
  {
   "cell_type": "code",
   "execution_count": null,
   "metadata": {},
   "outputs": [],
   "source": []
  }
 ],
 "metadata": {
  "kernelspec": {
   "display_name": "Python 3",
   "language": "python",
   "name": "python3"
  },
  "language_info": {
   "codemirror_mode": {
    "name": "ipython",
    "version": 3
   },
   "file_extension": ".py",
   "mimetype": "text/x-python",
   "name": "python",
   "nbconvert_exporter": "python",
   "pygments_lexer": "ipython3",
   "version": "3.7.4"
  }
 },
 "nbformat": 4,
 "nbformat_minor": 2
}
