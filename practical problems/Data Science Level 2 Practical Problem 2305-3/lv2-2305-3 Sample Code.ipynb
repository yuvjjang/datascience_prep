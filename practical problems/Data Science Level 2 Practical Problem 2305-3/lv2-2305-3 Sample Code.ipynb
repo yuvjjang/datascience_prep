{
 "cells": [
  {
   "cell_type": "markdown",
   "id": "4e249d84",
   "metadata": {},
   "source": [
    "## Data Science Level 2 Practical Problem 2305-3"
   ]
  },
  {
   "cell_type": "code",
   "execution_count": 1,
   "id": "447128a5",
   "metadata": {},
   "outputs": [],
   "source": [
    "import pandas as pd\n",
    "import numpy as np"
   ]
  },
  {
   "cell_type": "code",
   "execution_count": 2,
   "id": "8e8d0672",
   "metadata": {},
   "outputs": [
    {
     "name": "stdout",
     "output_type": "stream",
     "text": [
      "(32686, 9)\n",
      "<class 'pandas.core.frame.DataFrame'>\n",
      "RangeIndex: 32686 entries, 0 to 32685\n",
      "Data columns (total 9 columns):\n",
      "OBS_DT            32686 non-null object\n",
      "RADIATION         32686 non-null float64\n",
      "TEMPERATURE       32686 non-null float64\n",
      "PRESSURE          32686 non-null float64\n",
      "HUMIDITY          32686 non-null float64\n",
      "WIND_DIRECTION    32686 non-null float64\n",
      "WIND_SPEED        32686 non-null float64\n",
      "TIME_SUNRISE      32686 non-null object\n",
      "TIME_SUNSET       32686 non-null object\n",
      "dtypes: float64(6), object(3)\n",
      "memory usage: 2.2+ MB\n"
     ]
    }
   ],
   "source": [
    "df_raw02 = pd.read_csv('lv2-2305-3.csv')\n",
    "print(df_raw02.shape)\n",
    "df_raw02.info()"
   ]
  },
  {
   "cell_type": "markdown",
   "id": "5f875875",
   "metadata": {},
   "source": [
    "### Q1"
   ]
  },
  {
   "cell_type": "code",
   "execution_count": 3,
   "id": "afbdbf9b",
   "metadata": {},
   "outputs": [],
   "source": [
    "df240 = df_raw02.copy()\n",
    "df240['TIME'] = df240['OBS_DT'].map(lambda x: x[-8:])\n",
    "df241 = df240[(df240['TIME']>=df240['TIME_SUNRISE']) & \\\n",
    "      (df240['TIME']<=df240['TIME_SUNSET'])].copy()"
   ]
  },
  {
   "cell_type": "code",
   "execution_count": 4,
   "id": "d858e135",
   "metadata": {},
   "outputs": [
    {
     "data": {
      "text/plain": [
       "(15608, 10)"
      ]
     },
     "execution_count": 4,
     "metadata": {},
     "output_type": "execute_result"
    }
   ],
   "source": [
    "df241.shape"
   ]
  },
  {
   "cell_type": "code",
   "execution_count": 5,
   "id": "d566fb8f",
   "metadata": {},
   "outputs": [
    {
     "data": {
      "text/html": [
       "<div>\n",
       "<style scoped>\n",
       "    .dataframe tbody tr th:only-of-type {\n",
       "        vertical-align: middle;\n",
       "    }\n",
       "\n",
       "    .dataframe tbody tr th {\n",
       "        vertical-align: top;\n",
       "    }\n",
       "\n",
       "    .dataframe thead th {\n",
       "        text-align: right;\n",
       "    }\n",
       "</style>\n",
       "<table border=\"1\" class=\"dataframe\">\n",
       "  <thead>\n",
       "    <tr style=\"text-align: right;\">\n",
       "      <th></th>\n",
       "      <th>RADIATION</th>\n",
       "      <th>TEMPERATURE</th>\n",
       "      <th>PRESSURE</th>\n",
       "      <th>HUMIDITY</th>\n",
       "      <th>WIND_DIRECTION</th>\n",
       "      <th>WIND_SPEED</th>\n",
       "    </tr>\n",
       "  </thead>\n",
       "  <tbody>\n",
       "    <tr>\n",
       "      <td>RADIATION</td>\n",
       "      <td>1.000000</td>\n",
       "      <td>0.645984</td>\n",
       "      <td>0.234832</td>\n",
       "      <td>-0.393566</td>\n",
       "      <td>-0.154165</td>\n",
       "      <td>0.125902</td>\n",
       "    </tr>\n",
       "    <tr>\n",
       "      <td>TEMPERATURE</td>\n",
       "      <td>0.645984</td>\n",
       "      <td>1.000000</td>\n",
       "      <td>0.362515</td>\n",
       "      <td>-0.545887</td>\n",
       "      <td>-0.195206</td>\n",
       "      <td>0.010866</td>\n",
       "    </tr>\n",
       "    <tr>\n",
       "      <td>PRESSURE</td>\n",
       "      <td>0.234832</td>\n",
       "      <td>0.362515</td>\n",
       "      <td>1.000000</td>\n",
       "      <td>-0.283555</td>\n",
       "      <td>-0.250171</td>\n",
       "      <td>-0.162957</td>\n",
       "    </tr>\n",
       "    <tr>\n",
       "      <td>HUMIDITY</td>\n",
       "      <td>-0.393566</td>\n",
       "      <td>-0.545887</td>\n",
       "      <td>-0.283555</td>\n",
       "      <td>1.000000</td>\n",
       "      <td>0.047233</td>\n",
       "      <td>-0.099915</td>\n",
       "    </tr>\n",
       "    <tr>\n",
       "      <td>WIND_DIRECTION</td>\n",
       "      <td>-0.154165</td>\n",
       "      <td>-0.195206</td>\n",
       "      <td>-0.250171</td>\n",
       "      <td>0.047233</td>\n",
       "      <td>1.000000</td>\n",
       "      <td>0.076879</td>\n",
       "    </tr>\n",
       "    <tr>\n",
       "      <td>WIND_SPEED</td>\n",
       "      <td>0.125902</td>\n",
       "      <td>0.010866</td>\n",
       "      <td>-0.162957</td>\n",
       "      <td>-0.099915</td>\n",
       "      <td>0.076879</td>\n",
       "      <td>1.000000</td>\n",
       "    </tr>\n",
       "  </tbody>\n",
       "</table>\n",
       "</div>"
      ],
      "text/plain": [
       "                RADIATION  TEMPERATURE  PRESSURE  HUMIDITY  WIND_DIRECTION  \\\n",
       "RADIATION        1.000000     0.645984  0.234832 -0.393566       -0.154165   \n",
       "TEMPERATURE      0.645984     1.000000  0.362515 -0.545887       -0.195206   \n",
       "PRESSURE         0.234832     0.362515  1.000000 -0.283555       -0.250171   \n",
       "HUMIDITY        -0.393566    -0.545887 -0.283555  1.000000        0.047233   \n",
       "WIND_DIRECTION  -0.154165    -0.195206 -0.250171  0.047233        1.000000   \n",
       "WIND_SPEED       0.125902     0.010866 -0.162957 -0.099915        0.076879   \n",
       "\n",
       "                WIND_SPEED  \n",
       "RADIATION         0.125902  \n",
       "TEMPERATURE       0.010866  \n",
       "PRESSURE         -0.162957  \n",
       "HUMIDITY         -0.099915  \n",
       "WIND_DIRECTION    0.076879  \n",
       "WIND_SPEED        1.000000  "
      ]
     },
     "execution_count": 5,
     "metadata": {},
     "output_type": "execute_result"
    }
   ],
   "source": [
    "df241.corr(method='pearson')"
   ]
  },
  {
   "cell_type": "code",
   "execution_count": 6,
   "id": "bcb94bd4",
   "metadata": {},
   "outputs": [
    {
     "data": {
      "text/plain": [
       "0.39356555779946645"
      ]
     },
     "execution_count": 6,
     "metadata": {},
     "output_type": "execute_result"
    }
   ],
   "source": [
    "list_tmp = []\n",
    "list_tmp.append(df241.corr(method='pearson').loc['PRESSURE','RADIATION'])\n",
    "list_tmp.append(df241.corr(method='pearson').loc['RADIATION','WIND_SPEED'])\n",
    "list_tmp.append(df241.corr(method='pearson').loc['HUMIDITY','RADIATION'])\n",
    "\n",
    "ans24 = np.max(np.abs(list_tmp))\n",
    "ans24"
   ]
  },
  {
   "cell_type": "code",
   "execution_count": 8,
   "id": "64287dca",
   "metadata": {},
   "outputs": [
    {
     "name": "stdout",
     "output_type": "stream",
     "text": [
      "ANS :  0.394\n"
     ]
    }
   ],
   "source": [
    "print(\"ANS : \", np.round(ans24, 3))"
   ]
  },
  {
   "cell_type": "markdown",
   "id": "b295ace0",
   "metadata": {},
   "source": [
    "### Q2"
   ]
  },
  {
   "cell_type": "code",
   "execution_count": 9,
   "id": "c09b01de",
   "metadata": {},
   "outputs": [],
   "source": [
    "df250 = df_raw02.copy()\n",
    "df250['DATE'] = df250['OBS_DT'].map(lambda x: x[:10])"
   ]
  },
  {
   "cell_type": "code",
   "execution_count": 10,
   "id": "553578ad",
   "metadata": {},
   "outputs": [],
   "source": [
    "df251 = df250.groupby(['DATE'])['TEMPERATURE'].max().reset_index()"
   ]
  },
  {
   "cell_type": "code",
   "execution_count": 11,
   "id": "18f7a529",
   "metadata": {},
   "outputs": [
    {
     "data": {
      "text/plain": [
       "(118, 2)"
      ]
     },
     "execution_count": 11,
     "metadata": {},
     "output_type": "execute_result"
    }
   ],
   "source": [
    "df251.shape"
   ]
  },
  {
   "cell_type": "code",
   "execution_count": 12,
   "id": "fe375876",
   "metadata": {},
   "outputs": [],
   "source": [
    "df252 = pd.concat([df251, pd.DataFrame({'DATE':['2022-09-30','2022-11-30',\\\n",
    "                                                '2022-12-06','2022-12-07'],\n",
    "             'TEMPERATURE':[None,None,None,None]})], axis=0, ignore_index=True)\n",
    "df252 = df252.sort_values('DATE')\n",
    "df252.index = range(df252.shape[0])"
   ]
  },
  {
   "cell_type": "code",
   "execution_count": 13,
   "id": "c3ef30a7",
   "metadata": {},
   "outputs": [
    {
     "name": "stdout",
     "output_type": "stream",
     "text": [
      "64.0\n",
      "54.3\n",
      "45.0\n"
     ]
    }
   ],
   "source": [
    "list_date = ['2022-09-30', '2022-11-30', '2022-12-06']\n",
    "idx_tmp00 = df252.loc[df252['DATE'].isin(list_date),:].index\n",
    "for i in idx_tmp00:\n",
    "    df252.loc[i,'TEMPERATURE'] = df252.loc[i-1, 'TEMPERATURE']*0.7 + \\\n",
    "    df252.loc[i-2, 'TEMPERATURE']*0.3\n",
    "    print(df252.loc[i,'TEMPERATURE'])"
   ]
  },
  {
   "cell_type": "code",
   "execution_count": 14,
   "id": "4f751ebc",
   "metadata": {},
   "outputs": [
    {
     "name": "stdout",
     "output_type": "stream",
     "text": [
      "97    45.0\n",
      "Name: TEMPERATURE, dtype: float64\n"
     ]
    }
   ],
   "source": [
    "idx_ = df252.loc[df252['DATE']=='2022-12-07',:].index\n",
    "df252.loc[idx_,'TEMPERATURE'] = \\\n",
    "df252.loc[idx_-2, 'TEMPERATURE'].values[0]*0.7 + \\\n",
    "df252.loc[idx_-3, 'TEMPERATURE'].values[0]*0.3\n",
    "print(df252.loc[idx_,'TEMPERATURE'])"
   ]
  },
  {
   "cell_type": "code",
   "execution_count": 15,
   "id": "ace2e62a",
   "metadata": {},
   "outputs": [
    {
     "data": {
      "text/plain": [
       "52.075"
      ]
     },
     "execution_count": 15,
     "metadata": {},
     "output_type": "execute_result"
    }
   ],
   "source": [
    "ans25 = df252[df252['DATE'].isin(['2022-09-30', '2022-11-30', '2022-12-06','2022-12-07'])]['TEMPERATURE'].mean()\n",
    "ans25"
   ]
  },
  {
   "cell_type": "code",
   "execution_count": 16,
   "id": "5d44f5fd",
   "metadata": {},
   "outputs": [
    {
     "name": "stdout",
     "output_type": "stream",
     "text": [
      "ANS :  52.1\n"
     ]
    }
   ],
   "source": [
    "print(\"ANS : \",np.round(ans25, 1))"
   ]
  },
  {
   "cell_type": "markdown",
   "id": "f8b5fc18",
   "metadata": {},
   "source": [
    "### Q3"
   ]
  },
  {
   "cell_type": "code",
   "execution_count": 17,
   "id": "0dcd5411",
   "metadata": {},
   "outputs": [],
   "source": [
    "df260 = df_raw02.copy()\n",
    "df260['DATE'] = df260['OBS_DT'].map(lambda x: x[:10])"
   ]
  },
  {
   "cell_type": "code",
   "execution_count": 18,
   "id": "5ca15275",
   "metadata": {},
   "outputs": [],
   "source": [
    "df260['H1'] = df260['TIME_SUNRISE'].map(lambda x: int(x[:2]))\n",
    "df260['m1'] = df260['TIME_SUNRISE'].map(lambda x: int(x[3:5]))\n",
    "df260['s1'] = df260['TIME_SUNRISE'].map(lambda x: int(x[6:8]))\n",
    "df260['H2'] = df260['TIME_SUNSET'].map(lambda x: int(x[:2]))\n",
    "df260['m2'] = df260['TIME_SUNSET'].map(lambda x: int(x[3:5]))\n",
    "df260['s2'] = df260['TIME_SUNSET'].map(lambda x: int(x[6:8]))"
   ]
  },
  {
   "cell_type": "code",
   "execution_count": 19,
   "id": "e00c8843",
   "metadata": {},
   "outputs": [],
   "source": [
    "df260['SUN_DURATION'] = 3600*(df260['H2']-df260['H1']) +\\\n",
    "60*(df260['m2']-df260['m1']) + df260['s2']-df260['s1']"
   ]
  },
  {
   "cell_type": "code",
   "execution_count": 20,
   "id": "4d26ede9",
   "metadata": {},
   "outputs": [],
   "source": [
    "df261 = df260.groupby(['DATE','SUN_DURATION'])\\\n",
    "['TEMPERATURE','PRESSURE','HUMIDITY',\\\n",
    " 'WIND_DIRECTION','WIND_SPEED','RADIATION'].mean().reset_index()"
   ]
  },
  {
   "cell_type": "code",
   "execution_count": 21,
   "id": "3621c98d",
   "metadata": {},
   "outputs": [],
   "source": [
    "df261['day'] = df261['DATE'].map(lambda x: x[-2:])"
   ]
  },
  {
   "cell_type": "code",
   "execution_count": 22,
   "id": "40b30724",
   "metadata": {},
   "outputs": [
    {
     "name": "stdout",
     "output_type": "stream",
     "text": [
      "(110, 9) (8, 9)\n"
     ]
    }
   ],
   "source": [
    "df_train = df261[(df261['day']!='01') & (df261['day']!='15')].copy()\n",
    "df_test = df261[(df261['day']=='01') | (df261['day']=='15')].copy()\n",
    "print(df_train.shape, df_test.shape)"
   ]
  },
  {
   "cell_type": "code",
   "execution_count": 23,
   "id": "faf5350b",
   "metadata": {},
   "outputs": [],
   "source": [
    "list_cols = ['SUN_DURATION','TEMPERATURE','PRESSURE',\\\n",
    "             'HUMIDITY','WIND_DIRECTION','WIND_SPEED']"
   ]
  },
  {
   "cell_type": "code",
   "execution_count": 24,
   "id": "9dd50df4",
   "metadata": {},
   "outputs": [],
   "source": [
    "from sklearn.linear_model import LinearRegression\n",
    "LR00 = LinearRegression()\n",
    "LR00.fit(df_train.loc[:,list_cols],df_train['RADIATION'])\n",
    "arr_pred = LR00.predict(df_test.loc[:,list_cols])\n",
    "arr_act = np.array(df_test['RADIATION'])"
   ]
  },
  {
   "cell_type": "code",
   "execution_count": 25,
   "id": "3bf40664",
   "metadata": {},
   "outputs": [
    {
     "data": {
      "text/plain": [
       "2364.5251270522867"
      ]
     },
     "execution_count": 25,
     "metadata": {},
     "output_type": "execute_result"
    }
   ],
   "source": [
    "ans26 = ((arr_act - arr_pred)**2).mean()\n",
    "ans26"
   ]
  },
  {
   "cell_type": "code",
   "execution_count": 26,
   "id": "ea0feddd",
   "metadata": {},
   "outputs": [
    {
     "name": "stdout",
     "output_type": "stream",
     "text": [
      "ANS :  2364.53\n"
     ]
    }
   ],
   "source": [
    "print(\"ANS : \", np.round(ans26, 2))"
   ]
  },
  {
   "cell_type": "code",
   "execution_count": null,
   "id": "a425a00a",
   "metadata": {},
   "outputs": [],
   "source": []
  }
 ],
 "metadata": {
  "kernelspec": {
   "display_name": "Python 3 (ipykernel)",
   "language": "python",
   "name": "python3"
  },
  "language_info": {
   "codemirror_mode": {
    "name": "ipython",
    "version": 3
   },
   "file_extension": ".py",
   "mimetype": "text/x-python",
   "name": "python",
   "nbconvert_exporter": "python",
   "pygments_lexer": "ipython3",
   "version": "3.7.4"
  }
 },
 "nbformat": 4,
 "nbformat_minor": 5
}
