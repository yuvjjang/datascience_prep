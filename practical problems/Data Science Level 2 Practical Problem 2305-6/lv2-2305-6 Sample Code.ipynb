{
 "cells": [
  {
   "cell_type": "code",
   "execution_count": 18,
   "id": "d85d202b",
   "metadata": {},
   "outputs": [],
   "source": [
    "import pandas as pd\n",
    "import numpy as np\n",
    "\n",
    "import warnings\n",
    "warnings.filterwarnings('ignore')\n"
   ]
  },
  {
   "cell_type": "markdown",
   "id": "3f608347",
   "metadata": {},
   "source": [
    "### Data Science Level 2 Practical Problem 2305-6"
   ]
  },
  {
   "cell_type": "code",
   "execution_count": 3,
   "id": "afba2086",
   "metadata": {},
   "outputs": [],
   "source": [
    "df = pd.read_csv('lv2-2305-6.csv')"
   ]
  },
  {
   "cell_type": "markdown",
   "id": "8a91d74f",
   "metadata": {},
   "source": [
    "#### Question 1"
   ]
  },
  {
   "cell_type": "code",
   "execution_count": 4,
   "id": "e0fb0f3e",
   "metadata": {},
   "outputs": [],
   "source": [
    "df1 = df.copy()"
   ]
  },
  {
   "cell_type": "code",
   "execution_count": 5,
   "id": "fe574d1f",
   "metadata": {},
   "outputs": [],
   "source": [
    "from sklearn.preprocessing import MinMaxScaler, StandardScaler\n",
    "\n",
    "sc = MinMaxScaler(feature_range=(2.2,5.7))\n",
    "# Step 1-1\n",
    "A = sc.fit_transform(df1[['SURVEY_RES_01']]).std()\n",
    "m = 7.9\n",
    "std = 1.399\n",
    "df1['SURVEY_RES_02'] = (df1['SURVEY_RES_02']*std + m)\n",
    "B = df1['SURVEY_RES_02'].median()\n",
    "ans21 = A + B"
   ]
  },
  {
   "cell_type": "code",
   "execution_count": 7,
   "id": "98b32f46",
   "metadata": {},
   "outputs": [
    {
     "name": "stdout",
     "output_type": "stream",
     "text": [
      "Q1 Result: 8.91329731865739\n",
      "Q1 Answer: 8.91\n"
     ]
    }
   ],
   "source": [
    "print('Q1 Result:', ans21)\n",
    "print('Q1 Answer:', round(ans21,2))"
   ]
  },
  {
   "cell_type": "markdown",
   "id": "0169b429",
   "metadata": {},
   "source": [
    "#### Question 2"
   ]
  },
  {
   "cell_type": "code",
   "execution_count": 8,
   "id": "0f67eab4",
   "metadata": {},
   "outputs": [],
   "source": [
    "df2 = df.copy()"
   ]
  },
  {
   "cell_type": "code",
   "execution_count": 9,
   "id": "5aec2b28",
   "metadata": {},
   "outputs": [],
   "source": [
    "from statsmodels.stats.outliers_influence import variance_inflation_factor"
   ]
  },
  {
   "cell_type": "code",
   "execution_count": 10,
   "id": "4afa2f3b",
   "metadata": {},
   "outputs": [],
   "source": [
    "# Step 2-1\n",
    "df2_1 = df2.iloc[:,1:-1]\n",
    "df2_1['const'] = 1\n",
    "\n",
    "vif = pd.DataFrame()\n",
    "vif['VIF Factor'] = [variance_inflation_factor(df2_1.values, i) for i in range(df2_1.shape[1])]\n",
    "\n",
    "vif['features'] = df2_1.columns\n",
    "\n",
    "vif = vif[vif['features'] != 'const']\n",
    "if vif['VIF Factor'].max() >= 5:\n",
    "    df2_1 = df2_1.drop(columns = [vif[vif['VIF Factor'] == vif['VIF Factor'].max()]['features'].values[0]])\n",
    "df2_1 = df2_1.drop(columns = ['const'])"
   ]
  },
  {
   "cell_type": "code",
   "execution_count": 11,
   "id": "933e2cb2",
   "metadata": {},
   "outputs": [],
   "source": [
    "df2_1['SATISFACTION'] = df2['SATISFACTION']\n",
    "df2_1['CUST_ID'] = df2['CUST_ID']"
   ]
  },
  {
   "cell_type": "code",
   "execution_count": 19,
   "id": "6ef7e3f8",
   "metadata": {
    "scrolled": true
   },
   "outputs": [],
   "source": [
    "# Step 2-2 \n",
    "from sklearn.linear_model import LogisticRegression\n",
    "\n",
    "lr = LogisticRegression(solver = 'newton-cg', C=100000, random_state=1234)\n",
    "\n",
    "\n",
    "train = df2_1[df2_1['CUST_ID'] <= 1000]\n",
    "test = df2_1[df2_1['CUST_ID'] > 1000]\n",
    "\n",
    "train_x = train.drop(columns = ['CUST_ID', 'SATISFACTION'])\n",
    "train_y = train[['SATISFACTION']]\n",
    "\n",
    "test_x = test.drop(columns = ['CUST_ID', 'SATISFACTION'])\n",
    "test_y = test[['SATISFACTION']]\n",
    "\n",
    "lr.fit(train_x, train_y)\n",
    "\n",
    "test_y['prd'] = lr.predict(test_x)\n",
    "from sklearn.metrics import accuracy_score\n",
    "C = accuracy_score(test_y['SATISFACTION'], test_y['prd'])\n"
   ]
  },
  {
   "cell_type": "code",
   "execution_count": 20,
   "id": "32278a4d",
   "metadata": {
    "scrolled": true
   },
   "outputs": [],
   "source": [
    "# Step 2-3\n",
    "tmp = 0\n",
    "res = []\n",
    "for i in range(6):\n",
    "    lb = tmp\n",
    "    ub = tmp+200\n",
    "    test = df2_1[(df2_1['CUST_ID'] > lb) & (df2_1['CUST_ID'] <= ub)]\n",
    "    train = df2_1[((df2_1['CUST_ID'] > 0) & (df2_1['CUST_ID'] <=lb)) | ((df2_1['CUST_ID'] > ub) & (df2_1['CUST_ID'] <= 1200))]    \n",
    "    train_x = train.drop(columns = ['CUST_ID', 'SATISFACTION'])\n",
    "    train_y = train[['SATISFACTION']]\n",
    "    \n",
    "    test_x = test.drop(columns = ['CUST_ID', 'SATISFACTION'])\n",
    "    test_y = test[['SATISFACTION']]\n",
    "    \n",
    "    lr = LogisticRegression(solver = 'newton-cg', C=100000, random_state=1234)\n",
    "    lr.fit(train_x, train_y)\n",
    "#     print(test['CUST_ID'].min(), test['CUST_ID'].max())\n",
    "    test_y['prd'] = lr.predict(test_x)\n",
    "    res.append(accuracy_score(test_y['SATISFACTION'], test_y['prd']))\n",
    "    tmp = tmp + 200\n",
    "D = sum(res)/6"
   ]
  },
  {
   "cell_type": "code",
   "execution_count": 15,
   "id": "335d004e",
   "metadata": {
    "scrolled": false
   },
   "outputs": [
    {
     "name": "stdout",
     "output_type": "stream",
     "text": [
      "Q2 Result: 0.012499999999999956\n",
      "Q2 Answer: 0.012\n"
     ]
    }
   ],
   "source": [
    "ans22 = abs(C - D)\n",
    "print('Q2 Result:', ans22)\n",
    "print('Q2 Answer:', int(ans22 * 1000) / 1000)"
   ]
  },
  {
   "cell_type": "markdown",
   "id": "df2266b5",
   "metadata": {},
   "source": [
    "#### Question 3"
   ]
  },
  {
   "cell_type": "code",
   "execution_count": 16,
   "id": "b3589618",
   "metadata": {
    "scrolled": true
   },
   "outputs": [],
   "source": [
    "df3 = df.copy()\n",
    "\n",
    "# Step 3-1\n",
    "from sklearn.preprocessing import MinMaxScaler\n",
    "\n",
    "sc = MinMaxScaler()\n",
    "sc.fit(df3.iloc[:,2:-1])\n",
    "list_cols = df3.iloc[:,2:-1].columns.tolist()\n",
    "df3_1 = pd.concat([df3, \\\n",
    "                   pd.DataFrame(sc.transform(df3.iloc[:,2:-1]), \\\n",
    "                                columns = [x + '_N' for x in list_cols])], axis=1)\n",
    "\n",
    "# Step 3-2\n",
    "df3_1.rename(columns = {'SURVEY_RES_01': 'SURVEY_RES_01_N'},inplace=True)\n",
    "\n",
    "# Step 3-3 \n",
    "from sklearn.cluster import KMeans\n",
    "\n",
    "k_list = [3,5,7]\n",
    "\n",
    "df3_2 = df3_1.drop(columns = ['CUST_ID', 'SATISFACTION'])\n",
    "df3_3 = df3_2.drop(columns = list_cols)\n",
    "\n",
    "from sklearn.metrics import silhouette_samples, silhouette_score\n",
    "\n",
    "max_num = -999\n",
    "res_list = []\n",
    "i = 0\n",
    "for k in k_list:\n",
    "    md = KMeans(n_clusters=k, random_state = 1234, max_iter = 300, n_init = 50)\n",
    "    md.fit(df3_3)\n",
    "    res = md.predict(df3_3)\n",
    "    res_list.append(res)\n",
    "    score = silhouette_score(df3_3, res)\n",
    "    if score > max_num:\n",
    "        max_num = score\n",
    "        max_k = k\n",
    "        max_i = i\n",
    "    i = i + 1\n",
    "\n",
    "tot = 0\n",
    "for num in range(k):\n",
    "    num_c = np.count_nonzero(res_list[max_i] == num)\n",
    "    if tot < num_c:\n",
    "        tot = num_c\n",
    "\n",
    "ans23 = tot"
   ]
  },
  {
   "cell_type": "code",
   "execution_count": 17,
   "id": "ecae6cd1",
   "metadata": {},
   "outputs": [
    {
     "name": "stdout",
     "output_type": "stream",
     "text": [
      "Q3 Answer:  261\n"
     ]
    }
   ],
   "source": [
    "print('Q3 Answer: ', ans23)"
   ]
  },
  {
   "cell_type": "code",
   "execution_count": null,
   "id": "6343aead",
   "metadata": {},
   "outputs": [],
   "source": []
  }
 ],
 "metadata": {
  "kernelspec": {
   "display_name": "Python 3 (ipykernel)",
   "language": "python",
   "name": "python3"
  },
  "language_info": {
   "codemirror_mode": {
    "name": "ipython",
    "version": 3
   },
   "file_extension": ".py",
   "mimetype": "text/x-python",
   "name": "python",
   "nbconvert_exporter": "python",
   "pygments_lexer": "ipython3",
   "version": "3.7.4"
  }
 },
 "nbformat": 4,
 "nbformat_minor": 5
}
