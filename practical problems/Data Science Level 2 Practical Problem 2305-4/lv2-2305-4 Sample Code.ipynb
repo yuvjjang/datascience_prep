{
 "cells": [
  {
   "cell_type": "code",
   "execution_count": 3,
   "id": "72e4807c",
   "metadata": {},
   "outputs": [],
   "source": [
    "import pandas as pd\n",
    "import numpy as np"
   ]
  },
  {
   "cell_type": "markdown",
   "id": "852c5a2d",
   "metadata": {},
   "source": [
    "# Data Science Level 2 Practical Problem 2305-4"
   ]
  },
  {
   "cell_type": "code",
   "execution_count": 4,
   "id": "eca6ce50",
   "metadata": {},
   "outputs": [],
   "source": [
    "set2 = pd.read_csv('lv2-2305-4.csv')"
   ]
  },
  {
   "cell_type": "code",
   "execution_count": 5,
   "id": "3989d4c6",
   "metadata": {},
   "outputs": [
    {
     "data": {
      "text/plain": [
       "(5456, 26)"
      ]
     },
     "execution_count": 5,
     "metadata": {},
     "output_type": "execute_result"
    }
   ],
   "source": [
    "set2.shape"
   ]
  },
  {
   "cell_type": "code",
   "execution_count": 6,
   "id": "1331046c",
   "metadata": {},
   "outputs": [
    {
     "name": "stdout",
     "output_type": "stream",
     "text": [
      "<class 'pandas.core.frame.DataFrame'>\n",
      "RangeIndex: 5456 entries, 0 to 5455\n",
      "Data columns (total 26 columns):\n",
      "SEQ         5456 non-null int64\n",
      "LABEL       5456 non-null int64\n",
      "SENSOR1     5456 non-null float64\n",
      "SENSOR2     5456 non-null float64\n",
      "SENSOR3     5456 non-null float64\n",
      "SENSOR4     5456 non-null float64\n",
      "SENSOR5     5456 non-null float64\n",
      "SENSOR6     5456 non-null float64\n",
      "SENSOR7     5456 non-null float64\n",
      "SENSOR8     5456 non-null float64\n",
      "SENSOR9     5456 non-null float64\n",
      "SENSOR10    5456 non-null float64\n",
      "SENSOR11    5456 non-null float64\n",
      "SENSOR12    5456 non-null float64\n",
      "SENSOR13    5456 non-null float64\n",
      "SENSOR14    5456 non-null float64\n",
      "SENSOR15    5456 non-null float64\n",
      "SENSOR16    5456 non-null float64\n",
      "SENSOR17    5456 non-null float64\n",
      "SENSOR18    5456 non-null float64\n",
      "SENSOR19    5456 non-null float64\n",
      "SENSOR20    5456 non-null float64\n",
      "SENSOR21    5456 non-null float64\n",
      "SENSOR22    5456 non-null float64\n",
      "SENSOR23    5456 non-null float64\n",
      "SENSOR24    5456 non-null float64\n",
      "dtypes: float64(24), int64(2)\n",
      "memory usage: 1.1 MB\n"
     ]
    }
   ],
   "source": [
    "set2.info()"
   ]
  },
  {
   "cell_type": "code",
   "execution_count": 7,
   "id": "7f4cc4fa",
   "metadata": {},
   "outputs": [
    {
     "data": {
      "text/html": [
       "<div>\n",
       "<style scoped>\n",
       "    .dataframe tbody tr th:only-of-type {\n",
       "        vertical-align: middle;\n",
       "    }\n",
       "\n",
       "    .dataframe tbody tr th {\n",
       "        vertical-align: top;\n",
       "    }\n",
       "\n",
       "    .dataframe thead th {\n",
       "        text-align: right;\n",
       "    }\n",
       "</style>\n",
       "<table border=\"1\" class=\"dataframe\">\n",
       "  <thead>\n",
       "    <tr style=\"text-align: right;\">\n",
       "      <th></th>\n",
       "      <th>SEQ</th>\n",
       "      <th>LABEL</th>\n",
       "      <th>SENSOR1</th>\n",
       "      <th>SENSOR2</th>\n",
       "      <th>SENSOR3</th>\n",
       "      <th>SENSOR4</th>\n",
       "      <th>SENSOR5</th>\n",
       "      <th>SENSOR6</th>\n",
       "      <th>SENSOR7</th>\n",
       "      <th>SENSOR8</th>\n",
       "      <th>...</th>\n",
       "      <th>SENSOR15</th>\n",
       "      <th>SENSOR16</th>\n",
       "      <th>SENSOR17</th>\n",
       "      <th>SENSOR18</th>\n",
       "      <th>SENSOR19</th>\n",
       "      <th>SENSOR20</th>\n",
       "      <th>SENSOR21</th>\n",
       "      <th>SENSOR22</th>\n",
       "      <th>SENSOR23</th>\n",
       "      <th>SENSOR24</th>\n",
       "    </tr>\n",
       "  </thead>\n",
       "  <tbody>\n",
       "    <tr>\n",
       "      <td>0</td>\n",
       "      <td>1</td>\n",
       "      <td>1</td>\n",
       "      <td>0.379162</td>\n",
       "      <td>0.647414</td>\n",
       "      <td>3.880380</td>\n",
       "      <td>3.875621</td>\n",
       "      <td>5.268301</td>\n",
       "      <td>2.558206</td>\n",
       "      <td>5.147154</td>\n",
       "      <td>2.313852</td>\n",
       "      <td>...</td>\n",
       "      <td>1.919116</td>\n",
       "      <td>0.604807</td>\n",
       "      <td>0.260053</td>\n",
       "      <td>0.280056</td>\n",
       "      <td>0.666976</td>\n",
       "      <td>0.762952</td>\n",
       "      <td>0.199911</td>\n",
       "      <td>0.354782</td>\n",
       "      <td>0.374587</td>\n",
       "      <td>0.093596</td>\n",
       "    </tr>\n",
       "    <tr>\n",
       "      <td>1</td>\n",
       "      <td>2</td>\n",
       "      <td>1</td>\n",
       "      <td>0.591498</td>\n",
       "      <td>0.510893</td>\n",
       "      <td>3.376670</td>\n",
       "      <td>3.465723</td>\n",
       "      <td>5.302984</td>\n",
       "      <td>2.577480</td>\n",
       "      <td>5.045021</td>\n",
       "      <td>2.491559</td>\n",
       "      <td>...</td>\n",
       "      <td>1.872907</td>\n",
       "      <td>0.549273</td>\n",
       "      <td>21.071164</td>\n",
       "      <td>0.226999</td>\n",
       "      <td>0.372931</td>\n",
       "      <td>0.387560</td>\n",
       "      <td>0.015039</td>\n",
       "      <td>0.077376</td>\n",
       "      <td>0.402721</td>\n",
       "      <td>0.560322</td>\n",
       "    </tr>\n",
       "    <tr>\n",
       "      <td>2</td>\n",
       "      <td>3</td>\n",
       "      <td>1</td>\n",
       "      <td>-0.147400</td>\n",
       "      <td>0.426696</td>\n",
       "      <td>3.526220</td>\n",
       "      <td>3.416755</td>\n",
       "      <td>5.100899</td>\n",
       "      <td>2.951998</td>\n",
       "      <td>4.795645</td>\n",
       "      <td>2.707073</td>\n",
       "      <td>...</td>\n",
       "      <td>2.051653</td>\n",
       "      <td>0.704652</td>\n",
       "      <td>0.452275</td>\n",
       "      <td>0.271521</td>\n",
       "      <td>0.507600</td>\n",
       "      <td>0.646364</td>\n",
       "      <td>0.554347</td>\n",
       "      <td>0.400512</td>\n",
       "      <td>0.288968</td>\n",
       "      <td>0.365966</td>\n",
       "    </tr>\n",
       "    <tr>\n",
       "      <td>3</td>\n",
       "      <td>4</td>\n",
       "      <td>1</td>\n",
       "      <td>0.261763</td>\n",
       "      <td>0.291957</td>\n",
       "      <td>3.348035</td>\n",
       "      <td>3.897100</td>\n",
       "      <td>5.043396</td>\n",
       "      <td>2.695716</td>\n",
       "      <td>5.076779</td>\n",
       "      <td>2.316566</td>\n",
       "      <td>...</td>\n",
       "      <td>1.624188</td>\n",
       "      <td>0.494626</td>\n",
       "      <td>0.815164</td>\n",
       "      <td>0.349706</td>\n",
       "      <td>0.428787</td>\n",
       "      <td>0.257089</td>\n",
       "      <td>0.551376</td>\n",
       "      <td>0.577900</td>\n",
       "      <td>0.774861</td>\n",
       "      <td>0.556760</td>\n",
       "    </tr>\n",
       "    <tr>\n",
       "      <td>4</td>\n",
       "      <td>5</td>\n",
       "      <td>1</td>\n",
       "      <td>0.265247</td>\n",
       "      <td>0.395705</td>\n",
       "      <td>3.876277</td>\n",
       "      <td>3.770231</td>\n",
       "      <td>4.971883</td>\n",
       "      <td>2.749833</td>\n",
       "      <td>4.926769</td>\n",
       "      <td>2.620449</td>\n",
       "      <td>...</td>\n",
       "      <td>1.886296</td>\n",
       "      <td>0.724100</td>\n",
       "      <td>0.228323</td>\n",
       "      <td>0.711709</td>\n",
       "      <td>0.687992</td>\n",
       "      <td>0.541130</td>\n",
       "      <td>0.358048</td>\n",
       "      <td>0.422028</td>\n",
       "      <td>0.462574</td>\n",
       "      <td>0.420526</td>\n",
       "    </tr>\n",
       "  </tbody>\n",
       "</table>\n",
       "<p>5 rows × 26 columns</p>\n",
       "</div>"
      ],
      "text/plain": [
       "   SEQ  LABEL   SENSOR1   SENSOR2   SENSOR3   SENSOR4   SENSOR5   SENSOR6  \\\n",
       "0    1      1  0.379162  0.647414  3.880380  3.875621  5.268301  2.558206   \n",
       "1    2      1  0.591498  0.510893  3.376670  3.465723  5.302984  2.577480   \n",
       "2    3      1 -0.147400  0.426696  3.526220  3.416755  5.100899  2.951998   \n",
       "3    4      1  0.261763  0.291957  3.348035  3.897100  5.043396  2.695716   \n",
       "4    5      1  0.265247  0.395705  3.876277  3.770231  4.971883  2.749833   \n",
       "\n",
       "    SENSOR7   SENSOR8  ...  SENSOR15  SENSOR16   SENSOR17  SENSOR18  SENSOR19  \\\n",
       "0  5.147154  2.313852  ...  1.919116  0.604807   0.260053  0.280056  0.666976   \n",
       "1  5.045021  2.491559  ...  1.872907  0.549273  21.071164  0.226999  0.372931   \n",
       "2  4.795645  2.707073  ...  2.051653  0.704652   0.452275  0.271521  0.507600   \n",
       "3  5.076779  2.316566  ...  1.624188  0.494626   0.815164  0.349706  0.428787   \n",
       "4  4.926769  2.620449  ...  1.886296  0.724100   0.228323  0.711709  0.687992   \n",
       "\n",
       "   SENSOR20  SENSOR21  SENSOR22  SENSOR23  SENSOR24  \n",
       "0  0.762952  0.199911  0.354782  0.374587  0.093596  \n",
       "1  0.387560  0.015039  0.077376  0.402721  0.560322  \n",
       "2  0.646364  0.554347  0.400512  0.288968  0.365966  \n",
       "3  0.257089  0.551376  0.577900  0.774861  0.556760  \n",
       "4  0.541130  0.358048  0.422028  0.462574  0.420526  \n",
       "\n",
       "[5 rows x 26 columns]"
      ]
     },
     "execution_count": 7,
     "metadata": {},
     "output_type": "execute_result"
    }
   ],
   "source": [
    "set2.head()"
   ]
  },
  {
   "cell_type": "code",
   "execution_count": 8,
   "id": "ec0ee404",
   "metadata": {},
   "outputs": [
    {
     "data": {
      "text/plain": [
       "SEQ         0\n",
       "LABEL       0\n",
       "SENSOR1     0\n",
       "SENSOR2     0\n",
       "SENSOR3     0\n",
       "SENSOR4     0\n",
       "SENSOR5     0\n",
       "SENSOR6     0\n",
       "SENSOR7     0\n",
       "SENSOR8     0\n",
       "SENSOR9     0\n",
       "SENSOR10    0\n",
       "SENSOR11    0\n",
       "SENSOR12    0\n",
       "SENSOR13    0\n",
       "SENSOR14    0\n",
       "SENSOR15    0\n",
       "SENSOR16    0\n",
       "SENSOR17    0\n",
       "SENSOR18    0\n",
       "SENSOR19    0\n",
       "SENSOR20    0\n",
       "SENSOR21    0\n",
       "SENSOR22    0\n",
       "SENSOR23    0\n",
       "SENSOR24    0\n",
       "dtype: int64"
      ]
     },
     "execution_count": 8,
     "metadata": {},
     "output_type": "execute_result"
    }
   ],
   "source": [
    "set2.isnull().sum()"
   ]
  },
  {
   "cell_type": "markdown",
   "id": "7943328b",
   "metadata": {},
   "source": [
    "### Q1"
   ]
  },
  {
   "cell_type": "code",
   "execution_count": 15,
   "id": "e2e136d3",
   "metadata": {},
   "outputs": [],
   "source": [
    "df4 = set2.copy()\n",
    "\n",
    "skew_check = pd.DataFrame(index= df4.columns)\n",
    "\n",
    "for i in df4.columns:\n",
    "    m2 = ((df4[i]- df4[i].mean())**2).mean()\n",
    "    m3 = ((df4[i]- df4[i].mean())**3).mean()\n",
    "    skew_check.loc[i,'skew'] = m3/m2**(3/2)"
   ]
  },
  {
   "cell_type": "code",
   "execution_count": 16,
   "id": "fe5db8f7",
   "metadata": {},
   "outputs": [
    {
     "name": "stdout",
     "output_type": "stream",
     "text": [
      "Q1:  9.524292570104766\n",
      "9.52\n"
     ]
    }
   ],
   "source": [
    "ans24 = skew_check['skew'].abs().max()\n",
    "print('Q1: ', ans24)\n",
    "print(round(ans24, 2))"
   ]
  },
  {
   "cell_type": "markdown",
   "id": "ef2e32c9",
   "metadata": {},
   "source": [
    "### Q2"
   ]
  },
  {
   "cell_type": "code",
   "execution_count": 18,
   "id": "6feec3e1",
   "metadata": {},
   "outputs": [],
   "source": [
    "df5 = set2.copy()\n",
    "var5 = ['SENSOR1', 'SENSOR2', 'SENSOR3', 'SENSOR4', 'SENSOR5',\n",
    "       'SENSOR6', 'SENSOR7', 'SENSOR8', 'SENSOR9', 'SENSOR10', 'SENSOR11',\n",
    "       'SENSOR12', 'SENSOR13', 'SENSOR14', 'SENSOR15', 'SENSOR16', 'SENSOR17',\n",
    "       'SENSOR18', 'SENSOR19', 'SENSOR20', 'SENSOR21', 'SENSOR22', 'SENSOR23',\n",
    "       'SENSOR24']\n",
    "\n",
    "# 2-1.\n",
    "from sklearn.preprocessing import StandardScaler\n",
    "df51 = pd.DataFrame(StandardScaler().fit(df5[var5]).transform(df5[var5]),columns=var5)\n",
    "df51 = df51.add_suffix('_S')\n",
    "var51 = df51.columns\n",
    "df51['SEQ']=df5['SEQ']\n",
    "df51['LABEL']=df5['LABEL']"
   ]
  },
  {
   "cell_type": "code",
   "execution_count": 19,
   "id": "541e3942",
   "metadata": {},
   "outputs": [
    {
     "name": "stdout",
     "output_type": "stream",
     "text": [
      "(4092, 26)\n",
      "(1364, 26)\n"
     ]
    }
   ],
   "source": [
    "# 2-2.\n",
    "trainset5 = df51[df51['SEQ']%4 !=0]\n",
    "testset5 = df51[df51['SEQ']%4 ==0]\n",
    "print(trainset5.shape)\n",
    "print(testset5.shape)"
   ]
  },
  {
   "cell_type": "code",
   "execution_count": 20,
   "id": "78bc870c",
   "metadata": {},
   "outputs": [
    {
     "name": "stdout",
     "output_type": "stream",
     "text": [
      "i:  2\n",
      "result:  0.7947214076246334\n",
      "i:  3\n",
      "result:  0.8049853372434017\n",
      "i:  4\n",
      "result:  0.8005865102639296\n"
     ]
    }
   ],
   "source": [
    "# 2-3.\n",
    "from sklearn.neighbors import KNeighborsClassifier\n",
    "from sklearn.metrics import accuracy_score\n",
    "max_i = 0\n",
    "max_acc = 0\n",
    "for i in range(2,5):\n",
    "    predict5 = KNeighborsClassifier(n_neighbors=i).fit(trainset5[var51], trainset5['LABEL']).predict(testset5[var51])\n",
    "    acc5 = accuracy_score(predict5, testset5['LABEL'])\n",
    "    if acc5>max_acc:\n",
    "        max_i = i\n",
    "        max_acc = acc5\n",
    "    print('i: ', i)\n",
    "    print('result: ', acc5)"
   ]
  },
  {
   "cell_type": "code",
   "execution_count": 21,
   "id": "ca59a731",
   "metadata": {},
   "outputs": [
    {
     "name": "stdout",
     "output_type": "stream",
     "text": [
      "Q2:  3.8049853372434015\n",
      "3.805\n"
     ]
    }
   ],
   "source": [
    "# 2-4.\n",
    "ans25 = max_i + max_acc\n",
    "print('Q2: ', ans25)\n",
    "print(round(ans25, 3))\n",
   ]
  },
  {
   "cell_type": "markdown",
   "id": "4e8717c3",
   "metadata": {},
   "source": [
    "### Q3"
   ]
  },
  {
   "cell_type": "code",
   "execution_count": 23,
   "id": "3e411c75",
   "metadata": {},
   "outputs": [
    {
     "name": "stdout",
     "output_type": "stream",
     "text": [
      "(1710, 26)\n"
     ]
    }
   ],
   "source": [
    "df6 = set2.copy()\n",
    "\n",
    "var6 = ['SENSOR1', 'SENSOR2', 'SENSOR3', 'SENSOR4', 'SENSOR5',\n",
    "       'SENSOR6', 'SENSOR7', 'SENSOR8', 'SENSOR9', 'SENSOR10', 'SENSOR11',\n",
    "       'SENSOR12', 'SENSOR13', 'SENSOR14', 'SENSOR15', 'SENSOR16', 'SENSOR17',\n",
    "       'SENSOR18', 'SENSOR19', 'SENSOR20', 'SENSOR21', 'SENSOR22', 'SENSOR23',\n",
    "       'SENSOR24']\n",
    "# 3-1.\n",
    "for i in var6:\n",
    "    m6 = df6[i].median()\n",
    "    iqr6 = df6[i].quantile(0.75) - df6[i].quantile(0.25)\n",
    "    df6[i] = df6[i].apply(lambda x: None if (x<(m6-2.3*iqr6))|(x>(m6+2.3*iqr6)) else x)\n",
    "\n",
    "df6.dropna(inplace=True)\n",
    "print(df6.shape)"
   ]
  },
  {
   "cell_type": "code",
   "execution_count": 24,
   "id": "c796dc63",
   "metadata": {},
   "outputs": [
    {
     "name": "stdout",
     "output_type": "stream",
     "text": [
      "trainset6 shape:  (1153, 26)\n",
      "testset6 shape:  (557, 26)\n"
     ]
    }
   ],
   "source": [
    "# 3-2.\n",
    "trainset6 = df6[df6['SEQ']%3 != 0]\n",
    "testset6 = df6[df6['SEQ']%3 == 0]\n",
    "print('trainset6 shape: ', trainset6.shape)\n",
    "print('testset6 shape: ',testset6.shape)"
   ]
  },
  {
   "cell_type": "code",
   "execution_count": 25,
   "id": "ffa18790",
   "metadata": {},
   "outputs": [],
   "source": [
    "# 3-3.\n",
    "from sklearn.tree import DecisionTreeClassifier\n",
    "rfc6 = DecisionTreeClassifier(random_state=1205,max_depth=5).fit(trainset6[var6], trainset6['LABEL'])\n",
    "predict6 = rfc6.predict(testset6[var6])"
   ]
  },
  {
   "cell_type": "code",
   "execution_count": 26,
   "id": "9640ef8f",
   "metadata": {},
   "outputs": [
    {
     "name": "stdout",
     "output_type": "stream",
     "text": [
      "78.63554757630162\n"
     ]
    }
   ],
   "source": [
    "# 3-4.\n",
    "from sklearn.metrics import accuracy_score\n",
    "acc6 = accuracy_score(testset6['LABEL'], predict6)*100\n",
    "print(acc6)"
   ]
  },
  {
   "cell_type": "code",
   "execution_count": 27,
   "id": "9567cc50",
   "metadata": {},
   "outputs": [
    {
     "name": "stdout",
     "output_type": "stream",
     "text": [
      "n of featrue importance:  6\n"
     ]
    },
    {
     "data": {
      "text/plain": [
       "14    SENSOR15\n",
       "3      SENSOR4\n",
       "11    SENSOR12\n",
       "6      SENSOR7\n",
       "10    SENSOR11\n",
       "12    SENSOR13\n",
       "Name: index, dtype: object"
      ]
     },
     "execution_count": 27,
     "metadata": {},
     "output_type": "execute_result"
    }
   ],
   "source": [
    "# 3-5.\n",
    "fi6 = pd.DataFrame(rfc6.feature_importances_, index=var6, columns=['importance']).reset_index().sort_values('importance',ascending=False)\n",
    "var_fi6 = fi6.iloc[:6, 0]\n",
    "print('n of featrue importance: ', len(var_fi6))\n",
    "var_fi6"
   ]
  },
  {
   "cell_type": "code",
   "execution_count": 28,
   "id": "d6e62971",
   "metadata": {},
   "outputs": [
    {
     "name": "stdout",
     "output_type": "stream",
     "text": [
      "78.27648114901257\n"
     ]
    }
   ],
   "source": [
    "# 3-6.\n",
    "predict6_f = DecisionTreeClassifier(random_state=1205,max_depth=5).fit(trainset6[var_fi6],trainset6['LABEL']).predict(testset6[var_fi6])\n",
    "acc6_f = accuracy_score(testset6['LABEL'], predict6_f)*100\n",
    "print(acc6_f)"
   ]
  },
  {
   "cell_type": "code",
   "execution_count": 30,
   "id": "90c306b4",
   "metadata": {},
   "outputs": [
    {
     "name": "stdout",
     "output_type": "stream",
     "text": [
      "Q3:  0.3590664272890507\n",
      "0.359\n"
     ]
    }
   ],
   "source": [
    "# 3-7.\n",
    "ans26 = abs(acc6-acc6_f)\n",
    " \n",
    "print('Q3: ', ans26)\n",
    "print(round(ans26,3))"
   ]
  },
  {
   "cell_type": "code",
   "execution_count": null,
   "id": "b764dc54",
   "metadata": {},
   "outputs": [],
   "source": []
  }
 ],
 "metadata": {
  "kernelspec": {
   "display_name": "Python 3 (ipykernel)",
   "language": "python",
   "name": "python3"
  },
  "language_info": {
   "codemirror_mode": {
    "name": "ipython",
    "version": 3
   },
   "file_extension": ".py",
   "mimetype": "text/x-python",
   "name": "python",
   "nbconvert_exporter": "python",
   "pygments_lexer": "ipython3",
   "version": "3.7.4"
  }
 },
 "nbformat": 4,
 "nbformat_minor": 5
}
