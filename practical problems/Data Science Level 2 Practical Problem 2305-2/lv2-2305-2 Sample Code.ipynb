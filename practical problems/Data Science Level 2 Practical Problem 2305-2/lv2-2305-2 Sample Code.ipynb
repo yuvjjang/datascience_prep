{
 "cells": [
  {
   "cell_type": "code",
   "execution_count": 17,
   "id": "cd780f48",
   "metadata": {},
   "outputs": [],
   "source": [
    "import pandas as pd\n",
    "import numpy as np\n",
    "\n",
    "import warnings\n",
    "warnings.filterwarnings('ignore')"
   ]
  },
  {
   "cell_type": "markdown",
   "id": "52438a5b",
   "metadata": {},
   "source": [
    "# Data Science Level 2 Practical Problem 2305-2"
   ]
  },
  {
   "cell_type": "code",
   "execution_count": 2,
   "id": "41450ee6",
   "metadata": {},
   "outputs": [],
   "source": [
    "set1 = pd.read_csv('lv2-2305-2.csv')"
   ]
  },
  {
   "cell_type": "code",
   "execution_count": 3,
   "id": "b1ac191b",
   "metadata": {},
   "outputs": [
    {
     "data": {
      "text/html": [
       "<div>\n",
       "<style scoped>\n",
       "    .dataframe tbody tr th:only-of-type {\n",
       "        vertical-align: middle;\n",
       "    }\n",
       "\n",
       "    .dataframe tbody tr th {\n",
       "        vertical-align: top;\n",
       "    }\n",
       "\n",
       "    .dataframe thead th {\n",
       "        text-align: right;\n",
       "    }\n",
       "</style>\n",
       "<table border=\"1\" class=\"dataframe\">\n",
       "  <thead>\n",
       "    <tr style=\"text-align: right;\">\n",
       "      <th></th>\n",
       "      <th>REG_NO</th>\n",
       "      <th>GRE</th>\n",
       "      <th>TOEFL</th>\n",
       "      <th>UNIV_RATING</th>\n",
       "      <th>SOP</th>\n",
       "      <th>LOR</th>\n",
       "      <th>CGPA</th>\n",
       "      <th>RESEARCH</th>\n",
       "      <th>ADMIT</th>\n",
       "    </tr>\n",
       "  </thead>\n",
       "  <tbody>\n",
       "    <tr>\n",
       "      <td>0</td>\n",
       "      <td>1</td>\n",
       "      <td>337</td>\n",
       "      <td>118</td>\n",
       "      <td>B</td>\n",
       "      <td>4.5</td>\n",
       "      <td>4.5</td>\n",
       "      <td>9.65</td>\n",
       "      <td>1</td>\n",
       "      <td>Admitted</td>\n",
       "    </tr>\n",
       "    <tr>\n",
       "      <td>1</td>\n",
       "      <td>2</td>\n",
       "      <td>324</td>\n",
       "      <td>107</td>\n",
       "      <td>B</td>\n",
       "      <td>4.0</td>\n",
       "      <td>4.5</td>\n",
       "      <td>8.87</td>\n",
       "      <td>1</td>\n",
       "      <td>Admitted</td>\n",
       "    </tr>\n",
       "    <tr>\n",
       "      <td>2</td>\n",
       "      <td>3</td>\n",
       "      <td>316</td>\n",
       "      <td>104</td>\n",
       "      <td>C</td>\n",
       "      <td>3.0</td>\n",
       "      <td>3.5</td>\n",
       "      <td>8.00</td>\n",
       "      <td>1</td>\n",
       "      <td>Denied</td>\n",
       "    </tr>\n",
       "    <tr>\n",
       "      <td>3</td>\n",
       "      <td>4</td>\n",
       "      <td>322</td>\n",
       "      <td>110</td>\n",
       "      <td>C</td>\n",
       "      <td>3.5</td>\n",
       "      <td>2.5</td>\n",
       "      <td>8.67</td>\n",
       "      <td>1</td>\n",
       "      <td>Admitted</td>\n",
       "    </tr>\n",
       "    <tr>\n",
       "      <td>4</td>\n",
       "      <td>5</td>\n",
       "      <td>314</td>\n",
       "      <td>103</td>\n",
       "      <td>D</td>\n",
       "      <td>2.0</td>\n",
       "      <td>3.0</td>\n",
       "      <td>8.21</td>\n",
       "      <td>0</td>\n",
       "      <td>Denied</td>\n",
       "    </tr>\n",
       "    <tr>\n",
       "      <td>...</td>\n",
       "      <td>...</td>\n",
       "      <td>...</td>\n",
       "      <td>...</td>\n",
       "      <td>...</td>\n",
       "      <td>...</td>\n",
       "      <td>...</td>\n",
       "      <td>...</td>\n",
       "      <td>...</td>\n",
       "      <td>...</td>\n",
       "    </tr>\n",
       "    <tr>\n",
       "      <td>395</td>\n",
       "      <td>396</td>\n",
       "      <td>324</td>\n",
       "      <td>110</td>\n",
       "      <td>C</td>\n",
       "      <td>3.5</td>\n",
       "      <td>3.5</td>\n",
       "      <td>9.04</td>\n",
       "      <td>1</td>\n",
       "      <td>Admitted</td>\n",
       "    </tr>\n",
       "    <tr>\n",
       "      <td>396</td>\n",
       "      <td>397</td>\n",
       "      <td>325</td>\n",
       "      <td>67</td>\n",
       "      <td>C</td>\n",
       "      <td>3.0</td>\n",
       "      <td>3.5</td>\n",
       "      <td>9.11</td>\n",
       "      <td>1</td>\n",
       "      <td>Admitted</td>\n",
       "    </tr>\n",
       "    <tr>\n",
       "      <td>397</td>\n",
       "      <td>398</td>\n",
       "      <td>330</td>\n",
       "      <td>116</td>\n",
       "      <td>B</td>\n",
       "      <td>5.0</td>\n",
       "      <td>4.5</td>\n",
       "      <td>9.45</td>\n",
       "      <td>1</td>\n",
       "      <td>Admitted</td>\n",
       "    </tr>\n",
       "    <tr>\n",
       "      <td>398</td>\n",
       "      <td>399</td>\n",
       "      <td>312</td>\n",
       "      <td>103</td>\n",
       "      <td>C</td>\n",
       "      <td>3.5</td>\n",
       "      <td>4.0</td>\n",
       "      <td>8.78</td>\n",
       "      <td>0</td>\n",
       "      <td>Denied</td>\n",
       "    </tr>\n",
       "    <tr>\n",
       "      <td>399</td>\n",
       "      <td>400</td>\n",
       "      <td>333</td>\n",
       "      <td>117</td>\n",
       "      <td>B</td>\n",
       "      <td>5.0</td>\n",
       "      <td>4.0</td>\n",
       "      <td>9.66</td>\n",
       "      <td>1</td>\n",
       "      <td>Admitted</td>\n",
       "    </tr>\n",
       "  </tbody>\n",
       "</table>\n",
       "<p>400 rows × 9 columns</p>\n",
       "</div>"
      ],
      "text/plain": [
       "     REG_NO  GRE  TOEFL UNIV_RATING  SOP  LOR  CGPA  RESEARCH     ADMIT\n",
       "0         1  337    118           B  4.5  4.5  9.65         1  Admitted\n",
       "1         2  324    107           B  4.0  4.5  8.87         1  Admitted\n",
       "2         3  316    104           C  3.0  3.5  8.00         1    Denied\n",
       "3         4  322    110           C  3.5  2.5  8.67         1  Admitted\n",
       "4         5  314    103           D  2.0  3.0  8.21         0    Denied\n",
       "..      ...  ...    ...         ...  ...  ...   ...       ...       ...\n",
       "395     396  324    110           C  3.5  3.5  9.04         1  Admitted\n",
       "396     397  325     67           C  3.0  3.5  9.11         1  Admitted\n",
       "397     398  330    116           B  5.0  4.5  9.45         1  Admitted\n",
       "398     399  312    103           C  3.5  4.0  8.78         0    Denied\n",
       "399     400  333    117           B  5.0  4.0  9.66         1  Admitted\n",
       "\n",
       "[400 rows x 9 columns]"
      ]
     },
     "execution_count": 3,
     "metadata": {},
     "output_type": "execute_result"
    }
   ],
   "source": [
    "set1"
   ]
  },
  {
   "cell_type": "code",
   "execution_count": 4,
   "id": "1262ea5c",
   "metadata": {},
   "outputs": [
    {
     "data": {
      "text/plain": [
       "(400, 9)"
      ]
     },
     "execution_count": 4,
     "metadata": {},
     "output_type": "execute_result"
    }
   ],
   "source": [
    "set1.shape"
   ]
  },
  {
   "cell_type": "code",
   "execution_count": 5,
   "id": "350604da",
   "metadata": {},
   "outputs": [
    {
     "name": "stdout",
     "output_type": "stream",
     "text": [
      "<class 'pandas.core.frame.DataFrame'>\n",
      "RangeIndex: 400 entries, 0 to 399\n",
      "Data columns (total 9 columns):\n",
      "REG_NO         400 non-null int64\n",
      "GRE            400 non-null int64\n",
      "TOEFL          400 non-null int64\n",
      "UNIV_RATING    400 non-null object\n",
      "SOP            400 non-null float64\n",
      "LOR            400 non-null float64\n",
      "CGPA           400 non-null float64\n",
      "RESEARCH       400 non-null int64\n",
      "ADMIT          400 non-null object\n",
      "dtypes: float64(3), int64(4), object(2)\n",
      "memory usage: 28.2+ KB\n"
     ]
    }
   ],
   "source": [
    "set1.info()"
   ]
  },
  {
   "cell_type": "code",
   "execution_count": 6,
   "id": "241935a3",
   "metadata": {},
   "outputs": [
    {
     "data": {
      "text/html": [
       "<div>\n",
       "<style scoped>\n",
       "    .dataframe tbody tr th:only-of-type {\n",
       "        vertical-align: middle;\n",
       "    }\n",
       "\n",
       "    .dataframe tbody tr th {\n",
       "        vertical-align: top;\n",
       "    }\n",
       "\n",
       "    .dataframe thead th {\n",
       "        text-align: right;\n",
       "    }\n",
       "</style>\n",
       "<table border=\"1\" class=\"dataframe\">\n",
       "  <thead>\n",
       "    <tr style=\"text-align: right;\">\n",
       "      <th></th>\n",
       "      <th>REG_NO</th>\n",
       "      <th>GRE</th>\n",
       "      <th>TOEFL</th>\n",
       "      <th>SOP</th>\n",
       "      <th>LOR</th>\n",
       "      <th>CGPA</th>\n",
       "      <th>RESEARCH</th>\n",
       "    </tr>\n",
       "  </thead>\n",
       "  <tbody>\n",
       "    <tr>\n",
       "      <td>count</td>\n",
       "      <td>400.000000</td>\n",
       "      <td>400.000000</td>\n",
       "      <td>400.00000</td>\n",
       "      <td>400.000000</td>\n",
       "      <td>400.000000</td>\n",
       "      <td>400.000000</td>\n",
       "      <td>400.000000</td>\n",
       "    </tr>\n",
       "    <tr>\n",
       "      <td>mean</td>\n",
       "      <td>200.500000</td>\n",
       "      <td>316.807500</td>\n",
       "      <td>106.96000</td>\n",
       "      <td>3.400000</td>\n",
       "      <td>3.452500</td>\n",
       "      <td>8.598925</td>\n",
       "      <td>0.547500</td>\n",
       "    </tr>\n",
       "    <tr>\n",
       "      <td>std</td>\n",
       "      <td>115.614301</td>\n",
       "      <td>11.473646</td>\n",
       "      <td>7.82089</td>\n",
       "      <td>1.006869</td>\n",
       "      <td>0.898478</td>\n",
       "      <td>0.596317</td>\n",
       "      <td>0.498362</td>\n",
       "    </tr>\n",
       "    <tr>\n",
       "      <td>min</td>\n",
       "      <td>1.000000</td>\n",
       "      <td>290.000000</td>\n",
       "      <td>52.00000</td>\n",
       "      <td>1.000000</td>\n",
       "      <td>1.000000</td>\n",
       "      <td>6.800000</td>\n",
       "      <td>0.000000</td>\n",
       "    </tr>\n",
       "    <tr>\n",
       "      <td>25%</td>\n",
       "      <td>100.750000</td>\n",
       "      <td>308.000000</td>\n",
       "      <td>103.00000</td>\n",
       "      <td>2.500000</td>\n",
       "      <td>3.000000</td>\n",
       "      <td>8.170000</td>\n",
       "      <td>0.000000</td>\n",
       "    </tr>\n",
       "    <tr>\n",
       "      <td>50%</td>\n",
       "      <td>200.500000</td>\n",
       "      <td>317.000000</td>\n",
       "      <td>107.00000</td>\n",
       "      <td>3.500000</td>\n",
       "      <td>3.500000</td>\n",
       "      <td>8.610000</td>\n",
       "      <td>1.000000</td>\n",
       "    </tr>\n",
       "    <tr>\n",
       "      <td>75%</td>\n",
       "      <td>300.250000</td>\n",
       "      <td>325.000000</td>\n",
       "      <td>112.00000</td>\n",
       "      <td>4.000000</td>\n",
       "      <td>4.000000</td>\n",
       "      <td>9.062500</td>\n",
       "      <td>1.000000</td>\n",
       "    </tr>\n",
       "    <tr>\n",
       "      <td>max</td>\n",
       "      <td>400.000000</td>\n",
       "      <td>340.000000</td>\n",
       "      <td>120.00000</td>\n",
       "      <td>5.000000</td>\n",
       "      <td>5.000000</td>\n",
       "      <td>9.920000</td>\n",
       "      <td>1.000000</td>\n",
       "    </tr>\n",
       "  </tbody>\n",
       "</table>\n",
       "</div>"
      ],
      "text/plain": [
       "           REG_NO         GRE      TOEFL         SOP         LOR        CGPA  \\\n",
       "count  400.000000  400.000000  400.00000  400.000000  400.000000  400.000000   \n",
       "mean   200.500000  316.807500  106.96000    3.400000    3.452500    8.598925   \n",
       "std    115.614301   11.473646    7.82089    1.006869    0.898478    0.596317   \n",
       "min      1.000000  290.000000   52.00000    1.000000    1.000000    6.800000   \n",
       "25%    100.750000  308.000000  103.00000    2.500000    3.000000    8.170000   \n",
       "50%    200.500000  317.000000  107.00000    3.500000    3.500000    8.610000   \n",
       "75%    300.250000  325.000000  112.00000    4.000000    4.000000    9.062500   \n",
       "max    400.000000  340.000000  120.00000    5.000000    5.000000    9.920000   \n",
       "\n",
       "         RESEARCH  \n",
       "count  400.000000  \n",
       "mean     0.547500  \n",
       "std      0.498362  \n",
       "min      0.000000  \n",
       "25%      0.000000  \n",
       "50%      1.000000  \n",
       "75%      1.000000  \n",
       "max      1.000000  "
      ]
     },
     "execution_count": 6,
     "metadata": {},
     "output_type": "execute_result"
    }
   ],
   "source": [
    "set1.describe()"
   ]
  },
  {
   "cell_type": "markdown",
   "id": "096f3c6f",
   "metadata": {},
   "source": [
    "### Q1"
   ]
  },
  {
   "cell_type": "code",
   "execution_count": 15,
   "id": "f8762ab3",
   "metadata": {},
   "outputs": [
    {
     "name": "stdout",
     "output_type": "stream",
     "text": [
      "PASS rows:  (180, 9)\n",
      "FAIL rows:  (220, 9)\n"
     ]
    }
   ],
   "source": [
    "### Q1.\n",
    "df1 = set1.copy()\n",
    "\n",
    "df1_a = df1[df1['ADMIT']=='Admitted']\n",
    "df1_d = df1[df1['ADMIT']=='Denied']\n",
    "print('PASS rows: ', df1_a.shape)\n",
    "print('FAIL rows: ', df1_d.shape)"
   ]
  },
  {
   "cell_type": "code",
   "execution_count": 18,
   "id": "d799da42",
   "metadata": {},
   "outputs": [],
   "source": [
    "var1=['GRE','TOEFL','CGPA']\n",
    "for i in var1:\n",
    "    df1_a[i+'_R']=df1_a[i].rank(method='min',ascending=False)\n",
    "    df1_d[i+'_R']=df1_d[i].rank(method='min',ascending=False)"
   ]
  },
  {
   "cell_type": "code",
   "execution_count": 19,
   "id": "86cb9098",
   "metadata": {},
   "outputs": [
    {
     "name": "stdout",
     "output_type": "stream",
     "text": [
      "GRE_R      0.777091\n",
      "TOEFL_R    0.738595\n",
      "CGPA_R     1.000000\n",
      "Name: CGPA_R, dtype: float64\n",
      "##############################\n",
      "A_VAR:  GRE_R\n",
      "A:  0.7770913247704572\n"
     ]
    }
   ],
   "source": [
    "# Step 1-3.\n",
    "var1_s = ['GRE_R','TOEFL_R','CGPA_R']\n",
    "result1_3 = df1_a[var1_s].corr(method='spearman')['CGPA_R']\n",
    "print(result1_3)\n",
    "print('##############################')\n",
    "A_VAR = result1_3.sort_values().index[1]\n",
    "A= result1_3.sort_values()[1]\n",
    "print('A_VAR: ', A_VAR)\n",
    "print('A: ', A)"
   ]
  },
  {
   "cell_type": "code",
   "execution_count": 20,
   "id": "d91931bf",
   "metadata": {},
   "outputs": [
    {
     "name": "stdout",
     "output_type": "stream",
     "text": [
      "GRE_R      0.595403\n",
      "TOEFL_R    0.616724\n",
      "CGPA_R     1.000000\n",
      "Name: CGPA_R, dtype: float64\n",
      "##############################\n",
      "B_VAR:  TOEFL_R\n",
      "B:  0.616724306652575\n"
     ]
    }
   ],
   "source": [
    "# Step 1-4.\n",
    "result1_4 = df1_d[var1_s].corr(method='spearman')['CGPA_R']\n",
    "print(result1_4)\n",
    "print('##############################')\n",
    "B_VAR = result1_4.sort_values().index[1]\n",
    "B= result1_4.sort_values()[1]\n",
    "print('B_VAR: ', B_VAR)\n",
    "print('B: ', B)"
   ]
  },
  {
   "cell_type": "code",
   "execution_count": 21,
   "id": "daa9da75",
   "metadata": {},
   "outputs": [
    {
     "name": "stdout",
     "output_type": "stream",
     "text": [
      "A:  0.7770913247704572\n",
      "B:  0.616724306652575\n",
      "Q1 Answer:  0.16036701811788212\n"
     ]
    }
   ],
   "source": [
    "print('A: ', A)\n",
    "print('B: ', B)\n",
    "A21=(A+B)/2 if A_VAR==B_VAR else abs(A-B)\n",
    "print ('Q1 Answer: ', A21)"
   ]
  },
  {
   "cell_type": "markdown",
   "id": "439614d2",
   "metadata": {},
   "source": [
    "### Q2"
   ]
  },
  {
   "cell_type": "code",
   "execution_count": 22,
   "id": "32af57fc",
   "metadata": {},
   "outputs": [
    {
     "data": {
      "text/plain": [
       "(396, 9)"
      ]
     },
     "execution_count": 22,
     "metadata": {},
     "output_type": "execute_result"
    }
   ],
   "source": [
    "### Q2.\n",
    "df2 = set1.copy()\n",
    "\n",
    "# Step 2-1.\n",
    "q1 = df2['TOEFL'].quantile(0.25)\n",
    "q3 = df2['TOEFL'].quantile(0.75)\n",
    "iqr = q3-q1\n",
    "\n",
    "df2['outlier']=df2['TOEFL'].apply(lambda x : 1 if (x<q1-1.5*iqr)|(x>q3+1.5*iqr) else 0)\n",
    "df2=df2[df2['outlier']==0].drop('outlier',axis=1)\n",
    "\n",
    "df2.shape"
   ]
  },
  {
   "cell_type": "code",
   "execution_count": 23,
   "id": "e649e9ff",
   "metadata": {},
   "outputs": [],
   "source": [
    "# Step 2-2.\n",
    "df2['ADMIT_S']= df2['ADMIT'].apply(lambda x : 1 if x=='Admitted' else 0)"
   ]
  },
  {
   "cell_type": "code",
   "execution_count": 24,
   "id": "fc830604",
   "metadata": {},
   "outputs": [],
   "source": [
    "# Step 2-3.\n",
    "var2_s = ['GRE','TOEFL','SOP','LOR','CGPA']\n",
    "df2_s = df2[var2_s]\n",
    "y_train = df2['ADMIT_S']\n",
    "from sklearn.linear_model import LogisticRegression\n",
    "predict2 = LogisticRegression(solver = 'newton-cg', C=100000, random_state=1234).fit(df2_s,y_train).predict(df2_s)"
   ]
  },
  {
   "cell_type": "code",
   "execution_count": 25,
   "id": "e5a910ea",
   "metadata": {},
   "outputs": [
    {
     "name": "stdout",
     "output_type": "stream",
     "text": [
      "Q2 Answer:  87.62626262626263\n"
     ]
    }
   ],
   "source": [
    "# Step 2-4.\n",
    "from sklearn.metrics import accuracy_score\n",
    "A22 = accuracy_score(y_train,predict2)*100\n",
    "print('Q2 Answer: ', A22)"
   ]
  },
  {
   "cell_type": "markdown",
   "id": "fee67cdd",
   "metadata": {},
   "source": [
    "### Q3"
   ]
  },
  {
   "cell_type": "code",
   "execution_count": 26,
   "id": "2f489a86",
   "metadata": {},
   "outputs": [],
   "source": [
    "##### Q3\n",
    "df3 = set1.copy()\n",
    "\n",
    "# Step 3-1.\n",
    "df3 = df3[df3['ADMIT']=='Denied']\n",
    "#Step 3-2.\n",
    "dummies3 = pd.get_dummies(df3['UNIV_RATING'], drop_first=True).reset_index(drop=True)"
   ]
  },
  {
   "cell_type": "code",
   "execution_count": 27,
   "id": "e5318cdf",
   "metadata": {},
   "outputs": [],
   "source": [
    "#Step 3-3.\n",
    "var3=['GRE','TOEFL','SOP','LOR','CGPA']\n",
    "\n",
    "from sklearn.preprocessing import MinMaxScaler\n",
    "df3_s = pd.DataFrame(MinMaxScaler().fit_transform(df3[var3]), columns=var3)"
   ]
  },
  {
   "cell_type": "code",
   "execution_count": 28,
   "id": "dc771c74",
   "metadata": {},
   "outputs": [],
   "source": [
    "#Step 3-4.\n",
    "train3 = pd.concat([df3_s, df3['RESEARCH'].reset_index(drop=True),dummies3], axis=1)\n",
    "from sklearn.cluster import KMeans\n",
    "from sklearn.metrics import silhouette_score"
   ]
  },
  {
   "cell_type": "code",
   "execution_count": 29,
   "id": "07538ed4",
   "metadata": {},
   "outputs": [
    {
     "data": {
      "text/plain": [
       "0.49105088711202427"
      ]
     },
     "execution_count": 29,
     "metadata": {},
     "output_type": "execute_result"
    }
   ],
   "source": [
    "# cluster 4\n",
    "predict3_4 = KMeans(random_state=1234, n_clusters=4, n_init = 50, max_iter = 300).fit(train3).predict(train3).tolist()\n",
    "silhouette_score(train3, predict3_4)"
   ]
  },
  {
   "cell_type": "code",
   "execution_count": 30,
   "id": "85e8a1a1",
   "metadata": {},
   "outputs": [
    {
     "data": {
      "text/plain": [
       "0.5090779061903452"
      ]
     },
     "execution_count": 30,
     "metadata": {},
     "output_type": "execute_result"
    }
   ],
   "source": [
    "# cluster 5\n",
    "predict3_5 = KMeans(random_state=1234, n_clusters=5, n_init = 50, max_iter = 300).fit(train3).predict(train3).tolist()\n",
    "silhouette_score(train3, predict3_5)"
   ]
  },
  {
   "cell_type": "code",
   "execution_count": 31,
   "id": "462dc441",
   "metadata": {},
   "outputs": [
    {
     "data": {
      "text/plain": [
       "0.5556812882602017"
      ]
     },
     "execution_count": 31,
     "metadata": {},
     "output_type": "execute_result"
    }
   ],
   "source": [
    "# cluster 6\n",
    "predict3_6 = KMeans(random_state=1234, n_clusters=6, n_init = 50, max_iter = 300).fit(train3).predict(train3).tolist()\n",
    "silhouette_score(train3, predict3_6)"
   ]
  },
  {
   "cell_type": "code",
   "execution_count": 37,
   "id": "3449f5b2",
   "metadata": {},
   "outputs": [
    {
     "name": "stdout",
     "output_type": "stream",
     "text": [
      "cluster 5 IR:  3.0416666666666665\n"
     ]
    }
   ],
   "source": [
    "unbalance5 = predict3_5.count(max(predict3_5, key=predict3_5.count))/predict3_5.count(min(predict3_5, key=predict3_5.count))\n",
    "print('cluster 5 IR: ', unbalance5)"
   ]
  },
  {
   "cell_type": "code",
   "execution_count": 38,
   "id": "52974e94",
   "metadata": {},
   "outputs": [
    {
     "name": "stdout",
     "output_type": "stream",
     "text": [
      "cluster 6 IR:  5.615384615384615\n"
     ]
    }
   ],
   "source": [
    "unbalance6 = predict3_6.count(max(predict3_6, key=predict3_6.count))/predict3_6.count(min(predict3_6, key=predict3_6.count))\n",
    "print('cluster 6 IR: ', unbalance6)"
   ]
  },
  {
   "cell_type": "code",
   "execution_count": 39,
   "id": "13fa1a25",
   "metadata": {},
   "outputs": [
    {
     "name": "stdout",
     "output_type": "stream",
     "text": [
      "Q3 Answer:  5.509077906190345\n"
     ]
    }
   ],
   "source": [
    "C= 5\n",
    "D= silhouette_score(train3, predict3_5)\n",
    "A23 = C+D\n",
    "print('Q3 Answer: ', A23)"
   ]
  },
  {
   "cell_type": "code",
   "execution_count": null,
   "id": "19eae3cb",
   "metadata": {},
   "outputs": [],
   "source": []
  }
 ],
 "metadata": {
  "kernelspec": {
   "display_name": "Python 3 (ipykernel)",
   "language": "python",
   "name": "python3"
  },
  "language_info": {
   "codemirror_mode": {
    "name": "ipython",
    "version": 3
   },
   "file_extension": ".py",
   "mimetype": "text/x-python",
   "name": "python",
   "nbconvert_exporter": "python",
   "pygments_lexer": "ipython3",
   "version": "3.7.4"
  }
 },
 "nbformat": 4,
 "nbformat_minor": 5
}
